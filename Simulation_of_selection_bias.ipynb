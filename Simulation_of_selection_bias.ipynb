{
 "cells": [
  {
   "cell_type": "markdown",
   "metadata": {},
   "source": [
    "# SIMULATION OF SELECTION BIAS"
   ]
  },
  {
   "cell_type": "markdown",
   "metadata": {},
   "source": [
    "Simulate selection bias and missing types by simulating credit policies:\n",
    "\n",
    "Missing Not At a Random (MNAR):\n",
    "- Exteral scoring: ommitted from both oracle model and all subsequent models of the research --> selection but "
   ]
  },
  {
   "cell_type": "code",
   "execution_count": null,
   "metadata": {},
   "outputs": [],
   "source": []
  }
 ],
 "metadata": {
  "language_info": {
   "name": "python"
  }
 },
 "nbformat": 4,
 "nbformat_minor": 2
}
