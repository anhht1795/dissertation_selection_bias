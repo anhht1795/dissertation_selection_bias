{
 "cells": [
  {
   "cell_type": "markdown",
   "id": "e2777b92",
   "metadata": {},
   "source": [
    "# Base model development"
   ]
  },
  {
   "cell_type": "markdown",
   "id": "ef43ae73",
   "metadata": {},
   "source": [
    "Create an oracle model that set the base line for next steps"
   ]
  },
  {
   "cell_type": "code",
   "execution_count": 1,
   "id": "4e562276",
   "metadata": {},
   "outputs": [],
   "source": [
    "%load_ext autoreload\n",
    "%autoreload 2"
   ]
  },
  {
   "cell_type": "code",
   "execution_count": 72,
   "id": "d99cb748",
   "metadata": {},
   "outputs": [],
   "source": [
    "from model_class import CatBoostXT_BAG"
   ]
  },
  {
   "cell_type": "code",
   "execution_count": 3,
   "id": "aa5f94eb",
   "metadata": {},
   "outputs": [],
   "source": [
    "import pandas as pd\n",
    "import numpy as np\n",
    "from sklearn.model_selection import train_test_split"
   ]
  },
  {
   "cell_type": "code",
   "execution_count": 165,
   "id": "f44cd555",
   "metadata": {},
   "outputs": [],
   "source": [
    "import shap\n",
    "import matplotlib.pyplot as plt\n",
    "import pickle\n",
    "import json"
   ]
  },
  {
   "cell_type": "code",
   "execution_count": 115,
   "id": "851cbfac",
   "metadata": {},
   "outputs": [],
   "source": [
    "import optuna"
   ]
  },
  {
   "cell_type": "markdown",
   "id": "6d8fd3b9",
   "metadata": {},
   "source": [
    "## LOAD DATA"
   ]
  },
  {
   "cell_type": "code",
   "execution_count": 166,
   "id": "da24b8d3",
   "metadata": {},
   "outputs": [],
   "source": [
    "data_dir = r'E:\\Project\\Dissertation'"
   ]
  },
  {
   "cell_type": "code",
   "execution_count": 5,
   "id": "8376cdf0",
   "metadata": {},
   "outputs": [],
   "source": [
    "list_key = ['SK_ID_CURR']\n",
    "label_col = 'TARGET'"
   ]
  },
  {
   "cell_type": "code",
   "execution_count": 6,
   "id": "1747ffcf",
   "metadata": {},
   "outputs": [],
   "source": [
    "df_features = pd.read_parquet(rf'{data_dir}\\data\\processed\\final_df.parquet').reset_index(drop=True)\n",
    "df_features = df_features.replace({None: np.nan})\n",
    "\n",
    "df_app = pd.read_csv(rf'{data_dir}\\home-credit-default-risk\\application_train.csv').reset_index(drop=True)"
   ]
  },
  {
   "cell_type": "code",
   "execution_count": 272,
   "id": "a2439452",
   "metadata": {},
   "outputs": [],
   "source": [
    "df = df_app.merge(df_features, on='SK_ID_CURR', how='left')"
   ]
  },
  {
   "cell_type": "code",
   "execution_count": 273,
   "id": "e2331a8d",
   "metadata": {},
   "outputs": [
    {
     "data": {
      "text/html": [
       "<div>\n",
       "<style scoped>\n",
       "    .dataframe tbody tr th:only-of-type {\n",
       "        vertical-align: middle;\n",
       "    }\n",
       "\n",
       "    .dataframe tbody tr th {\n",
       "        vertical-align: top;\n",
       "    }\n",
       "\n",
       "    .dataframe thead th {\n",
       "        text-align: right;\n",
       "    }\n",
       "</style>\n",
       "<table border=\"1\" class=\"dataframe\">\n",
       "  <thead>\n",
       "    <tr style=\"text-align: right;\">\n",
       "      <th></th>\n",
       "      <th>SK_ID_CURR</th>\n",
       "      <th>TARGET</th>\n",
       "      <th>NAME_CONTRACT_TYPE</th>\n",
       "      <th>CODE_GENDER</th>\n",
       "      <th>FLAG_OWN_CAR</th>\n",
       "      <th>FLAG_OWN_REALTY</th>\n",
       "      <th>CNT_CHILDREN</th>\n",
       "      <th>AMT_INCOME_TOTAL</th>\n",
       "      <th>AMT_CREDIT</th>\n",
       "      <th>AMT_ANNUITY</th>\n",
       "      <th>...</th>\n",
       "      <th>bb_w24_status_2_share__sum</th>\n",
       "      <th>bb_w24_status_3_share__mean</th>\n",
       "      <th>bb_w24_status_3_share__max</th>\n",
       "      <th>bb_w24_status_3_share__sum</th>\n",
       "      <th>bb_w24_status_4_share__mean</th>\n",
       "      <th>bb_w24_status_4_share__max</th>\n",
       "      <th>bb_w24_status_4_share__sum</th>\n",
       "      <th>bb_w24_status_5_share__mean</th>\n",
       "      <th>bb_w24_status_5_share__max</th>\n",
       "      <th>bb_w24_status_5_share__sum</th>\n",
       "    </tr>\n",
       "  </thead>\n",
       "  <tbody>\n",
       "    <tr>\n",
       "      <th>0</th>\n",
       "      <td>100002</td>\n",
       "      <td>1</td>\n",
       "      <td>Cash loans</td>\n",
       "      <td>M</td>\n",
       "      <td>N</td>\n",
       "      <td>Y</td>\n",
       "      <td>0</td>\n",
       "      <td>202500.0</td>\n",
       "      <td>406597.5</td>\n",
       "      <td>24700.5</td>\n",
       "      <td>...</td>\n",
       "      <td>0.0</td>\n",
       "      <td>0.0</td>\n",
       "      <td>0.0</td>\n",
       "      <td>0.0</td>\n",
       "      <td>0.0</td>\n",
       "      <td>0.0</td>\n",
       "      <td>0.0</td>\n",
       "      <td>0.0</td>\n",
       "      <td>0.0</td>\n",
       "      <td>0.0</td>\n",
       "    </tr>\n",
       "    <tr>\n",
       "      <th>1</th>\n",
       "      <td>100003</td>\n",
       "      <td>0</td>\n",
       "      <td>Cash loans</td>\n",
       "      <td>F</td>\n",
       "      <td>N</td>\n",
       "      <td>N</td>\n",
       "      <td>0</td>\n",
       "      <td>270000.0</td>\n",
       "      <td>1293502.5</td>\n",
       "      <td>35698.5</td>\n",
       "      <td>...</td>\n",
       "      <td>0.0</td>\n",
       "      <td>NaN</td>\n",
       "      <td>NaN</td>\n",
       "      <td>0.0</td>\n",
       "      <td>NaN</td>\n",
       "      <td>NaN</td>\n",
       "      <td>0.0</td>\n",
       "      <td>NaN</td>\n",
       "      <td>NaN</td>\n",
       "      <td>0.0</td>\n",
       "    </tr>\n",
       "    <tr>\n",
       "      <th>2</th>\n",
       "      <td>100004</td>\n",
       "      <td>0</td>\n",
       "      <td>Revolving loans</td>\n",
       "      <td>M</td>\n",
       "      <td>Y</td>\n",
       "      <td>Y</td>\n",
       "      <td>0</td>\n",
       "      <td>67500.0</td>\n",
       "      <td>135000.0</td>\n",
       "      <td>6750.0</td>\n",
       "      <td>...</td>\n",
       "      <td>0.0</td>\n",
       "      <td>NaN</td>\n",
       "      <td>NaN</td>\n",
       "      <td>0.0</td>\n",
       "      <td>NaN</td>\n",
       "      <td>NaN</td>\n",
       "      <td>0.0</td>\n",
       "      <td>NaN</td>\n",
       "      <td>NaN</td>\n",
       "      <td>0.0</td>\n",
       "    </tr>\n",
       "    <tr>\n",
       "      <th>3</th>\n",
       "      <td>100006</td>\n",
       "      <td>0</td>\n",
       "      <td>Cash loans</td>\n",
       "      <td>F</td>\n",
       "      <td>N</td>\n",
       "      <td>Y</td>\n",
       "      <td>0</td>\n",
       "      <td>135000.0</td>\n",
       "      <td>312682.5</td>\n",
       "      <td>29686.5</td>\n",
       "      <td>...</td>\n",
       "      <td>NaN</td>\n",
       "      <td>NaN</td>\n",
       "      <td>NaN</td>\n",
       "      <td>NaN</td>\n",
       "      <td>NaN</td>\n",
       "      <td>NaN</td>\n",
       "      <td>NaN</td>\n",
       "      <td>NaN</td>\n",
       "      <td>NaN</td>\n",
       "      <td>NaN</td>\n",
       "    </tr>\n",
       "    <tr>\n",
       "      <th>4</th>\n",
       "      <td>100007</td>\n",
       "      <td>0</td>\n",
       "      <td>Cash loans</td>\n",
       "      <td>M</td>\n",
       "      <td>N</td>\n",
       "      <td>Y</td>\n",
       "      <td>0</td>\n",
       "      <td>121500.0</td>\n",
       "      <td>513000.0</td>\n",
       "      <td>21865.5</td>\n",
       "      <td>...</td>\n",
       "      <td>0.0</td>\n",
       "      <td>NaN</td>\n",
       "      <td>NaN</td>\n",
       "      <td>0.0</td>\n",
       "      <td>NaN</td>\n",
       "      <td>NaN</td>\n",
       "      <td>0.0</td>\n",
       "      <td>NaN</td>\n",
       "      <td>NaN</td>\n",
       "      <td>0.0</td>\n",
       "    </tr>\n",
       "  </tbody>\n",
       "</table>\n",
       "<p>5 rows × 588 columns</p>\n",
       "</div>"
      ],
      "text/plain": [
       "   SK_ID_CURR  TARGET NAME_CONTRACT_TYPE CODE_GENDER FLAG_OWN_CAR  \\\n",
       "0      100002       1         Cash loans           M            N   \n",
       "1      100003       0         Cash loans           F            N   \n",
       "2      100004       0    Revolving loans           M            Y   \n",
       "3      100006       0         Cash loans           F            N   \n",
       "4      100007       0         Cash loans           M            N   \n",
       "\n",
       "  FLAG_OWN_REALTY  CNT_CHILDREN  AMT_INCOME_TOTAL  AMT_CREDIT  AMT_ANNUITY  \\\n",
       "0               Y             0          202500.0    406597.5      24700.5   \n",
       "1               N             0          270000.0   1293502.5      35698.5   \n",
       "2               Y             0           67500.0    135000.0       6750.0   \n",
       "3               Y             0          135000.0    312682.5      29686.5   \n",
       "4               Y             0          121500.0    513000.0      21865.5   \n",
       "\n",
       "   ...  bb_w24_status_2_share__sum bb_w24_status_3_share__mean  \\\n",
       "0  ...                         0.0                         0.0   \n",
       "1  ...                         0.0                         NaN   \n",
       "2  ...                         0.0                         NaN   \n",
       "3  ...                         NaN                         NaN   \n",
       "4  ...                         0.0                         NaN   \n",
       "\n",
       "  bb_w24_status_3_share__max bb_w24_status_3_share__sum  \\\n",
       "0                        0.0                        0.0   \n",
       "1                        NaN                        0.0   \n",
       "2                        NaN                        0.0   \n",
       "3                        NaN                        NaN   \n",
       "4                        NaN                        0.0   \n",
       "\n",
       "  bb_w24_status_4_share__mean bb_w24_status_4_share__max  \\\n",
       "0                         0.0                        0.0   \n",
       "1                         NaN                        NaN   \n",
       "2                         NaN                        NaN   \n",
       "3                         NaN                        NaN   \n",
       "4                         NaN                        NaN   \n",
       "\n",
       "   bb_w24_status_4_share__sum  bb_w24_status_5_share__mean  \\\n",
       "0                         0.0                          0.0   \n",
       "1                         0.0                          NaN   \n",
       "2                         0.0                          NaN   \n",
       "3                         NaN                          NaN   \n",
       "4                         0.0                          NaN   \n",
       "\n",
       "   bb_w24_status_5_share__max  bb_w24_status_5_share__sum  \n",
       "0                         0.0                         0.0  \n",
       "1                         NaN                         0.0  \n",
       "2                         NaN                         0.0  \n",
       "3                         NaN                         NaN  \n",
       "4                         NaN                         0.0  \n",
       "\n",
       "[5 rows x 588 columns]"
      ]
     },
     "execution_count": 273,
     "metadata": {},
     "output_type": "execute_result"
    }
   ],
   "source": [
    "df.head()"
   ]
  },
  {
   "cell_type": "code",
   "execution_count": 275,
   "id": "20769867",
   "metadata": {},
   "outputs": [],
   "source": [
    "df_train, df_test = train_test_split(df, test_size=0.25, random_state=1, stratify=df[label_col])"
   ]
  },
  {
   "cell_type": "code",
   "execution_count": 276,
   "id": "30db7bc2",
   "metadata": {},
   "outputs": [],
   "source": [
    "# combine X and y train test to store to parquet\n",
    "df_train['flag_train_val'] = 'train'\n",
    "df_test['flag_train_val'] = 'valid'"
   ]
  },
  {
   "cell_type": "code",
   "execution_count": 287,
   "id": "375206b5",
   "metadata": {},
   "outputs": [],
   "source": [
    "pd.concat([df_train, df_test], axis=0).to_parquet(rf'{data_dir}\\data\\processed\\master_data_flagged_trainval.parquet', index=False)"
   ]
  },
  {
   "cell_type": "code",
   "execution_count": 6,
   "id": "949adf16",
   "metadata": {},
   "outputs": [],
   "source": [
    "df = pd.read_parquet(rf'{data_dir}\\data\\processed\\master_data_flagged_trainval.parquet')"
   ]
  },
  {
   "cell_type": "code",
   "execution_count": 7,
   "id": "2813fed5",
   "metadata": {},
   "outputs": [],
   "source": [
    "# separate features, target\n",
    "list_features = [col for col in df.columns if col not in ['TARGET','SK_ID_CURR','flag_train_val']]\n",
    "# features that starts with EXT_\n",
    "list_ext_features = [col for col in df.columns if col.startswith('EXT_')]\n",
    "# list ethical features\n",
    "list_ethical_features = [col for col in df.columns if 'GENDER' in col]\n",
    "# list categorical features\n",
    "list_cat_features = df.select_dtypes(include=['object','category']).columns.tolist()\n",
    "list_cat_features = list(set(list_cat_features)-set(list_ethical_features)-set(['flag_train_val']))"
   ]
  },
  {
   "cell_type": "code",
   "execution_count": 163,
   "id": "d9297853",
   "metadata": {},
   "outputs": [],
   "source": [
    "dict_cols = {\n",
    "    'list_key': list_key,\n",
    "    'label_col': label_col,\n",
    "    'list_features': list_features,\n",
    "    'list_cat_features': list_cat_features,\n",
    "    'list_ext_features': list_ext_features,\n",
    "    'list_ethical_features': list_ethical_features\n",
    "}"
   ]
  },
  {
   "cell_type": "code",
   "execution_count": 168,
   "id": "ef6e59ac",
   "metadata": {},
   "outputs": [],
   "source": [
    "with open(rf'{data_dir}\\models\\dict_cols.json', 'w') as f:\n",
    "    json.dump(dict_cols, f, indent=4)"
   ]
  },
  {
   "cell_type": "code",
   "execution_count": 8,
   "id": "bbaf5822",
   "metadata": {},
   "outputs": [
    {
     "data": {
      "text/plain": [
       "['EXT_SOURCE_1',\n",
       " 'EXT_SOURCE_2',\n",
       " 'EXT_SOURCE_3',\n",
       " 'EXT_MIN',\n",
       " 'EXT_MAX',\n",
       " 'EXT_MEAN',\n",
       " 'EXT_STD',\n",
       " 'EXT_VAR',\n",
       " 'EXT_SPAN']"
      ]
     },
     "execution_count": 8,
     "metadata": {},
     "output_type": "execute_result"
    }
   ],
   "source": [
    "list_ext_features"
   ]
  },
  {
   "cell_type": "code",
   "execution_count": 9,
   "id": "1ec88163",
   "metadata": {},
   "outputs": [
    {
     "data": {
      "text/plain": [
       "['CODE_GENDER']"
      ]
     },
     "execution_count": 9,
     "metadata": {},
     "output_type": "execute_result"
    }
   ],
   "source": [
    "list_ethical_features"
   ]
  },
  {
   "cell_type": "code",
   "execution_count": 10,
   "id": "16aa52f4",
   "metadata": {},
   "outputs": [
    {
     "data": {
      "text/plain": [
       "['NAME_EDUCATION_TYPE',\n",
       " 'w90_last_loan_type',\n",
       " 'NAME_INCOME_TYPE',\n",
       " 'w30_last_loan_type',\n",
       " 'w360_last_loan_type',\n",
       " 'ORGANIZATION_TYPE',\n",
       " 'HOUSETYPE_MODE',\n",
       " 'OCCUPATION_TYPE',\n",
       " 'NAME_TYPE_SUITE',\n",
       " 'EMERGENCYSTATE_MODE',\n",
       " 'NAME_HOUSING_TYPE',\n",
       " 'w720_last_loan_type',\n",
       " 'FLAG_OWN_CAR',\n",
       " 'WALLSMATERIAL_MODE',\n",
       " 'FLAG_OWN_REALTY',\n",
       " 'FONDKAPREMONT_MODE',\n",
       " 'w180_last_loan_type',\n",
       " 'WEEKDAY_APPR_PROCESS_START',\n",
       " 'NAME_FAMILY_STATUS',\n",
       " 'NAME_CONTRACT_TYPE']"
      ]
     },
     "execution_count": 10,
     "metadata": {},
     "output_type": "execute_result"
    }
   ],
   "source": [
    "list_cat_features"
   ]
  },
  {
   "cell_type": "code",
   "execution_count": 11,
   "id": "6c762236",
   "metadata": {},
   "outputs": [],
   "source": [
    "df[list_cat_features] = df[list_cat_features].fillna('Missing')"
   ]
  },
  {
   "cell_type": "code",
   "execution_count": 12,
   "id": "af310d6b",
   "metadata": {},
   "outputs": [],
   "source": [
    "df_train = df.loc[df['flag_train_val']== 'train'] \n",
    "df_test = df.loc[df['flag_train_val']== 'valid']"
   ]
  },
  {
   "cell_type": "code",
   "execution_count": 13,
   "id": "a62fa9f1",
   "metadata": {},
   "outputs": [
    {
     "data": {
      "text/plain": [
       "576"
      ]
     },
     "execution_count": 13,
     "metadata": {},
     "output_type": "execute_result"
    }
   ],
   "source": [
    "long_list = list(set(list_features)-set(list_ext_features)-set(list_ethical_features))\n",
    "len(long_list)"
   ]
  },
  {
   "cell_type": "code",
   "execution_count": 14,
   "id": "622cf2fd",
   "metadata": {},
   "outputs": [],
   "source": [
    "# split train test\n",
    "X_train = df_train[long_list]\n",
    "X_test = df_test[long_list]\n",
    "y_train = df_train[label_col]\n",
    "y_test =  df_test[label_col]"
   ]
  },
  {
   "cell_type": "code",
   "execution_count": 15,
   "id": "36d70e33",
   "metadata": {},
   "outputs": [
    {
     "data": {
      "text/plain": [
       "0         0\n",
       "1         0\n",
       "2         0\n",
       "3         0\n",
       "4         0\n",
       "         ..\n",
       "230628    1\n",
       "230629    0\n",
       "230630    0\n",
       "230631    0\n",
       "230632    1\n",
       "Name: TARGET, Length: 230633, dtype: int64"
      ]
     },
     "execution_count": 15,
     "metadata": {},
     "output_type": "execute_result"
    }
   ],
   "source": [
    "y_train"
   ]
  },
  {
   "cell_type": "code",
   "execution_count": 16,
   "id": "cd38de61",
   "metadata": {},
   "outputs": [
    {
     "name": "stdout",
     "output_type": "stream",
     "text": [
      "Train set shape: (230633, 576) (230633,)\n",
      "TARGET\n",
      "0    0.91927\n",
      "1    0.08073\n",
      "Name: proportion, dtype: float64\n",
      "TARGET\n",
      "0    212014\n",
      "1     18619\n",
      "Name: count, dtype: int64\n",
      "Test set shape: (76878, 576) (76878,)\n",
      "TARGET\n",
      "0    0.919275\n",
      "1    0.080725\n",
      "Name: proportion, dtype: float64\n",
      "TARGET\n",
      "0    70672\n",
      "1     6206\n",
      "Name: count, dtype: int64\n"
     ]
    }
   ],
   "source": [
    "# summary of train test split data, count of target variable\n",
    "print('Train set shape:', X_train.shape, y_train.shape)\n",
    "print(y_train.value_counts(normalize=True))\n",
    "print(y_train.value_counts())\n",
    "\n",
    "print('Test set shape:', X_test.shape, y_test.shape)\n",
    "print(y_test.value_counts(normalize=True))\n",
    "print(y_test.value_counts())"
   ]
  },
  {
   "cell_type": "markdown",
   "id": "90f25e8a",
   "metadata": {},
   "source": [
    "## Model Round 0"
   ]
  },
  {
   "cell_type": "markdown",
   "id": "8dc20e2f",
   "metadata": {},
   "source": [
    "#### Tuning"
   ]
  },
  {
   "cell_type": "code",
   "execution_count": null,
   "id": "721154a4",
   "metadata": {},
   "outputs": [],
   "source": [
    "study = optuna.create_study(direction='maximize')\n",
    "optuna.logging.set_verbosity(optuna.logging.INFO)"
   ]
  },
  {
   "cell_type": "code",
   "execution_count": 79,
   "id": "2f13c2a6",
   "metadata": {},
   "outputs": [],
   "source": [
    "base_model = CatBoostXT_BAG(\n",
    "    num_bag_folds=5,\n",
    "    num_bag_repeats=1,\n",
    "    random_state=1,\n",
    "    cat_features=list_cat_features\n",
    ")"
   ]
  },
  {
   "cell_type": "code",
   "execution_count": 100,
   "id": "284ffdec",
   "metadata": {},
   "outputs": [],
   "source": [
    "base_model.params = {\n",
    "    'iterations': 1000,\n",
    "    'learning_rate': 0.07,\n",
    "    'depth': 5,\n",
    "    'l2_leaf_reg': 50,\n",
    "    'border_count': 128,\n",
    "    'auto_class_weights': 'SqrtBalanced',\n",
    "    'early_stopping_rounds': None,\n",
    "    'od_type': 'IncToDec',\n",
    "    'od_wait': 200,\n",
    "    'od_pval': 0.01,\n",
    "    'boosting_type': 'Ordered',\n",
    "    'bootstrap_type': 'Bernoulli',\n",
    "    'loss_function': 'Logloss', \n",
    "    'eval_metric': 'Logloss',\n",
    "    'task_type':'GPU',\n",
    "    'devices':'0',\n",
    "}"
   ]
  },
  {
   "cell_type": "code",
   "execution_count": 101,
   "id": "25e6e0d3",
   "metadata": {},
   "outputs": [
    {
     "data": {
      "text/plain": [
       "<model_class.CatBoostXT_BAG at 0x213fff571c0>"
      ]
     },
     "execution_count": 101,
     "metadata": {},
     "output_type": "execute_result"
    }
   ],
   "source": [
    "base_model.fit(X_train, y_train)"
   ]
  },
  {
   "cell_type": "code",
   "execution_count": 102,
   "id": "001d57b7",
   "metadata": {},
   "outputs": [],
   "source": [
    "from sklearn.metrics import roc_auc_score, precision_recall_curve"
   ]
  },
  {
   "cell_type": "code",
   "execution_count": 103,
   "id": "ce3c7d35",
   "metadata": {},
   "outputs": [
    {
     "data": {
      "text/plain": [
       "{'ROC_AUC': 0.7625887427943789, 'PR_AUC': 0.25925049714873905}"
      ]
     },
     "execution_count": 103,
     "metadata": {},
     "output_type": "execute_result"
    }
   ],
   "source": [
    "base_model.evaluate(X_train,y_train)"
   ]
  },
  {
   "cell_type": "code",
   "execution_count": 104,
   "id": "1bbddfa0",
   "metadata": {},
   "outputs": [
    {
     "data": {
      "text/plain": [
       "{'ROC_AUC': 0.7445511647641232, 'PR_AUC': 0.22695016304073454}"
      ]
     },
     "execution_count": 104,
     "metadata": {},
     "output_type": "execute_result"
    }
   ],
   "source": [
    "base_model.evaluate(X_test,y_test)"
   ]
  },
  {
   "cell_type": "code",
   "execution_count": 106,
   "id": "4c1da0a8",
   "metadata": {},
   "outputs": [
    {
     "data": {
      "text/plain": [
       "0.5251774855887579"
      ]
     },
     "execution_count": 106,
     "metadata": {},
     "output_type": "execute_result"
    }
   ],
   "source": [
    "2*roc_auc_score(y_train,base_model.predict_proba(X_train)[:, 1]) - 1"
   ]
  },
  {
   "cell_type": "code",
   "execution_count": 116,
   "id": "44d826ca",
   "metadata": {},
   "outputs": [
    {
     "data": {
      "text/plain": [
       "0.4891023295282464"
      ]
     },
     "execution_count": 116,
     "metadata": {},
     "output_type": "execute_result"
    }
   ],
   "source": [
    "2*roc_auc_score(y_test,base_model.predict_proba(X_test)[:, 1]) - 1"
   ]
  },
  {
   "cell_type": "code",
   "execution_count": 114,
   "id": "f5a67c5d",
   "metadata": {},
   "outputs": [],
   "source": [
    "# dump base_model to pickle\n",
    "with open(rf'{data_dir}\\models\\oracle_model_catboostxt_bag.pkl', 'wb') as f:\n",
    "    pickle.dump(base_model, f)"
   ]
  },
  {
   "cell_type": "code",
   "execution_count": 108,
   "id": "95047c38",
   "metadata": {},
   "outputs": [],
   "source": [
    "# load pickle\n",
    "with open(rf'{data_dir}\\models\\oracle_model_catboostxt_bag.pkl', 'rb') as f:\n",
    "    base_model = pickle.load(f)"
   ]
  },
  {
   "cell_type": "code",
   "execution_count": 90,
   "id": "35ca7b10",
   "metadata": {},
   "outputs": [
    {
     "data": {
      "text/plain": [
       "<sklearn.metrics._plot.roc_curve.RocCurveDisplay at 0x215e6bc95e0>"
      ]
     },
     "execution_count": 90,
     "metadata": {},
     "output_type": "execute_result"
    },
    {
     "data": {
      "image/png": "[encoded data removed]",
      "text/plain": [
       "<Figure size 640x480 with 1 Axes>"
      ]
     },
     "metadata": {},
     "output_type": "display_data"
    }
   ],
   "source": [
    "# Draw ROC curve\n",
    "import matplotlib.pyplot as plt\n",
    "from sklearn.metrics import RocCurveDisplay\n",
    "\n",
    "RocCurveDisplay.from_predictions(y_test, base_model.predict_proba(X_test)[:, 1])"
   ]
  },
  {
   "cell_type": "code",
   "execution_count": 111,
   "id": "efeeef84",
   "metadata": {},
   "outputs": [
    {
     "data": {
      "text/plain": [
       "5"
      ]
     },
     "execution_count": 111,
     "metadata": {},
     "output_type": "execute_result"
    }
   ],
   "source": [
    "len(base_model.models)"
   ]
  },
  {
   "cell_type": "code",
   "execution_count": 107,
   "id": "ed173a46",
   "metadata": {},
   "outputs": [],
   "source": [
    "base_model_feature_importance = base_model.get_average_shap_feature_importance(X_train)"
   ]
  },
  {
   "cell_type": "code",
   "execution_count": 108,
   "id": "7cffd3a2",
   "metadata": {},
   "outputs": [
    {
     "data": {
      "text/html": [
       "<div>\n",
       "<style scoped>\n",
       "    .dataframe tbody tr th:only-of-type {\n",
       "        vertical-align: middle;\n",
       "    }\n",
       "\n",
       "    .dataframe tbody tr th {\n",
       "        vertical-align: top;\n",
       "    }\n",
       "\n",
       "    .dataframe thead th {\n",
       "        text-align: right;\n",
       "    }\n",
       "</style>\n",
       "<table border=\"1\" class=\"dataframe\">\n",
       "  <thead>\n",
       "    <tr style=\"text-align: right;\">\n",
       "      <th></th>\n",
       "      <th>feature</th>\n",
       "      <th>importance</th>\n",
       "    </tr>\n",
       "  </thead>\n",
       "  <tbody>\n",
       "    <tr>\n",
       "      <th>0</th>\n",
       "      <td>ANNUITY_TO_CREDIT</td>\n",
       "      <td>0.153741</td>\n",
       "    </tr>\n",
       "    <tr>\n",
       "      <th>1</th>\n",
       "      <td>GOODS_TO_CREDIT</td>\n",
       "      <td>0.139030</td>\n",
       "    </tr>\n",
       "    <tr>\n",
       "      <th>2</th>\n",
       "      <td>NAME_EDUCATION_TYPE</td>\n",
       "      <td>0.111187</td>\n",
       "    </tr>\n",
       "    <tr>\n",
       "      <th>3</th>\n",
       "      <td>OCCUPATION_TYPE</td>\n",
       "      <td>0.105804</td>\n",
       "    </tr>\n",
       "    <tr>\n",
       "      <th>4</th>\n",
       "      <td>DAYS_BIRTH</td>\n",
       "      <td>0.090992</td>\n",
       "    </tr>\n",
       "    <tr>\n",
       "      <th>...</th>\n",
       "      <td>...</td>\n",
       "      <td>...</td>\n",
       "    </tr>\n",
       "    <tr>\n",
       "      <th>571</th>\n",
       "      <td>FLAG_DOCUMENT_4</td>\n",
       "      <td>0.000000</td>\n",
       "    </tr>\n",
       "    <tr>\n",
       "      <th>572</th>\n",
       "      <td>bb_w24_share_status_gt4__max</td>\n",
       "      <td>0.000000</td>\n",
       "    </tr>\n",
       "    <tr>\n",
       "      <th>573</th>\n",
       "      <td>w90_share_overdue_gt90</td>\n",
       "      <td>0.000000</td>\n",
       "    </tr>\n",
       "    <tr>\n",
       "      <th>574</th>\n",
       "      <td>w30_debt_concentration_active</td>\n",
       "      <td>0.000000</td>\n",
       "    </tr>\n",
       "    <tr>\n",
       "      <th>575</th>\n",
       "      <td>FLAG_DOCUMENT_11</td>\n",
       "      <td>0.000000</td>\n",
       "    </tr>\n",
       "  </tbody>\n",
       "</table>\n",
       "<p>576 rows × 2 columns</p>\n",
       "</div>"
      ],
      "text/plain": [
       "                           feature  importance\n",
       "0                ANNUITY_TO_CREDIT    0.153741\n",
       "1                  GOODS_TO_CREDIT    0.139030\n",
       "2              NAME_EDUCATION_TYPE    0.111187\n",
       "3                  OCCUPATION_TYPE    0.105804\n",
       "4                       DAYS_BIRTH    0.090992\n",
       "..                             ...         ...\n",
       "571                FLAG_DOCUMENT_4    0.000000\n",
       "572   bb_w24_share_status_gt4__max    0.000000\n",
       "573         w90_share_overdue_gt90    0.000000\n",
       "574  w30_debt_concentration_active    0.000000\n",
       "575               FLAG_DOCUMENT_11    0.000000\n",
       "\n",
       "[576 rows x 2 columns]"
      ]
     },
     "execution_count": 108,
     "metadata": {},
     "output_type": "execute_result"
    }
   ],
   "source": [
    "base_model.feature_importances_shap_"
   ]
  },
  {
   "cell_type": "code",
   "execution_count": 109,
   "id": "3eb0db31",
   "metadata": {},
   "outputs": [
    {
     "data": {
      "text/html": [
       "<div>\n",
       "<style scoped>\n",
       "    .dataframe tbody tr th:only-of-type {\n",
       "        vertical-align: middle;\n",
       "    }\n",
       "\n",
       "    .dataframe tbody tr th {\n",
       "        vertical-align: top;\n",
       "    }\n",
       "\n",
       "    .dataframe thead th {\n",
       "        text-align: right;\n",
       "    }\n",
       "</style>\n",
       "<table border=\"1\" class=\"dataframe\">\n",
       "  <thead>\n",
       "    <tr style=\"text-align: right;\">\n",
       "      <th></th>\n",
       "      <th>feature</th>\n",
       "      <th>importance</th>\n",
       "    </tr>\n",
       "  </thead>\n",
       "  <tbody>\n",
       "    <tr>\n",
       "      <th>0</th>\n",
       "      <td>ANNUITY_TO_CREDIT</td>\n",
       "      <td>12.785733</td>\n",
       "    </tr>\n",
       "    <tr>\n",
       "      <th>1</th>\n",
       "      <td>GOODS_TO_CREDIT</td>\n",
       "      <td>5.044007</td>\n",
       "    </tr>\n",
       "    <tr>\n",
       "      <th>2</th>\n",
       "      <td>DAYS_BIRTH</td>\n",
       "      <td>4.218902</td>\n",
       "    </tr>\n",
       "    <tr>\n",
       "      <th>3</th>\n",
       "      <td>NAME_EDUCATION_TYPE</td>\n",
       "      <td>3.523659</td>\n",
       "    </tr>\n",
       "    <tr>\n",
       "      <th>4</th>\n",
       "      <td>OCCUPATION_TYPE</td>\n",
       "      <td>2.890750</td>\n",
       "    </tr>\n",
       "    <tr>\n",
       "      <th>...</th>\n",
       "      <td>...</td>\n",
       "      <td>...</td>\n",
       "    </tr>\n",
       "    <tr>\n",
       "      <th>571</th>\n",
       "      <td>FLAG_DOCUMENT_4</td>\n",
       "      <td>0.000000</td>\n",
       "    </tr>\n",
       "    <tr>\n",
       "      <th>572</th>\n",
       "      <td>bb_w24_share_status_gt4__max</td>\n",
       "      <td>0.000000</td>\n",
       "    </tr>\n",
       "    <tr>\n",
       "      <th>573</th>\n",
       "      <td>w90_share_overdue_gt90</td>\n",
       "      <td>0.000000</td>\n",
       "    </tr>\n",
       "    <tr>\n",
       "      <th>574</th>\n",
       "      <td>w30_debt_concentration_active</td>\n",
       "      <td>0.000000</td>\n",
       "    </tr>\n",
       "    <tr>\n",
       "      <th>575</th>\n",
       "      <td>FLAG_DOCUMENT_11</td>\n",
       "      <td>0.000000</td>\n",
       "    </tr>\n",
       "  </tbody>\n",
       "</table>\n",
       "<p>576 rows × 2 columns</p>\n",
       "</div>"
      ],
      "text/plain": [
       "                           feature  importance\n",
       "0                ANNUITY_TO_CREDIT   12.785733\n",
       "1                  GOODS_TO_CREDIT    5.044007\n",
       "2                       DAYS_BIRTH    4.218902\n",
       "3              NAME_EDUCATION_TYPE    3.523659\n",
       "4                  OCCUPATION_TYPE    2.890750\n",
       "..                             ...         ...\n",
       "571                FLAG_DOCUMENT_4    0.000000\n",
       "572   bb_w24_share_status_gt4__max    0.000000\n",
       "573         w90_share_overdue_gt90    0.000000\n",
       "574  w30_debt_concentration_active    0.000000\n",
       "575               FLAG_DOCUMENT_11    0.000000\n",
       "\n",
       "[576 rows x 2 columns]"
      ]
     },
     "execution_count": 109,
     "metadata": {},
     "output_type": "execute_result"
    }
   ],
   "source": [
    "# Draw shap summary plot from the base_model get_average_shap_values\n",
    "base_model.get_feature_importance(X_train)\n"
   ]
  },
  {
   "cell_type": "code",
   "execution_count": 110,
   "id": "8e961ade",
   "metadata": {},
   "outputs": [
    {
     "data": {
      "text/html": [
       "<div>\n",
       "<style scoped>\n",
       "    .dataframe tbody tr th:only-of-type {\n",
       "        vertical-align: middle;\n",
       "    }\n",
       "\n",
       "    .dataframe tbody tr th {\n",
       "        vertical-align: top;\n",
       "    }\n",
       "\n",
       "    .dataframe thead th {\n",
       "        text-align: right;\n",
       "    }\n",
       "</style>\n",
       "<table border=\"1\" class=\"dataframe\">\n",
       "  <thead>\n",
       "    <tr style=\"text-align: right;\">\n",
       "      <th></th>\n",
       "      <th>feature</th>\n",
       "      <th>importance</th>\n",
       "    </tr>\n",
       "  </thead>\n",
       "  <tbody>\n",
       "    <tr>\n",
       "      <th>0</th>\n",
       "      <td>ANNUITY_TO_CREDIT</td>\n",
       "      <td>12.785733</td>\n",
       "    </tr>\n",
       "    <tr>\n",
       "      <th>1</th>\n",
       "      <td>GOODS_TO_CREDIT</td>\n",
       "      <td>5.044007</td>\n",
       "    </tr>\n",
       "    <tr>\n",
       "      <th>2</th>\n",
       "      <td>DAYS_BIRTH</td>\n",
       "      <td>4.218902</td>\n",
       "    </tr>\n",
       "    <tr>\n",
       "      <th>3</th>\n",
       "      <td>NAME_EDUCATION_TYPE</td>\n",
       "      <td>3.523659</td>\n",
       "    </tr>\n",
       "    <tr>\n",
       "      <th>4</th>\n",
       "      <td>OCCUPATION_TYPE</td>\n",
       "      <td>2.890750</td>\n",
       "    </tr>\n",
       "    <tr>\n",
       "      <th>...</th>\n",
       "      <td>...</td>\n",
       "      <td>...</td>\n",
       "    </tr>\n",
       "    <tr>\n",
       "      <th>571</th>\n",
       "      <td>FLAG_DOCUMENT_4</td>\n",
       "      <td>0.000000</td>\n",
       "    </tr>\n",
       "    <tr>\n",
       "      <th>572</th>\n",
       "      <td>bb_w24_share_status_gt4__max</td>\n",
       "      <td>0.000000</td>\n",
       "    </tr>\n",
       "    <tr>\n",
       "      <th>573</th>\n",
       "      <td>w90_share_overdue_gt90</td>\n",
       "      <td>0.000000</td>\n",
       "    </tr>\n",
       "    <tr>\n",
       "      <th>574</th>\n",
       "      <td>w30_debt_concentration_active</td>\n",
       "      <td>0.000000</td>\n",
       "    </tr>\n",
       "    <tr>\n",
       "      <th>575</th>\n",
       "      <td>FLAG_DOCUMENT_11</td>\n",
       "      <td>0.000000</td>\n",
       "    </tr>\n",
       "  </tbody>\n",
       "</table>\n",
       "<p>576 rows × 2 columns</p>\n",
       "</div>"
      ],
      "text/plain": [
       "                           feature  importance\n",
       "0                ANNUITY_TO_CREDIT   12.785733\n",
       "1                  GOODS_TO_CREDIT    5.044007\n",
       "2                       DAYS_BIRTH    4.218902\n",
       "3              NAME_EDUCATION_TYPE    3.523659\n",
       "4                  OCCUPATION_TYPE    2.890750\n",
       "..                             ...         ...\n",
       "571                FLAG_DOCUMENT_4    0.000000\n",
       "572   bb_w24_share_status_gt4__max    0.000000\n",
       "573         w90_share_overdue_gt90    0.000000\n",
       "574  w30_debt_concentration_active    0.000000\n",
       "575               FLAG_DOCUMENT_11    0.000000\n",
       "\n",
       "[576 rows x 2 columns]"
      ]
     },
     "execution_count": 110,
     "metadata": {},
     "output_type": "execute_result"
    }
   ],
   "source": [
    "base_model.feature_importances_"
   ]
  },
  {
   "cell_type": "code",
   "execution_count": 36,
   "id": "3b9ec40f",
   "metadata": {},
   "outputs": [
    {
     "data": {
      "text/plain": [
       "'bb_w3_months_count__mean'"
      ]
     },
     "execution_count": 36,
     "metadata": {},
     "output_type": "execute_result"
    }
   ],
   "source": [
    "X_test.columns[1]"
   ]
  },
  {
   "cell_type": "code",
   "execution_count": 111,
   "id": "e5541c69",
   "metadata": {},
   "outputs": [
    {
     "data": {
      "text/html": [
       "<div>\n",
       "<style scoped>\n",
       "    .dataframe tbody tr th:only-of-type {\n",
       "        vertical-align: middle;\n",
       "    }\n",
       "\n",
       "    .dataframe tbody tr th {\n",
       "        vertical-align: top;\n",
       "    }\n",
       "\n",
       "    .dataframe thead th {\n",
       "        text-align: right;\n",
       "    }\n",
       "</style>\n",
       "<table border=\"1\" class=\"dataframe\">\n",
       "  <thead>\n",
       "    <tr style=\"text-align: right;\">\n",
       "      <th></th>\n",
       "      <th>Feature_1</th>\n",
       "      <th>Feature_2</th>\n",
       "      <th>Score</th>\n",
       "    </tr>\n",
       "  </thead>\n",
       "  <tbody>\n",
       "    <tr>\n",
       "      <th>0</th>\n",
       "      <td>NAME_FAMILY_STATUS</td>\n",
       "      <td>NAME_EDUCATION_TYPE</td>\n",
       "      <td>0.653967</td>\n",
       "    </tr>\n",
       "    <tr>\n",
       "      <th>1</th>\n",
       "      <td>FONDKAPREMONT_MODE</td>\n",
       "      <td>NAME_EDUCATION_TYPE</td>\n",
       "      <td>0.593005</td>\n",
       "    </tr>\n",
       "    <tr>\n",
       "      <th>2</th>\n",
       "      <td>ANNUITY_TO_CREDIT</td>\n",
       "      <td>AMT_GOODS_PRICE</td>\n",
       "      <td>0.477355</td>\n",
       "    </tr>\n",
       "    <tr>\n",
       "      <th>3</th>\n",
       "      <td>WEEKDAY_APPR_PROCESS_START</td>\n",
       "      <td>WALLSMATERIAL_MODE</td>\n",
       "      <td>0.475873</td>\n",
       "    </tr>\n",
       "    <tr>\n",
       "      <th>4</th>\n",
       "      <td>bb_w24_status_3_share__mean</td>\n",
       "      <td>FONDKAPREMONT_MODE</td>\n",
       "      <td>0.460777</td>\n",
       "    </tr>\n",
       "    <tr>\n",
       "      <th>...</th>\n",
       "      <td>...</td>\n",
       "      <td>...</td>\n",
       "      <td>...</td>\n",
       "    </tr>\n",
       "    <tr>\n",
       "      <th>2622</th>\n",
       "      <td>w720_laddering_share</td>\n",
       "      <td>AMT_ANNUITY</td>\n",
       "      <td>0.000093</td>\n",
       "    </tr>\n",
       "    <tr>\n",
       "      <th>2623</th>\n",
       "      <td>DAYS_EMPLOYED</td>\n",
       "      <td>DAYS_LAST_PHONE_CHANGE</td>\n",
       "      <td>0.000072</td>\n",
       "    </tr>\n",
       "    <tr>\n",
       "      <th>2624</th>\n",
       "      <td>w30_annuity_over_total_debt</td>\n",
       "      <td>NAME_HOUSING_TYPE</td>\n",
       "      <td>0.000064</td>\n",
       "    </tr>\n",
       "    <tr>\n",
       "      <th>2625</th>\n",
       "      <td>REQ_YEAR_ONLY</td>\n",
       "      <td>BASEMENTAREA_MEDI</td>\n",
       "      <td>0.000051</td>\n",
       "    </tr>\n",
       "    <tr>\n",
       "      <th>2626</th>\n",
       "      <td>bb_w24_status_4_share__mean</td>\n",
       "      <td>w360_current_overdue_amt</td>\n",
       "      <td>0.000018</td>\n",
       "    </tr>\n",
       "  </tbody>\n",
       "</table>\n",
       "<p>17111 rows × 3 columns</p>\n",
       "</div>"
      ],
      "text/plain": [
       "                        Feature_1                 Feature_2     Score\n",
       "0              NAME_FAMILY_STATUS       NAME_EDUCATION_TYPE  0.653967\n",
       "1              FONDKAPREMONT_MODE       NAME_EDUCATION_TYPE  0.593005\n",
       "2               ANNUITY_TO_CREDIT           AMT_GOODS_PRICE  0.477355\n",
       "3      WEEKDAY_APPR_PROCESS_START        WALLSMATERIAL_MODE  0.475873\n",
       "4     bb_w24_status_3_share__mean        FONDKAPREMONT_MODE  0.460777\n",
       "...                           ...                       ...       ...\n",
       "2622         w720_laddering_share               AMT_ANNUITY  0.000093\n",
       "2623                DAYS_EMPLOYED    DAYS_LAST_PHONE_CHANGE  0.000072\n",
       "2624  w30_annuity_over_total_debt         NAME_HOUSING_TYPE  0.000064\n",
       "2625                REQ_YEAR_ONLY         BASEMENTAREA_MEDI  0.000051\n",
       "2626  bb_w24_status_4_share__mean  w360_current_overdue_amt  0.000018\n",
       "\n",
       "[17111 rows x 3 columns]"
      ]
     },
     "execution_count": 111,
     "metadata": {},
     "output_type": "execute_result"
    }
   ],
   "source": [
    "base_model.get_average_feature_interaction_score(X_train)"
   ]
  },
  {
   "cell_type": "code",
   "execution_count": 112,
   "id": "66ea08c2",
   "metadata": {},
   "outputs": [
    {
     "data": {
      "text/html": [
       "<div>\n",
       "<style scoped>\n",
       "    .dataframe tbody tr th:only-of-type {\n",
       "        vertical-align: middle;\n",
       "    }\n",
       "\n",
       "    .dataframe tbody tr th {\n",
       "        vertical-align: top;\n",
       "    }\n",
       "\n",
       "    .dataframe thead th {\n",
       "        text-align: right;\n",
       "    }\n",
       "</style>\n",
       "<table border=\"1\" class=\"dataframe\">\n",
       "  <thead>\n",
       "    <tr style=\"text-align: right;\">\n",
       "      <th></th>\n",
       "      <th>Feature_1</th>\n",
       "      <th>Feature_2</th>\n",
       "      <th>Score</th>\n",
       "    </tr>\n",
       "  </thead>\n",
       "  <tbody>\n",
       "    <tr>\n",
       "      <th>0</th>\n",
       "      <td>NAME_FAMILY_STATUS</td>\n",
       "      <td>NAME_EDUCATION_TYPE</td>\n",
       "      <td>0.653967</td>\n",
       "    </tr>\n",
       "    <tr>\n",
       "      <th>1</th>\n",
       "      <td>FONDKAPREMONT_MODE</td>\n",
       "      <td>NAME_EDUCATION_TYPE</td>\n",
       "      <td>0.593005</td>\n",
       "    </tr>\n",
       "    <tr>\n",
       "      <th>2</th>\n",
       "      <td>ANNUITY_TO_CREDIT</td>\n",
       "      <td>AMT_GOODS_PRICE</td>\n",
       "      <td>0.477355</td>\n",
       "    </tr>\n",
       "    <tr>\n",
       "      <th>3</th>\n",
       "      <td>WEEKDAY_APPR_PROCESS_START</td>\n",
       "      <td>WALLSMATERIAL_MODE</td>\n",
       "      <td>0.475873</td>\n",
       "    </tr>\n",
       "    <tr>\n",
       "      <th>4</th>\n",
       "      <td>bb_w24_status_3_share__mean</td>\n",
       "      <td>FONDKAPREMONT_MODE</td>\n",
       "      <td>0.460777</td>\n",
       "    </tr>\n",
       "    <tr>\n",
       "      <th>...</th>\n",
       "      <td>...</td>\n",
       "      <td>...</td>\n",
       "      <td>...</td>\n",
       "    </tr>\n",
       "    <tr>\n",
       "      <th>2622</th>\n",
       "      <td>w720_laddering_share</td>\n",
       "      <td>AMT_ANNUITY</td>\n",
       "      <td>0.000093</td>\n",
       "    </tr>\n",
       "    <tr>\n",
       "      <th>2623</th>\n",
       "      <td>DAYS_EMPLOYED</td>\n",
       "      <td>DAYS_LAST_PHONE_CHANGE</td>\n",
       "      <td>0.000072</td>\n",
       "    </tr>\n",
       "    <tr>\n",
       "      <th>2624</th>\n",
       "      <td>w30_annuity_over_total_debt</td>\n",
       "      <td>NAME_HOUSING_TYPE</td>\n",
       "      <td>0.000064</td>\n",
       "    </tr>\n",
       "    <tr>\n",
       "      <th>2625</th>\n",
       "      <td>REQ_YEAR_ONLY</td>\n",
       "      <td>BASEMENTAREA_MEDI</td>\n",
       "      <td>0.000051</td>\n",
       "    </tr>\n",
       "    <tr>\n",
       "      <th>2626</th>\n",
       "      <td>bb_w24_status_4_share__mean</td>\n",
       "      <td>w360_current_overdue_amt</td>\n",
       "      <td>0.000018</td>\n",
       "    </tr>\n",
       "  </tbody>\n",
       "</table>\n",
       "<p>17111 rows × 3 columns</p>\n",
       "</div>"
      ],
      "text/plain": [
       "                        Feature_1                 Feature_2     Score\n",
       "0              NAME_FAMILY_STATUS       NAME_EDUCATION_TYPE  0.653967\n",
       "1              FONDKAPREMONT_MODE       NAME_EDUCATION_TYPE  0.593005\n",
       "2               ANNUITY_TO_CREDIT           AMT_GOODS_PRICE  0.477355\n",
       "3      WEEKDAY_APPR_PROCESS_START        WALLSMATERIAL_MODE  0.475873\n",
       "4     bb_w24_status_3_share__mean        FONDKAPREMONT_MODE  0.460777\n",
       "...                           ...                       ...       ...\n",
       "2622         w720_laddering_share               AMT_ANNUITY  0.000093\n",
       "2623                DAYS_EMPLOYED    DAYS_LAST_PHONE_CHANGE  0.000072\n",
       "2624  w30_annuity_over_total_debt         NAME_HOUSING_TYPE  0.000064\n",
       "2625                REQ_YEAR_ONLY         BASEMENTAREA_MEDI  0.000051\n",
       "2626  bb_w24_status_4_share__mean  w360_current_overdue_amt  0.000018\n",
       "\n",
       "[17111 rows x 3 columns]"
      ]
     },
     "execution_count": 112,
     "metadata": {},
     "output_type": "execute_result"
    }
   ],
   "source": [
    "base_model.feature_interaction_"
   ]
  },
  {
   "cell_type": "code",
   "execution_count": 44,
   "id": "6e0f408a",
   "metadata": {},
   "outputs": [
    {
     "data": {
      "text/plain": [
       "feature       487\n",
       "importance    487\n",
       "dtype: int64"
      ]
     },
     "execution_count": 44,
     "metadata": {},
     "output_type": "execute_result"
    }
   ],
   "source": [
    "base_model_feature_importance.loc[base_model_feature_importance['importance']>0].nunique()"
   ]
  },
  {
   "cell_type": "code",
   "execution_count": 26,
   "id": "a1ada42f",
   "metadata": {},
   "outputs": [],
   "source": [
    "list_features_top200 = base_model_feature_importance['feature'].tolist()[:200]"
   ]
  },
  {
   "cell_type": "code",
   "execution_count": 112,
   "id": "37437f07",
   "metadata": {},
   "outputs": [
    {
     "data": {
      "text/plain": [
       "FLAG_OWN_CAR\n",
       "N    152206\n",
       "Y     78427\n",
       "Name: count, dtype: int64"
      ]
     },
     "execution_count": 112,
     "metadata": {},
     "output_type": "execute_result"
    }
   ],
   "source": [
    "X_train['FLAG_OWN_CAR'].value_counts()"
   ]
  },
  {
   "cell_type": "code",
   "execution_count": 76,
   "id": "846cfcbe",
   "metadata": {},
   "outputs": [
    {
     "data": {
      "text/html": [
       "<div>\n",
       "<style scoped>\n",
       "    .dataframe tbody tr th:only-of-type {\n",
       "        vertical-align: middle;\n",
       "    }\n",
       "\n",
       "    .dataframe tbody tr th {\n",
       "        vertical-align: top;\n",
       "    }\n",
       "\n",
       "    .dataframe thead th {\n",
       "        text-align: right;\n",
       "    }\n",
       "</style>\n",
       "<table border=\"1\" class=\"dataframe\">\n",
       "  <thead>\n",
       "    <tr style=\"text-align: right;\">\n",
       "      <th></th>\n",
       "      <th>CREDIT_TO_INCOME</th>\n",
       "    </tr>\n",
       "  </thead>\n",
       "  <tbody>\n",
       "    <tr>\n",
       "      <th>count</th>\n",
       "      <td>230633.000000</td>\n",
       "    </tr>\n",
       "    <tr>\n",
       "      <th>mean</th>\n",
       "      <td>3.961270</td>\n",
       "    </tr>\n",
       "    <tr>\n",
       "      <th>std</th>\n",
       "      <td>2.684589</td>\n",
       "    </tr>\n",
       "    <tr>\n",
       "      <th>min</th>\n",
       "      <td>0.004808</td>\n",
       "    </tr>\n",
       "    <tr>\n",
       "      <th>25%</th>\n",
       "      <td>2.022400</td>\n",
       "    </tr>\n",
       "    <tr>\n",
       "      <th>50%</th>\n",
       "      <td>3.274533</td>\n",
       "    </tr>\n",
       "    <tr>\n",
       "      <th>75%</th>\n",
       "      <td>5.166133</td>\n",
       "    </tr>\n",
       "    <tr>\n",
       "      <th>max</th>\n",
       "      <td>35.477778</td>\n",
       "    </tr>\n",
       "  </tbody>\n",
       "</table>\n",
       "</div>"
      ],
      "text/plain": [
       "       CREDIT_TO_INCOME\n",
       "count     230633.000000\n",
       "mean           3.961270\n",
       "std            2.684589\n",
       "min            0.004808\n",
       "25%            2.022400\n",
       "50%            3.274533\n",
       "75%            5.166133\n",
       "max           35.477778"
      ]
     },
     "execution_count": 76,
     "metadata": {},
     "output_type": "execute_result"
    }
   ],
   "source": [
    "X_train[['CREDIT_TO_INCOME']].describe()"
   ]
  },
  {
   "cell_type": "code",
   "execution_count": 89,
   "id": "b0a90f61",
   "metadata": {},
   "outputs": [
    {
     "data": {
      "text/plain": [
       "['bb_w3_share_status_gt0__mean',\n",
       " 'bb_w3_status_5_share__mean',\n",
       " 'bb_w12_status_max__mean',\n",
       " 'bb_w24_status_mean__mean',\n",
       " 'bb_w6_status_0_share__sum',\n",
       " 'bb_w6_status_max__max',\n",
       " 'bb_w3_status_4_share__sum',\n",
       " 'bb_w12_longest_streak_status_gt0__max',\n",
       " 'w90_annuity_over_total_debt',\n",
       " 'bb_w24_share_unknown__sum',\n",
       " 'bb_w12_status_1_share__mean',\n",
       " 'w30_high_util_card_any',\n",
       " 'w180_debt_concentration_active',\n",
       " 'w720_share_overdue_gt90',\n",
       " 'bb_w6_status_4_share__mean',\n",
       " 'bb_w12_status_mean__mean',\n",
       " 'ENTRANCES_MODE',\n",
       " 'NAME_INCOME_TYPE',\n",
       " 'w720_expo_growth_abs',\n",
       " 'w360_last_loan_debt',\n",
       " 'ID_PUBLISH_YEARS_AGO',\n",
       " 'w180_expo_concentration',\n",
       " 'bb_w24_share_status_gt4__mean',\n",
       " 'w90_avg_days_remaining',\n",
       " 'w90_n_closed_loans',\n",
       " 'w720_last_loan_debt',\n",
       " 'bb_w24_status_0_share__sum',\n",
       " 'bb_w6_status_5_share__sum',\n",
       " 'bb_w24_longest_streak_status_gt0__sum',\n",
       " 'bb_w6_months_since_last_status_gt0__sum',\n",
       " 'bb_w24_share_status_gt4__sum',\n",
       " 'w360_active_ratio',\n",
       " 'FLAG_DOCUMENT_2',\n",
       " 'w90_short_term_risk',\n",
       " 'bb_w12_share_status_gt3__mean',\n",
       " 'bb_w24_share_status_gt0__sum',\n",
       " 'NAME_TYPE_SUITE',\n",
       " 'w360_last_loan_overdue_amt',\n",
       " 'PHONE_CHANGE_YEARS_AGO',\n",
       " 'w90_num_new',\n",
       " 'w30_annuity_over_total_debt',\n",
       " 'bb_w6_status_mean__mean',\n",
       " 'w90_avg_closed_duration',\n",
       " 'bb_w12_share_status_gt2__mean',\n",
       " 'bb_w24_status_sum__mean',\n",
       " 'bb_w24_status_1_share__max',\n",
       " 'w30_currency_diversity',\n",
       " 'bb_bb_last_status_is_closed__max',\n",
       " 'bb_w24_status_5_share__max',\n",
       " 'bb_w24_status_2_share__max',\n",
       " 'bb_w12_status_max__max',\n",
       " 'REQ_TOTAL',\n",
       " 'w720_short_term_risk',\n",
       " 'REGION_RATING_CLIENT',\n",
       " 'w180_last_loan_debt',\n",
       " 'bb_bb_last_month__max',\n",
       " 'bb_w6_share_status_gt3__max',\n",
       " 'w360_debt_concentration_active',\n",
       " 'w180_n_active_loans',\n",
       " 'bb_bb_last_status_is_closed__mean',\n",
       " 'bb_w24_share_unknown__max',\n",
       " 'FLOORSMAX_MEDI',\n",
       " 'bb_w3_status_0_share__sum',\n",
       " 'NAME_CONTRACT_TYPE',\n",
       " 'bb_w12_status_5_share__sum',\n",
       " 'NAME_EDUCATION_TYPE',\n",
       " 'bb_w6_share_closed__max',\n",
       " 'bb_w6_status_2_share__max',\n",
       " 'DAYS_LAST_PHONE_CHANGE',\n",
       " 'bb_w6_status_1_share__max',\n",
       " 'w720_active_ratio',\n",
       " 'bb_w6_status_0_share__mean',\n",
       " 'bb_w6_status_1_share__sum',\n",
       " 'bb_w12_share_status_gt0__sum',\n",
       " 'w360_portfolio_churn_clos2y_over_active',\n",
       " 'REGION_POPULATION_RELATIVE',\n",
       " 'bb_w6_status_2_share__sum',\n",
       " 'w30_type_diversity_shannon',\n",
       " 'bb_w24_share_status_gt1__max',\n",
       " 'REQ_YEAR_ONLY',\n",
       " 'w30_total_exposure',\n",
       " 'w720_last_loan_type',\n",
       " 'bb_w3_status_sum__mean',\n",
       " 'NONLIVINGAPARTMENTS_MODE',\n",
       " 'AMT_INCOME_TOTAL',\n",
       " 'w90_prolongation_stress',\n",
       " 'w30_last_loan_overdue_amt',\n",
       " 'bb_w12_status_0_share__sum',\n",
       " 'bb_w24_status_max__mean',\n",
       " 'bb_w12_share_closed__mean',\n",
       " 'w30_recency_weighted_debt_tau365',\n",
       " 'w360_max_overdue_days',\n",
       " 'w720_avg_overdue_active',\n",
       " 'bb_w12_status_4_share__sum',\n",
       " 'bb_w3_share_status_gt1__sum',\n",
       " 'bb_w6_status_5_share__mean',\n",
       " 'w360_avg_days_credit',\n",
       " 'w360_avg_days_remaining',\n",
       " 'YEARS_BUILD_AVG',\n",
       " 'bb_w3_share_unknown__max',\n",
       " 'w30_short_term_risk',\n",
       " 'BASEMENTAREA_AVG',\n",
       " 'CNT_CHILDREN',\n",
       " 'w720_debt_concentration_active',\n",
       " 'ADDR_MISMATCH_REGION_SUM',\n",
       " 'w30_duration_var',\n",
       " 'bb_w6_months_count__max',\n",
       " 'w720_annuity_over_total_debt',\n",
       " 'CNT_FAM_MEMBERS',\n",
       " 'DAYS_REGISTRATION',\n",
       " 'bb_w12_status_mean__max',\n",
       " 'w30_active_ratio',\n",
       " 'w720_type_diversity_shannon',\n",
       " 'bb_w24_status_0_share__max',\n",
       " 'ELEVATORS_AVG',\n",
       " 'w30_avg_closed_duration',\n",
       " 'w30_n_closed_loans',\n",
       " 'w30_prolongation_stress',\n",
       " 'w30_last_update_min_days',\n",
       " 'HOUSETYPE_MODE',\n",
       " 'ELEVATORS_MODE',\n",
       " 'bb_w24_status_sum__max',\n",
       " 'bb_w24_status_1_share__sum',\n",
       " 'w360_risky_type_share',\n",
       " 'GOODS_TO_CREDIT',\n",
       " 'w180_num_new',\n",
       " 'bb_w3_status_3_share__max',\n",
       " 'w360_last_loan_type',\n",
       " 'w180_avg_closed_duration',\n",
       " 'w90_total_annuity',\n",
       " 'bb_w3_status_sum__max',\n",
       " 'w720_duration_var',\n",
       " 'bb_w3_status_4_share__max',\n",
       " 'w180_duration_var',\n",
       " 'w90_portfolio_churn_clos2y_over_active',\n",
       " 'bb_w12_status_2_share__max',\n",
       " 'w90_debt_concentration_active',\n",
       " 'w180_laddering_share',\n",
       " 'OCCUPATION_TYPE',\n",
       " 'bb_w3_status_max__max',\n",
       " 'bb_w6_share_status_gt4__max',\n",
       " 'bb_w12_status_1_share__max',\n",
       " 'HOUR_SIN',\n",
       " 'FLAG_DOCUMENT_16',\n",
       " 'bb_w6_share_unknown__max',\n",
       " 'w360_expo_concentration',\n",
       " 'w180_total_exposure',\n",
       " 'w180_short_term_risk',\n",
       " 'w30_total_debt',\n",
       " 'NONLIVINGAREA_MEDI',\n",
       " 'bb_w6_months_since_last_status_gt0__max',\n",
       " 'w180_avg_overdue_active',\n",
       " 'bb_w24_status_5_share__sum',\n",
       " 'FLOORSMIN_AVG',\n",
       " 'YEARS_BUILD_MODE',\n",
       " 'bb_w6_status_sum__sum',\n",
       " 'bb_w6_longest_streak_status_gt0__sum',\n",
       " 'bb_w6_share_status_gt4__sum',\n",
       " 'DOCS_MISSING_RATIO',\n",
       " 'bb_w3_share_status_gt3__mean',\n",
       " 'HOUR_LATE_FLAG',\n",
       " 'bb_w3_status_5_share__sum',\n",
       " 'bb_w6_status_1_share__mean',\n",
       " 'bb_w24_share_status_gt3__sum',\n",
       " 'w180_last_loan_type',\n",
       " 'w180_portfolio_churn_clos2y_over_active',\n",
       " 'bb_w24_share_status_gt3__mean',\n",
       " 'bb_w6_share_status_gt1__sum',\n",
       " 'FLAG_DOCUMENT_7',\n",
       " 'bb_w24_status_0_share__mean',\n",
       " 'FLAG_DOCUMENT_10',\n",
       " 'bb_w6_status_3_share__max',\n",
       " 'OWN_CAR_AGE',\n",
       " 'bb_w24_status_4_share__sum',\n",
       " 'REG_REGION_NOT_LIVE_REGION',\n",
       " 'COMM_CHANNELS_COUNT',\n",
       " 'bb_w6_share_status_gt0__max',\n",
       " 'REQ_RECENT_RATIO',\n",
       " 'bb_w24_share_status_gt0__max',\n",
       " 'w180_max_overdue_days',\n",
       " 'LIVINGAPARTMENTS_AVG',\n",
       " 'w720_n_total_loans',\n",
       " 'w30_last_loan_debt',\n",
       " 'w90_total_debt',\n",
       " 'bb_w6_longest_streak_status_gt0__max',\n",
       " 'bb_w24_months_count__sum',\n",
       " 'DAYS_BIRTH',\n",
       " 'FLAG_DOCUMENT_14',\n",
       " 'w30_avg_overdue_active',\n",
       " 'bb_w24_months_since_last_status_gt0__mean',\n",
       " 'bb_w12_months_since_last_status_gt0__max',\n",
       " 'AMT_REQ_CREDIT_BUREAU_HOUR',\n",
       " 'bb_w24_status_2_share__mean',\n",
       " 'APARTMENTS_MODE',\n",
       " 'bb_w3_share_closed__max',\n",
       " 'FLAG_DOCUMENT_20',\n",
       " 'w360_ever_overdue',\n",
       " 'w180_vintage_fraction',\n",
       " 'bb_w12_share_status_gt1__sum',\n",
       " 'CHILDREN_PER_FAM',\n",
       " 'w360_duration_var',\n",
       " 'bb_w12_status_3_share__mean',\n",
       " 'bb_w6_share_status_gt2__sum',\n",
       " 'bb_w12_months_since_last_status_gt0__mean',\n",
       " 'w180_share_overdue_gt90',\n",
       " 'bb_w12_status_3_share__max',\n",
       " 'w30_vintage_fraction',\n",
       " 'bb_w6_share_status_gt3__sum',\n",
       " 'ELEVATORS_MEDI',\n",
       " 'bb_w12_status_0_share__max',\n",
       " 'FLAG_DOCUMENT_8',\n",
       " 'YEARS_BEGINEXPLUATATION_MEDI',\n",
       " 'w180_currency_diversity',\n",
       " 'LANDAREA_AVG',\n",
       " 'w720_portfolio_churn_clos2y_over_active',\n",
       " 'REG_CITY_NOT_LIVE_CITY',\n",
       " 'bb_w3_share_status_gt4__mean',\n",
       " 'bb_bb_last_status_is_closed__sum',\n",
       " 'bb_w3_share_closed__sum',\n",
       " 'w30_portfolio_churn_clos2y_over_active',\n",
       " 'bb_w6_share_closed__mean',\n",
       " 'bb_w3_months_since_last_status_gt0__max',\n",
       " 'bb_bb_last_status_code__sum',\n",
       " 'bb_w6_longest_streak_status_gt0__mean',\n",
       " 'w30_debt_concentration_active',\n",
       " 'FLAG_EMP_PHONE',\n",
       " 'w720_high_util_card_any',\n",
       " 'w90_expo_growth_rate',\n",
       " 'w360_num_new',\n",
       " 'w90_avg_days_credit',\n",
       " 'w360_high_util_card_any',\n",
       " 'FLAG_DOCUMENT_13',\n",
       " 'FLAG_EMAIL',\n",
       " 'bb_bb_last_status_code__max',\n",
       " 'bb_w12_share_unknown__mean',\n",
       " 'bb_w24_status_5_share__mean',\n",
       " 'w30_expo_concentration',\n",
       " 'DEF_30_CNT_SOCIAL_CIRCLE',\n",
       " 'w720_utilization_portfolio',\n",
       " 'bb_w3_status_1_share__max',\n",
       " 'FLAG_DOCUMENT_21',\n",
       " 'AMT_REQ_CREDIT_BUREAU_DAY',\n",
       " 'w360_n_active_loans',\n",
       " 'bb_w12_longest_streak_status_gt0__mean',\n",
       " 'bb_w24_share_status_gt2__max',\n",
       " 'bb_w6_status_sum__mean',\n",
       " 'w720_n_active_loans',\n",
       " 'w180_high_util_card_any',\n",
       " 'bb_w12_share_unknown__max',\n",
       " 'w90_chronic_delinquent',\n",
       " 'bb_w12_status_1_share__sum',\n",
       " 'w180_recency_weighted_debt_tau365',\n",
       " 'WALLSMATERIAL_MODE',\n",
       " 'INCOME_PER_FAM',\n",
       " 'w720_vintage_fraction',\n",
       " 'bb_w12_share_closed__sum',\n",
       " 'ENV_COVERAGE',\n",
       " 'bb_w6_share_closed__sum',\n",
       " 'w720_current_overdue_amt',\n",
       " 'w30_last_loan_type',\n",
       " 'w360_expo_growth_abs',\n",
       " 'ADDR_MISMATCH_SUM',\n",
       " 'bb_w3_longest_streak_status_gt0__mean',\n",
       " 'bb_w12_status_5_share__mean',\n",
       " 'DAYS_EMPLOYED',\n",
       " 'bb_w6_share_status_gt2__mean',\n",
       " 'bb_w24_status_2_share__sum',\n",
       " 'bb_w3_months_count__sum',\n",
       " 'w90_duration_var',\n",
       " 'bb_w3_longest_streak_status_gt0__sum',\n",
       " 'w720_chronic_delinquent',\n",
       " 'bb_w3_months_since_last_status_gt0__mean',\n",
       " 'w720_avg_closed_duration',\n",
       " 'w30_num_new',\n",
       " 'bb_w12_status_sum__max',\n",
       " 'bb_w24_months_count__max',\n",
       " 'bb_w3_status_1_share__mean',\n",
       " 'bb_w6_share_unknown__sum',\n",
       " 'ORGANIZATION_TYPE',\n",
       " 'w180_total_annuity',\n",
       " 'bb_w3_months_count__max',\n",
       " 'w360_short_term_risk',\n",
       " 'w720_ever_overdue',\n",
       " 'bb_w6_share_unknown__mean',\n",
       " 'bb_w12_share_status_gt4__mean',\n",
       " 'AMT_REQ_CREDIT_BUREAU_WEEK',\n",
       " 'w90_last_loan_overdue_amt',\n",
       " 'w720_expo_growth_rate',\n",
       " 'w360_laddering_share',\n",
       " 'bb_w6_status_mean__max',\n",
       " 'bb_w6_status_2_share__mean',\n",
       " 'NAME_FAMILY_STATUS',\n",
       " 'w720_total_annuity',\n",
       " 'bb_w24_status_3_share__mean',\n",
       " 'w90_expo_growth_abs',\n",
       " 'bb_w3_status_1_share__sum',\n",
       " 'bb_w6_status_mean__sum',\n",
       " 'HOUR_COS',\n",
       " 'w720_last_update_min_days',\n",
       " 'w720_avg_days_credit',\n",
       " 'w90_recency_weighted_debt_tau365',\n",
       " 'bb_w6_status_sum__max',\n",
       " 'ANNUITY_TO_CREDIT',\n",
       " 'FLAG_DOCUMENT_12',\n",
       " 'bb_w3_longest_streak_status_gt0__max',\n",
       " 'REG_REGION_NOT_WORK_REGION',\n",
       " 'bb_w24_share_closed__mean',\n",
       " 'bb_w3_share_status_gt0__max',\n",
       " 'w90_active_ratio',\n",
       " 'bb_w24_months_since_last_status_gt0__max',\n",
       " 'LANDAREA_MEDI',\n",
       " 'COMMONAREA_AVG',\n",
       " 'bb_w12_share_status_gt3__max',\n",
       " 'w180_current_overdue_amt',\n",
       " 'w360_current_overdue_amt',\n",
       " 'YEARS_BEGINEXPLUATATION_MODE',\n",
       " 'bb_w6_status_max__sum',\n",
       " 'w30_risky_type_share',\n",
       " 'bb_w6_share_status_gt1__max',\n",
       " 'bb_w24_status_4_share__mean',\n",
       " 'bb_w6_months_count__sum',\n",
       " 'w90_avg_overdue_active',\n",
       " 'NONLIVINGAREA_AVG',\n",
       " 'bb_w12_share_status_gt1__max',\n",
       " 'REG_CITY_NOT_WORK_CITY',\n",
       " 'REG_YEARS_AGO',\n",
       " 'bb_w3_status_3_share__sum',\n",
       " 'bb_w24_share_closed__max',\n",
       " 'bb_w12_share_status_gt4__sum',\n",
       " 'LIVE_REGION_NOT_WORK_REGION',\n",
       " 'bb_w24_share_status_gt1__mean',\n",
       " 'NAME_HOUSING_TYPE',\n",
       " 'bb_w3_status_2_share__sum',\n",
       " 'w90_max_overdue_days',\n",
       " 'bb_w12_status_mean__sum',\n",
       " 'w720_risky_type_share',\n",
       " 'w180_last_update_min_days',\n",
       " 'OBS_60_CNT_SOCIAL_CIRCLE',\n",
       " 'bb_w3_status_max__mean',\n",
       " 'bb_w6_status_4_share__sum',\n",
       " 'bb_w24_share_status_gt0__mean',\n",
       " 'bb_w24_share_status_gt2__mean',\n",
       " 'ENV_MISSING_CNT',\n",
       " 'w360_type_diversity_shannon',\n",
       " 'EMERGENCYSTATE_MODE',\n",
       " 'w360_annuity_over_total_debt',\n",
       " 'w30_expo_growth_abs',\n",
       " 'COMMONAREA_MEDI',\n",
       " 'w30_share_overdue_gt90',\n",
       " 'bb_w24_share_closed__sum',\n",
       " 'LANDAREA_MODE',\n",
       " 'w180_avg_days_credit',\n",
       " 'bb_w12_status_2_share__mean',\n",
       " 'FLOORSMIN_MODE',\n",
       " 'FLAG_CONT_MOBILE',\n",
       " 'AMT_REQ_CREDIT_BUREAU_YEAR',\n",
       " 'w180_expo_growth_rate',\n",
       " 'TENURE_OVER_AGE',\n",
       " 'bb_w12_status_4_share__max',\n",
       " 'FLAG_DOCUMENT_3',\n",
       " 'w90_vintage_fraction',\n",
       " 'bb_w12_share_unknown__sum',\n",
       " 'CREDIT_TO_INCOME',\n",
       " 'w720_laddering_share',\n",
       " 'bb_w12_status_sum__sum',\n",
       " 'w30_avg_days_remaining',\n",
       " 'w180_ever_overdue',\n",
       " 'bb_w6_status_3_share__mean',\n",
       " 'w90_utilization_portfolio',\n",
       " 'bb_w24_status_3_share__max',\n",
       " 'FLAG_OWN_CAR',\n",
       " 'AMT_CREDIT',\n",
       " 'w90_laddering_share',\n",
       " 'w360_max_overdue_amt',\n",
       " 'w30_n_total_loans',\n",
       " 'w360_avg_closed_duration',\n",
       " 'bb_w3_share_unknown__sum',\n",
       " 'bb_w24_status_3_share__sum',\n",
       " 'APARTMENTS_MEDI',\n",
       " 'w180_avg_days_remaining',\n",
       " 'bb_w12_status_4_share__mean',\n",
       " 'bb_w3_status_sum__sum',\n",
       " 'w360_vintage_fraction',\n",
       " 'TOTALAREA_MODE',\n",
       " 'bb_w24_share_unknown__mean',\n",
       " 'w720_max_overdue_amt',\n",
       " 'NONLIVINGAPARTMENTS_MEDI',\n",
       " 'w30_total_annuity',\n",
       " 'ADDR_MISMATCH_CITY_SUM',\n",
       " 'LIVINGAREA_AVG',\n",
       " 'w360_share_overdue_gt90',\n",
       " 'bb_bb_last_month__mean',\n",
       " 'w360_utilization_portfolio',\n",
       " 'bb_w3_months_since_last_status_gt0__sum',\n",
       " 'w180_type_diversity_shannon',\n",
       " 'bb_w12_share_status_gt1__mean',\n",
       " 'LIVINGAREA_MODE',\n",
       " 'bb_w12_status_5_share__max',\n",
       " 'w720_n_closed_loans',\n",
       " 'bb_w12_status_max__sum',\n",
       " 'w180_last_loan_overdue_amt',\n",
       " 'bb_w12_share_status_gt2__sum',\n",
       " 'bb_w24_status_mean__sum',\n",
       " 'EMPLOY_YEARS',\n",
       " 'bb_w12_longest_streak_status_gt0__sum',\n",
       " 'w90_last_loan_type',\n",
       " 'w30_max_overdue_amt',\n",
       " 'w360_expo_growth_rate',\n",
       " 'bb_w3_status_0_share__max',\n",
       " 'bb_w12_status_2_share__sum',\n",
       " 'FLAG_DOCUMENT_17',\n",
       " 'bb_w24_status_1_share__mean',\n",
       " 'bb_w3_status_mean__sum',\n",
       " 'w180_risky_type_share',\n",
       " 'LIVINGAREA_MEDI',\n",
       " 'w30_n_active_loans',\n",
       " 'w90_high_util_card_any',\n",
       " 'ENTRANCES_AVG',\n",
       " 'bb_w6_status_4_share__max',\n",
       " 'w90_share_overdue_gt90',\n",
       " 'bb_w3_status_4_share__mean',\n",
       " 'bb_w3_share_status_gt3__sum',\n",
       " 'bb_w24_share_status_gt4__max',\n",
       " 'bb_w12_share_status_gt2__max',\n",
       " 'w360_n_total_loans',\n",
       " 'bb_w3_months_count__mean',\n",
       " 'w180_prolongation_stress',\n",
       " 'bb_w3_status_mean__max',\n",
       " 'bb_w3_share_status_gt4__sum',\n",
       " 'bb_w3_share_status_gt2__mean',\n",
       " 'FLAG_PHONE',\n",
       " 'bb_w3_status_5_share__max',\n",
       " 'bb_w12_share_status_gt0__mean',\n",
       " 'w90_n_total_loans',\n",
       " 'bb_w24_share_status_gt1__sum',\n",
       " 'w720_num_new',\n",
       " 'w360_avg_overdue_active',\n",
       " 'LIVINGAPARTMENTS_MODE',\n",
       " 'w90_total_exposure',\n",
       " 'bb_bb_last_month__sum',\n",
       " 'bb_w3_share_closed__mean',\n",
       " 'bb_w3_status_0_share__mean',\n",
       " 'bb_w12_status_sum__mean',\n",
       " 'w90_risky_type_share',\n",
       " 'w180_active_ratio',\n",
       " 'HOUR_APPR_PROCESS_START',\n",
       " 'FLAG_DOCUMENT_6',\n",
       " 'w180_annuity_over_total_debt',\n",
       " 'FLAG_DOCUMENT_9',\n",
       " 'w180_utilization_portfolio',\n",
       " 'bb_w3_share_status_gt2__sum',\n",
       " 'FLOORSMIN_MEDI',\n",
       " 'bb_w3_status_3_share__mean',\n",
       " 'DAYS_ID_PUBLISH',\n",
       " 'FLAG_OWN_REALTY',\n",
       " 'FONDKAPREMONT_MODE',\n",
       " 'w720_max_overdue_days',\n",
       " 'LIVE_CITY_NOT_WORK_CITY',\n",
       " 'w30_avg_days_credit',\n",
       " 'bb_w12_share_status_gt0__max',\n",
       " 'REQ_RECENT',\n",
       " 'DOCS_COUNT',\n",
       " 'bb_w3_share_status_gt0__sum',\n",
       " 'BASEMENTAREA_MEDI',\n",
       " 'YEARS_BEGINEXPLUATATION_AVG',\n",
       " 'bb_w24_status_sum__sum',\n",
       " 'w90_max_overdue_amt',\n",
       " 'FLAG_DOCUMENT_11',\n",
       " 'w360_n_closed_loans',\n",
       " 'COMMONAREA_MODE',\n",
       " 'w90_n_active_loans',\n",
       " 'w720_recency_weighted_debt_tau365',\n",
       " 'bb_w6_status_0_share__max',\n",
       " 'bb_w6_share_status_gt3__mean',\n",
       " 'bb_w24_status_mean__max',\n",
       " 'AMT_REQ_CREDIT_BUREAU_MON',\n",
       " 'bb_bb_last_status_code__mean',\n",
       " 'w90_last_loan_debt',\n",
       " 'w90_current_overdue_amt',\n",
       " 'w360_currency_diversity',\n",
       " 'bb_w3_share_status_gt4__max',\n",
       " 'AMT_ANNUITY',\n",
       " 'bb_w24_share_status_gt2__sum',\n",
       " 'w30_chronic_delinquent',\n",
       " 'FLAG_WORK_PHONE',\n",
       " 'bb_w24_months_since_last_status_gt0__sum',\n",
       " 'bb_w3_status_mean__mean',\n",
       " 'bb_w3_status_max__sum',\n",
       " 'w30_utilization_portfolio',\n",
       " 'w360_total_exposure',\n",
       " 'bb_w3_share_status_gt1__mean',\n",
       " 'bb_w3_share_status_gt2__max',\n",
       " 'AMT_REQ_CREDIT_BUREAU_QRT',\n",
       " 'w360_last_update_min_days',\n",
       " 'bb_w3_status_2_share__mean',\n",
       " 'bb_w12_months_count__mean',\n",
       " 'AMT_GOODS_PRICE',\n",
       " 'FLAG_DOCUMENT_4',\n",
       " 'bb_w24_longest_streak_status_gt0__max',\n",
       " 'w90_ever_overdue',\n",
       " 'bb_w3_share_status_gt3__max',\n",
       " 'bb_w6_status_5_share__max',\n",
       " 'FLOORSMAX_AVG',\n",
       " 'FLAG_DOCUMENT_5',\n",
       " 'AGE_YEARS',\n",
       " 'bb_w12_share_status_gt4__max',\n",
       " 'WEEKDAY_APPR_PROCESS_START',\n",
       " 'w30_expo_growth_rate',\n",
       " 'w360_prolongation_stress',\n",
       " 'OBS_30_CNT_SOCIAL_CIRCLE',\n",
       " 'w180_chronic_delinquent',\n",
       " 'BASEMENTAREA_MODE',\n",
       " 'bb_w6_share_status_gt2__max',\n",
       " 'w180_n_total_loans',\n",
       " 'bb_w6_share_status_gt0__mean',\n",
       " 'YEARS_BUILD_MEDI',\n",
       " 'bb_w6_share_status_gt1__mean',\n",
       " 'FLAG_DOCUMENT_19',\n",
       " 'bb_w6_months_since_last_status_gt0__mean',\n",
       " 'bb_w6_share_status_gt0__sum',\n",
       " 'w360_chronic_delinquent',\n",
       " 'REGION_RATING_CLIENT_W_CITY',\n",
       " 'bb_w12_months_since_last_status_gt0__sum',\n",
       " 'LIVINGAPARTMENTS_MEDI',\n",
       " 'bb_w24_status_4_share__max',\n",
       " 'bb_w12_status_3_share__sum',\n",
       " 'FLAG_MOBIL',\n",
       " 'APARTMENTS_AVG',\n",
       " 'w90_last_update_min_days',\n",
       " 'bb_w12_months_count__sum',\n",
       " 'bb_w12_share_status_gt3__sum',\n",
       " 'w90_currency_diversity',\n",
       " 'w30_current_overdue_amt',\n",
       " 'w180_expo_growth_abs',\n",
       " 'w720_prolongation_stress',\n",
       " 'w30_laddering_share',\n",
       " 'bb_w12_months_count__max',\n",
       " 'ENTRANCES_MEDI',\n",
       " 'bb_w6_share_status_gt4__mean',\n",
       " 'w360_total_annuity',\n",
       " 'bb_w3_share_status_gt1__max',\n",
       " 'bb_w3_share_unknown__mean',\n",
       " 'FLAG_DOCUMENT_18',\n",
       " 'w360_recency_weighted_debt_tau365',\n",
       " 'NONLIVINGAPARTMENTS_AVG',\n",
       " 'w720_currency_diversity',\n",
       " 'w720_total_debt',\n",
       " 'NONLIVINGAREA_MODE',\n",
       " 'w90_expo_concentration',\n",
       " 'w180_max_overdue_amt',\n",
       " 'w180_n_closed_loans',\n",
       " 'w720_last_loan_overdue_amt',\n",
       " 'bb_w6_months_count__mean',\n",
       " 'w720_expo_concentration',\n",
       " 'w720_avg_days_remaining',\n",
       " 'w30_max_overdue_days',\n",
       " 'bb_w24_longest_streak_status_gt0__mean',\n",
       " 'w30_ever_overdue',\n",
       " 'ASSET_FLAGS_SUM',\n",
       " 'w720_total_exposure',\n",
       " 'w360_total_debt',\n",
       " 'bb_w12_status_0_share__mean',\n",
       " 'bb_w3_status_2_share__max',\n",
       " 'ANNUITY_TO_INCOME',\n",
       " 'w180_total_debt',\n",
       " 'bb_w12_share_closed__max',\n",
       " 'FLAG_DOCUMENT_15',\n",
       " 'FLOORSMAX_MODE',\n",
       " 'bb_w6_status_3_share__sum',\n",
       " 'bb_w24_status_max__sum',\n",
       " 'bb_w6_status_max__mean',\n",
       " 'w90_type_diversity_shannon',\n",
       " 'bb_w24_status_max__max',\n",
       " 'DEF_60_CNT_SOCIAL_CIRCLE',\n",
       " 'bb_w24_months_count__mean',\n",
       " 'bb_w24_share_status_gt3__max']"
      ]
     },
     "execution_count": 89,
     "metadata": {},
     "output_type": "execute_result"
    }
   ],
   "source": [
    "base_model.used_features"
   ]
  },
  {
   "cell_type": "code",
   "execution_count": 98,
   "id": "66212786",
   "metadata": {},
   "outputs": [
    {
     "data": {
      "text/html": [
       "<div>\n",
       "<style scoped>\n",
       "    .dataframe tbody tr th:only-of-type {\n",
       "        vertical-align: middle;\n",
       "    }\n",
       "\n",
       "    .dataframe tbody tr th {\n",
       "        vertical-align: top;\n",
       "    }\n",
       "\n",
       "    .dataframe thead th {\n",
       "        text-align: right;\n",
       "    }\n",
       "</style>\n",
       "<table border=\"1\" class=\"dataframe\">\n",
       "  <thead>\n",
       "    <tr style=\"text-align: right;\">\n",
       "      <th></th>\n",
       "      <th>bb_w3_share_status_gt0__mean</th>\n",
       "      <th>bb_w3_status_5_share__mean</th>\n",
       "      <th>bb_w12_status_max__mean</th>\n",
       "      <th>bb_w24_status_mean__mean</th>\n",
       "      <th>bb_w6_status_0_share__sum</th>\n",
       "      <th>bb_w6_status_max__max</th>\n",
       "      <th>bb_w3_status_4_share__sum</th>\n",
       "      <th>bb_w12_longest_streak_status_gt0__max</th>\n",
       "      <th>w90_annuity_over_total_debt</th>\n",
       "      <th>bb_w24_share_unknown__sum</th>\n",
       "      <th>...</th>\n",
       "      <th>FLAG_DOCUMENT_15</th>\n",
       "      <th>FLOORSMAX_MODE</th>\n",
       "      <th>bb_w6_status_3_share__sum</th>\n",
       "      <th>bb_w24_status_max__sum</th>\n",
       "      <th>bb_w6_status_max__mean</th>\n",
       "      <th>w90_type_diversity_shannon</th>\n",
       "      <th>bb_w24_status_max__max</th>\n",
       "      <th>DEF_60_CNT_SOCIAL_CIRCLE</th>\n",
       "      <th>bb_w24_months_count__mean</th>\n",
       "      <th>bb_w24_share_status_gt3__max</th>\n",
       "    </tr>\n",
       "  </thead>\n",
       "  <tbody>\n",
       "  </tbody>\n",
       "</table>\n",
       "<p>0 rows × 576 columns</p>\n",
       "</div>"
      ],
      "text/plain": [
       "Empty DataFrame\n",
       "Columns: [bb_w3_share_status_gt0__mean, bb_w3_status_5_share__mean, bb_w12_status_max__mean, bb_w24_status_mean__mean, bb_w6_status_0_share__sum, bb_w6_status_max__max, bb_w3_status_4_share__sum, bb_w12_longest_streak_status_gt0__max, w90_annuity_over_total_debt, bb_w24_share_unknown__sum, bb_w12_status_1_share__mean, w30_high_util_card_any, w180_debt_concentration_active, w720_share_overdue_gt90, bb_w6_status_4_share__mean, bb_w12_status_mean__mean, ENTRANCES_MODE, NAME_INCOME_TYPE, w720_expo_growth_abs, w360_last_loan_debt, ID_PUBLISH_YEARS_AGO, w180_expo_concentration, bb_w24_share_status_gt4__mean, w90_avg_days_remaining, w90_n_closed_loans, w720_last_loan_debt, bb_w24_status_0_share__sum, bb_w6_status_5_share__sum, bb_w24_longest_streak_status_gt0__sum, bb_w6_months_since_last_status_gt0__sum, bb_w24_share_status_gt4__sum, w360_active_ratio, FLAG_DOCUMENT_2, w90_short_term_risk, bb_w12_share_status_gt3__mean, bb_w24_share_status_gt0__sum, NAME_TYPE_SUITE, w360_last_loan_overdue_amt, PHONE_CHANGE_YEARS_AGO, w90_num_new, w30_annuity_over_total_debt, bb_w6_status_mean__mean, w90_avg_closed_duration, bb_w12_share_status_gt2__mean, bb_w24_status_sum__mean, bb_w24_status_1_share__max, w30_currency_diversity, bb_bb_last_status_is_closed__max, bb_w24_status_5_share__max, bb_w24_status_2_share__max, bb_w12_status_max__max, REQ_TOTAL, w720_short_term_risk, REGION_RATING_CLIENT, w180_last_loan_debt, bb_bb_last_month__max, bb_w6_share_status_gt3__max, w360_debt_concentration_active, w180_n_active_loans, bb_bb_last_status_is_closed__mean, bb_w24_share_unknown__max, FLOORSMAX_MEDI, bb_w3_status_0_share__sum, NAME_CONTRACT_TYPE, bb_w12_status_5_share__sum, NAME_EDUCATION_TYPE, bb_w6_share_closed__max, bb_w6_status_2_share__max, DAYS_LAST_PHONE_CHANGE, bb_w6_status_1_share__max, w720_active_ratio, bb_w6_status_0_share__mean, bb_w6_status_1_share__sum, bb_w12_share_status_gt0__sum, w360_portfolio_churn_clos2y_over_active, REGION_POPULATION_RELATIVE, bb_w6_status_2_share__sum, w30_type_diversity_shannon, bb_w24_share_status_gt1__max, REQ_YEAR_ONLY, w30_total_exposure, w720_last_loan_type, bb_w3_status_sum__mean, NONLIVINGAPARTMENTS_MODE, AMT_INCOME_TOTAL, w90_prolongation_stress, w30_last_loan_overdue_amt, bb_w12_status_0_share__sum, bb_w24_status_max__mean, bb_w12_share_closed__mean, w30_recency_weighted_debt_tau365, w360_max_overdue_days, w720_avg_overdue_active, bb_w12_status_4_share__sum, bb_w3_share_status_gt1__sum, bb_w6_status_5_share__mean, w360_avg_days_credit, w360_avg_days_remaining, YEARS_BUILD_AVG, bb_w3_share_unknown__max, ...]\n",
       "Index: []\n",
       "\n",
       "[0 rows x 576 columns]"
      ]
     },
     "execution_count": 98,
     "metadata": {},
     "output_type": "execute_result"
    }
   ],
   "source": [
    "X_test[X_test[base_model.cat_features].isnull().any(axis=1)]"
   ]
  },
  {
   "cell_type": "code",
   "execution_count": 90,
   "id": "f97378ff",
   "metadata": {},
   "outputs": [
    {
     "data": {
      "text/plain": [
       "['OCCUPATION_TYPE',\n",
       " 'w90_last_loan_type',\n",
       " 'NAME_HOUSING_TYPE',\n",
       " 'w360_last_loan_type',\n",
       " 'NAME_FAMILY_STATUS',\n",
       " 'NAME_EDUCATION_TYPE',\n",
       " 'WEEKDAY_APPR_PROCESS_START',\n",
       " 'w30_last_loan_type',\n",
       " 'HOUSETYPE_MODE',\n",
       " 'w180_last_loan_type',\n",
       " 'EMERGENCYSTATE_MODE',\n",
       " 'FONDKAPREMONT_MODE',\n",
       " 'NAME_TYPE_SUITE',\n",
       " 'ORGANIZATION_TYPE',\n",
       " 'FLAG_OWN_CAR',\n",
       " 'WALLSMATERIAL_MODE',\n",
       " 'FLAG_OWN_REALTY',\n",
       " 'NAME_INCOME_TYPE',\n",
       " 'NAME_CONTRACT_TYPE',\n",
       " 'w720_last_loan_type']"
      ]
     },
     "execution_count": 90,
     "metadata": {},
     "output_type": "execute_result"
    }
   ],
   "source": [
    "base_model.cat_features"
   ]
  },
  {
   "cell_type": "code",
   "execution_count": 113,
   "id": "42e6d34d",
   "metadata": {},
   "outputs": [
    {
     "data": {
      "image/png": "[encoded data removed]",
      "text/plain": [
       "<Figure size 2000x1000 with 2 Axes>"
      ]
     },
     "metadata": {},
     "output_type": "display_data"
    }
   ],
   "source": [
    "base_model.plot_shap_summary_plot(X_test, max_display=30, plot_size=(20,10))"
   ]
  },
  {
   "cell_type": "markdown",
   "id": "f8c7ee86",
   "metadata": {},
   "source": [
    "#### Experiment with LGBM"
   ]
  },
  {
   "cell_type": "code",
   "execution_count": 156,
   "id": "4326df70",
   "metadata": {},
   "outputs": [],
   "source": [
    "from model_class_lgbm import LightGBMXT_BAG"
   ]
  },
  {
   "cell_type": "code",
   "execution_count": 120,
   "id": "38797a7a",
   "metadata": {},
   "outputs": [],
   "source": [
    "from model_utils import *"
   ]
  },
  {
   "cell_type": "code",
   "execution_count": 143,
   "id": "1d2bbbd4",
   "metadata": {},
   "outputs": [
    {
     "name": "stderr",
     "output_type": "stream",
     "text": [
      "[I 2025-09-21 13:40:58,119] A new study created in memory with name: no-name-b9d3b2ee-c22a-41e8-92b3-d81a079f7057\n"
     ]
    }
   ],
   "source": [
    "# create optuna study for lgbm\n",
    "study_lgbm = optuna.create_study(direction='maximize')"
   ]
  },
  {
   "cell_type": "code",
   "execution_count": 146,
   "id": "bc0a4c23",
   "metadata": {},
   "outputs": [],
   "source": [
    "def objective_lgbm(trial):\n",
    "    param = {\n",
    "        # Core tree parameters\n",
    "        'num_leaves': trial.suggest_int('num_leaves', 30, 200),  # Expanded range\n",
    "        'max_depth': trial.suggest_int('max_depth', 3, 4),     # Add depth control\n",
    "        'learning_rate': trial.suggest_float('learning_rate', 0.005, 0.15, log=True),  # Wider range\n",
    "        \n",
    "        # Regularization\n",
    "        'min_child_samples': trial.suggest_int('min_child_samples', 5, 100),  # Wider range\n",
    "        'min_child_weight': trial.suggest_float('min_child_weight', 1e-3, 10, log=True),\n",
    "        'reg_alpha': trial.suggest_float('reg_alpha', 1e-8, 10, log=True),     # L1 regularization\n",
    "        'reg_lambda': trial.suggest_float('reg_lambda', 1e-8, 10, log=True),   # L2 regularization\n",
    "        \n",
    "        # Sampling\n",
    "        'feature_fraction': trial.suggest_float('feature_fraction', 0.5, 0.8),\n",
    "        'bagging_fraction': trial.suggest_float('bagging_fraction', 0.5, 1.0),\n",
    "        'bagging_freq': trial.suggest_int('bagging_freq', 1, 10),\n",
    "        \n",
    "        # Advanced parameters\n",
    "        #'min_gain_to_split': trial.suggest_float('min_gain_to_split', 0, 5),\n",
    "        'extra_trees': True,\n",
    "        #'path_smooth': trial.suggest_float('path_smooth', 0, 100),\n",
    "        \n",
    "        # Fixed parameters\n",
    "        'objective': 'binary',\n",
    "        'metric': 'auc',\n",
    "        'boosting_type': 'gbdt',\n",
    "        'num_iterations': 2000,\n",
    "        'verbosity': -1,\n",
    "        'device_type': 'gpu',\n",
    "        'gpu_platform_id': 0,      # Usually 0 for NVIDIA GPUs\n",
    "        'gpu_device_id': 0, \n",
    "    }\n",
    "    \n",
    "    model = LightGBMXT_BAG(\n",
    "        num_bag_folds=5,\n",
    "        num_bag_repeats=1,\n",
    "        random_state=1,\n",
    "        cat_features=list_cat_features\n",
    "    )\n",
    "    model.params = param\n",
    "    model.fit(X_train, y_train)\n",
    "    \n",
    "    train_pred = model.predict_proba(X_train)[:,1]\n",
    "    val_pred = model.predict_proba(X_test)[:,1]\n",
    "    train_metric = f_roc_auc(y_train, train_pred)\n",
    "    val_metric = f_roc_auc(y_test, val_pred)\n",
    "    \n",
    "    return val_metric - abs(val_metric - train_metric)"
   ]
  },
  {
   "cell_type": "code",
   "execution_count": 147,
   "id": "b6138590",
   "metadata": {},
   "outputs": [
    {
     "name": "stderr",
     "output_type": "stream",
     "text": [
      "Found `num_iterations` in params. Will use it instead of argument\n"
     ]
    },
    {
     "name": "stdout",
     "output_type": "stream",
     "text": [
      "Training until validation scores don't improve for 20 rounds\n",
      "Early stopping, best iteration is:\n",
      "[1897]\tvalid_0's auc: 0.72722\n"
     ]
    },
    {
     "name": "stderr",
     "output_type": "stream",
     "text": [
      "Found `num_iterations` in params. Will use it instead of argument\n"
     ]
    },
    {
     "name": "stdout",
     "output_type": "stream",
     "text": [
      "Training until validation scores don't improve for 20 rounds\n",
      "Early stopping, best iteration is:\n",
      "[1625]\tvalid_0's auc: 0.726285\n"
     ]
    },
    {
     "name": "stderr",
     "output_type": "stream",
     "text": [
      "Found `num_iterations` in params. Will use it instead of argument\n"
     ]
    },
    {
     "name": "stdout",
     "output_type": "stream",
     "text": [
      "Training until validation scores don't improve for 20 rounds\n",
      "Early stopping, best iteration is:\n",
      "[1753]\tvalid_0's auc: 0.728863\n"
     ]
    },
    {
     "name": "stderr",
     "output_type": "stream",
     "text": [
      "Found `num_iterations` in params. Will use it instead of argument\n"
     ]
    },
    {
     "name": "stdout",
     "output_type": "stream",
     "text": [
      "Training until validation scores don't improve for 20 rounds\n",
      "Did not meet early stopping. Best iteration is:\n",
      "[2000]\tvalid_0's auc: 0.724669\n"
     ]
    },
    {
     "name": "stderr",
     "output_type": "stream",
     "text": [
      "Found `num_iterations` in params. Will use it instead of argument\n"
     ]
    },
    {
     "name": "stdout",
     "output_type": "stream",
     "text": [
      "Training until validation scores don't improve for 20 rounds\n",
      "Early stopping, best iteration is:\n",
      "[1869]\tvalid_0's auc: 0.727189\n"
     ]
    },
    {
     "name": "stderr",
     "output_type": "stream",
     "text": [
      "[I 2025-09-21 14:01:41,619] Trial 3 finished with value: 0.7086098707517454 and parameters: {'num_leaves': 134, 'max_depth': 4, 'learning_rate': 0.010455251676775138, 'min_child_samples': 30, 'min_child_weight': 0.050406032408834, 'reg_alpha': 1.436783686518109e-07, 'reg_lambda': 0.021964586953903648, 'feature_fraction': 0.7689461932446173, 'bagging_fraction': 0.7191668303056471, 'bagging_freq': 7}. Best is trial 0 with value: 0.7210944543815356.\n",
      "Found `num_iterations` in params. Will use it instead of argument\n"
     ]
    },
    {
     "name": "stdout",
     "output_type": "stream",
     "text": [
      "Training until validation scores don't improve for 20 rounds\n",
      "Early stopping, best iteration is:\n",
      "[1176]\tvalid_0's auc: 0.72608\n"
     ]
    },
    {
     "name": "stderr",
     "output_type": "stream",
     "text": [
      "Found `num_iterations` in params. Will use it instead of argument\n"
     ]
    },
    {
     "name": "stdout",
     "output_type": "stream",
     "text": [
      "Training until validation scores don't improve for 20 rounds\n",
      "Early stopping, best iteration is:\n",
      "[906]\tvalid_0's auc: 0.72511\n"
     ]
    },
    {
     "name": "stderr",
     "output_type": "stream",
     "text": [
      "Found `num_iterations` in params. Will use it instead of argument\n"
     ]
    },
    {
     "name": "stdout",
     "output_type": "stream",
     "text": [
      "Training until validation scores don't improve for 20 rounds\n",
      "Early stopping, best iteration is:\n",
      "[734]\tvalid_0's auc: 0.72549\n"
     ]
    },
    {
     "name": "stderr",
     "output_type": "stream",
     "text": [
      "Found `num_iterations` in params. Will use it instead of argument\n"
     ]
    },
    {
     "name": "stdout",
     "output_type": "stream",
     "text": [
      "Training until validation scores don't improve for 20 rounds\n",
      "Early stopping, best iteration is:\n",
      "[788]\tvalid_0's auc: 0.722\n"
     ]
    },
    {
     "name": "stderr",
     "output_type": "stream",
     "text": [
      "Found `num_iterations` in params. Will use it instead of argument\n"
     ]
    },
    {
     "name": "stdout",
     "output_type": "stream",
     "text": [
      "Training until validation scores don't improve for 20 rounds\n",
      "Early stopping, best iteration is:\n",
      "[786]\tvalid_0's auc: 0.7248\n"
     ]
    },
    {
     "name": "stderr",
     "output_type": "stream",
     "text": [
      "[I 2025-09-21 14:06:36,970] Trial 4 finished with value: 0.722429218859663 and parameters: {'num_leaves': 77, 'max_depth': 3, 'learning_rate': 0.02820123102816037, 'min_child_samples': 97, 'min_child_weight': 0.7469303815960366, 'reg_alpha': 5.548136188954073, 'reg_lambda': 3.6464685695791105e-06, 'feature_fraction': 0.5924973797629447, 'bagging_fraction': 0.7265007007172146, 'bagging_freq': 10}. Best is trial 4 with value: 0.722429218859663.\n",
      "Found `num_iterations` in params. Will use it instead of argument\n"
     ]
    },
    {
     "name": "stdout",
     "output_type": "stream",
     "text": [
      "Training until validation scores don't improve for 20 rounds\n",
      "Did not meet early stopping. Best iteration is:\n",
      "[1998]\tvalid_0's auc: 0.723311\n"
     ]
    },
    {
     "name": "stderr",
     "output_type": "stream",
     "text": [
      "Found `num_iterations` in params. Will use it instead of argument\n"
     ]
    },
    {
     "name": "stdout",
     "output_type": "stream",
     "text": [
      "Training until validation scores don't improve for 20 rounds\n",
      "Did not meet early stopping. Best iteration is:\n",
      "[2000]\tvalid_0's auc: 0.723922\n"
     ]
    },
    {
     "name": "stderr",
     "output_type": "stream",
     "text": [
      "Found `num_iterations` in params. Will use it instead of argument\n"
     ]
    },
    {
     "name": "stdout",
     "output_type": "stream",
     "text": [
      "Training until validation scores don't improve for 20 rounds\n",
      "Early stopping, best iteration is:\n",
      "[1795]\tvalid_0's auc: 0.725478\n"
     ]
    },
    {
     "name": "stderr",
     "output_type": "stream",
     "text": [
      "Found `num_iterations` in params. Will use it instead of argument\n"
     ]
    },
    {
     "name": "stdout",
     "output_type": "stream",
     "text": [
      "Training until validation scores don't improve for 20 rounds\n",
      "Did not meet early stopping. Best iteration is:\n",
      "[2000]\tvalid_0's auc: 0.721268\n"
     ]
    },
    {
     "name": "stderr",
     "output_type": "stream",
     "text": [
      "Found `num_iterations` in params. Will use it instead of argument\n"
     ]
    },
    {
     "name": "stdout",
     "output_type": "stream",
     "text": [
      "Training until validation scores don't improve for 20 rounds\n",
      "Did not meet early stopping. Best iteration is:\n",
      "[1998]\tvalid_0's auc: 0.724517\n"
     ]
    },
    {
     "name": "stderr",
     "output_type": "stream",
     "text": [
      "[I 2025-09-21 14:11:50,322] Trial 5 finished with value: 0.722155085188593 and parameters: {'num_leaves': 139, 'max_depth': 3, 'learning_rate': 0.009014711644328256, 'min_child_samples': 52, 'min_child_weight': 0.036107915832676835, 'reg_alpha': 0.4129990072291044, 'reg_lambda': 0.004069194710686331, 'feature_fraction': 0.7173987475568768, 'bagging_fraction': 0.7463788194677734, 'bagging_freq': 5}. Best is trial 4 with value: 0.722429218859663.\n",
      "Found `num_iterations` in params. Will use it instead of argument\n"
     ]
    },
    {
     "name": "stdout",
     "output_type": "stream",
     "text": [
      "Training until validation scores don't improve for 20 rounds\n",
      "Early stopping, best iteration is:\n",
      "[1021]\tvalid_0's auc: 0.728073\n"
     ]
    },
    {
     "name": "stderr",
     "output_type": "stream",
     "text": [
      "Found `num_iterations` in params. Will use it instead of argument\n"
     ]
    },
    {
     "name": "stdout",
     "output_type": "stream",
     "text": [
      "Training until validation scores don't improve for 20 rounds\n",
      "Early stopping, best iteration is:\n",
      "[965]\tvalid_0's auc: 0.727869\n"
     ]
    },
    {
     "name": "stderr",
     "output_type": "stream",
     "text": [
      "Found `num_iterations` in params. Will use it instead of argument\n"
     ]
    },
    {
     "name": "stdout",
     "output_type": "stream",
     "text": [
      "Training until validation scores don't improve for 20 rounds\n",
      "Early stopping, best iteration is:\n",
      "[704]\tvalid_0's auc: 0.728221\n"
     ]
    },
    {
     "name": "stderr",
     "output_type": "stream",
     "text": [
      "Found `num_iterations` in params. Will use it instead of argument\n"
     ]
    },
    {
     "name": "stdout",
     "output_type": "stream",
     "text": [
      "Training until validation scores don't improve for 20 rounds\n",
      "Early stopping, best iteration is:\n",
      "[743]\tvalid_0's auc: 0.724355\n"
     ]
    },
    {
     "name": "stderr",
     "output_type": "stream",
     "text": [
      "Found `num_iterations` in params. Will use it instead of argument\n"
     ]
    },
    {
     "name": "stdout",
     "output_type": "stream",
     "text": [
      "Training until validation scores don't improve for 20 rounds\n",
      "Early stopping, best iteration is:\n",
      "[1234]\tvalid_0's auc: 0.730235\n"
     ]
    },
    {
     "name": "stderr",
     "output_type": "stream",
     "text": [
      "[I 2025-09-21 14:17:20,002] Trial 6 finished with value: 0.7056397654625893 and parameters: {'num_leaves': 196, 'max_depth': 4, 'learning_rate': 0.02737867718674155, 'min_child_samples': 24, 'min_child_weight': 0.22321533421385262, 'reg_alpha': 0.0028711632128749862, 'reg_lambda': 2.6181801330077207e-07, 'feature_fraction': 0.5855720808375523, 'bagging_fraction': 0.9252401607628138, 'bagging_freq': 10}. Best is trial 4 with value: 0.722429218859663.\n",
      "Found `num_iterations` in params. Will use it instead of argument\n"
     ]
    },
    {
     "name": "stdout",
     "output_type": "stream",
     "text": [
      "Training until validation scores don't improve for 20 rounds\n",
      "Early stopping, best iteration is:\n",
      "[699]\tvalid_0's auc: 0.726571\n"
     ]
    },
    {
     "name": "stderr",
     "output_type": "stream",
     "text": [
      "Found `num_iterations` in params. Will use it instead of argument\n"
     ]
    },
    {
     "name": "stdout",
     "output_type": "stream",
     "text": [
      "Training until validation scores don't improve for 20 rounds\n",
      "Early stopping, best iteration is:\n",
      "[529]\tvalid_0's auc: 0.725844\n"
     ]
    },
    {
     "name": "stderr",
     "output_type": "stream",
     "text": [
      "Found `num_iterations` in params. Will use it instead of argument\n"
     ]
    },
    {
     "name": "stdout",
     "output_type": "stream",
     "text": [
      "Training until validation scores don't improve for 20 rounds\n",
      "Early stopping, best iteration is:\n",
      "[407]\tvalid_0's auc: 0.725079\n"
     ]
    },
    {
     "name": "stderr",
     "output_type": "stream",
     "text": [
      "Found `num_iterations` in params. Will use it instead of argument\n"
     ]
    },
    {
     "name": "stdout",
     "output_type": "stream",
     "text": [
      "Training until validation scores don't improve for 20 rounds\n",
      "Early stopping, best iteration is:\n",
      "[458]\tvalid_0's auc: 0.722521\n"
     ]
    },
    {
     "name": "stderr",
     "output_type": "stream",
     "text": [
      "Found `num_iterations` in params. Will use it instead of argument\n"
     ]
    },
    {
     "name": "stdout",
     "output_type": "stream",
     "text": [
      "Training until validation scores don't improve for 20 rounds\n",
      "Early stopping, best iteration is:\n",
      "[653]\tvalid_0's auc: 0.726771\n"
     ]
    },
    {
     "name": "stderr",
     "output_type": "stream",
     "text": [
      "[I 2025-09-21 14:21:14,673] Trial 7 finished with value: 0.7197629092039377 and parameters: {'num_leaves': 140, 'max_depth': 3, 'learning_rate': 0.05416118899406094, 'min_child_samples': 88, 'min_child_weight': 0.5337968763799054, 'reg_alpha': 0.00010690225285766647, 'reg_lambda': 0.0027694117199828713, 'feature_fraction': 0.6280762131391002, 'bagging_fraction': 0.7765287079894819, 'bagging_freq': 7}. Best is trial 4 with value: 0.722429218859663.\n",
      "Found `num_iterations` in params. Will use it instead of argument\n"
     ]
    },
    {
     "name": "stdout",
     "output_type": "stream",
     "text": [
      "Training until validation scores don't improve for 20 rounds\n",
      "Early stopping, best iteration is:\n",
      "[262]\tvalid_0's auc: 0.726355\n"
     ]
    },
    {
     "name": "stderr",
     "output_type": "stream",
     "text": [
      "Found `num_iterations` in params. Will use it instead of argument\n"
     ]
    },
    {
     "name": "stdout",
     "output_type": "stream",
     "text": [
      "Training until validation scores don't improve for 20 rounds\n",
      "Early stopping, best iteration is:\n",
      "[282]\tvalid_0's auc: 0.725865\n"
     ]
    },
    {
     "name": "stderr",
     "output_type": "stream",
     "text": [
      "Found `num_iterations` in params. Will use it instead of argument\n"
     ]
    },
    {
     "name": "stdout",
     "output_type": "stream",
     "text": [
      "Training until validation scores don't improve for 20 rounds\n",
      "Early stopping, best iteration is:\n",
      "[217]\tvalid_0's auc: 0.727601\n"
     ]
    },
    {
     "name": "stderr",
     "output_type": "stream",
     "text": [
      "Found `num_iterations` in params. Will use it instead of argument\n"
     ]
    },
    {
     "name": "stdout",
     "output_type": "stream",
     "text": [
      "Training until validation scores don't improve for 20 rounds\n",
      "Early stopping, best iteration is:\n",
      "[167]\tvalid_0's auc: 0.721906\n"
     ]
    },
    {
     "name": "stderr",
     "output_type": "stream",
     "text": [
      "Found `num_iterations` in params. Will use it instead of argument\n"
     ]
    },
    {
     "name": "stdout",
     "output_type": "stream",
     "text": [
      "Training until validation scores don't improve for 20 rounds\n",
      "Early stopping, best iteration is:\n",
      "[301]\tvalid_0's auc: 0.72514\n"
     ]
    },
    {
     "name": "stderr",
     "output_type": "stream",
     "text": [
      "[I 2025-09-21 14:24:34,688] Trial 8 finished with value: 0.7011371793986335 and parameters: {'num_leaves': 94, 'max_depth': 4, 'learning_rate': 0.11949611662252249, 'min_child_samples': 81, 'min_child_weight': 0.008524053203836816, 'reg_alpha': 0.0017773654015451378, 'reg_lambda': 9.347660059929466e-05, 'feature_fraction': 0.7540340237826991, 'bagging_fraction': 0.9112465792597778, 'bagging_freq': 2}. Best is trial 4 with value: 0.722429218859663.\n",
      "Found `num_iterations` in params. Will use it instead of argument\n"
     ]
    },
    {
     "name": "stdout",
     "output_type": "stream",
     "text": [
      "Training until validation scores don't improve for 20 rounds\n",
      "Did not meet early stopping. Best iteration is:\n",
      "[2000]\tvalid_0's auc: 0.720544\n"
     ]
    },
    {
     "name": "stderr",
     "output_type": "stream",
     "text": [
      "Found `num_iterations` in params. Will use it instead of argument\n"
     ]
    },
    {
     "name": "stdout",
     "output_type": "stream",
     "text": [
      "Training until validation scores don't improve for 20 rounds\n",
      "Did not meet early stopping. Best iteration is:\n",
      "[2000]\tvalid_0's auc: 0.720709\n"
     ]
    },
    {
     "name": "stderr",
     "output_type": "stream",
     "text": [
      "Found `num_iterations` in params. Will use it instead of argument\n"
     ]
    },
    {
     "name": "stdout",
     "output_type": "stream",
     "text": [
      "Training until validation scores don't improve for 20 rounds\n",
      "Did not meet early stopping. Best iteration is:\n",
      "[2000]\tvalid_0's auc: 0.723165\n"
     ]
    },
    {
     "name": "stderr",
     "output_type": "stream",
     "text": [
      "Found `num_iterations` in params. Will use it instead of argument\n"
     ]
    },
    {
     "name": "stdout",
     "output_type": "stream",
     "text": [
      "Training until validation scores don't improve for 20 rounds\n",
      "Did not meet early stopping. Best iteration is:\n",
      "[2000]\tvalid_0's auc: 0.717336\n"
     ]
    },
    {
     "name": "stderr",
     "output_type": "stream",
     "text": [
      "Found `num_iterations` in params. Will use it instead of argument\n"
     ]
    },
    {
     "name": "stdout",
     "output_type": "stream",
     "text": [
      "Training until validation scores don't improve for 20 rounds\n",
      "Did not meet early stopping. Best iteration is:\n",
      "[2000]\tvalid_0's auc: 0.720519\n"
     ]
    },
    {
     "name": "stderr",
     "output_type": "stream",
     "text": [
      "[I 2025-09-21 14:33:02,794] Trial 9 finished with value: 0.7229377584391937 and parameters: {'num_leaves': 106, 'max_depth': 3, 'learning_rate': 0.006571444585856521, 'min_child_samples': 94, 'min_child_weight': 0.09510751879466871, 'reg_alpha': 0.026740394194364244, 'reg_lambda': 1.6046831034781925, 'feature_fraction': 0.5295541713730749, 'bagging_fraction': 0.5497247958390548, 'bagging_freq': 1}. Best is trial 9 with value: 0.7229377584391937.\n",
      "Found `num_iterations` in params. Will use it instead of argument\n"
     ]
    },
    {
     "name": "stdout",
     "output_type": "stream",
     "text": [
      "Training until validation scores don't improve for 20 rounds\n",
      "Early stopping, best iteration is:\n",
      "[350]\tvalid_0's auc: 0.723969\n"
     ]
    },
    {
     "name": "stderr",
     "output_type": "stream",
     "text": [
      "Found `num_iterations` in params. Will use it instead of argument\n"
     ]
    },
    {
     "name": "stdout",
     "output_type": "stream",
     "text": [
      "Training until validation scores don't improve for 20 rounds\n",
      "Early stopping, best iteration is:\n",
      "[508]\tvalid_0's auc: 0.725706\n"
     ]
    },
    {
     "name": "stderr",
     "output_type": "stream",
     "text": [
      "Found `num_iterations` in params. Will use it instead of argument\n"
     ]
    },
    {
     "name": "stdout",
     "output_type": "stream",
     "text": [
      "Training until validation scores don't improve for 20 rounds\n",
      "Early stopping, best iteration is:\n",
      "[417]\tvalid_0's auc: 0.726627\n"
     ]
    },
    {
     "name": "stderr",
     "output_type": "stream",
     "text": [
      "Found `num_iterations` in params. Will use it instead of argument\n"
     ]
    },
    {
     "name": "stdout",
     "output_type": "stream",
     "text": [
      "Training until validation scores don't improve for 20 rounds\n",
      "Early stopping, best iteration is:\n",
      "[362]\tvalid_0's auc: 0.721505\n"
     ]
    },
    {
     "name": "stderr",
     "output_type": "stream",
     "text": [
      "Found `num_iterations` in params. Will use it instead of argument\n"
     ]
    },
    {
     "name": "stdout",
     "output_type": "stream",
     "text": [
      "Training until validation scores don't improve for 20 rounds\n",
      "Early stopping, best iteration is:\n",
      "[420]\tvalid_0's auc: 0.724303\n"
     ]
    },
    {
     "name": "stderr",
     "output_type": "stream",
     "text": [
      "[I 2025-09-21 14:36:22,134] Trial 10 finished with value: 0.7201053941632393 and parameters: {'num_leaves': 66, 'max_depth': 3, 'learning_rate': 0.06280624187521101, 'min_child_samples': 43, 'min_child_weight': 0.33780875938036803, 'reg_alpha': 0.07143141527265423, 'reg_lambda': 1.8965979051441115e-07, 'feature_fraction': 0.7232332809733069, 'bagging_fraction': 0.6589590792327509, 'bagging_freq': 7}. Best is trial 9 with value: 0.7229377584391937.\n",
      "Found `num_iterations` in params. Will use it instead of argument\n"
     ]
    },
    {
     "name": "stdout",
     "output_type": "stream",
     "text": [
      "Training until validation scores don't improve for 20 rounds\n",
      "Early stopping, best iteration is:\n",
      "[28]\tvalid_0's auc: 0.676653\n"
     ]
    },
    {
     "name": "stderr",
     "output_type": "stream",
     "text": [
      "Found `num_iterations` in params. Will use it instead of argument\n"
     ]
    },
    {
     "name": "stdout",
     "output_type": "stream",
     "text": [
      "Training until validation scores don't improve for 20 rounds\n",
      "Did not meet early stopping. Best iteration is:\n",
      "[2000]\tvalid_0's auc: 0.719458\n"
     ]
    },
    {
     "name": "stderr",
     "output_type": "stream",
     "text": [
      "Found `num_iterations` in params. Will use it instead of argument\n"
     ]
    },
    {
     "name": "stdout",
     "output_type": "stream",
     "text": [
      "Training until validation scores don't improve for 20 rounds\n",
      "Early stopping, best iteration is:\n",
      "[43]\tvalid_0's auc: 0.680512\n"
     ]
    },
    {
     "name": "stderr",
     "output_type": "stream",
     "text": [
      "Found `num_iterations` in params. Will use it instead of argument\n"
     ]
    },
    {
     "name": "stdout",
     "output_type": "stream",
     "text": [
      "Training until validation scores don't improve for 20 rounds\n",
      "Early stopping, best iteration is:\n",
      "[48]\tvalid_0's auc: 0.674782\n"
     ]
    },
    {
     "name": "stderr",
     "output_type": "stream",
     "text": [
      "Found `num_iterations` in params. Will use it instead of argument\n"
     ]
    },
    {
     "name": "stdout",
     "output_type": "stream",
     "text": [
      "Training until validation scores don't improve for 20 rounds\n",
      "Did not meet early stopping. Best iteration is:\n",
      "[2000]\tvalid_0's auc: 0.718601\n"
     ]
    },
    {
     "name": "stderr",
     "output_type": "stream",
     "text": [
      "[I 2025-09-21 14:41:30,003] Trial 11 finished with value: 0.7216216815094234 and parameters: {'num_leaves': 179, 'max_depth': 3, 'learning_rate': 0.005663907864195603, 'min_child_samples': 72, 'min_child_weight': 7.047703921634791, 'reg_alpha': 8.63420863577153e-06, 'reg_lambda': 0.1642644093849569, 'feature_fraction': 0.5237113883488485, 'bagging_fraction': 0.5018156256554471, 'bagging_freq': 1}. Best is trial 9 with value: 0.7229377584391937.\n",
      "Found `num_iterations` in params. Will use it instead of argument\n"
     ]
    },
    {
     "name": "stdout",
     "output_type": "stream",
     "text": [
      "Training until validation scores don't improve for 20 rounds\n",
      "Early stopping, best iteration is:\n",
      "[1180]\tvalid_0's auc: 0.723714\n"
     ]
    },
    {
     "name": "stderr",
     "output_type": "stream",
     "text": [
      "Found `num_iterations` in params. Will use it instead of argument\n"
     ]
    },
    {
     "name": "stdout",
     "output_type": "stream",
     "text": [
      "Training until validation scores don't improve for 20 rounds\n",
      "Early stopping, best iteration is:\n",
      "[950]\tvalid_0's auc: 0.721098\n"
     ]
    },
    {
     "name": "stderr",
     "output_type": "stream",
     "text": [
      "Found `num_iterations` in params. Will use it instead of argument\n"
     ]
    },
    {
     "name": "stdout",
     "output_type": "stream",
     "text": [
      "Training until validation scores don't improve for 20 rounds\n",
      "Early stopping, best iteration is:\n",
      "[979]\tvalid_0's auc: 0.724616\n"
     ]
    },
    {
     "name": "stderr",
     "output_type": "stream",
     "text": [
      "Found `num_iterations` in params. Will use it instead of argument\n"
     ]
    },
    {
     "name": "stdout",
     "output_type": "stream",
     "text": [
      "Training until validation scores don't improve for 20 rounds\n",
      "Early stopping, best iteration is:\n",
      "[1600]\tvalid_0's auc: 0.722229\n"
     ]
    },
    {
     "name": "stderr",
     "output_type": "stream",
     "text": [
      "Found `num_iterations` in params. Will use it instead of argument\n"
     ]
    },
    {
     "name": "stdout",
     "output_type": "stream",
     "text": [
      "Training until validation scores don't improve for 20 rounds\n",
      "Early stopping, best iteration is:\n",
      "[1123]\tvalid_0's auc: 0.722777\n"
     ]
    },
    {
     "name": "stderr",
     "output_type": "stream",
     "text": [
      "[I 2025-09-21 14:47:28,392] Trial 12 finished with value: 0.7237402794888818 and parameters: {'num_leaves': 95, 'max_depth': 3, 'learning_rate': 0.018376431235880453, 'min_child_samples': 97, 'min_child_weight': 2.922650802515383, 'reg_alpha': 8.84511764086468, 'reg_lambda': 2.124197220727415e-05, 'feature_fraction': 0.5703480803951548, 'bagging_fraction': 0.5753734847329741, 'bagging_freq': 10}. Best is trial 12 with value: 0.7237402794888818.\n",
      "Found `num_iterations` in params. Will use it instead of argument\n"
     ]
    },
    {
     "name": "stdout",
     "output_type": "stream",
     "text": [
      "Training until validation scores don't improve for 20 rounds\n",
      "Early stopping, best iteration is:\n",
      "[1616]\tvalid_0's auc: 0.724113\n"
     ]
    },
    {
     "name": "stderr",
     "output_type": "stream",
     "text": [
      "Found `num_iterations` in params. Will use it instead of argument\n"
     ]
    },
    {
     "name": "stdout",
     "output_type": "stream",
     "text": [
      "Training until validation scores don't improve for 20 rounds\n",
      "Early stopping, best iteration is:\n",
      "[1559]\tvalid_0's auc: 0.72327\n"
     ]
    },
    {
     "name": "stderr",
     "output_type": "stream",
     "text": [
      "Found `num_iterations` in params. Will use it instead of argument\n"
     ]
    },
    {
     "name": "stdout",
     "output_type": "stream",
     "text": [
      "Training until validation scores don't improve for 20 rounds\n",
      "Early stopping, best iteration is:\n",
      "[1379]\tvalid_0's auc: 0.725613\n"
     ]
    },
    {
     "name": "stderr",
     "output_type": "stream",
     "text": [
      "Found `num_iterations` in params. Will use it instead of argument\n"
     ]
    },
    {
     "name": "stdout",
     "output_type": "stream",
     "text": [
      "Training until validation scores don't improve for 20 rounds\n",
      "Early stopping, best iteration is:\n",
      "[1503]\tvalid_0's auc: 0.721468\n"
     ]
    },
    {
     "name": "stderr",
     "output_type": "stream",
     "text": [
      "Found `num_iterations` in params. Will use it instead of argument\n"
     ]
    },
    {
     "name": "stdout",
     "output_type": "stream",
     "text": [
      "Training until validation scores don't improve for 20 rounds\n",
      "Early stopping, best iteration is:\n",
      "[1494]\tvalid_0's auc: 0.72383\n"
     ]
    },
    {
     "name": "stderr",
     "output_type": "stream",
     "text": [
      "[I 2025-09-21 14:54:36,092] Trial 13 finished with value: 0.7225296915399839 and parameters: {'num_leaves': 109, 'max_depth': 3, 'learning_rate': 0.01479036092858947, 'min_child_samples': 6, 'min_child_weight': 5.154343201054171, 'reg_alpha': 3.916503220682753, 'reg_lambda': 5.7197663172468554e-05, 'feature_fraction': 0.5511313468282195, 'bagging_fraction': 0.5434807834081771, 'bagging_freq': 3}. Best is trial 12 with value: 0.7237402794888818.\n",
      "Found `num_iterations` in params. Will use it instead of argument\n"
     ]
    },
    {
     "name": "stdout",
     "output_type": "stream",
     "text": [
      "Training until validation scores don't improve for 20 rounds\n",
      "Early stopping, best iteration is:\n",
      "[1593]\tvalid_0's auc: 0.722415\n"
     ]
    },
    {
     "name": "stderr",
     "output_type": "stream",
     "text": [
      "Found `num_iterations` in params. Will use it instead of argument\n"
     ]
    },
    {
     "name": "stdout",
     "output_type": "stream",
     "text": [
      "Training until validation scores don't improve for 20 rounds\n",
      "Early stopping, best iteration is:\n",
      "[29]\tvalid_0's auc: 0.679153\n"
     ]
    },
    {
     "name": "stderr",
     "output_type": "stream",
     "text": [
      "Found `num_iterations` in params. Will use it instead of argument\n"
     ]
    },
    {
     "name": "stdout",
     "output_type": "stream",
     "text": [
      "Training until validation scores don't improve for 20 rounds\n",
      "Early stopping, best iteration is:\n",
      "[1822]\tvalid_0's auc: 0.725921\n"
     ]
    },
    {
     "name": "stderr",
     "output_type": "stream",
     "text": [
      "Found `num_iterations` in params. Will use it instead of argument\n"
     ]
    },
    {
     "name": "stdout",
     "output_type": "stream",
     "text": [
      "Training until validation scores don't improve for 20 rounds\n",
      "Did not meet early stopping. Best iteration is:\n",
      "[2000]\tvalid_0's auc: 0.721315\n"
     ]
    },
    {
     "name": "stderr",
     "output_type": "stream",
     "text": [
      "Found `num_iterations` in params. Will use it instead of argument\n"
     ]
    },
    {
     "name": "stdout",
     "output_type": "stream",
     "text": [
      "Training until validation scores don't improve for 20 rounds\n",
      "Did not meet early stopping. Best iteration is:\n",
      "[1997]\tvalid_0's auc: 0.724399\n"
     ]
    },
    {
     "name": "stderr",
     "output_type": "stream",
     "text": [
      "[I 2025-09-21 15:01:37,082] Trial 14 finished with value: 0.7223306403534742 and parameters: {'num_leaves': 110, 'max_depth': 3, 'learning_rate': 0.010465832085635217, 'min_child_samples': 94, 'min_child_weight': 1.769493224467484, 'reg_alpha': 0.29551605069322895, 'reg_lambda': 7.1362516669158455e-06, 'feature_fraction': 0.5634619867159781, 'bagging_fraction': 0.5863117027673725, 'bagging_freq': 9}. Best is trial 12 with value: 0.7237402794888818.\n",
      "Found `num_iterations` in params. Will use it instead of argument\n"
     ]
    },
    {
     "name": "stdout",
     "output_type": "stream",
     "text": [
      "Training until validation scores don't improve for 20 rounds\n",
      "Early stopping, best iteration is:\n",
      "[1514]\tvalid_0's auc: 0.724989\n"
     ]
    },
    {
     "name": "stderr",
     "output_type": "stream",
     "text": [
      "Found `num_iterations` in params. Will use it instead of argument\n"
     ]
    },
    {
     "name": "stdout",
     "output_type": "stream",
     "text": [
      "Training until validation scores don't improve for 20 rounds\n",
      "Early stopping, best iteration is:\n",
      "[1000]\tvalid_0's auc: 0.723266\n"
     ]
    },
    {
     "name": "stderr",
     "output_type": "stream",
     "text": [
      "Found `num_iterations` in params. Will use it instead of argument\n"
     ]
    },
    {
     "name": "stdout",
     "output_type": "stream",
     "text": [
      "Training until validation scores don't improve for 20 rounds\n",
      "Early stopping, best iteration is:\n",
      "[1293]\tvalid_0's auc: 0.726859\n"
     ]
    },
    {
     "name": "stderr",
     "output_type": "stream",
     "text": [
      "Found `num_iterations` in params. Will use it instead of argument\n"
     ]
    },
    {
     "name": "stdout",
     "output_type": "stream",
     "text": [
      "Training until validation scores don't improve for 20 rounds\n",
      "Early stopping, best iteration is:\n",
      "[1480]\tvalid_0's auc: 0.722603\n"
     ]
    },
    {
     "name": "stderr",
     "output_type": "stream",
     "text": [
      "Found `num_iterations` in params. Will use it instead of argument\n"
     ]
    },
    {
     "name": "stdout",
     "output_type": "stream",
     "text": [
      "Training until validation scores don't improve for 20 rounds\n",
      "Early stopping, best iteration is:\n",
      "[1249]\tvalid_0's auc: 0.725144\n"
     ]
    },
    {
     "name": "stderr",
     "output_type": "stream",
     "text": [
      "[I 2025-09-21 15:06:20,703] Trial 15 finished with value: 0.7210796975736207 and parameters: {'num_leaves': 68, 'max_depth': 3, 'learning_rate': 0.017337176791951146, 'min_child_samples': 100, 'min_child_weight': 0.030109114348895467, 'reg_alpha': 3.528828479901002e-05, 'reg_lambda': 0.18353173470149164, 'feature_fraction': 0.6326153277414684, 'bagging_fraction': 0.6266576725781543, 'bagging_freq': 1}. Best is trial 12 with value: 0.7237402794888818.\n",
      "Found `num_iterations` in params. Will use it instead of argument\n"
     ]
    },
    {
     "name": "stdout",
     "output_type": "stream",
     "text": [
      "Training until validation scores don't improve for 20 rounds\n",
      "Early stopping, best iteration is:\n",
      "[700]\tvalid_0's auc: 0.727453\n"
     ]
    },
    {
     "name": "stderr",
     "output_type": "stream",
     "text": [
      "Found `num_iterations` in params. Will use it instead of argument\n"
     ]
    },
    {
     "name": "stdout",
     "output_type": "stream",
     "text": [
      "Training until validation scores don't improve for 20 rounds\n",
      "Early stopping, best iteration is:\n",
      "[437]\tvalid_0's auc: 0.724179\n"
     ]
    },
    {
     "name": "stderr",
     "output_type": "stream",
     "text": [
      "Found `num_iterations` in params. Will use it instead of argument\n"
     ]
    },
    {
     "name": "stdout",
     "output_type": "stream",
     "text": [
      "Training until validation scores don't improve for 20 rounds\n",
      "Early stopping, best iteration is:\n",
      "[534]\tvalid_0's auc: 0.727227\n"
     ]
    },
    {
     "name": "stderr",
     "output_type": "stream",
     "text": [
      "Found `num_iterations` in params. Will use it instead of argument\n"
     ]
    },
    {
     "name": "stdout",
     "output_type": "stream",
     "text": [
      "Training until validation scores don't improve for 20 rounds\n",
      "Early stopping, best iteration is:\n",
      "[807]\tvalid_0's auc: 0.724125\n"
     ]
    },
    {
     "name": "stderr",
     "output_type": "stream",
     "text": [
      "Found `num_iterations` in params. Will use it instead of argument\n"
     ]
    },
    {
     "name": "stdout",
     "output_type": "stream",
     "text": [
      "Training until validation scores don't improve for 20 rounds\n",
      "Early stopping, best iteration is:\n",
      "[662]\tvalid_0's auc: 0.726349\n"
     ]
    },
    {
     "name": "stderr",
     "output_type": "stream",
     "text": [
      "[I 2025-09-21 15:11:20,554] Trial 16 finished with value: 0.714589583504079 and parameters: {'num_leaves': 162, 'max_depth': 4, 'learning_rate': 0.03834390641320545, 'min_child_samples': 77, 'min_child_weight': 1.9123925950850897, 'reg_alpha': 7.774978597356722, 'reg_lambda': 2.4048648199207915e-08, 'feature_fraction': 0.5317429493070526, 'bagging_fraction': 0.650972792141263, 'bagging_freq': 5}. Best is trial 12 with value: 0.7237402794888818.\n",
      "Found `num_iterations` in params. Will use it instead of argument\n"
     ]
    },
    {
     "name": "stdout",
     "output_type": "stream",
     "text": [
      "Training until validation scores don't improve for 20 rounds\n",
      "Did not meet early stopping. Best iteration is:\n",
      "[2000]\tvalid_0's auc: 0.722066\n"
     ]
    },
    {
     "name": "stderr",
     "output_type": "stream",
     "text": [
      "Found `num_iterations` in params. Will use it instead of argument\n"
     ]
    },
    {
     "name": "stdout",
     "output_type": "stream",
     "text": [
      "Training until validation scores don't improve for 20 rounds\n",
      "Did not meet early stopping. Best iteration is:\n",
      "[2000]\tvalid_0's auc: 0.722282\n"
     ]
    },
    {
     "name": "stderr",
     "output_type": "stream",
     "text": [
      "Found `num_iterations` in params. Will use it instead of argument\n"
     ]
    },
    {
     "name": "stdout",
     "output_type": "stream",
     "text": [
      "Training until validation scores don't improve for 20 rounds\n",
      "Did not meet early stopping. Best iteration is:\n",
      "[2000]\tvalid_0's auc: 0.725121\n"
     ]
    },
    {
     "name": "stderr",
     "output_type": "stream",
     "text": [
      "Found `num_iterations` in params. Will use it instead of argument\n"
     ]
    },
    {
     "name": "stdout",
     "output_type": "stream",
     "text": [
      "Training until validation scores don't improve for 20 rounds\n",
      "Did not meet early stopping. Best iteration is:\n",
      "[1992]\tvalid_0's auc: 0.720065\n"
     ]
    },
    {
     "name": "stderr",
     "output_type": "stream",
     "text": [
      "Found `num_iterations` in params. Will use it instead of argument\n"
     ]
    },
    {
     "name": "stdout",
     "output_type": "stream",
     "text": [
      "Training until validation scores don't improve for 20 rounds\n",
      "Did not meet early stopping. Best iteration is:\n",
      "[1999]\tvalid_0's auc: 0.722108\n"
     ]
    },
    {
     "name": "stderr",
     "output_type": "stream",
     "text": [
      "[I 2025-09-21 15:18:03,679] Trial 17 finished with value: 0.7225446547359011 and parameters: {'num_leaves': 80, 'max_depth': 3, 'learning_rate': 0.007902730767451375, 'min_child_samples': 63, 'min_child_weight': 0.001045746782420137, 'reg_alpha': 1.2113430748983926e-08, 'reg_lambda': 0.0006040719183277169, 'feature_fraction': 0.6071120727058563, 'bagging_fraction': 0.5671486458329951, 'bagging_freq': 3}. Best is trial 12 with value: 0.7237402794888818.\n",
      "Found `num_iterations` in params. Will use it instead of argument\n"
     ]
    },
    {
     "name": "stdout",
     "output_type": "stream",
     "text": [
      "Training until validation scores don't improve for 20 rounds\n",
      "Early stopping, best iteration is:\n",
      "[1430]\tvalid_0's auc: 0.723295\n"
     ]
    },
    {
     "name": "stderr",
     "output_type": "stream",
     "text": [
      "Found `num_iterations` in params. Will use it instead of argument\n"
     ]
    },
    {
     "name": "stdout",
     "output_type": "stream",
     "text": [
      "Training until validation scores don't improve for 20 rounds\n",
      "Early stopping, best iteration is:\n",
      "[1768]\tvalid_0's auc: 0.724765\n"
     ]
    },
    {
     "name": "stderr",
     "output_type": "stream",
     "text": [
      "Found `num_iterations` in params. Will use it instead of argument\n"
     ]
    },
    {
     "name": "stdout",
     "output_type": "stream",
     "text": [
      "Training until validation scores don't improve for 20 rounds\n",
      "Early stopping, best iteration is:\n",
      "[1508]\tvalid_0's auc: 0.726546\n"
     ]
    },
    {
     "name": "stderr",
     "output_type": "stream",
     "text": [
      "Found `num_iterations` in params. Will use it instead of argument\n"
     ]
    },
    {
     "name": "stdout",
     "output_type": "stream",
     "text": [
      "Training until validation scores don't improve for 20 rounds\n",
      "Early stopping, best iteration is:\n",
      "[1272]\tvalid_0's auc: 0.720604\n"
     ]
    },
    {
     "name": "stderr",
     "output_type": "stream",
     "text": [
      "Found `num_iterations` in params. Will use it instead of argument\n"
     ]
    },
    {
     "name": "stdout",
     "output_type": "stream",
     "text": [
      "Training until validation scores don't improve for 20 rounds\n",
      "Early stopping, best iteration is:\n",
      "[1328]\tvalid_0's auc: 0.723517\n"
     ]
    },
    {
     "name": "stderr",
     "output_type": "stream",
     "text": [
      "[I 2025-09-21 15:22:55,695] Trial 18 finished with value: 0.7213503233611651 and parameters: {'num_leaves': 122, 'max_depth': 3, 'learning_rate': 0.013788561794398944, 'min_child_samples': 85, 'min_child_weight': 0.010572025498583213, 'reg_alpha': 0.03583531435185875, 'reg_lambda': 8.044868054327095e-06, 'feature_fraction': 0.658286305691376, 'bagging_fraction': 0.537608655800708, 'bagging_freq': 8}. Best is trial 12 with value: 0.7237402794888818.\n",
      "Found `num_iterations` in params. Will use it instead of argument\n"
     ]
    },
    {
     "name": "stdout",
     "output_type": "stream",
     "text": [
      "Training until validation scores don't improve for 20 rounds\n",
      "Early stopping, best iteration is:\n",
      "[195]\tvalid_0's auc: 0.721835\n"
     ]
    },
    {
     "name": "stderr",
     "output_type": "stream",
     "text": [
      "Found `num_iterations` in params. Will use it instead of argument\n"
     ]
    },
    {
     "name": "stdout",
     "output_type": "stream",
     "text": [
      "Training until validation scores don't improve for 20 rounds\n",
      "Early stopping, best iteration is:\n",
      "[151]\tvalid_0's auc: 0.719737\n"
     ]
    },
    {
     "name": "stderr",
     "output_type": "stream",
     "text": [
      "Found `num_iterations` in params. Will use it instead of argument\n"
     ]
    },
    {
     "name": "stdout",
     "output_type": "stream",
     "text": [
      "Training until validation scores don't improve for 20 rounds\n",
      "Early stopping, best iteration is:\n",
      "[136]\tvalid_0's auc: 0.723837\n"
     ]
    },
    {
     "name": "stderr",
     "output_type": "stream",
     "text": [
      "Found `num_iterations` in params. Will use it instead of argument\n"
     ]
    },
    {
     "name": "stdout",
     "output_type": "stream",
     "text": [
      "Training until validation scores don't improve for 20 rounds\n",
      "Early stopping, best iteration is:\n",
      "[213]\tvalid_0's auc: 0.719346\n"
     ]
    },
    {
     "name": "stderr",
     "output_type": "stream",
     "text": [
      "Found `num_iterations` in params. Will use it instead of argument\n"
     ]
    },
    {
     "name": "stdout",
     "output_type": "stream",
     "text": [
      "Training until validation scores don't improve for 20 rounds\n",
      "Early stopping, best iteration is:\n",
      "[127]\tvalid_0's auc: 0.720628\n"
     ]
    },
    {
     "name": "stderr",
     "output_type": "stream",
     "text": [
      "[I 2025-09-21 15:26:26,933] Trial 19 finished with value: 0.7091252605707705 and parameters: {'num_leaves': 94, 'max_depth': 4, 'learning_rate': 0.1311578117166841, 'min_child_samples': 69, 'min_child_weight': 1.9274193310415955, 'reg_alpha': 0.4226525237249628, 'reg_lambda': 0.4122574320610263, 'feature_fraction': 0.5023914346345018, 'bagging_fraction': 0.6085242268076605, 'bagging_freq': 6}. Best is trial 12 with value: 0.7237402794888818.\n",
      "Found `num_iterations` in params. Will use it instead of argument\n"
     ]
    },
    {
     "name": "stdout",
     "output_type": "stream",
     "text": [
      "Training until validation scores don't improve for 20 rounds\n",
      "Did not meet early stopping. Best iteration is:\n",
      "[2000]\tvalid_0's auc: 0.720836\n"
     ]
    },
    {
     "name": "stderr",
     "output_type": "stream",
     "text": [
      "Found `num_iterations` in params. Will use it instead of argument\n"
     ]
    },
    {
     "name": "stdout",
     "output_type": "stream",
     "text": [
      "Training until validation scores don't improve for 20 rounds\n",
      "Early stopping, best iteration is:\n",
      "[37]\tvalid_0's auc: 0.678127\n"
     ]
    },
    {
     "name": "stderr",
     "output_type": "stream",
     "text": [
      "Found `num_iterations` in params. Will use it instead of argument\n"
     ]
    },
    {
     "name": "stdout",
     "output_type": "stream",
     "text": [
      "Training until validation scores don't improve for 20 rounds\n",
      "Did not meet early stopping. Best iteration is:\n",
      "[2000]\tvalid_0's auc: 0.723761\n"
     ]
    },
    {
     "name": "stderr",
     "output_type": "stream",
     "text": [
      "Found `num_iterations` in params. Will use it instead of argument\n"
     ]
    },
    {
     "name": "stdout",
     "output_type": "stream",
     "text": [
      "Training until validation scores don't improve for 20 rounds\n",
      "Did not meet early stopping. Best iteration is:\n",
      "[2000]\tvalid_0's auc: 0.71877\n"
     ]
    },
    {
     "name": "stderr",
     "output_type": "stream",
     "text": [
      "Found `num_iterations` in params. Will use it instead of argument\n"
     ]
    },
    {
     "name": "stdout",
     "output_type": "stream",
     "text": [
      "Training until validation scores don't improve for 20 rounds\n",
      "Did not meet early stopping. Best iteration is:\n",
      "[2000]\tvalid_0's auc: 0.7216\n"
     ]
    },
    {
     "name": "stderr",
     "output_type": "stream",
     "text": [
      "[I 2025-09-21 15:34:02,581] Trial 20 finished with value: 0.7227903104076345 and parameters: {'num_leaves': 152, 'max_depth': 3, 'learning_rate': 0.006749107196103685, 'min_child_samples': 87, 'min_child_weight': 0.11017432954474096, 'reg_alpha': 8.42189757044598e-06, 'reg_lambda': 0.014116952855025407, 'feature_fraction': 0.5593898286164858, 'bagging_fraction': 0.9932379391388482, 'bagging_freq': 9}. Best is trial 12 with value: 0.7237402794888818.\n",
      "Found `num_iterations` in params. Will use it instead of argument\n"
     ]
    },
    {
     "name": "stdout",
     "output_type": "stream",
     "text": [
      "Training until validation scores don't improve for 20 rounds\n",
      "Early stopping, best iteration is:\n",
      "[366]\tvalid_0's auc: 0.723703\n"
     ]
    },
    {
     "name": "stderr",
     "output_type": "stream",
     "text": [
      "Found `num_iterations` in params. Will use it instead of argument\n"
     ]
    },
    {
     "name": "stdout",
     "output_type": "stream",
     "text": [
      "Training until validation scores don't improve for 20 rounds\n",
      "Early stopping, best iteration is:\n",
      "[405]\tvalid_0's auc: 0.725152\n"
     ]
    },
    {
     "name": "stderr",
     "output_type": "stream",
     "text": [
      "Found `num_iterations` in params. Will use it instead of argument\n"
     ]
    },
    {
     "name": "stdout",
     "output_type": "stream",
     "text": [
      "Training until validation scores don't improve for 20 rounds\n",
      "Early stopping, best iteration is:\n",
      "[375]\tvalid_0's auc: 0.727329\n"
     ]
    },
    {
     "name": "stderr",
     "output_type": "stream",
     "text": [
      "Found `num_iterations` in params. Will use it instead of argument\n"
     ]
    },
    {
     "name": "stdout",
     "output_type": "stream",
     "text": [
      "Training until validation scores don't improve for 20 rounds\n",
      "Early stopping, best iteration is:\n",
      "[344]\tvalid_0's auc: 0.721094\n"
     ]
    },
    {
     "name": "stderr",
     "output_type": "stream",
     "text": [
      "Found `num_iterations` in params. Will use it instead of argument\n"
     ]
    },
    {
     "name": "stdout",
     "output_type": "stream",
     "text": [
      "Training until validation scores don't improve for 20 rounds\n",
      "Early stopping, best iteration is:\n",
      "[452]\tvalid_0's auc: 0.725931\n"
     ]
    },
    {
     "name": "stderr",
     "output_type": "stream",
     "text": [
      "[I 2025-09-21 15:37:49,873] Trial 21 finished with value: 0.7174591784902704 and parameters: {'num_leaves': 50, 'max_depth': 3, 'learning_rate': 0.08645355401092032, 'min_child_samples': 100, 'min_child_weight': 0.016758574908236786, 'reg_alpha': 0.9119352693400115, 'reg_lambda': 0.000342682186458019, 'feature_fraction': 0.5780104797410296, 'bagging_fraction': 0.6798262719499516, 'bagging_freq': 4}. Best is trial 12 with value: 0.7237402794888818.\n",
      "Found `num_iterations` in params. Will use it instead of argument\n"
     ]
    },
    {
     "name": "stdout",
     "output_type": "stream",
     "text": [
      "Training until validation scores don't improve for 20 rounds\n",
      "Early stopping, best iteration is:\n",
      "[28]\tvalid_0's auc: 0.673573\n"
     ]
    },
    {
     "name": "stderr",
     "output_type": "stream",
     "text": [
      "Found `num_iterations` in params. Will use it instead of argument\n"
     ]
    },
    {
     "name": "stdout",
     "output_type": "stream",
     "text": [
      "Training until validation scores don't improve for 20 rounds\n",
      "Early stopping, best iteration is:\n",
      "[14]\tvalid_0's auc: 0.677943\n"
     ]
    },
    {
     "name": "stderr",
     "output_type": "stream",
     "text": [
      "Found `num_iterations` in params. Will use it instead of argument\n"
     ]
    },
    {
     "name": "stdout",
     "output_type": "stream",
     "text": [
      "Training until validation scores don't improve for 20 rounds\n",
      "Did not meet early stopping. Best iteration is:\n",
      "[1999]\tvalid_0's auc: 0.721544\n"
     ]
    },
    {
     "name": "stderr",
     "output_type": "stream",
     "text": [
      "Found `num_iterations` in params. Will use it instead of argument\n"
     ]
    },
    {
     "name": "stdout",
     "output_type": "stream",
     "text": [
      "Training until validation scores don't improve for 20 rounds\n",
      "Early stopping, best iteration is:\n",
      "[33]\tvalid_0's auc: 0.669392\n"
     ]
    },
    {
     "name": "stderr",
     "output_type": "stream",
     "text": [
      "Found `num_iterations` in params. Will use it instead of argument\n"
     ]
    },
    {
     "name": "stdout",
     "output_type": "stream",
     "text": [
      "Training until validation scores don't improve for 20 rounds\n",
      "Did not meet early stopping. Best iteration is:\n",
      "[2000]\tvalid_0's auc: 0.719151\n"
     ]
    },
    {
     "name": "stderr",
     "output_type": "stream",
     "text": [
      "[I 2025-09-21 15:43:06,811] Trial 22 finished with value: 0.7219232784094591 and parameters: {'num_leaves': 155, 'max_depth': 3, 'learning_rate': 0.00512536566848322, 'min_child_samples': 89, 'min_child_weight': 0.07432235416611051, 'reg_alpha': 2.1384456036629507e-06, 'reg_lambda': 0.015756956023909936, 'feature_fraction': 0.545613942145723, 'bagging_fraction': 0.9739046329341343, 'bagging_freq': 9}. Best is trial 12 with value: 0.7237402794888818.\n",
      "Found `num_iterations` in params. Will use it instead of argument\n"
     ]
    },
    {
     "name": "stdout",
     "output_type": "stream",
     "text": [
      "Training until validation scores don't improve for 20 rounds\n",
      "Did not meet early stopping. Best iteration is:\n",
      "[2000]\tvalid_0's auc: 0.721771\n"
     ]
    },
    {
     "name": "stderr",
     "output_type": "stream",
     "text": [
      "Found `num_iterations` in params. Will use it instead of argument\n"
     ]
    },
    {
     "name": "stdout",
     "output_type": "stream",
     "text": [
      "Training until validation scores don't improve for 20 rounds\n",
      "Did not meet early stopping. Best iteration is:\n",
      "[2000]\tvalid_0's auc: 0.722536\n"
     ]
    },
    {
     "name": "stderr",
     "output_type": "stream",
     "text": [
      "Found `num_iterations` in params. Will use it instead of argument\n"
     ]
    },
    {
     "name": "stdout",
     "output_type": "stream",
     "text": [
      "Training until validation scores don't improve for 20 rounds\n",
      "Did not meet early stopping. Best iteration is:\n",
      "[1998]\tvalid_0's auc: 0.724659\n"
     ]
    },
    {
     "name": "stderr",
     "output_type": "stream",
     "text": [
      "Found `num_iterations` in params. Will use it instead of argument\n"
     ]
    },
    {
     "name": "stdout",
     "output_type": "stream",
     "text": [
      "Training until validation scores don't improve for 20 rounds\n",
      "Did not meet early stopping. Best iteration is:\n",
      "[2000]\tvalid_0's auc: 0.718843\n"
     ]
    },
    {
     "name": "stderr",
     "output_type": "stream",
     "text": [
      "Found `num_iterations` in params. Will use it instead of argument\n"
     ]
    },
    {
     "name": "stdout",
     "output_type": "stream",
     "text": [
      "Training until validation scores don't improve for 20 rounds\n",
      "Did not meet early stopping. Best iteration is:\n",
      "[2000]\tvalid_0's auc: 0.722343\n"
     ]
    },
    {
     "name": "stderr",
     "output_type": "stream",
     "text": [
      "[I 2025-09-21 15:49:18,451] Trial 23 finished with value: 0.7225763357965889 and parameters: {'num_leaves': 96, 'max_depth': 3, 'learning_rate': 0.007392293885024984, 'min_child_samples': 79, 'min_child_weight': 0.249382016184834, 'reg_alpha': 8.680753386997635e-07, 'reg_lambda': 0.9816931080762789, 'feature_fraction': 0.6117545475751394, 'bagging_fraction': 0.8807193330502259, 'bagging_freq': 9}. Best is trial 12 with value: 0.7237402794888818.\n",
      "Found `num_iterations` in params. Will use it instead of argument\n"
     ]
    },
    {
     "name": "stdout",
     "output_type": "stream",
     "text": [
      "Training until validation scores don't improve for 20 rounds\n",
      "Did not meet early stopping. Best iteration is:\n",
      "[1998]\tvalid_0's auc: 0.721384\n"
     ]
    },
    {
     "name": "stderr",
     "output_type": "stream",
     "text": [
      "Found `num_iterations` in params. Will use it instead of argument\n"
     ]
    },
    {
     "name": "stdout",
     "output_type": "stream",
     "text": [
      "Training until validation scores don't improve for 20 rounds\n",
      "Early stopping, best iteration is:\n",
      "[37]\tvalid_0's auc: 0.678594\n"
     ]
    },
    {
     "name": "stderr",
     "output_type": "stream",
     "text": [
      "Found `num_iterations` in params. Will use it instead of argument\n"
     ]
    },
    {
     "name": "stdout",
     "output_type": "stream",
     "text": [
      "Training until validation scores don't improve for 20 rounds\n",
      "Did not meet early stopping. Best iteration is:\n",
      "[2000]\tvalid_0's auc: 0.723471\n"
     ]
    },
    {
     "name": "stderr",
     "output_type": "stream",
     "text": [
      "Found `num_iterations` in params. Will use it instead of argument\n"
     ]
    },
    {
     "name": "stdout",
     "output_type": "stream",
     "text": [
      "Training until validation scores don't improve for 20 rounds\n",
      "Did not meet early stopping. Best iteration is:\n",
      "[1999]\tvalid_0's auc: 0.718105\n"
     ]
    },
    {
     "name": "stderr",
     "output_type": "stream",
     "text": [
      "Found `num_iterations` in params. Will use it instead of argument\n"
     ]
    },
    {
     "name": "stdout",
     "output_type": "stream",
     "text": [
      "Training until validation scores don't improve for 20 rounds\n",
      "Did not meet early stopping. Best iteration is:\n",
      "[2000]\tvalid_0's auc: 0.721135\n"
     ]
    },
    {
     "name": "stderr",
     "output_type": "stream",
     "text": [
      "[I 2025-09-21 15:57:03,146] Trial 24 finished with value: 0.7228139826340437 and parameters: {'num_leaves': 166, 'max_depth': 3, 'learning_rate': 0.007072999356808584, 'min_child_samples': 90, 'min_child_weight': 0.8388281996979787, 'reg_alpha': 0.0001996630797500704, 'reg_lambda': 0.040994615374996414, 'feature_fraction': 0.5630086317410724, 'bagging_fraction': 0.5225726630189893, 'bagging_freq': 10}. Best is trial 12 with value: 0.7237402794888818.\n",
      "Found `num_iterations` in params. Will use it instead of argument\n"
     ]
    },
    {
     "name": "stdout",
     "output_type": "stream",
     "text": [
      "Training until validation scores don't improve for 20 rounds\n",
      "Early stopping, best iteration is:\n",
      "[1414]\tvalid_0's auc: 0.721966\n"
     ]
    },
    {
     "name": "stderr",
     "output_type": "stream",
     "text": [
      "Found `num_iterations` in params. Will use it instead of argument\n"
     ]
    },
    {
     "name": "stdout",
     "output_type": "stream",
     "text": [
      "Training until validation scores don't improve for 20 rounds\n",
      "Early stopping, best iteration is:\n",
      "[1851]\tvalid_0's auc: 0.723716\n"
     ]
    },
    {
     "name": "stderr",
     "output_type": "stream",
     "text": [
      "Found `num_iterations` in params. Will use it instead of argument\n"
     ]
    },
    {
     "name": "stdout",
     "output_type": "stream",
     "text": [
      "Training until validation scores don't improve for 20 rounds\n",
      "Early stopping, best iteration is:\n",
      "[1489]\tvalid_0's auc: 0.724869\n"
     ]
    },
    {
     "name": "stderr",
     "output_type": "stream",
     "text": [
      "Found `num_iterations` in params. Will use it instead of argument\n"
     ]
    },
    {
     "name": "stdout",
     "output_type": "stream",
     "text": [
      "Training until validation scores don't improve for 20 rounds\n",
      "Early stopping, best iteration is:\n",
      "[1598]\tvalid_0's auc: 0.721114\n"
     ]
    },
    {
     "name": "stderr",
     "output_type": "stream",
     "text": [
      "Found `num_iterations` in params. Will use it instead of argument\n"
     ]
    },
    {
     "name": "stdout",
     "output_type": "stream",
     "text": [
      "Training until validation scores don't improve for 20 rounds\n",
      "Early stopping, best iteration is:\n",
      "[1499]\tvalid_0's auc: 0.722418\n"
     ]
    },
    {
     "name": "stderr",
     "output_type": "stream",
     "text": [
      "[I 2025-09-21 16:04:18,751] Trial 25 finished with value: 0.7217796868143773 and parameters: {'num_leaves': 124, 'max_depth': 3, 'learning_rate': 0.01219546726149849, 'min_child_samples': 93, 'min_child_weight': 0.9683986619099619, 'reg_alpha': 0.009507504872492781, 'reg_lambda': 0.06435377491171283, 'feature_fraction': 0.5167564357525181, 'bagging_fraction': 0.5018946533548193, 'bagging_freq': 10}. Best is trial 12 with value: 0.7237402794888818.\n",
      "Found `num_iterations` in params. Will use it instead of argument\n"
     ]
    },
    {
     "name": "stdout",
     "output_type": "stream",
     "text": [
      "Training until validation scores don't improve for 20 rounds\n",
      "Early stopping, best iteration is:\n",
      "[661]\tvalid_0's auc: 0.72289\n"
     ]
    },
    {
     "name": "stderr",
     "output_type": "stream",
     "text": [
      "Found `num_iterations` in params. Will use it instead of argument\n"
     ]
    },
    {
     "name": "stdout",
     "output_type": "stream",
     "text": [
      "Training until validation scores don't improve for 20 rounds\n",
      "Early stopping, best iteration is:\n",
      "[859]\tvalid_0's auc: 0.723793\n"
     ]
    },
    {
     "name": "stderr",
     "output_type": "stream",
     "text": [
      "Found `num_iterations` in params. Will use it instead of argument\n"
     ]
    },
    {
     "name": "stdout",
     "output_type": "stream",
     "text": [
      "Training until validation scores don't improve for 20 rounds\n",
      "Early stopping, best iteration is:\n",
      "[932]\tvalid_0's auc: 0.726881\n"
     ]
    },
    {
     "name": "stderr",
     "output_type": "stream",
     "text": [
      "Found `num_iterations` in params. Will use it instead of argument\n"
     ]
    },
    {
     "name": "stdout",
     "output_type": "stream",
     "text": [
      "Training until validation scores don't improve for 20 rounds\n",
      "Early stopping, best iteration is:\n",
      "[567]\tvalid_0's auc: 0.719428\n"
     ]
    },
    {
     "name": "stderr",
     "output_type": "stream",
     "text": [
      "Found `num_iterations` in params. Will use it instead of argument\n"
     ]
    },
    {
     "name": "stdout",
     "output_type": "stream",
     "text": [
      "Training until validation scores don't improve for 20 rounds\n",
      "Early stopping, best iteration is:\n",
      "[1010]\tvalid_0's auc: 0.724667\n"
     ]
    },
    {
     "name": "stderr",
     "output_type": "stream",
     "text": [
      "[I 2025-09-21 16:08:26,815] Trial 26 finished with value: 0.7211465297923116 and parameters: {'num_leaves': 173, 'max_depth': 3, 'learning_rate': 0.026347679003359548, 'min_child_samples': 72, 'min_child_weight': 9.294354433643065, 'reg_alpha': 0.00020786209652915924, 'reg_lambda': 1.3774086540448718, 'feature_fraction': 0.6632388071856694, 'bagging_fraction': 0.5638059389334158, 'bagging_freq': 8}. Best is trial 12 with value: 0.7237402794888818.\n",
      "Found `num_iterations` in params. Will use it instead of argument\n"
     ]
    },
    {
     "name": "stdout",
     "output_type": "stream",
     "text": [
      "Training until validation scores don't improve for 20 rounds\n",
      "Early stopping, best iteration is:\n",
      "[1289]\tvalid_0's auc: 0.72464\n"
     ]
    },
    {
     "name": "stderr",
     "output_type": "stream",
     "text": [
      "Found `num_iterations` in params. Will use it instead of argument\n"
     ]
    },
    {
     "name": "stdout",
     "output_type": "stream",
     "text": [
      "Training until validation scores don't improve for 20 rounds\n",
      "Early stopping, best iteration is:\n",
      "[1278]\tvalid_0's auc: 0.724474\n"
     ]
    },
    {
     "name": "stderr",
     "output_type": "stream",
     "text": [
      "Found `num_iterations` in params. Will use it instead of argument\n"
     ]
    },
    {
     "name": "stdout",
     "output_type": "stream",
     "text": [
      "Training until validation scores don't improve for 20 rounds\n",
      "Early stopping, best iteration is:\n",
      "[1141]\tvalid_0's auc: 0.726391\n"
     ]
    },
    {
     "name": "stderr",
     "output_type": "stream",
     "text": [
      "Found `num_iterations` in params. Will use it instead of argument\n"
     ]
    },
    {
     "name": "stdout",
     "output_type": "stream",
     "text": [
      "Training until validation scores don't improve for 20 rounds\n",
      "Early stopping, best iteration is:\n",
      "[1098]\tvalid_0's auc: 0.720837\n"
     ]
    },
    {
     "name": "stderr",
     "output_type": "stream",
     "text": [
      "Found `num_iterations` in params. Will use it instead of argument\n"
     ]
    },
    {
     "name": "stdout",
     "output_type": "stream",
     "text": [
      "Training until validation scores don't improve for 20 rounds\n",
      "Early stopping, best iteration is:\n",
      "[1061]\tvalid_0's auc: 0.723428\n"
     ]
    },
    {
     "name": "stderr",
     "output_type": "stream",
     "text": [
      "[I 2025-09-21 16:13:14,169] Trial 27 finished with value: 0.7214070844315204 and parameters: {'num_leaves': 195, 'max_depth': 3, 'learning_rate': 0.0167461676446288, 'min_child_samples': 60, 'min_child_weight': 2.879479297202201, 'reg_alpha': 0.0008782385570877989, 'reg_lambda': 0.0022908592015712546, 'feature_fraction': 0.7974511138260626, 'bagging_fraction': 0.6077505419295345, 'bagging_freq': 8}. Best is trial 12 with value: 0.7237402794888818.\n",
      "Found `num_iterations` in params. Will use it instead of argument\n"
     ]
    },
    {
     "name": "stdout",
     "output_type": "stream",
     "text": [
      "Training until validation scores don't improve for 20 rounds\n",
      "Did not meet early stopping. Best iteration is:\n",
      "[1999]\tvalid_0's auc: 0.722763\n"
     ]
    },
    {
     "name": "stderr",
     "output_type": "stream",
     "text": [
      "Found `num_iterations` in params. Will use it instead of argument\n"
     ]
    },
    {
     "name": "stdout",
     "output_type": "stream",
     "text": [
      "Training until validation scores don't improve for 20 rounds\n",
      "Did not meet early stopping. Best iteration is:\n",
      "[1998]\tvalid_0's auc: 0.723304\n"
     ]
    },
    {
     "name": "stderr",
     "output_type": "stream",
     "text": [
      "Found `num_iterations` in params. Will use it instead of argument\n"
     ]
    },
    {
     "name": "stdout",
     "output_type": "stream",
     "text": [
      "Training until validation scores don't improve for 20 rounds\n",
      "Did not meet early stopping. Best iteration is:\n",
      "[2000]\tvalid_0's auc: 0.725244\n"
     ]
    },
    {
     "name": "stderr",
     "output_type": "stream",
     "text": [
      "Found `num_iterations` in params. Will use it instead of argument\n"
     ]
    },
    {
     "name": "stdout",
     "output_type": "stream",
     "text": [
      "Training until validation scores don't improve for 20 rounds\n",
      "Early stopping, best iteration is:\n",
      "[1834]\tvalid_0's auc: 0.7196\n"
     ]
    },
    {
     "name": "stderr",
     "output_type": "stream",
     "text": [
      "Found `num_iterations` in params. Will use it instead of argument\n"
     ]
    },
    {
     "name": "stdout",
     "output_type": "stream",
     "text": [
      "Training until validation scores don't improve for 20 rounds\n",
      "Did not meet early stopping. Best iteration is:\n",
      "[2000]\tvalid_0's auc: 0.722618\n"
     ]
    },
    {
     "name": "stderr",
     "output_type": "stream",
     "text": [
      "[I 2025-09-21 16:22:11,108] Trial 28 finished with value: 0.7233556611241155 and parameters: {'num_leaves': 103, 'max_depth': 3, 'learning_rate': 0.009421859779782115, 'min_child_samples': 82, 'min_child_weight': 4.498068612835491, 'reg_alpha': 0.09145670822215766, 'reg_lambda': 8.05768062552282, 'feature_fraction': 0.5379683585065064, 'bagging_fraction': 0.5303250275263066, 'bagging_freq': 2}. Best is trial 12 with value: 0.7237402794888818.\n",
      "Found `num_iterations` in params. Will use it instead of argument\n"
     ]
    },
    {
     "name": "stdout",
     "output_type": "stream",
     "text": [
      "Training until validation scores don't improve for 20 rounds\n",
      "Early stopping, best iteration is:\n",
      "[1088]\tvalid_0's auc: 0.726213\n"
     ]
    },
    {
     "name": "stderr",
     "output_type": "stream",
     "text": [
      "Found `num_iterations` in params. Will use it instead of argument\n"
     ]
    },
    {
     "name": "stdout",
     "output_type": "stream",
     "text": [
      "Training until validation scores don't improve for 20 rounds\n",
      "Early stopping, best iteration is:\n",
      "[1009]\tvalid_0's auc: 0.725749\n"
     ]
    },
    {
     "name": "stderr",
     "output_type": "stream",
     "text": [
      "Found `num_iterations` in params. Will use it instead of argument\n"
     ]
    },
    {
     "name": "stdout",
     "output_type": "stream",
     "text": [
      "Training until validation scores don't improve for 20 rounds\n",
      "Early stopping, best iteration is:\n",
      "[920]\tvalid_0's auc: 0.727348\n"
     ]
    },
    {
     "name": "stderr",
     "output_type": "stream",
     "text": [
      "Found `num_iterations` in params. Will use it instead of argument\n"
     ]
    },
    {
     "name": "stdout",
     "output_type": "stream",
     "text": [
      "Training until validation scores don't improve for 20 rounds\n",
      "Early stopping, best iteration is:\n",
      "[1000]\tvalid_0's auc: 0.723217\n"
     ]
    },
    {
     "name": "stderr",
     "output_type": "stream",
     "text": [
      "Found `num_iterations` in params. Will use it instead of argument\n"
     ]
    },
    {
     "name": "stdout",
     "output_type": "stream",
     "text": [
      "Training until validation scores don't improve for 20 rounds\n",
      "Early stopping, best iteration is:\n",
      "[1138]\tvalid_0's auc: 0.726605\n"
     ]
    },
    {
     "name": "stderr",
     "output_type": "stream",
     "text": [
      "[I 2025-09-21 16:28:25,363] Trial 29 finished with value: 0.7135388453454486 and parameters: {'num_leaves': 109, 'max_depth': 4, 'learning_rate': 0.02060991571812267, 'min_child_samples': 80, 'min_child_weight': 3.6951535973733, 'reg_alpha': 0.11947634367285052, 'reg_lambda': 9.100329357154353, 'feature_fraction': 0.5359615545530827, 'bagging_fraction': 0.5882533239120528, 'bagging_freq': 2}. Best is trial 12 with value: 0.7237402794888818.\n",
      "Found `num_iterations` in params. Will use it instead of argument\n"
     ]
    },
    {
     "name": "stdout",
     "output_type": "stream",
     "text": [
      "Training until validation scores don't improve for 20 rounds\n",
      "Did not meet early stopping. Best iteration is:\n",
      "[2000]\tvalid_0's auc: 0.723558\n"
     ]
    },
    {
     "name": "stderr",
     "output_type": "stream",
     "text": [
      "Found `num_iterations` in params. Will use it instead of argument\n"
     ]
    },
    {
     "name": "stdout",
     "output_type": "stream",
     "text": [
      "Training until validation scores don't improve for 20 rounds\n",
      "Did not meet early stopping. Best iteration is:\n",
      "[2000]\tvalid_0's auc: 0.72412\n"
     ]
    },
    {
     "name": "stderr",
     "output_type": "stream",
     "text": [
      "Found `num_iterations` in params. Will use it instead of argument\n"
     ]
    },
    {
     "name": "stdout",
     "output_type": "stream",
     "text": [
      "Training until validation scores don't improve for 20 rounds\n",
      "Early stopping, best iteration is:\n",
      "[1603]\tvalid_0's auc: 0.724824\n"
     ]
    },
    {
     "name": "stderr",
     "output_type": "stream",
     "text": [
      "Found `num_iterations` in params. Will use it instead of argument\n"
     ]
    },
    {
     "name": "stdout",
     "output_type": "stream",
     "text": [
      "Training until validation scores don't improve for 20 rounds\n",
      "Did not meet early stopping. Best iteration is:\n",
      "[2000]\tvalid_0's auc: 0.721356\n"
     ]
    },
    {
     "name": "stderr",
     "output_type": "stream",
     "text": [
      "Found `num_iterations` in params. Will use it instead of argument\n"
     ]
    },
    {
     "name": "stdout",
     "output_type": "stream",
     "text": [
      "Training until validation scores don't improve for 20 rounds\n",
      "Early stopping, best iteration is:\n",
      "[1976]\tvalid_0's auc: 0.724602\n"
     ]
    },
    {
     "name": "stderr",
     "output_type": "stream",
     "text": [
      "[I 2025-09-21 16:36:28,665] Trial 30 finished with value: 0.7226561247439858 and parameters: {'num_leaves': 88, 'max_depth': 3, 'learning_rate': 0.010561564340302995, 'min_child_samples': 47, 'min_child_weight': 0.16593155871733978, 'reg_alpha': 0.0112116985258419, 'reg_lambda': 1.6007974206087994, 'feature_fraction': 0.5149361698157909, 'bagging_fraction': 0.7029963168910867, 'bagging_freq': 2}. Best is trial 12 with value: 0.7237402794888818.\n",
      "Found `num_iterations` in params. Will use it instead of argument\n"
     ]
    },
    {
     "name": "stdout",
     "output_type": "stream",
     "text": [
      "Training until validation scores don't improve for 20 rounds\n",
      "Early stopping, best iteration is:\n",
      "[1382]\tvalid_0's auc: 0.725744\n"
     ]
    },
    {
     "name": "stderr",
     "output_type": "stream",
     "text": [
      "Found `num_iterations` in params. Will use it instead of argument\n"
     ]
    },
    {
     "name": "stdout",
     "output_type": "stream",
     "text": [
      "Training until validation scores don't improve for 20 rounds\n",
      "Early stopping, best iteration is:\n",
      "[1219]\tvalid_0's auc: 0.725122\n"
     ]
    },
    {
     "name": "stderr",
     "output_type": "stream",
     "text": [
      "Found `num_iterations` in params. Will use it instead of argument\n"
     ]
    },
    {
     "name": "stdout",
     "output_type": "stream",
     "text": [
      "Training until validation scores don't improve for 20 rounds\n",
      "Early stopping, best iteration is:\n",
      "[874]\tvalid_0's auc: 0.72453\n"
     ]
    },
    {
     "name": "stderr",
     "output_type": "stream",
     "text": [
      "Found `num_iterations` in params. Will use it instead of argument\n"
     ]
    },
    {
     "name": "stdout",
     "output_type": "stream",
     "text": [
      "Training until validation scores don't improve for 20 rounds\n",
      "Early stopping, best iteration is:\n",
      "[1836]\tvalid_0's auc: 0.724596\n"
     ]
    },
    {
     "name": "stderr",
     "output_type": "stream",
     "text": [
      "Found `num_iterations` in params. Will use it instead of argument\n"
     ]
    },
    {
     "name": "stdout",
     "output_type": "stream",
     "text": [
      "Training until validation scores don't improve for 20 rounds\n",
      "Early stopping, best iteration is:\n",
      "[1331]\tvalid_0's auc: 0.724995\n"
     ]
    },
    {
     "name": "stderr",
     "output_type": "stream",
     "text": [
      "[I 2025-09-21 16:42:38,772] Trial 31 finished with value: 0.7203211873060401 and parameters: {'num_leaves': 57, 'max_depth': 3, 'learning_rate': 0.020290649375643528, 'min_child_samples': 40, 'min_child_weight': 0.45086805689835197, 'reg_alpha': 1.4512461129430263, 'reg_lambda': 1.1551550737165204e-06, 'feature_fraction': 0.5768035236220129, 'bagging_fraction': 0.6399187793382004, 'bagging_freq': 1}. Best is trial 12 with value: 0.7237402794888818.\n",
      "Found `num_iterations` in params. Will use it instead of argument\n"
     ]
    },
    {
     "name": "stdout",
     "output_type": "stream",
     "text": [
      "Training until validation scores don't improve for 20 rounds\n",
      "Did not meet early stopping. Best iteration is:\n",
      "[2000]\tvalid_0's auc: 0.720768\n"
     ]
    },
    {
     "name": "stderr",
     "output_type": "stream",
     "text": [
      "Found `num_iterations` in params. Will use it instead of argument\n"
     ]
    },
    {
     "name": "stdout",
     "output_type": "stream",
     "text": [
      "Training until validation scores don't improve for 20 rounds\n",
      "Did not meet early stopping. Best iteration is:\n",
      "[1997]\tvalid_0's auc: 0.721053\n"
     ]
    },
    {
     "name": "stderr",
     "output_type": "stream",
     "text": [
      "Found `num_iterations` in params. Will use it instead of argument\n"
     ]
    },
    {
     "name": "stdout",
     "output_type": "stream",
     "text": [
      "Training until validation scores don't improve for 20 rounds\n",
      "Did not meet early stopping. Best iteration is:\n",
      "[1997]\tvalid_0's auc: 0.723325\n"
     ]
    },
    {
     "name": "stderr",
     "output_type": "stream",
     "text": [
      "Found `num_iterations` in params. Will use it instead of argument\n"
     ]
    },
    {
     "name": "stdout",
     "output_type": "stream",
     "text": [
      "Training until validation scores don't improve for 20 rounds\n",
      "Did not meet early stopping. Best iteration is:\n",
      "[2000]\tvalid_0's auc: 0.717603\n"
     ]
    },
    {
     "name": "stderr",
     "output_type": "stream",
     "text": [
      "Found `num_iterations` in params. Will use it instead of argument\n"
     ]
    },
    {
     "name": "stdout",
     "output_type": "stream",
     "text": [
      "Training until validation scores don't improve for 20 rounds\n",
      "Did not meet early stopping. Best iteration is:\n",
      "[1998]\tvalid_0's auc: 0.720995\n"
     ]
    },
    {
     "name": "stderr",
     "output_type": "stream",
     "text": [
      "[I 2025-09-21 16:50:50,447] Trial 32 finished with value: 0.7231659238898012 and parameters: {'num_leaves': 100, 'max_depth': 3, 'learning_rate': 0.0071221300220096016, 'min_child_samples': 93, 'min_child_weight': 1.3183003248131069, 'reg_alpha': 0.026469656149575742, 'reg_lambda': 9.634598627103534, 'feature_fraction': 0.5591435711674477, 'bagging_fraction': 0.5321501178669771, 'bagging_freq': 3}. Best is trial 12 with value: 0.7237402794888818.\n",
      "Found `num_iterations` in params. Will use it instead of argument\n"
     ]
    },
    {
     "name": "stdout",
     "output_type": "stream",
     "text": [
      "Training until validation scores don't improve for 20 rounds\n",
      "Did not meet early stopping. Best iteration is:\n",
      "[2000]\tvalid_0's auc: 0.722306\n"
     ]
    },
    {
     "name": "stderr",
     "output_type": "stream",
     "text": [
      "Found `num_iterations` in params. Will use it instead of argument\n"
     ]
    },
    {
     "name": "stdout",
     "output_type": "stream",
     "text": [
      "Training until validation scores don't improve for 20 rounds\n",
      "Did not meet early stopping. Best iteration is:\n",
      "[1997]\tvalid_0's auc: 0.722989\n"
     ]
    },
    {
     "name": "stderr",
     "output_type": "stream",
     "text": [
      "Found `num_iterations` in params. Will use it instead of argument\n"
     ]
    },
    {
     "name": "stdout",
     "output_type": "stream",
     "text": [
      "Training until validation scores don't improve for 20 rounds\n",
      "Did not meet early stopping. Best iteration is:\n",
      "[2000]\tvalid_0's auc: 0.725271\n"
     ]
    },
    {
     "name": "stderr",
     "output_type": "stream",
     "text": [
      "Found `num_iterations` in params. Will use it instead of argument\n"
     ]
    },
    {
     "name": "stdout",
     "output_type": "stream",
     "text": [
      "Training until validation scores don't improve for 20 rounds\n",
      "Did not meet early stopping. Best iteration is:\n",
      "[1999]\tvalid_0's auc: 0.720112\n"
     ]
    },
    {
     "name": "stderr",
     "output_type": "stream",
     "text": [
      "Found `num_iterations` in params. Will use it instead of argument\n"
     ]
    },
    {
     "name": "stdout",
     "output_type": "stream",
     "text": [
      "Training until validation scores don't improve for 20 rounds\n",
      "Did not meet early stopping. Best iteration is:\n",
      "[2000]\tvalid_0's auc: 0.72283\n"
     ]
    },
    {
     "name": "stderr",
     "output_type": "stream",
     "text": [
      "[I 2025-09-21 16:59:04,234] Trial 33 finished with value: 0.7234471381038377 and parameters: {'num_leaves': 102, 'max_depth': 3, 'learning_rate': 0.008893787573551441, 'min_child_samples': 94, 'min_child_weight': 1.1825709072592305, 'reg_alpha': 0.03077788658387837, 'reg_lambda': 4.693734026914206, 'feature_fraction': 0.5407959314944655, 'bagging_fraction': 0.5562498740126275, 'bagging_freq': 3}. Best is trial 12 with value: 0.7237402794888818.\n",
      "Found `num_iterations` in params. Will use it instead of argument\n"
     ]
    },
    {
     "name": "stdout",
     "output_type": "stream",
     "text": [
      "Training until validation scores don't improve for 20 rounds\n",
      "Did not meet early stopping. Best iteration is:\n",
      "[2000]\tvalid_0's auc: 0.722424\n"
     ]
    },
    {
     "name": "stderr",
     "output_type": "stream",
     "text": [
      "Found `num_iterations` in params. Will use it instead of argument\n"
     ]
    },
    {
     "name": "stdout",
     "output_type": "stream",
     "text": [
      "Training until validation scores don't improve for 20 rounds\n",
      "Did not meet early stopping. Best iteration is:\n",
      "[2000]\tvalid_0's auc: 0.722987\n"
     ]
    },
    {
     "name": "stderr",
     "output_type": "stream",
     "text": [
      "Found `num_iterations` in params. Will use it instead of argument\n"
     ]
    },
    {
     "name": "stdout",
     "output_type": "stream",
     "text": [
      "Training until validation scores don't improve for 20 rounds\n",
      "Early stopping, best iteration is:\n",
      "[1535]\tvalid_0's auc: 0.723183\n"
     ]
    },
    {
     "name": "stderr",
     "output_type": "stream",
     "text": [
      "Found `num_iterations` in params. Will use it instead of argument\n"
     ]
    },
    {
     "name": "stdout",
     "output_type": "stream",
     "text": [
      "Training until validation scores don't improve for 20 rounds\n",
      "Did not meet early stopping. Best iteration is:\n",
      "[1997]\tvalid_0's auc: 0.720749\n"
     ]
    },
    {
     "name": "stderr",
     "output_type": "stream",
     "text": [
      "Found `num_iterations` in params. Will use it instead of argument\n"
     ]
    },
    {
     "name": "stdout",
     "output_type": "stream",
     "text": [
      "Training until validation scores don't improve for 20 rounds\n",
      "Did not meet early stopping. Best iteration is:\n",
      "[1999]\tvalid_0's auc: 0.722758\n"
     ]
    },
    {
     "name": "stderr",
     "output_type": "stream",
     "text": [
      "[I 2025-09-21 17:06:59,302] Trial 34 finished with value: 0.7238233751949039 and parameters: {'num_leaves': 128, 'max_depth': 3, 'learning_rate': 0.009311425411861897, 'min_child_samples': 82, 'min_child_weight': 1.2761274039847001, 'reg_alpha': 0.004804123313111612, 'reg_lambda': 7.960096132283736, 'feature_fraction': 0.5016100518583346, 'bagging_fraction': 0.524578620411521, 'bagging_freq': 3}. Best is trial 34 with value: 0.7238233751949039.\n",
      "Found `num_iterations` in params. Will use it instead of argument\n"
     ]
    },
    {
     "name": "stdout",
     "output_type": "stream",
     "text": [
      "Training until validation scores don't improve for 20 rounds\n",
      "Early stopping, best iteration is:\n",
      "[1929]\tvalid_0's auc: 0.723992\n"
     ]
    },
    {
     "name": "stderr",
     "output_type": "stream",
     "text": [
      "Found `num_iterations` in params. Will use it instead of argument\n"
     ]
    },
    {
     "name": "stdout",
     "output_type": "stream",
     "text": [
      "Training until validation scores don't improve for 20 rounds\n",
      "Early stopping, best iteration is:\n",
      "[1931]\tvalid_0's auc: 0.723549\n"
     ]
    },
    {
     "name": "stderr",
     "output_type": "stream",
     "text": [
      "Found `num_iterations` in params. Will use it instead of argument\n"
     ]
    },
    {
     "name": "stdout",
     "output_type": "stream",
     "text": [
      "Training until validation scores don't improve for 20 rounds\n",
      "Early stopping, best iteration is:\n",
      "[1936]\tvalid_0's auc: 0.726993\n"
     ]
    },
    {
     "name": "stderr",
     "output_type": "stream",
     "text": [
      "Found `num_iterations` in params. Will use it instead of argument\n"
     ]
    },
    {
     "name": "stdout",
     "output_type": "stream",
     "text": [
      "Training until validation scores don't improve for 20 rounds\n",
      "Did not meet early stopping. Best iteration is:\n",
      "[2000]\tvalid_0's auc: 0.72206\n"
     ]
    },
    {
     "name": "stderr",
     "output_type": "stream",
     "text": [
      "Found `num_iterations` in params. Will use it instead of argument\n"
     ]
    },
    {
     "name": "stdout",
     "output_type": "stream",
     "text": [
      "Training until validation scores don't improve for 20 rounds\n",
      "Did not meet early stopping. Best iteration is:\n",
      "[1999]\tvalid_0's auc: 0.72471\n"
     ]
    },
    {
     "name": "stderr",
     "output_type": "stream",
     "text": [
      "[I 2025-09-21 17:15:05,981] Trial 35 finished with value: 0.7223237877628781 and parameters: {'num_leaves': 124, 'max_depth': 3, 'learning_rate': 0.011556771236972949, 'min_child_samples': 84, 'min_child_weight': 3.360420304781891, 'reg_alpha': 0.004300739344324725, 'reg_lambda': 3.07074046761432, 'feature_fraction': 0.5123929221171463, 'bagging_fraction': 0.5850862558598618, 'bagging_freq': 4}. Best is trial 34 with value: 0.7238233751949039.\n",
      "Found `num_iterations` in params. Will use it instead of argument\n"
     ]
    },
    {
     "name": "stdout",
     "output_type": "stream",
     "text": [
      "Training until validation scores don't improve for 20 rounds\n",
      "Did not meet early stopping. Best iteration is:\n",
      "[1998]\tvalid_0's auc: 0.722374\n"
     ]
    },
    {
     "name": "stderr",
     "output_type": "stream",
     "text": [
      "Found `num_iterations` in params. Will use it instead of argument\n"
     ]
    },
    {
     "name": "stdout",
     "output_type": "stream",
     "text": [
      "Training until validation scores don't improve for 20 rounds\n",
      "Did not meet early stopping. Best iteration is:\n",
      "[2000]\tvalid_0's auc: 0.723148\n"
     ]
    },
    {
     "name": "stderr",
     "output_type": "stream",
     "text": [
      "Found `num_iterations` in params. Will use it instead of argument\n"
     ]
    },
    {
     "name": "stdout",
     "output_type": "stream",
     "text": [
      "Training until validation scores don't improve for 20 rounds\n",
      "Did not meet early stopping. Best iteration is:\n",
      "[1997]\tvalid_0's auc: 0.725367\n"
     ]
    },
    {
     "name": "stderr",
     "output_type": "stream",
     "text": [
      "Found `num_iterations` in params. Will use it instead of argument\n"
     ]
    },
    {
     "name": "stdout",
     "output_type": "stream",
     "text": [
      "Training until validation scores don't improve for 20 rounds\n",
      "Did not meet early stopping. Best iteration is:\n",
      "[2000]\tvalid_0's auc: 0.720077\n"
     ]
    },
    {
     "name": "stderr",
     "output_type": "stream",
     "text": [
      "Found `num_iterations` in params. Will use it instead of argument\n"
     ]
    },
    {
     "name": "stdout",
     "output_type": "stream",
     "text": [
      "Training until validation scores don't improve for 20 rounds\n",
      "Did not meet early stopping. Best iteration is:\n",
      "[2000]\tvalid_0's auc: 0.723099\n"
     ]
    },
    {
     "name": "stderr",
     "output_type": "stream",
     "text": [
      "[I 2025-09-21 17:23:27,782] Trial 36 finished with value: 0.7229544526439379 and parameters: {'num_leaves': 82, 'max_depth': 3, 'learning_rate': 0.008576732316612054, 'min_child_samples': 57, 'min_child_weight': 4.705960049770715, 'reg_alpha': 0.09157395705334823, 'reg_lambda': 0.552756489848627, 'feature_fraction': 0.5029954330001202, 'bagging_fraction': 0.7831301895260182, 'bagging_freq': 3}. Best is trial 34 with value: 0.7238233751949039.\n",
      "Found `num_iterations` in params. Will use it instead of argument\n"
     ]
    },
    {
     "name": "stdout",
     "output_type": "stream",
     "text": [
      "Training until validation scores don't improve for 20 rounds\n",
      "Early stopping, best iteration is:\n",
      "[1003]\tvalid_0's auc: 0.726172\n"
     ]
    },
    {
     "name": "stderr",
     "output_type": "stream",
     "text": [
      "Found `num_iterations` in params. Will use it instead of argument\n"
     ]
    },
    {
     "name": "stdout",
     "output_type": "stream",
     "text": [
      "Training until validation scores don't improve for 20 rounds\n",
      "Early stopping, best iteration is:\n",
      "[684]\tvalid_0's auc: 0.722511\n"
     ]
    },
    {
     "name": "stderr",
     "output_type": "stream",
     "text": [
      "Found `num_iterations` in params. Will use it instead of argument\n"
     ]
    },
    {
     "name": "stdout",
     "output_type": "stream",
     "text": [
      "Training until validation scores don't improve for 20 rounds\n",
      "Early stopping, best iteration is:\n",
      "[715]\tvalid_0's auc: 0.725622\n"
     ]
    },
    {
     "name": "stderr",
     "output_type": "stream",
     "text": [
      "Found `num_iterations` in params. Will use it instead of argument\n"
     ]
    },
    {
     "name": "stdout",
     "output_type": "stream",
     "text": [
      "Training until validation scores don't improve for 20 rounds\n",
      "Early stopping, best iteration is:\n",
      "[654]\tvalid_0's auc: 0.720787\n"
     ]
    },
    {
     "name": "stderr",
     "output_type": "stream",
     "text": [
      "Found `num_iterations` in params. Will use it instead of argument\n"
     ]
    },
    {
     "name": "stdout",
     "output_type": "stream",
     "text": [
      "Training until validation scores don't improve for 20 rounds\n",
      "Early stopping, best iteration is:\n",
      "[786]\tvalid_0's auc: 0.724407\n"
     ]
    },
    {
     "name": "stderr",
     "output_type": "stream",
     "text": [
      "[I 2025-09-21 17:28:23,271] Trial 37 finished with value: 0.7215849148401683 and parameters: {'num_leaves': 137, 'max_depth': 3, 'learning_rate': 0.03463101404199479, 'min_child_samples': 75, 'min_child_weight': 8.61677372325676, 'reg_alpha': 2.3474630872019686, 'reg_lambda': 3.442863112101301, 'feature_fraction': 0.5410418145725182, 'bagging_fraction': 0.5017875398344196, 'bagging_freq': 6}. Best is trial 34 with value: 0.7238233751949039.\n",
      "Found `num_iterations` in params. Will use it instead of argument\n"
     ]
    },
    {
     "name": "stdout",
     "output_type": "stream",
     "text": [
      "Training until validation scores don't improve for 20 rounds\n",
      "Early stopping, best iteration is:\n",
      "[1754]\tvalid_0's auc: 0.724939\n"
     ]
    },
    {
     "name": "stderr",
     "output_type": "stream",
     "text": [
      "Found `num_iterations` in params. Will use it instead of argument\n"
     ]
    },
    {
     "name": "stdout",
     "output_type": "stream",
     "text": [
      "Training until validation scores don't improve for 20 rounds\n",
      "Early stopping, best iteration is:\n",
      "[1612]\tvalid_0's auc: 0.724738\n"
     ]
    },
    {
     "name": "stderr",
     "output_type": "stream",
     "text": [
      "Found `num_iterations` in params. Will use it instead of argument\n"
     ]
    },
    {
     "name": "stdout",
     "output_type": "stream",
     "text": [
      "Training until validation scores don't improve for 20 rounds\n",
      "Early stopping, best iteration is:\n",
      "[1549]\tvalid_0's auc: 0.727123\n"
     ]
    },
    {
     "name": "stderr",
     "output_type": "stream",
     "text": [
      "Found `num_iterations` in params. Will use it instead of argument\n"
     ]
    },
    {
     "name": "stdout",
     "output_type": "stream",
     "text": [
      "Training until validation scores don't improve for 20 rounds\n",
      "Did not meet early stopping. Best iteration is:\n",
      "[1993]\tvalid_0's auc: 0.723072\n"
     ]
    },
    {
     "name": "stderr",
     "output_type": "stream",
     "text": [
      "Found `num_iterations` in params. Will use it instead of argument\n"
     ]
    },
    {
     "name": "stdout",
     "output_type": "stream",
     "text": [
      "Training until validation scores don't improve for 20 rounds\n",
      "Early stopping, best iteration is:\n",
      "[1256]\tvalid_0's auc: 0.723208\n"
     ]
    },
    {
     "name": "stderr",
     "output_type": "stream",
     "text": [
      "[I 2025-09-21 17:35:12,726] Trial 38 finished with value: 0.7137780103513478 and parameters: {'num_leaves': 115, 'max_depth': 4, 'learning_rate': 0.009417116658536541, 'min_child_samples': 66, 'min_child_weight': 0.6024090142543839, 'reg_alpha': 0.0005442459822982647, 'reg_lambda': 0.0001335041891887939, 'feature_fraction': 0.6001204181901987, 'bagging_fraction': 0.6137810530114293, 'bagging_freq': 4}. Best is trial 34 with value: 0.7238233751949039.\n",
      "Found `num_iterations` in params. Will use it instead of argument\n"
     ]
    },
    {
     "name": "stdout",
     "output_type": "stream",
     "text": [
      "Training until validation scores don't improve for 20 rounds\n",
      "Did not meet early stopping. Best iteration is:\n",
      "[1996]\tvalid_0's auc: 0.725208\n"
     ]
    },
    {
     "name": "stderr",
     "output_type": "stream",
     "text": [
      "Found `num_iterations` in params. Will use it instead of argument\n"
     ]
    },
    {
     "name": "stdout",
     "output_type": "stream",
     "text": [
      "Training until validation scores don't improve for 20 rounds\n",
      "Early stopping, best iteration is:\n",
      "[1598]\tvalid_0's auc: 0.723938\n"
     ]
    },
    {
     "name": "stderr",
     "output_type": "stream",
     "text": [
      "Found `num_iterations` in params. Will use it instead of argument\n"
     ]
    },
    {
     "name": "stdout",
     "output_type": "stream",
     "text": [
      "Training until validation scores don't improve for 20 rounds\n",
      "Early stopping, best iteration is:\n",
      "[1366]\tvalid_0's auc: 0.72599\n"
     ]
    },
    {
     "name": "stderr",
     "output_type": "stream",
     "text": [
      "Found `num_iterations` in params. Will use it instead of argument\n"
     ]
    },
    {
     "name": "stdout",
     "output_type": "stream",
     "text": [
      "Training until validation scores don't improve for 20 rounds\n",
      "Early stopping, best iteration is:\n",
      "[1584]\tvalid_0's auc: 0.721489\n"
     ]
    },
    {
     "name": "stderr",
     "output_type": "stream",
     "text": [
      "Found `num_iterations` in params. Will use it instead of argument\n"
     ]
    },
    {
     "name": "stdout",
     "output_type": "stream",
     "text": [
      "Training until validation scores don't improve for 20 rounds\n",
      "Early stopping, best iteration is:\n",
      "[1911]\tvalid_0's auc: 0.725536\n"
     ]
    },
    {
     "name": "stderr",
     "output_type": "stream",
     "text": [
      "[I 2025-09-21 17:40:03,895] Trial 39 finished with value: 0.7206645728291411 and parameters: {'num_leaves': 35, 'max_depth': 3, 'learning_rate': 0.013158974841605655, 'min_child_samples': 97, 'min_child_weight': 1.143997638640284, 'reg_alpha': 0.005709632040110862, 'reg_lambda': 4.645883692184189e-05, 'feature_fraction': 0.6844528454863741, 'bagging_fraction': 0.5736488170198537, 'bagging_freq': 2}. Best is trial 34 with value: 0.7238233751949039.\n",
      "Found `num_iterations` in params. Will use it instead of argument\n"
     ]
    },
    {
     "name": "stdout",
     "output_type": "stream",
     "text": [
      "Training until validation scores don't improve for 20 rounds\n",
      "Early stopping, best iteration is:\n",
      "[1807]\tvalid_0's auc: 0.726557\n"
     ]
    },
    {
     "name": "stderr",
     "output_type": "stream",
     "text": [
      "Found `num_iterations` in params. Will use it instead of argument\n"
     ]
    },
    {
     "name": "stdout",
     "output_type": "stream",
     "text": [
      "Training until validation scores don't improve for 20 rounds\n",
      "Early stopping, best iteration is:\n",
      "[1391]\tvalid_0's auc: 0.725663\n"
     ]
    },
    {
     "name": "stderr",
     "output_type": "stream",
     "text": [
      "Found `num_iterations` in params. Will use it instead of argument\n"
     ]
    },
    {
     "name": "stdout",
     "output_type": "stream",
     "text": [
      "Training until validation scores don't improve for 20 rounds\n",
      "Early stopping, best iteration is:\n",
      "[1276]\tvalid_0's auc: 0.726851\n"
     ]
    },
    {
     "name": "stderr",
     "output_type": "stream",
     "text": [
      "Found `num_iterations` in params. Will use it instead of argument\n"
     ]
    },
    {
     "name": "stdout",
     "output_type": "stream",
     "text": [
      "Training until validation scores don't improve for 20 rounds\n",
      "Early stopping, best iteration is:\n",
      "[1478]\tvalid_0's auc: 0.722157\n"
     ]
    },
    {
     "name": "stderr",
     "output_type": "stream",
     "text": [
      "Found `num_iterations` in params. Will use it instead of argument\n"
     ]
    },
    {
     "name": "stdout",
     "output_type": "stream",
     "text": [
      "Training until validation scores don't improve for 20 rounds\n",
      "Early stopping, best iteration is:\n",
      "[1335]\tvalid_0's auc: 0.72505\n"
     ]
    },
    {
     "name": "stderr",
     "output_type": "stream",
     "text": [
      "[I 2025-09-21 17:46:56,737] Trial 40 finished with value: 0.720561799750878 and parameters: {'num_leaves': 131, 'max_depth': 3, 'learning_rate': 0.01751015389375832, 'min_child_samples': 84, 'min_child_weight': 2.3977770779951224, 'reg_alpha': 0.21232411451487151, 'reg_lambda': 0.19612246396651195, 'feature_fraction': 0.5763507768622446, 'bagging_fraction': 0.6819357966669257, 'bagging_freq': 5}. Best is trial 34 with value: 0.7238233751949039.\n",
      "Found `num_iterations` in params. Will use it instead of argument\n"
     ]
    },
    {
     "name": "stdout",
     "output_type": "stream",
     "text": [
      "Training until validation scores don't improve for 20 rounds\n",
      "Early stopping, best iteration is:\n",
      "[1133]\tvalid_0's auc: 0.728177\n"
     ]
    },
    {
     "name": "stderr",
     "output_type": "stream",
     "text": [
      "Found `num_iterations` in params. Will use it instead of argument\n"
     ]
    },
    {
     "name": "stdout",
     "output_type": "stream",
     "text": [
      "Training until validation scores don't improve for 20 rounds\n",
      "Early stopping, best iteration is:\n",
      "[905]\tvalid_0's auc: 0.726547\n"
     ]
    },
    {
     "name": "stderr",
     "output_type": "stream",
     "text": [
      "Found `num_iterations` in params. Will use it instead of argument\n"
     ]
    },
    {
     "name": "stdout",
     "output_type": "stream",
     "text": [
      "Training until validation scores don't improve for 20 rounds\n",
      "Early stopping, best iteration is:\n",
      "[1041]\tvalid_0's auc: 0.729608\n"
     ]
    },
    {
     "name": "stderr",
     "output_type": "stream",
     "text": [
      "Found `num_iterations` in params. Will use it instead of argument\n"
     ]
    },
    {
     "name": "stdout",
     "output_type": "stream",
     "text": [
      "Training until validation scores don't improve for 20 rounds\n",
      "Early stopping, best iteration is:\n",
      "[901]\tvalid_0's auc: 0.724852\n"
     ]
    },
    {
     "name": "stderr",
     "output_type": "stream",
     "text": [
      "Found `num_iterations` in params. Will use it instead of argument\n"
     ]
    },
    {
     "name": "stdout",
     "output_type": "stream",
     "text": [
      "Training until validation scores don't improve for 20 rounds\n",
      "Early stopping, best iteration is:\n",
      "[1457]\tvalid_0's auc: 0.729581\n"
     ]
    },
    {
     "name": "stderr",
     "output_type": "stream",
     "text": [
      "[I 2025-09-21 17:52:47,827] Trial 41 finished with value: 0.7080192403074881 and parameters: {'num_leaves': 103, 'max_depth': 4, 'learning_rate': 0.024775168197443513, 'min_child_samples': 27, 'min_child_weight': 5.007734414719263, 'reg_alpha': 0.7789743689992445, 'reg_lambda': 4.566199105345205, 'feature_fraction': 0.5897374516545106, 'bagging_fraction': 0.830530457682058, 'bagging_freq': 4}. Best is trial 34 with value: 0.7238233751949039.\n",
      "Found `num_iterations` in params. Will use it instead of argument\n"
     ]
    },
    {
     "name": "stdout",
     "output_type": "stream",
     "text": [
      "Training until validation scores don't improve for 20 rounds\n",
      "Did not meet early stopping. Best iteration is:\n",
      "[2000]\tvalid_0's auc: 0.719043\n"
     ]
    },
    {
     "name": "stderr",
     "output_type": "stream",
     "text": [
      "Found `num_iterations` in params. Will use it instead of argument\n"
     ]
    },
    {
     "name": "stdout",
     "output_type": "stream",
     "text": [
      "Training until validation scores don't improve for 20 rounds\n",
      "Early stopping, best iteration is:\n",
      "[34]\tvalid_0's auc: 0.679614\n"
     ]
    },
    {
     "name": "stderr",
     "output_type": "stream",
     "text": [
      "Found `num_iterations` in params. Will use it instead of argument\n"
     ]
    },
    {
     "name": "stdout",
     "output_type": "stream",
     "text": [
      "Training until validation scores don't improve for 20 rounds\n",
      "Did not meet early stopping. Best iteration is:\n",
      "[2000]\tvalid_0's auc: 0.722014\n"
     ]
    },
    {
     "name": "stderr",
     "output_type": "stream",
     "text": [
      "Found `num_iterations` in params. Will use it instead of argument\n"
     ]
    },
    {
     "name": "stdout",
     "output_type": "stream",
     "text": [
      "Training until validation scores don't improve for 20 rounds\n",
      "Did not meet early stopping. Best iteration is:\n",
      "[2000]\tvalid_0's auc: 0.716079\n"
     ]
    },
    {
     "name": "stderr",
     "output_type": "stream",
     "text": [
      "Found `num_iterations` in params. Will use it instead of argument\n"
     ]
    },
    {
     "name": "stdout",
     "output_type": "stream",
     "text": [
      "Training until validation scores don't improve for 20 rounds\n",
      "Did not meet early stopping. Best iteration is:\n",
      "[1998]\tvalid_0's auc: 0.71905\n"
     ]
    },
    {
     "name": "stderr",
     "output_type": "stream",
     "text": [
      "[I 2025-09-21 18:00:17,856] Trial 42 finished with value: 0.72280759835829 and parameters: {'num_leaves': 97, 'max_depth': 3, 'learning_rate': 0.005910961908654683, 'min_child_samples': 93, 'min_child_weight': 1.15716765731808, 'reg_alpha': 0.025690096900448538, 'reg_lambda': 9.476536854814618, 'feature_fraction': 0.547665904535872, 'bagging_fraction': 0.5333627424732349, 'bagging_freq': 3}. Best is trial 34 with value: 0.7238233751949039.\n",
      "Found `num_iterations` in params. Will use it instead of argument\n"
     ]
    },
    {
     "name": "stdout",
     "output_type": "stream",
     "text": [
      "Training until validation scores don't improve for 20 rounds\n",
      "Did not meet early stopping. Best iteration is:\n",
      "[2000]\tvalid_0's auc: 0.72272\n"
     ]
    },
    {
     "name": "stderr",
     "output_type": "stream",
     "text": [
      "Found `num_iterations` in params. Will use it instead of argument\n"
     ]
    },
    {
     "name": "stdout",
     "output_type": "stream",
     "text": [
      "Training until validation scores don't improve for 20 rounds\n",
      "Did not meet early stopping. Best iteration is:\n",
      "[2000]\tvalid_0's auc: 0.723194\n"
     ]
    },
    {
     "name": "stderr",
     "output_type": "stream",
     "text": [
      "Found `num_iterations` in params. Will use it instead of argument\n"
     ]
    },
    {
     "name": "stdout",
     "output_type": "stream",
     "text": [
      "Training until validation scores don't improve for 20 rounds\n",
      "Early stopping, best iteration is:\n",
      "[1855]\tvalid_0's auc: 0.725018\n"
     ]
    },
    {
     "name": "stderr",
     "output_type": "stream",
     "text": [
      "Found `num_iterations` in params. Will use it instead of argument\n"
     ]
    },
    {
     "name": "stdout",
     "output_type": "stream",
     "text": [
      "Training until validation scores don't improve for 20 rounds\n",
      "Did not meet early stopping. Best iteration is:\n",
      "[1997]\tvalid_0's auc: 0.720184\n"
     ]
    },
    {
     "name": "stderr",
     "output_type": "stream",
     "text": [
      "Found `num_iterations` in params. Will use it instead of argument\n"
     ]
    },
    {
     "name": "stdout",
     "output_type": "stream",
     "text": [
      "Training until validation scores don't improve for 20 rounds\n",
      "Did not meet early stopping. Best iteration is:\n",
      "[1990]\tvalid_0's auc: 0.72353\n"
     ]
    },
    {
     "name": "stderr",
     "output_type": "stream",
     "text": [
      "[I 2025-09-21 18:08:46,687] Trial 43 finished with value: 0.7229605984959291 and parameters: {'num_leaves': 87, 'max_depth': 3, 'learning_rate': 0.009321028716748954, 'min_child_samples': 91, 'min_child_weight': 1.323973680126496, 'reg_alpha': 0.0021096764456911385, 'reg_lambda': 3.972929642829723, 'feature_fraction': 0.5248011965584535, 'bagging_fraction': 0.5236753100798283, 'bagging_freq': 2}. Best is trial 34 with value: 0.7238233751949039.\n",
      "Found `num_iterations` in params. Will use it instead of argument\n"
     ]
    },
    {
     "name": "stdout",
     "output_type": "stream",
     "text": [
      "Training until validation scores don't improve for 20 rounds\n",
      "Did not meet early stopping. Best iteration is:\n",
      "[2000]\tvalid_0's auc: 0.721809\n"
     ]
    },
    {
     "name": "stderr",
     "output_type": "stream",
     "text": [
      "Found `num_iterations` in params. Will use it instead of argument\n"
     ]
    },
    {
     "name": "stdout",
     "output_type": "stream",
     "text": [
      "Training until validation scores don't improve for 20 rounds\n",
      "Did not meet early stopping. Best iteration is:\n",
      "[1999]\tvalid_0's auc: 0.722162\n"
     ]
    },
    {
     "name": "stderr",
     "output_type": "stream",
     "text": [
      "Found `num_iterations` in params. Will use it instead of argument\n"
     ]
    },
    {
     "name": "stdout",
     "output_type": "stream",
     "text": [
      "Training until validation scores don't improve for 20 rounds\n",
      "Did not meet early stopping. Best iteration is:\n",
      "[2000]\tvalid_0's auc: 0.724706\n"
     ]
    },
    {
     "name": "stderr",
     "output_type": "stream",
     "text": [
      "Found `num_iterations` in params. Will use it instead of argument\n"
     ]
    },
    {
     "name": "stdout",
     "output_type": "stream",
     "text": [
      "Training until validation scores don't improve for 20 rounds\n",
      "Did not meet early stopping. Best iteration is:\n",
      "[2000]\tvalid_0's auc: 0.719294\n"
     ]
    },
    {
     "name": "stderr",
     "output_type": "stream",
     "text": [
      "Found `num_iterations` in params. Will use it instead of argument\n"
     ]
    },
    {
     "name": "stdout",
     "output_type": "stream",
     "text": [
      "Training until validation scores don't improve for 20 rounds\n",
      "Early stopping, best iteration is:\n",
      "[1928]\tvalid_0's auc: 0.722524\n"
     ]
    },
    {
     "name": "stderr",
     "output_type": "stream",
     "text": [
      "[I 2025-09-21 18:17:01,618] Trial 44 finished with value: 0.7225044525789879 and parameters: {'num_leaves': 145, 'max_depth': 3, 'learning_rate': 0.007976445939661899, 'min_child_samples': 97, 'min_child_weight': 0.4452284987739166, 'reg_alpha': 0.04288267090057245, 'reg_lambda': 0.39680313628976155, 'feature_fraction': 0.5673904549367581, 'bagging_fraction': 0.5549801211246013, 'bagging_freq': 3}. Best is trial 34 with value: 0.7238233751949039.\n",
      "Found `num_iterations` in params. Will use it instead of argument\n"
     ]
    },
    {
     "name": "stdout",
     "output_type": "stream",
     "text": [
      "Training until validation scores don't improve for 20 rounds\n",
      "Did not meet early stopping. Best iteration is:\n",
      "[2000]\tvalid_0's auc: 0.719952\n"
     ]
    },
    {
     "name": "stderr",
     "output_type": "stream",
     "text": [
      "Found `num_iterations` in params. Will use it instead of argument\n"
     ]
    },
    {
     "name": "stdout",
     "output_type": "stream",
     "text": [
      "Training until validation scores don't improve for 20 rounds\n",
      "Did not meet early stopping. Best iteration is:\n",
      "[2000]\tvalid_0's auc: 0.721035\n"
     ]
    },
    {
     "name": "stderr",
     "output_type": "stream",
     "text": [
      "Found `num_iterations` in params. Will use it instead of argument\n"
     ]
    },
    {
     "name": "stdout",
     "output_type": "stream",
     "text": [
      "Training until validation scores don't improve for 20 rounds\n",
      "Did not meet early stopping. Best iteration is:\n",
      "[2000]\tvalid_0's auc: 0.723208\n"
     ]
    },
    {
     "name": "stderr",
     "output_type": "stream",
     "text": [
      "Found `num_iterations` in params. Will use it instead of argument\n"
     ]
    },
    {
     "name": "stdout",
     "output_type": "stream",
     "text": [
      "Training until validation scores don't improve for 20 rounds\n",
      "Early stopping, best iteration is:\n",
      "[39]\tvalid_0's auc: 0.670049\n"
     ]
    },
    {
     "name": "stderr",
     "output_type": "stream",
     "text": [
      "Found `num_iterations` in params. Will use it instead of argument\n"
     ]
    },
    {
     "name": "stdout",
     "output_type": "stream",
     "text": [
      "Training until validation scores don't improve for 20 rounds\n",
      "Did not meet early stopping. Best iteration is:\n",
      "[2000]\tvalid_0's auc: 0.720484\n"
     ]
    },
    {
     "name": "stderr",
     "output_type": "stream",
     "text": [
      "[I 2025-09-21 18:21:58,615] Trial 45 finished with value: 0.7234614382932072 and parameters: {'num_leaves': 116, 'max_depth': 3, 'learning_rate': 0.006405937438668106, 'min_child_samples': 82, 'min_child_weight': 1.6000810681548556, 'reg_alpha': 0.018268354608484614, 'reg_lambda': 8.202792966466589, 'feature_fraction': 0.6260134040376524, 'bagging_fraction': 0.5212278583044365, 'bagging_freq': 2}. Best is trial 34 with value: 0.7238233751949039.\n",
      "Found `num_iterations` in params. Will use it instead of argument\n"
     ]
    },
    {
     "name": "stdout",
     "output_type": "stream",
     "text": [
      "Training until validation scores don't improve for 20 rounds\n",
      "Did not meet early stopping. Best iteration is:\n",
      "[2000]\tvalid_0's auc: 0.719552\n"
     ]
    },
    {
     "name": "stderr",
     "output_type": "stream",
     "text": [
      "Found `num_iterations` in params. Will use it instead of argument\n"
     ]
    },
    {
     "name": "stdout",
     "output_type": "stream",
     "text": [
      "Training until validation scores don't improve for 20 rounds\n",
      "Early stopping, best iteration is:\n",
      "[30]\tvalid_0's auc: 0.676485\n"
     ]
    },
    {
     "name": "stderr",
     "output_type": "stream",
     "text": [
      "Found `num_iterations` in params. Will use it instead of argument\n"
     ]
    },
    {
     "name": "stdout",
     "output_type": "stream",
     "text": [
      "Training until validation scores don't improve for 20 rounds\n",
      "Did not meet early stopping. Best iteration is:\n",
      "[2000]\tvalid_0's auc: 0.722215\n"
     ]
    },
    {
     "name": "stderr",
     "output_type": "stream",
     "text": [
      "Found `num_iterations` in params. Will use it instead of argument\n"
     ]
    },
    {
     "name": "stdout",
     "output_type": "stream",
     "text": [
      "Training until validation scores don't improve for 20 rounds\n",
      "Early stopping, best iteration is:\n",
      "[68]\tvalid_0's auc: 0.673075\n"
     ]
    },
    {
     "name": "stderr",
     "output_type": "stream",
     "text": [
      "Found `num_iterations` in params. Will use it instead of argument\n"
     ]
    },
    {
     "name": "stdout",
     "output_type": "stream",
     "text": [
      "Training until validation scores don't improve for 20 rounds\n",
      "Did not meet early stopping. Best iteration is:\n",
      "[2000]\tvalid_0's auc: 0.719522\n"
     ]
    },
    {
     "name": "stderr",
     "output_type": "stream",
     "text": [
      "[I 2025-09-21 18:26:25,666] Trial 46 finished with value: 0.7223061192127876 and parameters: {'num_leaves': 72, 'max_depth': 3, 'learning_rate': 0.005721616670670889, 'min_child_samples': 74, 'min_child_weight': 5.851523188437867, 'reg_alpha': 0.0014716593361324064, 'reg_lambda': 1.082029674201463, 'feature_fraction': 0.624488923768502, 'bagging_fraction': 0.5936121909321666, 'bagging_freq': 2}. Best is trial 34 with value: 0.7238233751949039.\n",
      "Found `num_iterations` in params. Will use it instead of argument\n"
     ]
    },
    {
     "name": "stdout",
     "output_type": "stream",
     "text": [
      "Training until validation scores don't improve for 20 rounds\n",
      "Early stopping, best iteration is:\n",
      "[1805]\tvalid_0's auc: 0.722919\n"
     ]
    },
    {
     "name": "stderr",
     "output_type": "stream",
     "text": [
      "Found `num_iterations` in params. Will use it instead of argument\n"
     ]
    },
    {
     "name": "stdout",
     "output_type": "stream",
     "text": [
      "Training until validation scores don't improve for 20 rounds\n",
      "Early stopping, best iteration is:\n",
      "[1943]\tvalid_0's auc: 0.723524\n"
     ]
    },
    {
     "name": "stderr",
     "output_type": "stream",
     "text": [
      "Found `num_iterations` in params. Will use it instead of argument\n"
     ]
    },
    {
     "name": "stdout",
     "output_type": "stream",
     "text": [
      "Training until validation scores don't improve for 20 rounds\n",
      "Did not meet early stopping. Best iteration is:\n",
      "[2000]\tvalid_0's auc: 0.726718\n"
     ]
    },
    {
     "name": "stderr",
     "output_type": "stream",
     "text": [
      "Found `num_iterations` in params. Will use it instead of argument\n"
     ]
    },
    {
     "name": "stdout",
     "output_type": "stream",
     "text": [
      "Training until validation scores don't improve for 20 rounds\n",
      "Did not meet early stopping. Best iteration is:\n",
      "[2000]\tvalid_0's auc: 0.721374\n"
     ]
    },
    {
     "name": "stderr",
     "output_type": "stream",
     "text": [
      "Found `num_iterations` in params. Will use it instead of argument\n"
     ]
    },
    {
     "name": "stdout",
     "output_type": "stream",
     "text": [
      "Training until validation scores don't improve for 20 rounds\n",
      "Did not meet early stopping. Best iteration is:\n",
      "[1997]\tvalid_0's auc: 0.724404\n"
     ]
    },
    {
     "name": "stderr",
     "output_type": "stream",
     "text": [
      "[I 2025-09-21 18:31:28,918] Trial 47 finished with value: 0.7217507130872036 and parameters: {'num_leaves': 120, 'max_depth': 3, 'learning_rate': 0.01056287969625098, 'min_child_samples': 83, 'min_child_weight': 2.9091268598192355, 'reg_alpha': 0.14440041047601293, 'reg_lambda': 2.0627064273513572e-05, 'feature_fraction': 0.6427343477742146, 'bagging_fraction': 0.5546980448250097, 'bagging_freq': 1}. Best is trial 34 with value: 0.7238233751949039.\n",
      "Found `num_iterations` in params. Will use it instead of argument\n"
     ]
    },
    {
     "name": "stdout",
     "output_type": "stream",
     "text": [
      "Training until validation scores don't improve for 20 rounds\n",
      "Did not meet early stopping. Best iteration is:\n",
      "[1995]\tvalid_0's auc: 0.723066\n"
     ]
    },
    {
     "name": "stderr",
     "output_type": "stream",
     "text": [
      "Found `num_iterations` in params. Will use it instead of argument\n"
     ]
    },
    {
     "name": "stdout",
     "output_type": "stream",
     "text": [
      "Training until validation scores don't improve for 20 rounds\n",
      "Early stopping, best iteration is:\n",
      "[42]\tvalid_0's auc: 0.682541\n"
     ]
    },
    {
     "name": "stderr",
     "output_type": "stream",
     "text": [
      "Found `num_iterations` in params. Will use it instead of argument\n"
     ]
    },
    {
     "name": "stdout",
     "output_type": "stream",
     "text": [
      "Training until validation scores don't improve for 20 rounds\n",
      "Early stopping, best iteration is:\n",
      "[1849]\tvalid_0's auc: 0.724737\n"
     ]
    },
    {
     "name": "stderr",
     "output_type": "stream",
     "text": [
      "Found `num_iterations` in params. Will use it instead of argument\n"
     ]
    },
    {
     "name": "stdout",
     "output_type": "stream",
     "text": [
      "Training until validation scores don't improve for 20 rounds\n",
      "Did not meet early stopping. Best iteration is:\n",
      "[1997]\tvalid_0's auc: 0.720367\n"
     ]
    },
    {
     "name": "stderr",
     "output_type": "stream",
     "text": [
      "Found `num_iterations` in params. Will use it instead of argument\n"
     ]
    },
    {
     "name": "stdout",
     "output_type": "stream",
     "text": [
      "Training until validation scores don't improve for 20 rounds\n",
      "Did not meet early stopping. Best iteration is:\n",
      "[1995]\tvalid_0's auc: 0.722752\n"
     ]
    },
    {
     "name": "stderr",
     "output_type": "stream",
     "text": [
      "[I 2025-09-21 18:38:34,720] Trial 48 finished with value: 0.7222754502216611 and parameters: {'num_leaves': 129, 'max_depth': 3, 'learning_rate': 0.0091940480510051, 'min_child_samples': 16, 'min_child_weight': 0.7338023291120914, 'reg_alpha': 0.01208072885347896, 'reg_lambda': 0.0012124106744043608, 'feature_fraction': 0.5367395521449285, 'bagging_fraction': 0.5171602031192348, 'bagging_freq': 4}. Best is trial 34 with value: 0.7238233751949039.\n",
      "Found `num_iterations` in params. Will use it instead of argument\n"
     ]
    },
    {
     "name": "stdout",
     "output_type": "stream",
     "text": [
      "Training until validation scores don't improve for 20 rounds\n",
      "Did not meet early stopping. Best iteration is:\n",
      "[2000]\tvalid_0's auc: 0.726215\n"
     ]
    },
    {
     "name": "stderr",
     "output_type": "stream",
     "text": [
      "Found `num_iterations` in params. Will use it instead of argument\n"
     ]
    },
    {
     "name": "stdout",
     "output_type": "stream",
     "text": [
      "Training until validation scores don't improve for 20 rounds\n",
      "Early stopping, best iteration is:\n",
      "[1962]\tvalid_0's auc: 0.725081\n"
     ]
    },
    {
     "name": "stderr",
     "output_type": "stream",
     "text": [
      "Found `num_iterations` in params. Will use it instead of argument\n"
     ]
    },
    {
     "name": "stdout",
     "output_type": "stream",
     "text": [
      "Training until validation scores don't improve for 20 rounds\n",
      "Early stopping, best iteration is:\n",
      "[1660]\tvalid_0's auc: 0.726556\n"
     ]
    },
    {
     "name": "stderr",
     "output_type": "stream",
     "text": [
      "Found `num_iterations` in params. Will use it instead of argument\n"
     ]
    },
    {
     "name": "stdout",
     "output_type": "stream",
     "text": [
      "Training until validation scores don't improve for 20 rounds\n",
      "Did not meet early stopping. Best iteration is:\n",
      "[1997]\tvalid_0's auc: 0.723437\n"
     ]
    },
    {
     "name": "stderr",
     "output_type": "stream",
     "text": [
      "Found `num_iterations` in params. Will use it instead of argument\n"
     ]
    },
    {
     "name": "stdout",
     "output_type": "stream",
     "text": [
      "Training until validation scores don't improve for 20 rounds\n",
      "Did not meet early stopping. Best iteration is:\n",
      "[2000]\tvalid_0's auc: 0.725615\n"
     ]
    },
    {
     "name": "stderr",
     "output_type": "stream",
     "text": [
      "[I 2025-09-21 18:43:34,144] Trial 49 finished with value: 0.7220401207807811 and parameters: {'num_leaves': 114, 'max_depth': 3, 'learning_rate': 0.01523049385397548, 'min_child_samples': 69, 'min_child_weight': 1.7110453404892085, 'reg_alpha': 9.6483267090248, 'reg_lambda': 2.5178963063348855e-06, 'feature_fraction': 0.6750031790547334, 'bagging_fraction': 0.6324019320829806, 'bagging_freq': 2}. Best is trial 34 with value: 0.7238233751949039.\n",
      "Found `num_iterations` in params. Will use it instead of argument\n"
     ]
    },
    {
     "name": "stdout",
     "output_type": "stream",
     "text": [
      "Training until validation scores don't improve for 20 rounds\n",
      "Early stopping, best iteration is:\n",
      "[877]\tvalid_0's auc: 0.724864\n"
     ]
    },
    {
     "name": "stderr",
     "output_type": "stream",
     "text": [
      "Found `num_iterations` in params. Will use it instead of argument\n"
     ]
    },
    {
     "name": "stdout",
     "output_type": "stream",
     "text": [
      "Training until validation scores don't improve for 20 rounds\n",
      "Early stopping, best iteration is:\n",
      "[646]\tvalid_0's auc: 0.723105\n"
     ]
    },
    {
     "name": "stderr",
     "output_type": "stream",
     "text": [
      "Found `num_iterations` in params. Will use it instead of argument\n"
     ]
    },
    {
     "name": "stdout",
     "output_type": "stream",
     "text": [
      "Training until validation scores don't improve for 20 rounds\n",
      "Early stopping, best iteration is:\n",
      "[738]\tvalid_0's auc: 0.726217\n"
     ]
    },
    {
     "name": "stderr",
     "output_type": "stream",
     "text": [
      "Found `num_iterations` in params. Will use it instead of argument\n"
     ]
    },
    {
     "name": "stdout",
     "output_type": "stream",
     "text": [
      "Training until validation scores don't improve for 20 rounds\n",
      "Early stopping, best iteration is:\n",
      "[651]\tvalid_0's auc: 0.721117\n"
     ]
    },
    {
     "name": "stderr",
     "output_type": "stream",
     "text": [
      "Found `num_iterations` in params. Will use it instead of argument\n"
     ]
    },
    {
     "name": "stdout",
     "output_type": "stream",
     "text": [
      "Training until validation scores don't improve for 20 rounds\n",
      "Early stopping, best iteration is:\n",
      "[792]\tvalid_0's auc: 0.723663\n"
     ]
    },
    {
     "name": "stderr",
     "output_type": "stream",
     "text": [
      "[I 2025-09-21 18:48:21,711] Trial 50 finished with value: 0.7209621568548403 and parameters: {'num_leaves': 86, 'max_depth': 3, 'learning_rate': 0.03341598904075601, 'min_child_samples': 78, 'min_child_weight': 0.32049972897516393, 'reg_alpha': 0.4473278451935392, 'reg_lambda': 0.09335507409270907, 'feature_fraction': 0.5003072785869903, 'bagging_fraction': 0.5497782185197727, 'bagging_freq': 6}. Best is trial 34 with value: 0.7238233751949039.\n",
      "Found `num_iterations` in params. Will use it instead of argument\n"
     ]
    },
    {
     "name": "stdout",
     "output_type": "stream",
     "text": [
      "Training until validation scores don't improve for 20 rounds\n",
      "Did not meet early stopping. Best iteration is:\n",
      "[2000]\tvalid_0's auc: 0.718233\n"
     ]
    },
    {
     "name": "stderr",
     "output_type": "stream",
     "text": [
      "Found `num_iterations` in params. Will use it instead of argument\n"
     ]
    },
    {
     "name": "stdout",
     "output_type": "stream",
     "text": [
      "Training until validation scores don't improve for 20 rounds\n",
      "Did not meet early stopping. Best iteration is:\n",
      "[2000]\tvalid_0's auc: 0.718641\n"
     ]
    },
    {
     "name": "stderr",
     "output_type": "stream",
     "text": [
      "Found `num_iterations` in params. Will use it instead of argument\n"
     ]
    },
    {
     "name": "stdout",
     "output_type": "stream",
     "text": [
      "Training until validation scores don't improve for 20 rounds\n",
      "Did not meet early stopping. Best iteration is:\n",
      "[2000]\tvalid_0's auc: 0.721797\n"
     ]
    },
    {
     "name": "stderr",
     "output_type": "stream",
     "text": [
      "Found `num_iterations` in params. Will use it instead of argument\n"
     ]
    },
    {
     "name": "stdout",
     "output_type": "stream",
     "text": [
      "Training until validation scores don't improve for 20 rounds\n",
      "Did not meet early stopping. Best iteration is:\n",
      "[2000]\tvalid_0's auc: 0.715001\n"
     ]
    },
    {
     "name": "stderr",
     "output_type": "stream",
     "text": [
      "Found `num_iterations` in params. Will use it instead of argument\n"
     ]
    },
    {
     "name": "stdout",
     "output_type": "stream",
     "text": [
      "Training until validation scores don't improve for 20 rounds\n",
      "Did not meet early stopping. Best iteration is:\n",
      "[2000]\tvalid_0's auc: 0.718364\n"
     ]
    },
    {
     "name": "stderr",
     "output_type": "stream",
     "text": [
      "[I 2025-09-21 18:53:18,036] Trial 51 finished with value: 0.722209371947012 and parameters: {'num_leaves': 104, 'max_depth': 3, 'learning_rate': 0.005033836652510611, 'min_child_samples': 87, 'min_child_weight': 3.9054532190602016, 'reg_alpha': 0.0035682914824689735, 'reg_lambda': 2.397197941683232, 'feature_fraction': 0.7200863430688954, 'bagging_fraction': 0.514902677700248, 'bagging_freq': 5}. Best is trial 34 with value: 0.7238233751949039.\n",
      "Found `num_iterations` in params. Will use it instead of argument\n"
     ]
    },
    {
     "name": "stdout",
     "output_type": "stream",
     "text": [
      "Training until validation scores don't improve for 20 rounds\n",
      "Did not meet early stopping. Best iteration is:\n",
      "[2000]\tvalid_0's auc: 0.719438\n"
     ]
    },
    {
     "name": "stderr",
     "output_type": "stream",
     "text": [
      "Found `num_iterations` in params. Will use it instead of argument\n"
     ]
    },
    {
     "name": "stdout",
     "output_type": "stream",
     "text": [
      "Training until validation scores don't improve for 20 rounds\n",
      "Did not meet early stopping. Best iteration is:\n",
      "[2000]\tvalid_0's auc: 0.720123\n"
     ]
    },
    {
     "name": "stderr",
     "output_type": "stream",
     "text": [
      "Found `num_iterations` in params. Will use it instead of argument\n"
     ]
    },
    {
     "name": "stdout",
     "output_type": "stream",
     "text": [
      "Training until validation scores don't improve for 20 rounds\n",
      "Did not meet early stopping. Best iteration is:\n",
      "[2000]\tvalid_0's auc: 0.722156\n"
     ]
    },
    {
     "name": "stderr",
     "output_type": "stream",
     "text": [
      "Found `num_iterations` in params. Will use it instead of argument\n"
     ]
    },
    {
     "name": "stdout",
     "output_type": "stream",
     "text": [
      "Training until validation scores don't improve for 20 rounds\n",
      "Did not meet early stopping. Best iteration is:\n",
      "[1997]\tvalid_0's auc: 0.716773\n"
     ]
    },
    {
     "name": "stderr",
     "output_type": "stream",
     "text": [
      "Found `num_iterations` in params. Will use it instead of argument\n"
     ]
    },
    {
     "name": "stdout",
     "output_type": "stream",
     "text": [
      "Training until validation scores don't improve for 20 rounds\n",
      "Early stopping, best iteration is:\n",
      "[95]\tvalid_0's auc: 0.683934\n"
     ]
    },
    {
     "name": "stderr",
     "output_type": "stream",
     "text": [
      "[I 2025-09-21 19:00:28,230] Trial 52 finished with value: 0.7226920163819628 and parameters: {'num_leaves': 99, 'max_depth': 3, 'learning_rate': 0.006228304976835883, 'min_child_samples': 93, 'min_child_weight': 1.4967983852603848, 'reg_alpha': 0.021522803210277424, 'reg_lambda': 9.948919253681948, 'feature_fraction': 0.5547260302667493, 'bagging_fraction': 0.5308513617028724, 'bagging_freq': 3}. Best is trial 34 with value: 0.7238233751949039.\n"
     ]
    }
   ],
   "source": [
    "study_lgbm.optimize(objective_lgbm, n_trials=50)"
   ]
  },
  {
   "cell_type": "code",
   "execution_count": 148,
   "id": "178583c7",
   "metadata": {},
   "outputs": [
    {
     "data": {
      "text/plain": [
       "{'num_leaves': 128,\n",
       " 'max_depth': 3,\n",
       " 'learning_rate': 0.009311425411861897,\n",
       " 'min_child_samples': 82,\n",
       " 'min_child_weight': 1.2761274039847001,\n",
       " 'reg_alpha': 0.004804123313111612,\n",
       " 'reg_lambda': 7.960096132283736,\n",
       " 'feature_fraction': 0.5016100518583346,\n",
       " 'bagging_fraction': 0.524578620411521,\n",
       " 'bagging_freq': 3}"
      ]
     },
     "execution_count": 148,
     "metadata": {},
     "output_type": "execute_result"
    }
   ],
   "source": [
    "study_lgbm.best_params"
   ]
  },
  {
   "cell_type": "code",
   "execution_count": 162,
   "id": "718c673f",
   "metadata": {},
   "outputs": [],
   "source": [
    "with open(f'{data_dir}\\models\\oracle_model_optuna_study_lgbm.pkl', 'wb') as f:\n",
    "    pickle.dump(study_lgbm, f)\n"
   ]
  },
  {
   "cell_type": "code",
   "execution_count": 157,
   "id": "6f1f61c6",
   "metadata": {},
   "outputs": [],
   "source": [
    "oracle_model_lgbm = LightGBMXT_BAG(\n",
    "    num_bag_folds=5,\n",
    "    num_bag_repeats=1,\n",
    "    random_state=1,\n",
    "    cat_features=list_cat_features\n",
    ")\n",
    "\n",
    "oracle_model_lgbm.params = {\n",
    "    'objective': 'binary',\n",
    "    'metric': 'auc',\n",
    "    'boosting_type': 'gbdt',\n",
    "    'num_iterations': 2000,\n",
    "    'verbosity': -1,\n",
    "    'device_type': 'gpu',\n",
    "    'gpu_platform_id': 0,      # Usually 0 for NVIDIA GPUs\n",
    "    'gpu_device_id': 0,\n",
    "    'extra_trees': True,\n",
    "    # Tuned parameters\n",
    "    'num_leaves': 128,\n",
    "    'max_depth': 3,\n",
    "    'learning_rate': 0.009311425411861897,\n",
    "    'min_child_samples': 82,\n",
    "    'min_child_weight': 1.2761274039847001,\n",
    "    'reg_alpha': 0.004804123313111612,\n",
    "    'reg_lambda': 7.960096132283736,\n",
    "    'feature_fraction': 0.5016100518583346,\n",
    "    'bagging_fraction': 0.524578620411521,\n",
    "    'bagging_freq': 3\n",
    "    }"
   ]
  },
  {
   "cell_type": "code",
   "execution_count": 158,
   "id": "1ea2cf1d",
   "metadata": {},
   "outputs": [
    {
     "name": "stderr",
     "output_type": "stream",
     "text": [
      "Found `num_iterations` in params. Will use it instead of argument\n"
     ]
    },
    {
     "name": "stdout",
     "output_type": "stream",
     "text": [
      "Training until validation scores don't improve for 20 rounds\n",
      "Did not meet early stopping. Best iteration is:\n",
      "[2000]\tvalid_0's auc: 0.722233\n"
     ]
    },
    {
     "name": "stderr",
     "output_type": "stream",
     "text": [
      "Found `num_iterations` in params. Will use it instead of argument\n"
     ]
    },
    {
     "name": "stdout",
     "output_type": "stream",
     "text": [
      "Training until validation scores don't improve for 20 rounds\n",
      "Did not meet early stopping. Best iteration is:\n",
      "[2000]\tvalid_0's auc: 0.722987\n"
     ]
    },
    {
     "name": "stderr",
     "output_type": "stream",
     "text": [
      "Found `num_iterations` in params. Will use it instead of argument\n"
     ]
    },
    {
     "name": "stdout",
     "output_type": "stream",
     "text": [
      "Training until validation scores don't improve for 20 rounds\n",
      "Early stopping, best iteration is:\n",
      "[1535]\tvalid_0's auc: 0.723183\n"
     ]
    },
    {
     "name": "stderr",
     "output_type": "stream",
     "text": [
      "Found `num_iterations` in params. Will use it instead of argument\n"
     ]
    },
    {
     "name": "stdout",
     "output_type": "stream",
     "text": [
      "Training until validation scores don't improve for 20 rounds\n",
      "Did not meet early stopping. Best iteration is:\n",
      "[1997]\tvalid_0's auc: 0.720749\n"
     ]
    },
    {
     "name": "stderr",
     "output_type": "stream",
     "text": [
      "Found `num_iterations` in params. Will use it instead of argument\n"
     ]
    },
    {
     "name": "stdout",
     "output_type": "stream",
     "text": [
      "Training until validation scores don't improve for 20 rounds\n",
      "Did not meet early stopping. Best iteration is:\n",
      "[1999]\tvalid_0's auc: 0.722758\n"
     ]
    },
    {
     "data": {
      "text/plain": [
       "<model_class_lgbm.LightGBMXT_BAG at 0x2157a4ce190>"
      ]
     },
     "execution_count": 158,
     "metadata": {},
     "output_type": "execute_result"
    }
   ],
   "source": [
    "oracle_model_lgbm.fit(X_train, y_train)"
   ]
  },
  {
   "cell_type": "code",
   "execution_count": 159,
   "id": "feb66a0c",
   "metadata": {},
   "outputs": [
    {
     "data": {
      "text/plain": [
       "{'ROC_AUC': 0.7364141792319967, 'PR_AUC': 0.2236345240348338}"
      ]
     },
     "execution_count": 159,
     "metadata": {},
     "output_type": "execute_result"
    }
   ],
   "source": [
    "oracle_model_lgbm.evaluate(X_train,y_train)"
   ]
  },
  {
   "cell_type": "code",
   "execution_count": 160,
   "id": "40cb2331",
   "metadata": {},
   "outputs": [
    {
     "data": {
      "text/plain": [
       "{'ROC_AUC': 0.7301621664195356, 'PR_AUC': 0.2092366205087094}"
      ]
     },
     "execution_count": 160,
     "metadata": {},
     "output_type": "execute_result"
    }
   ],
   "source": [
    "oracle_model_lgbm.evaluate(X_test,y_test)"
   ]
  },
  {
   "cell_type": "code",
   "execution_count": 161,
   "id": "f2644a70",
   "metadata": {},
   "outputs": [],
   "source": [
    "# dump base_model to pickle\n",
    "with open(rf'{data_dir}\\models\\oracle_model_lgbmxt_bag.pkl', 'wb') as f:\n",
    "    pickle.dump(oracle_model_lgbm, f)"
   ]
  },
  {
   "cell_type": "code",
   "execution_count": null,
   "id": "b0056b0a",
   "metadata": {},
   "outputs": [],
   "source": []
  }
 ],
 "metadata": {
  "kernelspec": {
   "display_name": "base",
   "language": "python",
   "name": "python3"
  },
  "language_info": {
   "codemirror_mode": {
    "name": "ipython",
    "version": 3
   },
   "file_extension": ".py",
   "mimetype": "text/x-python",
   "name": "python",
   "nbconvert_exporter": "python",
   "pygments_lexer": "ipython3",
   "version": "3.8.20"
  }
 },
 "nbformat": 4,
 "nbformat_minor": 5
}
