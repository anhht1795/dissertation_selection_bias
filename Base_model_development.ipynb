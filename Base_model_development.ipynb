{
 "cells": [
  {
   "cell_type": "markdown",
   "id": "e2777b92",
   "metadata": {},
   "source": [
    "# Base model development"
   ]
  },
  {
   "cell_type": "code",
   "execution_count": 1,
   "id": "4e562276",
   "metadata": {},
   "outputs": [],
   "source": [
    "%load_ext autoreload\n",
    "%autoreload 2"
   ]
  },
  {
   "cell_type": "code",
   "execution_count": 2,
   "id": "aa5f94eb",
   "metadata": {},
   "outputs": [],
   "source": [
    "import pandas as pd\n",
    "import numpy as np\n",
    "from sklearn.model_selection import train_test_split"
   ]
  },
  {
   "cell_type": "code",
   "execution_count": 3,
   "id": "d99cb748",
   "metadata": {},
   "outputs": [],
   "source": [
    "from model_class import CatBoostXT_BAG"
   ]
  },
  {
   "cell_type": "markdown",
   "id": "6d8fd3b9",
   "metadata": {},
   "source": [
    "## LOAD DATA"
   ]
  },
  {
   "cell_type": "code",
   "execution_count": 4,
   "id": "da24b8d3",
   "metadata": {},
   "outputs": [],
   "source": [
    "data_dir = r'D:\\Documents\\Fintech_master\\Dissertation\\Data'"
   ]
  },
  {
   "cell_type": "code",
   "execution_count": 5,
   "id": "1747ffcf",
   "metadata": {},
   "outputs": [],
   "source": [
    "df = pd.read_parquet(rf'{data_dir}\\processed\\final_df.parquet').reset_index(drop=True)\n",
    "df = df.replace({None: np.nan})"
   ]
  },
  {
   "cell_type": "code",
   "execution_count": 6,
   "id": "e2331a8d",
   "metadata": {},
   "outputs": [
    {
     "data": {
      "text/html": [
       "<div>\n",
       "<style scoped>\n",
       "    .dataframe tbody tr th:only-of-type {\n",
       "        vertical-align: middle;\n",
       "    }\n",
       "\n",
       "    .dataframe tbody tr th {\n",
       "        vertical-align: top;\n",
       "    }\n",
       "\n",
       "    .dataframe thead th {\n",
       "        text-align: right;\n",
       "    }\n",
       "</style>\n",
       "<table border=\"1\" class=\"dataframe\">\n",
       "  <thead>\n",
       "    <tr style=\"text-align: right;\">\n",
       "      <th></th>\n",
       "      <th>SK_ID_CURR</th>\n",
       "      <th>AGE_YEARS</th>\n",
       "      <th>EMPLOY_YEARS</th>\n",
       "      <th>REG_YEARS_AGO</th>\n",
       "      <th>ID_PUBLISH_YEARS_AGO</th>\n",
       "      <th>PHONE_CHANGE_YEARS_AGO</th>\n",
       "      <th>CREDIT_TO_INCOME</th>\n",
       "      <th>ANNUITY_TO_INCOME</th>\n",
       "      <th>ANNUITY_TO_CREDIT</th>\n",
       "      <th>GOODS_TO_CREDIT</th>\n",
       "      <th>...</th>\n",
       "      <th>bb_w24_status_3_share__mean</th>\n",
       "      <th>bb_w24_status_3_share__max</th>\n",
       "      <th>bb_w24_status_3_share__sum</th>\n",
       "      <th>bb_w24_status_4_share__mean</th>\n",
       "      <th>bb_w24_status_4_share__max</th>\n",
       "      <th>bb_w24_status_4_share__sum</th>\n",
       "      <th>bb_w24_status_5_share__mean</th>\n",
       "      <th>bb_w24_status_5_share__max</th>\n",
       "      <th>bb_w24_status_5_share__sum</th>\n",
       "      <th>TARGET</th>\n",
       "    </tr>\n",
       "  </thead>\n",
       "  <tbody>\n",
       "    <tr>\n",
       "      <th>0</th>\n",
       "      <td>100002</td>\n",
       "      <td>25.920548</td>\n",
       "      <td>1.745205</td>\n",
       "      <td>9.994521</td>\n",
       "      <td>5.808219</td>\n",
       "      <td>3.106849</td>\n",
       "      <td>2.007889</td>\n",
       "      <td>0.121978</td>\n",
       "      <td>0.060749</td>\n",
       "      <td>0.863262</td>\n",
       "      <td>...</td>\n",
       "      <td>0.0</td>\n",
       "      <td>0.0</td>\n",
       "      <td>0.0</td>\n",
       "      <td>0.0</td>\n",
       "      <td>0.0</td>\n",
       "      <td>0.0</td>\n",
       "      <td>0.0</td>\n",
       "      <td>0.0</td>\n",
       "      <td>0.0</td>\n",
       "      <td>1</td>\n",
       "    </tr>\n",
       "    <tr>\n",
       "      <th>1</th>\n",
       "      <td>100003</td>\n",
       "      <td>45.931507</td>\n",
       "      <td>3.254795</td>\n",
       "      <td>3.249315</td>\n",
       "      <td>0.797260</td>\n",
       "      <td>2.268493</td>\n",
       "      <td>4.790750</td>\n",
       "      <td>0.132217</td>\n",
       "      <td>0.027598</td>\n",
       "      <td>0.873211</td>\n",
       "      <td>...</td>\n",
       "      <td>NaN</td>\n",
       "      <td>NaN</td>\n",
       "      <td>0.0</td>\n",
       "      <td>NaN</td>\n",
       "      <td>NaN</td>\n",
       "      <td>0.0</td>\n",
       "      <td>NaN</td>\n",
       "      <td>NaN</td>\n",
       "      <td>0.0</td>\n",
       "      <td>0</td>\n",
       "    </tr>\n",
       "    <tr>\n",
       "      <th>2</th>\n",
       "      <td>100004</td>\n",
       "      <td>52.180822</td>\n",
       "      <td>0.616438</td>\n",
       "      <td>11.671233</td>\n",
       "      <td>6.934247</td>\n",
       "      <td>2.232877</td>\n",
       "      <td>2.000000</td>\n",
       "      <td>0.100000</td>\n",
       "      <td>0.050000</td>\n",
       "      <td>1.000000</td>\n",
       "      <td>...</td>\n",
       "      <td>NaN</td>\n",
       "      <td>NaN</td>\n",
       "      <td>0.0</td>\n",
       "      <td>NaN</td>\n",
       "      <td>NaN</td>\n",
       "      <td>0.0</td>\n",
       "      <td>NaN</td>\n",
       "      <td>NaN</td>\n",
       "      <td>0.0</td>\n",
       "      <td>0</td>\n",
       "    </tr>\n",
       "    <tr>\n",
       "      <th>3</th>\n",
       "      <td>100006</td>\n",
       "      <td>52.068493</td>\n",
       "      <td>8.326027</td>\n",
       "      <td>26.939726</td>\n",
       "      <td>6.676712</td>\n",
       "      <td>1.690411</td>\n",
       "      <td>2.316167</td>\n",
       "      <td>0.219900</td>\n",
       "      <td>0.094941</td>\n",
       "      <td>0.949845</td>\n",
       "      <td>...</td>\n",
       "      <td>NaN</td>\n",
       "      <td>NaN</td>\n",
       "      <td>NaN</td>\n",
       "      <td>NaN</td>\n",
       "      <td>NaN</td>\n",
       "      <td>NaN</td>\n",
       "      <td>NaN</td>\n",
       "      <td>NaN</td>\n",
       "      <td>NaN</td>\n",
       "      <td>0</td>\n",
       "    </tr>\n",
       "    <tr>\n",
       "      <th>4</th>\n",
       "      <td>100007</td>\n",
       "      <td>54.608219</td>\n",
       "      <td>8.323288</td>\n",
       "      <td>11.810959</td>\n",
       "      <td>9.473973</td>\n",
       "      <td>3.030137</td>\n",
       "      <td>4.222222</td>\n",
       "      <td>0.179963</td>\n",
       "      <td>0.042623</td>\n",
       "      <td>1.000000</td>\n",
       "      <td>...</td>\n",
       "      <td>NaN</td>\n",
       "      <td>NaN</td>\n",
       "      <td>0.0</td>\n",
       "      <td>NaN</td>\n",
       "      <td>NaN</td>\n",
       "      <td>0.0</td>\n",
       "      <td>NaN</td>\n",
       "      <td>NaN</td>\n",
       "      <td>0.0</td>\n",
       "      <td>0</td>\n",
       "    </tr>\n",
       "  </tbody>\n",
       "</table>\n",
       "<p>5 rows × 478 columns</p>\n",
       "</div>"
      ],
      "text/plain": [
       "   SK_ID_CURR  AGE_YEARS  EMPLOY_YEARS  REG_YEARS_AGO  ID_PUBLISH_YEARS_AGO  \\\n",
       "0      100002  25.920548      1.745205       9.994521              5.808219   \n",
       "1      100003  45.931507      3.254795       3.249315              0.797260   \n",
       "2      100004  52.180822      0.616438      11.671233              6.934247   \n",
       "3      100006  52.068493      8.326027      26.939726              6.676712   \n",
       "4      100007  54.608219      8.323288      11.810959              9.473973   \n",
       "\n",
       "   PHONE_CHANGE_YEARS_AGO  CREDIT_TO_INCOME  ANNUITY_TO_INCOME  \\\n",
       "0                3.106849          2.007889           0.121978   \n",
       "1                2.268493          4.790750           0.132217   \n",
       "2                2.232877          2.000000           0.100000   \n",
       "3                1.690411          2.316167           0.219900   \n",
       "4                3.030137          4.222222           0.179963   \n",
       "\n",
       "   ANNUITY_TO_CREDIT  GOODS_TO_CREDIT  ...  bb_w24_status_3_share__mean  \\\n",
       "0           0.060749         0.863262  ...                          0.0   \n",
       "1           0.027598         0.873211  ...                          NaN   \n",
       "2           0.050000         1.000000  ...                          NaN   \n",
       "3           0.094941         0.949845  ...                          NaN   \n",
       "4           0.042623         1.000000  ...                          NaN   \n",
       "\n",
       "   bb_w24_status_3_share__max  bb_w24_status_3_share__sum  \\\n",
       "0                         0.0                         0.0   \n",
       "1                         NaN                         0.0   \n",
       "2                         NaN                         0.0   \n",
       "3                         NaN                         NaN   \n",
       "4                         NaN                         0.0   \n",
       "\n",
       "   bb_w24_status_4_share__mean  bb_w24_status_4_share__max  \\\n",
       "0                          0.0                         0.0   \n",
       "1                          NaN                         NaN   \n",
       "2                          NaN                         NaN   \n",
       "3                          NaN                         NaN   \n",
       "4                          NaN                         NaN   \n",
       "\n",
       "   bb_w24_status_4_share__sum  bb_w24_status_5_share__mean  \\\n",
       "0                         0.0                          0.0   \n",
       "1                         0.0                          NaN   \n",
       "2                         0.0                          NaN   \n",
       "3                         NaN                          NaN   \n",
       "4                         0.0                          NaN   \n",
       "\n",
       "   bb_w24_status_5_share__max  bb_w24_status_5_share__sum  TARGET  \n",
       "0                         0.0                         0.0       1  \n",
       "1                         NaN                         0.0       0  \n",
       "2                         NaN                         0.0       0  \n",
       "3                         NaN                         NaN       0  \n",
       "4                         NaN                         0.0       0  \n",
       "\n",
       "[5 rows x 478 columns]"
      ]
     },
     "execution_count": 6,
     "metadata": {},
     "output_type": "execute_result"
    }
   ],
   "source": [
    "df.head()"
   ]
  },
  {
   "cell_type": "code",
   "execution_count": 7,
   "id": "2813fed5",
   "metadata": {},
   "outputs": [],
   "source": [
    "# separate features, target\n",
    "list_features = [col for col in df.columns if col not in ['TARGET','SK_ID_CURR']]\n",
    "list_key = ['SK_ID_CURR']\n",
    "label_col = 'TARGET'"
   ]
  },
  {
   "cell_type": "code",
   "execution_count": 8,
   "id": "16aa52f4",
   "metadata": {},
   "outputs": [
    {
     "data": {
      "text/plain": [
       "['w30_last_loan_type',\n",
       " 'w90_last_loan_type',\n",
       " 'w180_last_loan_type',\n",
       " 'w360_last_loan_type',\n",
       " 'w720_last_loan_type']"
      ]
     },
     "execution_count": 8,
     "metadata": {},
     "output_type": "execute_result"
    }
   ],
   "source": [
    "list_cat_features = df.select_dtypes(include=['object','category']).columns.tolist()\n",
    "list_cat_features"
   ]
  },
  {
   "cell_type": "code",
   "execution_count": 16,
   "id": "6c762236",
   "metadata": {},
   "outputs": [],
   "source": [
    "df[list_cat_features] = df[list_cat_features].fillna('Missing')"
   ]
  },
  {
   "cell_type": "code",
   "execution_count": 17,
   "id": "a62fa9f1",
   "metadata": {},
   "outputs": [
    {
     "data": {
      "text/plain": [
       "476"
      ]
     },
     "execution_count": 17,
     "metadata": {},
     "output_type": "execute_result"
    }
   ],
   "source": [
    "len(list_features)"
   ]
  },
  {
   "cell_type": "code",
   "execution_count": 18,
   "id": "622cf2fd",
   "metadata": {},
   "outputs": [],
   "source": [
    "# split train test\n",
    "X_train, X_test, y_train, y_test = train_test_split(df[list_features], df[label_col], test_size=0.25, random_state=1, stratify=df[label_col])"
   ]
  },
  {
   "cell_type": "code",
   "execution_count": 19,
   "id": "36d70e33",
   "metadata": {},
   "outputs": [
    {
     "data": {
      "text/plain": [
       "226530    0\n",
       "130214    0\n",
       "91848     0\n",
       "249063    0\n",
       "20697     0\n",
       "         ..\n",
       "276129    1\n",
       "252261    0\n",
       "215416    0\n",
       "88067     0\n",
       "232520    1\n",
       "Name: TARGET, Length: 230633, dtype: int64"
      ]
     },
     "execution_count": 19,
     "metadata": {},
     "output_type": "execute_result"
    }
   ],
   "source": [
    "y_train"
   ]
  },
  {
   "cell_type": "code",
   "execution_count": 20,
   "id": "cd38de61",
   "metadata": {},
   "outputs": [
    {
     "name": "stdout",
     "output_type": "stream",
     "text": [
      "Train set shape: (230633, 476) (230633,)\n",
      "TARGET\n",
      "0    0.91927\n",
      "1    0.08073\n",
      "Name: proportion, dtype: float64\n",
      "TARGET\n",
      "0    212014\n",
      "1     18619\n",
      "Name: count, dtype: int64\n",
      "Test set shape: (76878, 476) (76878,)\n",
      "TARGET\n",
      "0    0.919275\n",
      "1    0.080725\n",
      "Name: proportion, dtype: float64\n",
      "TARGET\n",
      "0    70672\n",
      "1     6206\n",
      "Name: count, dtype: int64\n"
     ]
    }
   ],
   "source": [
    "# summary of train test split data, count of target variable\n",
    "print('Train set shape:', X_train.shape, y_train.shape)\n",
    "print(y_train.value_counts(normalize=True))\n",
    "print(y_train.value_counts())\n",
    "\n",
    "print('Test set shape:', X_test.shape, y_test.shape)\n",
    "print(y_test.value_counts(normalize=True))\n",
    "print(y_test.value_counts())"
   ]
  },
  {
   "cell_type": "code",
   "execution_count": 33,
   "id": "2f13c2a6",
   "metadata": {},
   "outputs": [],
   "source": [
    "base_model = CatBoostXT_BAG(\n",
    "    num_bag_folds=5,\n",
    "    num_bag_repeats=2,\n",
    "    random_state=1,\n",
    "    cat_features=list_cat_features\n",
    ")"
   ]
  },
  {
   "cell_type": "code",
   "execution_count": 34,
   "id": "284ffdec",
   "metadata": {},
   "outputs": [],
   "source": [
    "base_model.params = {\n",
    "    'iterations': 1000,\n",
    "    'learning_rate': 0.025,\n",
    "    'depth': 4,\n",
    "    'l2_leaf_reg': 25,\n",
    "    'border_count': 64,\n",
    "    'auto_class_weights': 'SqrtBalanced',\n",
    "    'early_stopping_rounds': None,\n",
    "    'od_type': 'IncToDec',\n",
    "    'od_wait': 100,\n",
    "    'od_pval': 0.001,\n",
    "    'boosting_type': 'Ordered',\n",
    "    'bootstrap_type': 'MVS',\n",
    "}"
   ]
  },
  {
   "cell_type": "code",
   "execution_count": 35,
   "id": "25e6e0d3",
   "metadata": {},
   "outputs": [
    {
     "ename": "MemoryError",
     "evalue": "Unable to allocate 655. MiB for an array with shape (465, 184506) and data type float64",
     "output_type": "error",
     "traceback": [
      "\u001b[31m---------------------------------------------------------------------------\u001b[39m",
      "\u001b[31mMemoryError\u001b[39m                               Traceback (most recent call last)",
      "\u001b[36mCell\u001b[39m\u001b[36m \u001b[39m\u001b[32mIn[35]\u001b[39m\u001b[32m, line 1\u001b[39m\n\u001b[32m----> \u001b[39m\u001b[32m1\u001b[39m base_model.fit(X_train, y_train)\n",
      "\u001b[36mFile \u001b[39m\u001b[32md:\\Documents\\Fintech_master\\Dissertation\\Code\\model_class.py:74\u001b[39m, in \u001b[36mCatBoostXT_BAG.fit\u001b[39m\u001b[34m(self, X, y, eval_set)\u001b[39m\n\u001b[32m     71\u001b[39m \u001b[38;5;28mself\u001b[39m.models = []\n\u001b[32m     72\u001b[39m \u001b[38;5;28;01mfor\u001b[39;00m fold, (train_idx, val_idx) \u001b[38;5;129;01min\u001b[39;00m \u001b[38;5;28menumerate\u001b[39m(rskf.split(X, y)):\n\u001b[32m     73\u001b[39m     \u001b[38;5;66;03m#print(f\"Training fold {fold + 1}/{self.num_bag_folds * self.num_bag_repeats}\")\u001b[39;00m\n\u001b[32m---> \u001b[39m\u001b[32m74\u001b[39m     X_train, y_train = X.iloc[train_idx,:], y[train_idx]\n\u001b[32m     75\u001b[39m     X_val, y_val = X.iloc[val_idx,:], y[val_idx]\n\u001b[32m     77\u001b[39m     train_pool = \u001b[38;5;28mself\u001b[39m.prepare_data(X_train, y_train, is_train=(fold==\u001b[32m0\u001b[39m))\n",
      "\u001b[36mFile \u001b[39m\u001b[32mc:\\ProgramData\\miniconda3\\Lib\\site-packages\\pandas\\core\\indexing.py:1184\u001b[39m, in \u001b[36m_LocationIndexer.__getitem__\u001b[39m\u001b[34m(self, key)\u001b[39m\n\u001b[32m   1182\u001b[39m     \u001b[38;5;28;01mif\u001b[39;00m \u001b[38;5;28mself\u001b[39m._is_scalar_access(key):\n\u001b[32m   1183\u001b[39m         \u001b[38;5;28;01mreturn\u001b[39;00m \u001b[38;5;28mself\u001b[39m.obj._get_value(*key, takeable=\u001b[38;5;28mself\u001b[39m._takeable)\n\u001b[32m-> \u001b[39m\u001b[32m1184\u001b[39m     \u001b[38;5;28;01mreturn\u001b[39;00m \u001b[38;5;28mself\u001b[39m._getitem_tuple(key)\n\u001b[32m   1185\u001b[39m \u001b[38;5;28;01melse\u001b[39;00m:\n\u001b[32m   1186\u001b[39m     \u001b[38;5;66;03m# we by definition only have the 0th axis\u001b[39;00m\n\u001b[32m   1187\u001b[39m     axis = \u001b[38;5;28mself\u001b[39m.axis \u001b[38;5;129;01mor\u001b[39;00m \u001b[32m0\u001b[39m\n",
      "\u001b[36mFile \u001b[39m\u001b[32mc:\\ProgramData\\miniconda3\\Lib\\site-packages\\pandas\\core\\indexing.py:1694\u001b[39m, in \u001b[36m_iLocIndexer._getitem_tuple\u001b[39m\u001b[34m(self, tup)\u001b[39m\n\u001b[32m   1691\u001b[39m \u001b[38;5;28;01mwith\u001b[39;00m suppress(IndexingError):\n\u001b[32m   1692\u001b[39m     \u001b[38;5;28;01mreturn\u001b[39;00m \u001b[38;5;28mself\u001b[39m._getitem_lowerdim(tup)\n\u001b[32m-> \u001b[39m\u001b[32m1694\u001b[39m \u001b[38;5;28;01mreturn\u001b[39;00m \u001b[38;5;28mself\u001b[39m._getitem_tuple_same_dim(tup)\n",
      "\u001b[36mFile \u001b[39m\u001b[32mc:\\ProgramData\\miniconda3\\Lib\\site-packages\\pandas\\core\\indexing.py:1020\u001b[39m, in \u001b[36m_LocationIndexer._getitem_tuple_same_dim\u001b[39m\u001b[34m(self, tup)\u001b[39m\n\u001b[32m   1017\u001b[39m \u001b[38;5;28;01mif\u001b[39;00m com.is_null_slice(key):\n\u001b[32m   1018\u001b[39m     \u001b[38;5;28;01mcontinue\u001b[39;00m\n\u001b[32m-> \u001b[39m\u001b[32m1020\u001b[39m retval = \u001b[38;5;28mgetattr\u001b[39m(retval, \u001b[38;5;28mself\u001b[39m.name)._getitem_axis(key, axis=i)\n\u001b[32m   1021\u001b[39m \u001b[38;5;66;03m# We should never have retval.ndim < self.ndim, as that should\u001b[39;00m\n\u001b[32m   1022\u001b[39m \u001b[38;5;66;03m#  be handled by the _getitem_lowerdim call above.\u001b[39;00m\n\u001b[32m   1023\u001b[39m \u001b[38;5;28;01massert\u001b[39;00m retval.ndim == \u001b[38;5;28mself\u001b[39m.ndim\n",
      "\u001b[36mFile \u001b[39m\u001b[32mc:\\ProgramData\\miniconda3\\Lib\\site-packages\\pandas\\core\\indexing.py:1743\u001b[39m, in \u001b[36m_iLocIndexer._getitem_axis\u001b[39m\u001b[34m(self, key, axis)\u001b[39m\n\u001b[32m   1741\u001b[39m \u001b[38;5;66;03m# a list of integers\u001b[39;00m\n\u001b[32m   1742\u001b[39m \u001b[38;5;28;01melif\u001b[39;00m is_list_like_indexer(key):\n\u001b[32m-> \u001b[39m\u001b[32m1743\u001b[39m     \u001b[38;5;28;01mreturn\u001b[39;00m \u001b[38;5;28mself\u001b[39m._get_list_axis(key, axis=axis)\n\u001b[32m   1745\u001b[39m \u001b[38;5;66;03m# a single integer\u001b[39;00m\n\u001b[32m   1746\u001b[39m \u001b[38;5;28;01melse\u001b[39;00m:\n\u001b[32m   1747\u001b[39m     key = item_from_zerodim(key)\n",
      "\u001b[36mFile \u001b[39m\u001b[32mc:\\ProgramData\\miniconda3\\Lib\\site-packages\\pandas\\core\\indexing.py:1714\u001b[39m, in \u001b[36m_iLocIndexer._get_list_axis\u001b[39m\u001b[34m(self, key, axis)\u001b[39m\n\u001b[32m   1697\u001b[39m \u001b[38;5;250m\u001b[39m\u001b[33;03m\"\"\"\u001b[39;00m\n\u001b[32m   1698\u001b[39m \u001b[33;03mReturn Series values by list or array of integers.\u001b[39;00m\n\u001b[32m   1699\u001b[39m \n\u001b[32m   (...)\u001b[39m\u001b[32m   1711\u001b[39m \u001b[33;03m`axis` can only be zero.\u001b[39;00m\n\u001b[32m   1712\u001b[39m \u001b[33;03m\"\"\"\u001b[39;00m\n\u001b[32m   1713\u001b[39m \u001b[38;5;28;01mtry\u001b[39;00m:\n\u001b[32m-> \u001b[39m\u001b[32m1714\u001b[39m     \u001b[38;5;28;01mreturn\u001b[39;00m \u001b[38;5;28mself\u001b[39m.obj._take_with_is_copy(key, axis=axis)\n\u001b[32m   1715\u001b[39m \u001b[38;5;28;01mexcept\u001b[39;00m \u001b[38;5;167;01mIndexError\u001b[39;00m \u001b[38;5;28;01mas\u001b[39;00m err:\n\u001b[32m   1716\u001b[39m     \u001b[38;5;66;03m# re-raise with different error message, e.g. test_getitem_ndarray_3d\u001b[39;00m\n\u001b[32m   1717\u001b[39m     \u001b[38;5;28;01mraise\u001b[39;00m \u001b[38;5;167;01mIndexError\u001b[39;00m(\u001b[33m\"\u001b[39m\u001b[33mpositional indexers are out-of-bounds\u001b[39m\u001b[33m\"\u001b[39m) \u001b[38;5;28;01mfrom\u001b[39;00m\u001b[38;5;250m \u001b[39m\u001b[34;01merr\u001b[39;00m\n",
      "\u001b[36mFile \u001b[39m\u001b[32mc:\\ProgramData\\miniconda3\\Lib\\site-packages\\pandas\\core\\generic.py:4172\u001b[39m, in \u001b[36mNDFrame._take_with_is_copy\u001b[39m\u001b[34m(self, indices, axis)\u001b[39m\n\u001b[32m   4161\u001b[39m \u001b[38;5;129m@final\u001b[39m\n\u001b[32m   4162\u001b[39m \u001b[38;5;28;01mdef\u001b[39;00m\u001b[38;5;250m \u001b[39m\u001b[34m_take_with_is_copy\u001b[39m(\u001b[38;5;28mself\u001b[39m, indices, axis: Axis = \u001b[32m0\u001b[39m) -> Self:\n\u001b[32m   4163\u001b[39m \u001b[38;5;250m    \u001b[39m\u001b[33;03m\"\"\"\u001b[39;00m\n\u001b[32m   4164\u001b[39m \u001b[33;03m    Internal version of the `take` method that sets the `_is_copy`\u001b[39;00m\n\u001b[32m   4165\u001b[39m \u001b[33;03m    attribute to keep track of the parent dataframe (using in indexing\u001b[39;00m\n\u001b[32m   (...)\u001b[39m\u001b[32m   4170\u001b[39m \u001b[33;03m    See the docstring of `take` for full explanation of the parameters.\u001b[39;00m\n\u001b[32m   4171\u001b[39m \u001b[33;03m    \"\"\"\u001b[39;00m\n\u001b[32m-> \u001b[39m\u001b[32m4172\u001b[39m     result = \u001b[38;5;28mself\u001b[39m.take(indices=indices, axis=axis)\n\u001b[32m   4173\u001b[39m     \u001b[38;5;66;03m# Maybe set copy if we didn't actually change the index.\u001b[39;00m\n\u001b[32m   4174\u001b[39m     \u001b[38;5;28;01mif\u001b[39;00m \u001b[38;5;28mself\u001b[39m.ndim == \u001b[32m2\u001b[39m \u001b[38;5;129;01mand\u001b[39;00m \u001b[38;5;129;01mnot\u001b[39;00m result._get_axis(axis).equals(\u001b[38;5;28mself\u001b[39m._get_axis(axis)):\n",
      "\u001b[36mFile \u001b[39m\u001b[32mc:\\ProgramData\\miniconda3\\Lib\\site-packages\\pandas\\core\\generic.py:4152\u001b[39m, in \u001b[36mNDFrame.take\u001b[39m\u001b[34m(self, indices, axis, **kwargs)\u001b[39m\n\u001b[32m   4147\u001b[39m     \u001b[38;5;66;03m# We can get here with a slice via DataFrame.__getitem__\u001b[39;00m\n\u001b[32m   4148\u001b[39m     indices = np.arange(\n\u001b[32m   4149\u001b[39m         indices.start, indices.stop, indices.step, dtype=np.intp\n\u001b[32m   4150\u001b[39m     )\n\u001b[32m-> \u001b[39m\u001b[32m4152\u001b[39m new_data = \u001b[38;5;28mself\u001b[39m._mgr.take(\n\u001b[32m   4153\u001b[39m     indices,\n\u001b[32m   4154\u001b[39m     axis=\u001b[38;5;28mself\u001b[39m._get_block_manager_axis(axis),\n\u001b[32m   4155\u001b[39m     verify=\u001b[38;5;28;01mTrue\u001b[39;00m,\n\u001b[32m   4156\u001b[39m )\n\u001b[32m   4157\u001b[39m \u001b[38;5;28;01mreturn\u001b[39;00m \u001b[38;5;28mself\u001b[39m._constructor_from_mgr(new_data, axes=new_data.axes).__finalize__(\n\u001b[32m   4158\u001b[39m     \u001b[38;5;28mself\u001b[39m, method=\u001b[33m\"\u001b[39m\u001b[33mtake\u001b[39m\u001b[33m\"\u001b[39m\n\u001b[32m   4159\u001b[39m )\n",
      "\u001b[36mFile \u001b[39m\u001b[32mc:\\ProgramData\\miniconda3\\Lib\\site-packages\\pandas\\core\\internals\\managers.py:894\u001b[39m, in \u001b[36mBaseBlockManager.take\u001b[39m\u001b[34m(self, indexer, axis, verify)\u001b[39m\n\u001b[32m    891\u001b[39m indexer = maybe_convert_indices(indexer, n, verify=verify)\n\u001b[32m    893\u001b[39m new_labels = \u001b[38;5;28mself\u001b[39m.axes[axis].take(indexer)\n\u001b[32m--> \u001b[39m\u001b[32m894\u001b[39m \u001b[38;5;28;01mreturn\u001b[39;00m \u001b[38;5;28mself\u001b[39m.reindex_indexer(\n\u001b[32m    895\u001b[39m     new_axis=new_labels,\n\u001b[32m    896\u001b[39m     indexer=indexer,\n\u001b[32m    897\u001b[39m     axis=axis,\n\u001b[32m    898\u001b[39m     allow_dups=\u001b[38;5;28;01mTrue\u001b[39;00m,\n\u001b[32m    899\u001b[39m     copy=\u001b[38;5;28;01mNone\u001b[39;00m,\n\u001b[32m    900\u001b[39m )\n",
      "\u001b[36mFile \u001b[39m\u001b[32mc:\\ProgramData\\miniconda3\\Lib\\site-packages\\pandas\\core\\internals\\managers.py:688\u001b[39m, in \u001b[36mBaseBlockManager.reindex_indexer\u001b[39m\u001b[34m(self, new_axis, indexer, axis, fill_value, allow_dups, copy, only_slice, use_na_proxy)\u001b[39m\n\u001b[32m    680\u001b[39m     new_blocks = \u001b[38;5;28mself\u001b[39m._slice_take_blocks_ax0(\n\u001b[32m    681\u001b[39m         indexer,\n\u001b[32m    682\u001b[39m         fill_value=fill_value,\n\u001b[32m    683\u001b[39m         only_slice=only_slice,\n\u001b[32m    684\u001b[39m         use_na_proxy=use_na_proxy,\n\u001b[32m    685\u001b[39m     )\n\u001b[32m    686\u001b[39m \u001b[38;5;28;01melse\u001b[39;00m:\n\u001b[32m    687\u001b[39m     new_blocks = [\n\u001b[32m--> \u001b[39m\u001b[32m688\u001b[39m         blk.take_nd(\n\u001b[32m    689\u001b[39m             indexer,\n\u001b[32m    690\u001b[39m             axis=\u001b[32m1\u001b[39m,\n\u001b[32m    691\u001b[39m             fill_value=(\n\u001b[32m    692\u001b[39m                 fill_value \u001b[38;5;28;01mif\u001b[39;00m fill_value \u001b[38;5;129;01mis\u001b[39;00m \u001b[38;5;129;01mnot\u001b[39;00m \u001b[38;5;28;01mNone\u001b[39;00m \u001b[38;5;28;01melse\u001b[39;00m blk.fill_value\n\u001b[32m    693\u001b[39m             ),\n\u001b[32m    694\u001b[39m         )\n\u001b[32m    695\u001b[39m         \u001b[38;5;28;01mfor\u001b[39;00m blk \u001b[38;5;129;01min\u001b[39;00m \u001b[38;5;28mself\u001b[39m.blocks\n\u001b[32m    696\u001b[39m     ]\n\u001b[32m    698\u001b[39m new_axes = \u001b[38;5;28mlist\u001b[39m(\u001b[38;5;28mself\u001b[39m.axes)\n\u001b[32m    699\u001b[39m new_axes[axis] = new_axis\n",
      "\u001b[36mFile \u001b[39m\u001b[32mc:\\ProgramData\\miniconda3\\Lib\\site-packages\\pandas\\core\\internals\\blocks.py:1373\u001b[39m, in \u001b[36mBlock.take_nd\u001b[39m\u001b[34m(self, indexer, axis, new_mgr_locs, fill_value)\u001b[39m\n\u001b[32m   1370\u001b[39m     allow_fill = \u001b[38;5;28;01mTrue\u001b[39;00m\n\u001b[32m   1372\u001b[39m \u001b[38;5;66;03m# Note: algos.take_nd has upcast logic similar to coerce_to_target_dtype\u001b[39;00m\n\u001b[32m-> \u001b[39m\u001b[32m1373\u001b[39m new_values = algos.take_nd(\n\u001b[32m   1374\u001b[39m     values, indexer, axis=axis, allow_fill=allow_fill, fill_value=fill_value\n\u001b[32m   1375\u001b[39m )\n\u001b[32m   1377\u001b[39m \u001b[38;5;66;03m# Called from three places in managers, all of which satisfy\u001b[39;00m\n\u001b[32m   1378\u001b[39m \u001b[38;5;66;03m#  these assertions\u001b[39;00m\n\u001b[32m   1379\u001b[39m \u001b[38;5;28;01mif\u001b[39;00m \u001b[38;5;28misinstance\u001b[39m(\u001b[38;5;28mself\u001b[39m, ExtensionBlock):\n\u001b[32m   1380\u001b[39m     \u001b[38;5;66;03m# NB: in this case, the 'axis' kwarg will be ignored in the\u001b[39;00m\n\u001b[32m   1381\u001b[39m     \u001b[38;5;66;03m#  algos.take_nd call above.\u001b[39;00m\n",
      "\u001b[36mFile \u001b[39m\u001b[32mc:\\ProgramData\\miniconda3\\Lib\\site-packages\\pandas\\core\\array_algos\\take.py:117\u001b[39m, in \u001b[36mtake_nd\u001b[39m\u001b[34m(arr, indexer, axis, fill_value, allow_fill)\u001b[39m\n\u001b[32m    114\u001b[39m     \u001b[38;5;28;01mreturn\u001b[39;00m arr.take(indexer, fill_value=fill_value, allow_fill=allow_fill)\n\u001b[32m    116\u001b[39m arr = np.asarray(arr)\n\u001b[32m--> \u001b[39m\u001b[32m117\u001b[39m \u001b[38;5;28;01mreturn\u001b[39;00m _take_nd_ndarray(arr, indexer, axis, fill_value, allow_fill)\n",
      "\u001b[36mFile \u001b[39m\u001b[32mc:\\ProgramData\\miniconda3\\Lib\\site-packages\\pandas\\core\\array_algos\\take.py:157\u001b[39m, in \u001b[36m_take_nd_ndarray\u001b[39m\u001b[34m(arr, indexer, axis, fill_value, allow_fill)\u001b[39m\n\u001b[32m    155\u001b[39m     out = np.empty(out_shape, dtype=dtype, order=\u001b[33m\"\u001b[39m\u001b[33mF\u001b[39m\u001b[33m\"\u001b[39m)\n\u001b[32m    156\u001b[39m \u001b[38;5;28;01melse\u001b[39;00m:\n\u001b[32m--> \u001b[39m\u001b[32m157\u001b[39m     out = np.empty(out_shape, dtype=dtype)\n\u001b[32m    159\u001b[39m func = _get_take_nd_function(\n\u001b[32m    160\u001b[39m     arr.ndim, arr.dtype, out.dtype, axis=axis, mask_info=mask_info\n\u001b[32m    161\u001b[39m )\n\u001b[32m    162\u001b[39m func(arr, indexer, out, fill_value)\n",
      "\u001b[31mMemoryError\u001b[39m: Unable to allocate 655. MiB for an array with shape (465, 184506) and data type float64"
     ]
    }
   ],
   "source": [
    "base_model.fit(X_train, y_train)"
   ]
  },
  {
   "cell_type": "code",
   "execution_count": null,
   "id": "0e6cf7c1",
   "metadata": {},
   "outputs": [],
   "source": []
  }
 ],
 "metadata": {
  "kernelspec": {
   "display_name": "base",
   "language": "python",
   "name": "python3"
  },
  "language_info": {
   "codemirror_mode": {
    "name": "ipython",
    "version": 3
   },
   "file_extension": ".py",
   "mimetype": "text/x-python",
   "name": "python",
   "nbconvert_exporter": "python",
   "pygments_lexer": "ipython3",
   "version": "3.13.5"
  }
 },
 "nbformat": 4,
 "nbformat_minor": 5
}
