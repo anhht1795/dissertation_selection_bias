{
 "cells": [
  {
   "cell_type": "markdown",
   "metadata": {},
   "source": [
    "# CORRECTION OF SELECTION BIAS"
   ]
  },
  {
   "cell_type": "code",
   "execution_count": 1,
   "metadata": {},
   "outputs": [],
   "source": [
    "from model_class_cb import CatBoostXT_BAG\n",
    "from model_class_lgbm import LightGBMXT_BAG"
   ]
  },
  {
   "cell_type": "code",
   "execution_count": 2,
   "metadata": {},
   "outputs": [],
   "source": [
    "from model_utils import *"
   ]
  },
  {
   "cell_type": "code",
   "execution_count": 3,
   "metadata": {},
   "outputs": [],
   "source": [
    "from other_utils import compare_distributions"
   ]
  },
  {
   "cell_type": "code",
   "execution_count": 4,
   "metadata": {},
   "outputs": [],
   "source": [
    "import pandas as pd\n",
    "import numpy as np\n",
    "import shap\n",
    "import matplotlib.pyplot as plt\n",
    "import pickle\n",
    "from scipy.special import expit\n",
    "import optuna\n",
    "import json"
   ]
  },
  {
   "cell_type": "code",
   "execution_count": 5,
   "metadata": {},
   "outputs": [],
   "source": [
    "data_dir = r'E:\\Project\\Dissertation'"
   ]
  },
  {
   "cell_type": "code",
   "execution_count": 6,
   "metadata": {},
   "outputs": [],
   "source": [
    "with open(rf'{data_dir}\\models\\dict_cols.json') as json_file:\n",
    "    dict_cols = json.load(json_file)"
   ]
  },
  {
   "cell_type": "code",
   "execution_count": 7,
   "metadata": {},
   "outputs": [],
   "source": [
    "# separate features, target\n",
    "list_features = dict_cols['list_features']\n",
    "# features that starts with EXT_\n",
    "list_ext_features = dict_cols['list_ext_features']\n",
    "# list ethical features\n",
    "list_ethical_features = dict_cols['list_ethical_features']\n",
    "# list categorical features\n",
    "list_cat_features = dict_cols['list_cat_features']"
   ]
  },
  {
   "cell_type": "markdown",
   "metadata": {},
   "source": [
    "## Inverted prospensity weighting (IPW)"
   ]
  },
  {
   "cell_type": "markdown",
   "metadata": {},
   "source": [
    "## Acceptance prospensity model"
   ]
  },
  {
   "cell_type": "code",
   "execution_count": 8,
   "metadata": {},
   "outputs": [],
   "source": [
    "df = pd.read_parquet(rf'{data_dir}\\data\\processed\\master_data_simulated_approval_and_reject.parquet')"
   ]
  },
  {
   "cell_type": "code",
   "execution_count": 9,
   "metadata": {},
   "outputs": [],
   "source": [
    "label_accept = 'flag_accepted'"
   ]
  },
  {
   "cell_type": "code",
   "execution_count": 10,
   "metadata": {},
   "outputs": [
    {
     "data": {
      "text/plain": [
       "flag_train_val  flag_accepted\n",
       "train           0                196339\n",
       "                1                 34294\n",
       "valid           0                 65442\n",
       "                1                 11436\n",
       "Name: flag_accepted, dtype: int64"
      ]
     },
     "execution_count": 10,
     "metadata": {},
     "output_type": "execute_result"
    }
   ],
   "source": [
    "df.groupby(['flag_train_val','flag_accepted'])['flag_accepted'].count()"
   ]
  },
  {
   "cell_type": "code",
   "execution_count": 11,
   "metadata": {},
   "outputs": [],
   "source": [
    "X_accept_train = df.loc[df['flag_train_val']=='train', list_features]\n",
    "X_accept_valid = df.loc[df['flag_train_val']=='valid', list_features]\n",
    "\n",
    "y_accept_train = df.loc[df['flag_train_val']=='train', label_accept]\n",
    "y_accept_valid = df.loc[df['flag_train_val']=='valid', label_accept]"
   ]
  },
  {
   "cell_type": "code",
   "execution_count": 12,
   "metadata": {},
   "outputs": [],
   "source": [
    "accept_model = base_model = CatBoostXT_BAG(\n",
    "    num_bag_folds=1,\n",
    "    num_bag_repeats=1,\n",
    "    random_state=1,\n",
    "    cat_features=list_cat_features\n",
    ")"
   ]
  },
  {
   "cell_type": "code",
   "execution_count": null,
   "metadata": {},
   "outputs": [
    {
     "ename": "",
     "evalue": "",
     "output_type": "error",
     "traceback": [
      "\u001b[1;31mThe Kernel crashed while executing code in the current cell or a previous cell. \n",
      "\u001b[1;31mPlease review the code in the cell(s) to identify a possible cause of the failure. \n",
      "\u001b[1;31mClick <a href='https://aka.ms/vscodeJupyterKernelCrash'>here</a> for more info. \n",
      "\u001b[1;31mView Jupyter <a href='command:jupyter.viewOutput'>log</a> for further details."
     ]
    }
   ],
   "source": [
    "accept_model.params = {\n",
    "    'iterations': 1000,\n",
    "    'learning_rate': 0.05,\n",
    "    'depth': 5,\n",
    "    'l2_leaf_reg': 50,\n",
    "    'border_count': 128,\n",
    "    'auto_class_weights': 'SqrtBalanced',\n",
    "    'early_stopping_rounds': None,\n",
    "    'od_type': 'IncToDec',\n",
    "    'od_wait': 200,\n",
    "    'od_pval': 0.01,\n",
    "    'boosting_type': 'Ordered',\n",
    "    'bootstrap_type': 'Bernoulli',\n",
    "    'loss_function': 'Logloss', \n",
    "    'eval_metric': 'Logloss',\n",
    "    'task_type':'GPU',\n",
    "    'devices':'0',\n",
    "}"
   ]
  },
  {
   "cell_type": "code",
   "execution_count": null,
   "metadata": {},
   "outputs": [],
   "source": [
    "accept_model.fit(X_accept_train, y_accept_train,eval_set=(X_accept_valid, y_accept_valid))"
   ]
  },
  {
   "cell_type": "code",
   "execution_count": null,
   "metadata": {},
   "outputs": [],
   "source": []
  },
  {
   "cell_type": "code",
   "execution_count": null,
   "metadata": {},
   "outputs": [],
   "source": []
  }
 ],
 "metadata": {
  "kernelspec": {
   "display_name": "base",
   "language": "python",
   "name": "python3"
  },
  "language_info": {
   "codemirror_mode": {
    "name": "ipython",
    "version": 3
   },
   "file_extension": ".py",
   "mimetype": "text/x-python",
   "name": "python",
   "nbconvert_exporter": "python",
   "pygments_lexer": "ipython3",
   "version": "3.8.20"
  }
 },
 "nbformat": 4,
 "nbformat_minor": 2
}
