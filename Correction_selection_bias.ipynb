{
 "cells": [
  {
   "cell_type": "markdown",
   "metadata": {},
   "source": [
    "# CORRECTION OF SELECTION BIAS"
   ]
  },
  {
   "cell_type": "code",
   "execution_count": 1,
   "metadata": {},
   "outputs": [],
   "source": [
    "%load_ext autoreload\n",
    "%autoreload 2"
   ]
  },
  {
   "cell_type": "code",
   "execution_count": 64,
   "metadata": {},
   "outputs": [],
   "source": [
    "from model_class_cb import CatBoostXT_BAG\n",
    "from model_class_lgbm import LightGBMXT_BAG"
   ]
  },
  {
   "cell_type": "code",
   "execution_count": 3,
   "metadata": {},
   "outputs": [],
   "source": [
    "from model_utils import *"
   ]
  },
  {
   "cell_type": "code",
   "execution_count": 4,
   "metadata": {},
   "outputs": [],
   "source": [
    "from other_utils import compare_distributions"
   ]
  },
  {
   "cell_type": "code",
   "execution_count": 65,
   "metadata": {},
   "outputs": [],
   "source": [
    "from ipw import compute_ipw_weights, effective_sample_size"
   ]
  },
  {
   "cell_type": "code",
   "execution_count": 5,
   "metadata": {},
   "outputs": [],
   "source": [
    "import pandas as pd\n",
    "import numpy as np\n",
    "import shap\n",
    "import matplotlib.pyplot as plt\n",
    "import pickle\n",
    "from scipy.special import expit\n",
    "import optuna\n",
    "import json"
   ]
  },
  {
   "cell_type": "code",
   "execution_count": 6,
   "metadata": {},
   "outputs": [],
   "source": [
    "data_dir = r'E:\\Project\\Dissertation'"
   ]
  },
  {
   "cell_type": "code",
   "execution_count": 7,
   "metadata": {},
   "outputs": [],
   "source": [
    "with open(rf'{data_dir}\\models\\dict_cols.json') as json_file:\n",
    "    dict_cols = json.load(json_file)"
   ]
  },
  {
   "cell_type": "code",
   "execution_count": 8,
   "metadata": {},
   "outputs": [],
   "source": [
    "# separate features, target\n",
    "list_features = dict_cols['list_features']\n",
    "# features that starts with EXT_\n",
    "list_ext_features = dict_cols['list_ext_features']\n",
    "# list ethical features\n",
    "list_ethical_features = dict_cols['list_ethical_features']\n",
    "# list categorical features\n",
    "list_cat_features = dict_cols['list_cat_features']"
   ]
  },
  {
   "cell_type": "code",
   "execution_count": 72,
   "metadata": {},
   "outputs": [],
   "source": [
    "list_key = dict_cols['list_key']\n",
    "label_col = dict_cols['label_col']"
   ]
  },
  {
   "cell_type": "markdown",
   "metadata": {},
   "source": [
    "## Inverted prospensity weighting (IPW)"
   ]
  },
  {
   "cell_type": "markdown",
   "metadata": {},
   "source": [
    "### Build Acceptance propensity model"
   ]
  },
  {
   "cell_type": "code",
   "execution_count": 9,
   "metadata": {},
   "outputs": [],
   "source": [
    "df = pd.read_parquet(rf'{data_dir}\\data\\processed\\master_data_simulated_approval_and_reject.parquet')"
   ]
  },
  {
   "cell_type": "code",
   "execution_count": 10,
   "metadata": {},
   "outputs": [],
   "source": [
    "label_accept = 'flag_accepted'"
   ]
  },
  {
   "cell_type": "code",
   "execution_count": 11,
   "metadata": {},
   "outputs": [
    {
     "data": {
      "text/plain": [
       "flag_train_val  flag_accepted\n",
       "train           0                196339\n",
       "                1                 34294\n",
       "valid           0                 65442\n",
       "                1                 11436\n",
       "Name: flag_accepted, dtype: int64"
      ]
     },
     "execution_count": 11,
     "metadata": {},
     "output_type": "execute_result"
    }
   ],
   "source": [
    "df.groupby(['flag_train_val','flag_accepted'])['flag_accepted'].count()"
   ]
  },
  {
   "cell_type": "code",
   "execution_count": 12,
   "metadata": {},
   "outputs": [],
   "source": [
    "X_accept_train = df.loc[df['flag_train_val']=='train', list_features]\n",
    "X_accept_valid = df.loc[df['flag_train_val']=='valid', list_features]\n",
    "\n",
    "y_accept_train = df.loc[df['flag_train_val']=='train', label_accept]\n",
    "y_accept_valid = df.loc[df['flag_train_val']=='valid', label_accept]"
   ]
  },
  {
   "cell_type": "code",
   "execution_count": 13,
   "metadata": {},
   "outputs": [
    {
     "data": {
      "text/plain": [
       "set()"
      ]
     },
     "execution_count": 13,
     "metadata": {},
     "output_type": "execute_result"
    }
   ],
   "source": [
    "# Check MNAR assumption: OK if set is empty\n",
    "set(X_accept_train.columns.to_list()).intersection(set(list_ext_features+['flag_has_bureau']))"
   ]
  },
  {
   "cell_type": "code",
   "execution_count": 47,
   "metadata": {},
   "outputs": [],
   "source": [
    "accept_model = base_model = CatBoostXT_BAG(\n",
    "    num_bag_folds=1,\n",
    "    num_bag_repeats=1,\n",
    "    random_state=1,\n",
    "    cat_features=list_cat_features\n",
    ")"
   ]
  },
  {
   "cell_type": "code",
   "execution_count": 48,
   "metadata": {},
   "outputs": [],
   "source": [
    "accept_model.params = {\n",
    "    'iterations': 1000,\n",
    "    'learning_rate': 0.05,\n",
    "    'depth': 5,\n",
    "    'l2_leaf_reg': 50,\n",
    "    'border_count': 128,\n",
    "    'auto_class_weights': 'SqrtBalanced',\n",
    "    'early_stopping_rounds': None,\n",
    "    'od_type': 'IncToDec',\n",
    "    'od_wait': 200,\n",
    "    'od_pval': 0.01,\n",
    "    'boosting_type': 'Ordered',\n",
    "    'bootstrap_type': 'Bernoulli',\n",
    "    'loss_function': 'Logloss', \n",
    "    'eval_metric': 'Logloss',\n",
    "    'task_type':'GPU',\n",
    "    'devices':'0',\n",
    "}"
   ]
  },
  {
   "cell_type": "code",
   "execution_count": 49,
   "metadata": {},
   "outputs": [
    {
     "data": {
      "text/plain": [
       "<model_class_cb.CatBoostXT_BAG at 0x232391398b0>"
      ]
     },
     "execution_count": 49,
     "metadata": {},
     "output_type": "execute_result"
    }
   ],
   "source": [
    "accept_model.fit(X_accept_train, y_accept_train,eval_set=(X_accept_valid, y_accept_valid))"
   ]
  },
  {
   "cell_type": "code",
   "execution_count": 50,
   "metadata": {},
   "outputs": [
    {
     "data": {
      "text/plain": [
       "{'ROC_AUC': 0.8991110507263343, 'PR_AUC': 0.6917703099050095}"
      ]
     },
     "execution_count": 50,
     "metadata": {},
     "output_type": "execute_result"
    }
   ],
   "source": [
    "accept_model.evaluate(X_accept_train, y_accept_train)"
   ]
  },
  {
   "cell_type": "code",
   "execution_count": 51,
   "metadata": {},
   "outputs": [
    {
     "data": {
      "text/plain": [
       "{'ROC_AUC': 0.8815137499261219, 'PR_AUC': 0.6812481083066579}"
      ]
     },
     "execution_count": 51,
     "metadata": {},
     "output_type": "execute_result"
    }
   ],
   "source": [
    "accept_model.evaluate(X_accept_valid, y_accept_valid)"
   ]
  },
  {
   "cell_type": "code",
   "execution_count": 54,
   "metadata": {},
   "outputs": [],
   "source": [
    "calib_result_summary = accept_model.calibrate(X_accept_valid, y_accept_valid, method='isotonic')"
   ]
  },
  {
   "cell_type": "code",
   "execution_count": 55,
   "metadata": {},
   "outputs": [
    {
     "name": "stdout",
     "output_type": "stream",
     "text": [
      "Brier score: 0.080759 | ECE: 0.074263\n"
     ]
    },
    {
     "data": {
      "image/png": "[encoded data removed]",
      "text/plain": [
       "<Figure size 600x600 with 1 Axes>"
      ]
     },
     "metadata": {},
     "output_type": "display_data"
    }
   ],
   "source": [
    "_ = accept_model.plot_calibration_curve(X_accept_valid, y_accept_valid, n_bins=10, strategy=\"quantile\", use_calibrated=False)"
   ]
  },
  {
   "cell_type": "code",
   "execution_count": 56,
   "metadata": {},
   "outputs": [
    {
     "name": "stdout",
     "output_type": "stream",
     "text": [
      "Brier score: 0.071226 | ECE: 0.000000\n"
     ]
    },
    {
     "data": {
      "image/png": "[encoded data removed]",
      "text/plain": [
       "<Figure size 600x600 with 1 Axes>"
      ]
     },
     "metadata": {},
     "output_type": "display_data"
    }
   ],
   "source": [
    "tbl = accept_model.plot_calibration_curve(X_accept_valid, y_accept_valid, n_bins=10, strategy=\"uniform\",\n",
    "                                   use_calibrated=True, return_table=True)"
   ]
  },
  {
   "cell_type": "code",
   "execution_count": 61,
   "metadata": {},
   "outputs": [],
   "source": [
    "with open(rf'{data_dir}\\models\\accept_propensity_model_cb.pkl', 'wb') as f:\n",
    "    pickle.dump(accept_model, f)"
   ]
  },
  {
   "cell_type": "code",
   "execution_count": 83,
   "metadata": {},
   "outputs": [],
   "source": [
    "# load model\n",
    "with open(rf'{data_dir}\\models\\accept_propensity_model_cb.pkl', 'rb') as f:\n",
    "    accept_model = pickle.load(f)"
   ]
  },
  {
   "cell_type": "markdown",
   "metadata": {},
   "source": [
    "### Improve base model with IPW"
   ]
  },
  {
   "cell_type": "code",
   "execution_count": 62,
   "metadata": {},
   "outputs": [],
   "source": [
    "acc_mask = (df[\"flag_accepted\"].values == 1)"
   ]
  },
  {
   "cell_type": "code",
   "execution_count": 70,
   "metadata": {},
   "outputs": [
    {
     "data": {
      "text/plain": [
       "flag_accepted\n",
       "0    261781\n",
       "1     45730\n",
       "Name: count, dtype: int64"
      ]
     },
     "execution_count": 70,
     "metadata": {},
     "output_type": "execute_result"
    }
   ],
   "source": [
    "df[\"flag_accepted\"].value_counts()"
   ]
  },
  {
   "cell_type": "code",
   "execution_count": 88,
   "metadata": {},
   "outputs": [],
   "source": [
    "p_accept=accept_model.predict_proba_calib(df[list_features])[:,1]"
   ]
  },
  {
   "cell_type": "code",
   "execution_count": 130,
   "metadata": {},
   "outputs": [
    {
     "data": {
      "text/plain": [
       "array([0.04793814, 0.86320755, 0.72641509, ..., 0.05173137, 0.37735849,\n",
       "       0.67410714])"
      ]
     },
     "execution_count": 130,
     "metadata": {},
     "output_type": "execute_result"
    }
   ],
   "source": [
    "p_accept[acc_mask]"
   ]
  },
  {
   "cell_type": "code",
   "execution_count": 147,
   "metadata": {},
   "outputs": [
    {
     "name": "stdout",
     "output_type": "stream",
     "text": [
      "Train ESS (accepted only): 37367.70747800159\n"
     ]
    }
   ],
   "source": [
    "w_all = np.sqrt(compute_ipw_weights(\n",
    "    accept=df[\"flag_accepted\"].values,\n",
    "    p_accept=p_accept,\n",
    "    stabilize=False, trim_quantiles=(0.05, 0.95), cap_max=10\n",
    "))\n",
    "print(\"Train ESS (accepted only):\", effective_sample_size(w_all[acc_mask]))"
   ]
  },
  {
   "cell_type": "code",
   "execution_count": 148,
   "metadata": {},
   "outputs": [
    {
     "data": {
      "text/plain": [
       "array([3.16227766, 1.07632242, 1.17329595, ..., 3.16227766, 1.62788206,\n",
       "       1.21796704])"
      ]
     },
     "execution_count": 148,
     "metadata": {},
     "output_type": "execute_result"
    }
   ],
   "source": [
    "w_all[acc_mask]"
   ]
  },
  {
   "cell_type": "code",
   "execution_count": 149,
   "metadata": {},
   "outputs": [],
   "source": [
    "train_mask = (df['flag_train_val']=='train')"
   ]
  },
  {
   "cell_type": "code",
   "execution_count": 150,
   "metadata": {},
   "outputs": [],
   "source": [
    "X_train = df.loc[acc_mask & train_mask, list_features]\n",
    "y_train = df.loc[acc_mask & train_mask, label_col].values\n",
    "w_train = w_all[acc_mask & train_mask]"
   ]
  },
  {
   "cell_type": "code",
   "execution_count": 151,
   "metadata": {},
   "outputs": [],
   "source": [
    "X_val = df.loc[acc_mask & ~train_mask, list_features]\n",
    "y_val = df.loc[acc_mask & ~train_mask, label_col].values\n",
    "w_val = w_all[acc_mask & ~train_mask]"
   ]
  },
  {
   "cell_type": "code",
   "execution_count": 152,
   "metadata": {},
   "outputs": [
    {
     "data": {
      "text/plain": [
       "(34294, 11436)"
      ]
     },
     "execution_count": 152,
     "metadata": {},
     "output_type": "execute_result"
    }
   ],
   "source": [
    "len(y_train), len(y_val)"
   ]
  },
  {
   "cell_type": "markdown",
   "metadata": {},
   "source": [
    "#### Tunning"
   ]
  },
  {
   "cell_type": "code",
   "execution_count": 113,
   "metadata": {},
   "outputs": [
    {
     "name": "stderr",
     "output_type": "stream",
     "text": [
      "[I 2025-09-21 23:53:01,162] A new study created in memory with name: no-name-da8d3968-f98e-41ca-a034-ce5ba405d883\n"
     ]
    }
   ],
   "source": [
    "study_enhanced_ipw = optuna.create_study(direction='maximize')\n",
    "optuna.logging.set_verbosity(optuna.logging.INFO)"
   ]
  },
  {
   "cell_type": "code",
   "execution_count": 117,
   "metadata": {},
   "outputs": [],
   "source": [
    "def objective(trial):\n",
    "    param = {\n",
    "        'iterations': 3000,\n",
    "        'learning_rate': trial.suggest_float('learning_rate', 0.01, 0.1, log=True),\n",
    "        'depth': trial.suggest_int('depth', 3, 5),\n",
    "        'l2_leaf_reg': trial.suggest_int('l2_leaf_reg', 1, 100),\n",
    "        'border_count': 128,\n",
    "        'auto_class_weights': 'SqrtBalanced',\n",
    "        'early_stopping_rounds': None,\n",
    "        'od_type': 'IncToDec',\n",
    "        'od_wait': 200,\n",
    "        'od_pval': 0.01,\n",
    "        'boosting_type': 'Ordered',\n",
    "        'bootstrap_type': 'Bernoulli',\n",
    "        'loss_function': 'Logloss', \n",
    "        'eval_metric': 'Logloss',\n",
    "        'task_type':'GPU',\n",
    "        'devices':'0',\n",
    "    }\n",
    "    \n",
    "    model = CatBoostXT_BAG(\n",
    "        num_bag_folds=1,\n",
    "        num_bag_repeats=1,\n",
    "        random_state=1,\n",
    "        cat_features=list_cat_features\n",
    "        )\n",
    "    model.params = param\n",
    "    model.fit(X_train, y_train, weights=w_train, eval_set=(X_val, y_val), eval_set_weights=w_val)\n",
    "    \n",
    "    #train_pred = model.predict_proba(X_train)[:,1]\n",
    "    val_pred = model.predict_proba(X_val)[:,1]\n",
    "    #train_metric = f_roc_auc(y_train, train_pred)\n",
    "    val_metric = f_roc_auc(y_val, val_pred)\n",
    "    \n",
    "    return val_metric #- 1*abs(val_metric - train_metric)"
   ]
  },
  {
   "cell_type": "code",
   "execution_count": 118,
   "metadata": {},
   "outputs": [
    {
     "name": "stderr",
     "output_type": "stream",
     "text": [
      "[I 2025-09-21 23:58:13,459] Trial 1 finished with value: 0.6986124986124986 and parameters: {'learning_rate': 0.014263071185663497, 'depth': 3, 'l2_leaf_reg': 26}. Best is trial 1 with value: 0.6986124986124986.\n",
      "[I 2025-09-21 23:58:58,853] Trial 2 finished with value: 0.6931977113795296 and parameters: {'learning_rate': 0.0814537586347737, 'depth': 4, 'l2_leaf_reg': 91}. Best is trial 1 with value: 0.6986124986124986.\n",
      "[I 2025-09-22 00:01:29,484] Trial 3 finished with value: 0.7013757286484559 and parameters: {'learning_rate': 0.012355003629410742, 'depth': 3, 'l2_leaf_reg': 10}. Best is trial 3 with value: 0.7013757286484559.\n",
      "[I 2025-09-22 00:02:29,085] Trial 4 finished with value: 0.6980955071864162 and parameters: {'learning_rate': 0.03960723228000903, 'depth': 5, 'l2_leaf_reg': 93}. Best is trial 3 with value: 0.7013757286484559.\n",
      "[I 2025-09-22 00:04:14,344] Trial 5 finished with value: 0.6988514852151215 and parameters: {'learning_rate': 0.015876978104643964, 'depth': 3, 'l2_leaf_reg': 34}. Best is trial 3 with value: 0.7013757286484559.\n",
      "[I 2025-09-22 00:05:25,625] Trial 6 finished with value: 0.6984182484182485 and parameters: {'learning_rate': 0.02563539137572135, 'depth': 5, 'l2_leaf_reg': 92}. Best is trial 3 with value: 0.7013757286484559.\n",
      "[I 2025-09-22 00:07:02,650] Trial 7 finished with value: 0.7010250692068873 and parameters: {'learning_rate': 0.010917529979443421, 'depth': 3, 'l2_leaf_reg': 5}. Best is trial 3 with value: 0.7013757286484559.\n",
      "[I 2025-09-22 00:07:50,294] Trial 8 finished with value: 0.696276282639919 and parameters: {'learning_rate': 0.0883120017903888, 'depth': 5, 'l2_leaf_reg': 8}. Best is trial 3 with value: 0.7013757286484559.\n",
      "[I 2025-09-22 00:09:00,891] Trial 9 finished with value: 0.6982313982313982 and parameters: {'learning_rate': 0.02398141311838528, 'depth': 5, 'l2_leaf_reg': 39}. Best is trial 3 with value: 0.7013757286484559.\n",
      "[I 2025-09-22 00:10:03,876] Trial 10 finished with value: 0.696206487115578 and parameters: {'learning_rate': 0.030870355530636426, 'depth': 5, 'l2_leaf_reg': 69}. Best is trial 3 with value: 0.7013757286484559.\n",
      "[I 2025-09-22 00:11:01,868] Trial 11 finished with value: 0.7019618428709338 and parameters: {'learning_rate': 0.04944953188259521, 'depth': 4, 'l2_leaf_reg': 66}. Best is trial 11 with value: 0.7019618428709338.\n",
      "[I 2025-09-22 00:11:51,052] Trial 12 finished with value: 0.6962907462907463 and parameters: {'learning_rate': 0.05199312741664142, 'depth': 4, 'l2_leaf_reg': 63}. Best is trial 11 with value: 0.7019618428709338.\n",
      "[I 2025-09-22 00:12:43,074] Trial 13 finished with value: 0.6998165134528771 and parameters: {'learning_rate': 0.053740767609210996, 'depth': 4, 'l2_leaf_reg': 64}. Best is trial 11 with value: 0.7019618428709338.\n",
      "[I 2025-09-22 00:14:02,253] Trial 14 finished with value: 0.6977900886991797 and parameters: {'learning_rate': 0.01940882511511264, 'depth': 3, 'l2_leaf_reg': 52}. Best is trial 11 with value: 0.7019618428709338.\n",
      "[I 2025-09-22 00:14:56,478] Trial 15 finished with value: 0.6978191841828205 and parameters: {'learning_rate': 0.0443024285812209, 'depth': 4, 'l2_leaf_reg': 19}. Best is trial 11 with value: 0.7019618428709338.\n",
      "[I 2025-09-22 00:17:09,961] Trial 16 finished with value: 0.698807757898667 and parameters: {'learning_rate': 0.01012108921685369, 'depth': 3, 'l2_leaf_reg': 77}. Best is trial 11 with value: 0.7019618428709338.\n",
      "[I 2025-09-22 00:18:05,623] Trial 17 finished with value: 0.693885743885744 and parameters: {'learning_rate': 0.06769978518574485, 'depth': 4, 'l2_leaf_reg': 49}. Best is trial 11 with value: 0.7019618428709338.\n",
      "[I 2025-09-22 00:18:57,496] Trial 18 finished with value: 0.7001683501683502 and parameters: {'learning_rate': 0.03411074309097688, 'depth': 3, 'l2_leaf_reg': 78}. Best is trial 11 with value: 0.7019618428709338.\n",
      "[I 2025-09-22 00:19:49,508] Trial 19 finished with value: 0.6977894159712341 and parameters: {'learning_rate': 0.06437052036738149, 'depth': 4, 'l2_leaf_reg': 48}. Best is trial 11 with value: 0.7019618428709338.\n",
      "[I 2025-09-22 00:21:19,484] Trial 20 finished with value: 0.6979165615529253 and parameters: {'learning_rate': 0.0206892068958176, 'depth': 4, 'l2_leaf_reg': 14}. Best is trial 11 with value: 0.7019618428709338.\n",
      "[I 2025-09-22 00:22:33,712] Trial 21 finished with value: 0.701311483129665 and parameters: {'learning_rate': 0.029150894771477084, 'depth': 3, 'l2_leaf_reg': 32}. Best is trial 11 with value: 0.7019618428709338.\n",
      "[I 2025-09-22 00:24:49,508] Trial 22 finished with value: 0.6992953174771357 and parameters: {'learning_rate': 0.013835520694976634, 'depth': 3, 'l2_leaf_reg': 26}. Best is trial 11 with value: 0.7019618428709338.\n",
      "[I 2025-09-22 00:25:34,271] Trial 23 finished with value: 0.7042765315492588 and parameters: {'learning_rate': 0.02999050557916954, 'depth': 3, 'l2_leaf_reg': 2}. Best is trial 23 with value: 0.7042765315492588.\n",
      "[I 2025-09-22 00:26:18,902] Trial 24 finished with value: 0.7003893412984322 and parameters: {'learning_rate': 0.03930283352268906, 'depth': 3, 'l2_leaf_reg': 2}. Best is trial 23 with value: 0.7042765315492588.\n",
      "[I 2025-09-22 00:27:12,051] Trial 25 finished with value: 0.6983491256218529 and parameters: {'learning_rate': 0.050055841287760486, 'depth': 3, 'l2_leaf_reg': 10}. Best is trial 23 with value: 0.7042765315492588.\n",
      "[I 2025-09-22 00:27:57,194] Trial 26 finished with value: 0.6989606353242718 and parameters: {'learning_rate': 0.06831549775991966, 'depth': 3, 'l2_leaf_reg': 19}. Best is trial 23 with value: 0.7042765315492588.\n",
      "[I 2025-09-22 00:29:07,587] Trial 27 finished with value: 0.6983102755830028 and parameters: {'learning_rate': 0.017179817264952102, 'depth': 4, 'l2_leaf_reg': 56}. Best is trial 23 with value: 0.7042765315492588.\n",
      "[I 2025-09-22 00:30:32,684] Trial 28 finished with value: 0.6997648815830634 and parameters: {'learning_rate': 0.011599921875317666, 'depth': 3, 'l2_leaf_reg': 1}. Best is trial 23 with value: 0.7042765315492588.\n",
      "[I 2025-09-22 00:31:42,713] Trial 29 finished with value: 0.6970384834021198 and parameters: {'learning_rate': 0.026376570887355864, 'depth': 4, 'l2_leaf_reg': 80}. Best is trial 23 with value: 0.7042765315492588.\n",
      "[I 2025-09-22 00:33:37,343] Trial 30 finished with value: 0.7002495820677639 and parameters: {'learning_rate': 0.01397896504173394, 'depth': 3, 'l2_leaf_reg': 40}. Best is trial 23 with value: 0.7042765315492588.\n",
      "[I 2025-09-22 00:35:00,710] Trial 31 finished with value: 0.6994735903826813 and parameters: {'learning_rate': 0.021994858583948916, 'depth': 3, 'l2_leaf_reg': 23}. Best is trial 23 with value: 0.7042765315492588.\n",
      "[I 2025-09-22 00:35:54,289] Trial 32 finished with value: 0.7021005930096839 and parameters: {'learning_rate': 0.03179797982475498, 'depth': 3, 'l2_leaf_reg': 14}. Best is trial 23 with value: 0.7042765315492588.\n",
      "[I 2025-09-22 00:37:29,323] Trial 33 finished with value: 0.6991515218787947 and parameters: {'learning_rate': 0.03627634788459757, 'depth': 3, 'l2_leaf_reg': 15}. Best is trial 23 with value: 0.7042765315492588.\n",
      "[I 2025-09-22 00:38:13,651] Trial 34 finished with value: 0.7039919676283313 and parameters: {'learning_rate': 0.04437111701567026, 'depth': 3, 'l2_leaf_reg': 10}. Best is trial 23 with value: 0.7042765315492588.\n",
      "[I 2025-09-22 00:39:03,280] Trial 35 finished with value: 0.6979814797996616 and parameters: {'learning_rate': 0.04421159865170333, 'depth': 3, 'l2_leaf_reg': 29}. Best is trial 23 with value: 0.7042765315492588.\n",
      "[I 2025-09-22 00:39:55,344] Trial 36 finished with value: 0.7001231092140182 and parameters: {'learning_rate': 0.029908792712023267, 'depth': 3, 'l2_leaf_reg': 10}. Best is trial 23 with value: 0.7042765315492588.\n",
      "[I 2025-09-22 00:40:46,122] Trial 37 finished with value: 0.6980899571808663 and parameters: {'learning_rate': 0.04421496308646743, 'depth': 4, 'l2_leaf_reg': 84}. Best is trial 23 with value: 0.7042765315492588.\n",
      "[I 2025-09-22 00:41:34,411] Trial 38 finished with value: 0.6985529621893258 and parameters: {'learning_rate': 0.05783704237257831, 'depth': 3, 'l2_leaf_reg': 18}. Best is trial 23 with value: 0.7042765315492588.\n",
      "[I 2025-09-22 00:42:32,107] Trial 39 finished with value: 0.6908197862743316 and parameters: {'learning_rate': 0.035001397972173956, 'depth': 5, 'l2_leaf_reg': 6}. Best is trial 23 with value: 0.7042765315492588.\n",
      "[I 2025-09-22 00:43:28,933] Trial 40 finished with value: 0.7005383505383505 and parameters: {'learning_rate': 0.03985974540535881, 'depth': 3, 'l2_leaf_reg': 72}. Best is trial 23 with value: 0.7042765315492588.\n",
      "[I 2025-09-22 00:44:40,340] Trial 41 finished with value: 0.7017046926137834 and parameters: {'learning_rate': 0.026940853236279327, 'depth': 3, 'l2_leaf_reg': 37}. Best is trial 23 with value: 0.7042765315492588.\n",
      "[I 2025-09-22 00:46:03,595] Trial 42 finished with value: 0.69730673367037 and parameters: {'learning_rate': 0.024316909439450838, 'depth': 3, 'l2_leaf_reg': 40}. Best is trial 23 with value: 0.7042765315492588.\n",
      "[I 2025-09-22 00:46:58,353] Trial 43 finished with value: 0.7018508427599337 and parameters: {'learning_rate': 0.027935701243429093, 'depth': 3, 'l2_leaf_reg': 13}. Best is trial 23 with value: 0.7042765315492588.\n",
      "[I 2025-09-22 00:48:02,447] Trial 44 finished with value: 0.7003996003996005 and parameters: {'learning_rate': 0.03285970966768773, 'depth': 3, 'l2_leaf_reg': 98}. Best is trial 23 with value: 0.7042765315492588.\n",
      "[I 2025-09-22 00:49:10,332] Trial 45 finished with value: 0.7041947951038859 and parameters: {'learning_rate': 0.03774390422841155, 'depth': 3, 'l2_leaf_reg': 14}. Best is trial 23 with value: 0.7042765315492588.\n",
      "[I 2025-09-22 00:49:57,092] Trial 46 finished with value: 0.6966446011900558 and parameters: {'learning_rate': 0.081242688402757, 'depth': 4, 'l2_leaf_reg': 23}. Best is trial 23 with value: 0.7042765315492588.\n",
      "[I 2025-09-22 00:51:01,952] Trial 47 finished with value: 0.6950515814152177 and parameters: {'learning_rate': 0.040511963625554225, 'depth': 5, 'l2_leaf_reg': 4}. Best is trial 23 with value: 0.7042765315492588.\n",
      "[I 2025-09-22 00:51:56,233] Trial 48 finished with value: 0.6930389475844022 and parameters: {'learning_rate': 0.04736851567253776, 'depth': 4, 'l2_leaf_reg': 63}. Best is trial 23 with value: 0.7042765315492588.\n",
      "[I 2025-09-22 00:53:06,866] Trial 49 finished with value: 0.6992860674678857 and parameters: {'learning_rate': 0.061003345357858556, 'depth': 3, 'l2_leaf_reg': 9}. Best is trial 23 with value: 0.7042765315492588.\n",
      "[I 2025-09-22 00:53:50,398] Trial 50 finished with value: 0.6999581226853953 and parameters: {'learning_rate': 0.0772692276322755, 'depth': 3, 'l2_leaf_reg': 6}. Best is trial 23 with value: 0.7042765315492588.\n",
      "[I 2025-09-22 00:54:35,529] Trial 51 finished with value: 0.7014103741376468 and parameters: {'learning_rate': 0.09718645458720696, 'depth': 5, 'l2_leaf_reg': 55}. Best is trial 23 with value: 0.7042765315492588.\n",
      "[I 2025-09-22 00:55:52,410] Trial 52 finished with value: 0.7001315183133365 and parameters: {'learning_rate': 0.02844393742988622, 'depth': 3, 'l2_leaf_reg': 14}. Best is trial 23 with value: 0.7042765315492588.\n",
      "[I 2025-09-22 00:57:11,134] Trial 53 finished with value: 0.7000751773479047 and parameters: {'learning_rate': 0.037320625775130484, 'depth': 3, 'l2_leaf_reg': 14}. Best is trial 23 with value: 0.7042765315492588.\n",
      "[I 2025-09-22 00:58:04,524] Trial 54 finished with value: 0.7024815252087979 and parameters: {'learning_rate': 0.03059991775356542, 'depth': 3, 'l2_leaf_reg': 11}. Best is trial 23 with value: 0.7042765315492588.\n",
      "[I 2025-09-22 00:59:18,111] Trial 55 finished with value: 0.7031776304503579 and parameters: {'learning_rate': 0.03346882866383112, 'depth': 3, 'l2_leaf_reg': 23}. Best is trial 23 with value: 0.7042765315492588.\n",
      "[I 2025-09-22 01:00:18,976] Trial 56 finished with value: 0.7026599662963299 and parameters: {'learning_rate': 0.033069021751168014, 'depth': 3, 'l2_leaf_reg': 20}. Best is trial 23 with value: 0.7042765315492588.\n",
      "[I 2025-09-22 01:02:00,734] Trial 57 finished with value: 0.7007606871243235 and parameters: {'learning_rate': 0.02317044043975161, 'depth': 3, 'l2_leaf_reg': 22}. Best is trial 23 with value: 0.7042765315492588.\n",
      "[I 2025-09-22 01:02:54,792] Trial 58 finished with value: 0.7021522248794976 and parameters: {'learning_rate': 0.032179767117440736, 'depth': 3, 'l2_leaf_reg': 28}. Best is trial 23 with value: 0.7042765315492588.\n",
      "[I 2025-09-22 01:04:00,729] Trial 59 finished with value: 0.6998940453485908 and parameters: {'learning_rate': 0.037766140694313596, 'depth': 3, 'l2_leaf_reg': 32}. Best is trial 23 with value: 0.7042765315492588.\n",
      "[I 2025-09-22 01:05:36,372] Trial 60 finished with value: 0.700371177643905 and parameters: {'learning_rate': 0.018129688812554536, 'depth': 3, 'l2_leaf_reg': 19}. Best is trial 23 with value: 0.7042765315492588.\n",
      "[I 2025-09-22 01:06:28,871] Trial 61 finished with value: 0.7003577230849958 and parameters: {'learning_rate': 0.02504025112960439, 'depth': 3, 'l2_leaf_reg': 5}. Best is trial 23 with value: 0.7042765315492588.\n",
      "[I 2025-09-22 01:07:29,558] Trial 62 finished with value: 0.70177146086237 and parameters: {'learning_rate': 0.03435179701130482, 'depth': 3, 'l2_leaf_reg': 27}. Best is trial 23 with value: 0.7042765315492588.\n",
      "[I 2025-09-22 01:08:20,677] Trial 63 finished with value: 0.7029024847206665 and parameters: {'learning_rate': 0.030808755111763852, 'depth': 3, 'l2_leaf_reg': 11}. Best is trial 23 with value: 0.7042765315492588.\n",
      "[I 2025-09-22 01:09:05,644] Trial 64 finished with value: 0.6980914708187436 and parameters: {'learning_rate': 0.042540862915859366, 'depth': 3, 'l2_leaf_reg': 9}. Best is trial 23 with value: 0.7042765315492588.\n",
      "[I 2025-09-22 01:09:52,723] Trial 65 finished with value: 0.7023151932242843 and parameters: {'learning_rate': 0.04750843552199797, 'depth': 3, 'l2_leaf_reg': 2}. Best is trial 23 with value: 0.7042765315492588.\n",
      "[I 2025-09-22 01:11:20,943] Trial 66 finished with value: 0.7010703101612192 and parameters: {'learning_rate': 0.030492736132413094, 'depth': 3, 'l2_leaf_reg': 18}. Best is trial 23 with value: 0.7042765315492588.\n",
      "[I 2025-09-22 01:12:09,613] Trial 67 finished with value: 0.7007314234586962 and parameters: {'learning_rate': 0.03539992508099598, 'depth': 3, 'l2_leaf_reg': 11}. Best is trial 23 with value: 0.7042765315492588.\n",
      "[I 2025-09-22 01:13:01,204] Trial 68 finished with value: 0.7008945599854691 and parameters: {'learning_rate': 0.03069543958697631, 'depth': 3, 'l2_leaf_reg': 45}. Best is trial 23 with value: 0.7042765315492588.\n",
      "[I 2025-09-22 01:13:47,114] Trial 69 finished with value: 0.6996311769039042 and parameters: {'learning_rate': 0.054726486773524305, 'depth': 3, 'l2_leaf_reg': 21}. Best is trial 23 with value: 0.7042765315492588.\n",
      "[I 2025-09-22 01:15:34,781] Trial 70 finished with value: 0.6997825406916316 and parameters: {'learning_rate': 0.02161804953947183, 'depth': 3, 'l2_leaf_reg': 16}. Best is trial 23 with value: 0.7042765315492588.\n",
      "[I 2025-09-22 01:16:25,363] Trial 71 finished with value: 0.6995300995300995 and parameters: {'learning_rate': 0.026385094670639844, 'depth': 3, 'l2_leaf_reg': 7}. Best is trial 23 with value: 0.7042765315492588.\n",
      "[I 2025-09-22 01:17:10,858] Trial 72 finished with value: 0.6995729859366223 and parameters: {'learning_rate': 0.04867726594412292, 'depth': 3, 'l2_leaf_reg': 2}. Best is trial 23 with value: 0.7042765315492588.\n",
      "[I 2025-09-22 01:17:52,397] Trial 73 finished with value: 0.7022844159207796 and parameters: {'learning_rate': 0.04117036119005833, 'depth': 3, 'l2_leaf_reg': 2}. Best is trial 23 with value: 0.7042765315492588.\n",
      "[I 2025-09-22 01:18:36,713] Trial 74 finished with value: 0.7008997736270464 and parameters: {'learning_rate': 0.04646931793816121, 'depth': 3, 'l2_leaf_reg': 11}. Best is trial 23 with value: 0.7042765315492588.\n",
      "[I 2025-09-22 01:19:19,975] Trial 75 finished with value: 0.7039865858047677 and parameters: {'learning_rate': 0.03288880105385729, 'depth': 3, 'l2_leaf_reg': 4}. Best is trial 23 with value: 0.7042765315492588.\n",
      "[I 2025-09-22 01:20:04,352] Trial 76 finished with value: 0.698802712439076 and parameters: {'learning_rate': 0.037951583629495855, 'depth': 3, 'l2_leaf_reg': 8}. Best is trial 23 with value: 0.7042765315492588.\n",
      "[I 2025-09-22 01:20:52,373] Trial 77 finished with value: 0.7029388120297211 and parameters: {'learning_rate': 0.03287629423982216, 'depth': 3, 'l2_leaf_reg': 12}. Best is trial 23 with value: 0.7042765315492588.\n",
      "[I 2025-09-22 01:22:36,149] Trial 78 finished with value: 0.7014911014911014 and parameters: {'learning_rate': 0.03338978784926244, 'depth': 3, 'l2_leaf_reg': 25}. Best is trial 23 with value: 0.7042765315492588.\n",
      "[I 2025-09-22 01:24:06,610] Trial 79 finished with value: 0.7019416610325702 and parameters: {'learning_rate': 0.028323007207760976, 'depth': 3, 'l2_leaf_reg': 17}. Best is trial 23 with value: 0.7042765315492588.\n",
      "[I 2025-09-22 01:24:48,459] Trial 80 finished with value: 0.7018962518962518 and parameters: {'learning_rate': 0.03509890908861193, 'depth': 3, 'l2_leaf_reg': 4}. Best is trial 23 with value: 0.7042765315492588.\n",
      "[I 2025-09-22 01:26:07,863] Trial 81 finished with value: 0.7006580961126416 and parameters: {'learning_rate': 0.03275797111634908, 'depth': 3, 'l2_leaf_reg': 20}. Best is trial 23 with value: 0.7042765315492588.\n",
      "[I 2025-09-22 01:27:01,948] Trial 82 finished with value: 0.7028695210513394 and parameters: {'learning_rate': 0.02976939588116892, 'depth': 3, 'l2_leaf_reg': 11}. Best is trial 23 with value: 0.7042765315492588.\n",
      "[I 2025-09-22 01:28:08,531] Trial 83 finished with value: 0.703418635236817 and parameters: {'learning_rate': 0.028862513086642654, 'depth': 3, 'l2_leaf_reg': 12}. Best is trial 23 with value: 0.7042765315492588.\n",
      "[I 2025-09-22 01:29:25,609] Trial 84 finished with value: 0.7019379610288702 and parameters: {'learning_rate': 0.023143835060040755, 'depth': 3, 'l2_leaf_reg': 12}. Best is trial 23 with value: 0.7042765315492588.\n",
      "[I 2025-09-22 01:30:26,285] Trial 85 finished with value: 0.7005074050528596 and parameters: {'learning_rate': 0.027859156297470995, 'depth': 3, 'l2_leaf_reg': 7}. Best is trial 23 with value: 0.7042765315492588.\n",
      "[I 2025-09-22 01:31:27,035] Trial 86 finished with value: 0.7009937873574238 and parameters: {'learning_rate': 0.0257294302363677, 'depth': 3, 'l2_leaf_reg': 16}. Best is trial 23 with value: 0.7042765315492588.\n",
      "[I 2025-09-22 01:32:13,505] Trial 87 finished with value: 0.6995511222783949 and parameters: {'learning_rate': 0.029638303102538736, 'depth': 3, 'l2_leaf_reg': 5}. Best is trial 23 with value: 0.7042765315492588.\n",
      "[I 2025-09-22 01:32:57,334] Trial 88 finished with value: 0.6964046054955146 and parameters: {'learning_rate': 0.04345044108783408, 'depth': 3, 'l2_leaf_reg': 13}. Best is trial 23 with value: 0.7042765315492588.\n",
      "[I 2025-09-22 01:33:43,592] Trial 89 finished with value: 0.698826257917167 and parameters: {'learning_rate': 0.03666982701866483, 'depth': 3, 'l2_leaf_reg': 9}. Best is trial 23 with value: 0.7042765315492588.\n",
      "[I 2025-09-22 01:34:26,285] Trial 90 finished with value: 0.6994648449193904 and parameters: {'learning_rate': 0.0398057131534575, 'depth': 3, 'l2_leaf_reg': 1}. Best is trial 23 with value: 0.7042765315492588.\n",
      "[I 2025-09-22 01:35:47,761] Trial 91 finished with value: 0.7021010975556429 and parameters: {'learning_rate': 0.03161773274804408, 'depth': 3, 'l2_leaf_reg': 24}. Best is trial 23 with value: 0.7042765315492588.\n",
      "[I 2025-09-22 01:37:00,622] Trial 92 finished with value: 0.7014438423529332 and parameters: {'learning_rate': 0.03348335806447374, 'depth': 3, 'l2_leaf_reg': 16}. Best is trial 23 with value: 0.7042765315492588.\n",
      "[I 2025-09-22 01:38:28,091] Trial 93 finished with value: 0.7011670148033785 and parameters: {'learning_rate': 0.02935180300451615, 'depth': 3, 'l2_leaf_reg': 13}. Best is trial 23 with value: 0.7042765315492588.\n",
      "[I 2025-09-22 01:39:17,769] Trial 94 finished with value: 0.69909854455309 and parameters: {'learning_rate': 0.027346172900151414, 'depth': 3, 'l2_leaf_reg': 8}. Best is trial 23 with value: 0.7042765315492588.\n",
      "[I 2025-09-22 01:40:37,949] Trial 95 finished with value: 0.700979996434542 and parameters: {'learning_rate': 0.03619245833970451, 'depth': 3, 'l2_leaf_reg': 21}. Best is trial 23 with value: 0.7042765315492588.\n",
      "[I 2025-09-22 01:41:31,919] Trial 96 finished with value: 0.7015030424121332 and parameters: {'learning_rate': 0.03895905040626974, 'depth': 3, 'l2_leaf_reg': 4}. Best is trial 23 with value: 0.7042765315492588.\n",
      "[I 2025-09-22 01:42:22,923] Trial 97 finished with value: 0.7019184519184519 and parameters: {'learning_rate': 0.03163479851569437, 'depth': 3, 'l2_leaf_reg': 30}. Best is trial 23 with value: 0.7042765315492588.\n",
      "[I 2025-09-22 01:43:39,802] Trial 98 finished with value: 0.7011670148033784 and parameters: {'learning_rate': 0.041304816708365936, 'depth': 3, 'l2_leaf_reg': 11}. Best is trial 23 with value: 0.7042765315492588.\n",
      "[I 2025-09-22 01:45:12,550] Trial 99 finished with value: 0.7013750559205105 and parameters: {'learning_rate': 0.024898841772471807, 'depth': 3, 'l2_leaf_reg': 18}. Best is trial 23 with value: 0.7042765315492588.\n",
      "[I 2025-09-22 01:46:09,079] Trial 100 finished with value: 0.7002038365674729 and parameters: {'learning_rate': 0.03330306371004487, 'depth': 3, 'l2_leaf_reg': 15}. Best is trial 23 with value: 0.7042765315492588.\n"
     ]
    }
   ],
   "source": [
    "study_enhanced_ipw.optimize(objective, n_trials=100)"
   ]
  },
  {
   "cell_type": "code",
   "execution_count": 119,
   "metadata": {},
   "outputs": [],
   "source": [
    "with open(rf'{data_dir}\\models\\enhanced_ipw_model_optuna_study_cb.pkl', 'wb') as f:\n",
    "    pickle.dump(study_enhanced_ipw, f)"
   ]
  },
  {
   "cell_type": "code",
   "execution_count": 120,
   "metadata": {},
   "outputs": [
    {
     "data": {
      "text/plain": [
       "{'learning_rate': 0.02999050557916954, 'depth': 3, 'l2_leaf_reg': 2}"
      ]
     },
     "execution_count": 120,
     "metadata": {},
     "output_type": "execute_result"
    }
   ],
   "source": [
    "study_enhanced_ipw.best_params"
   ]
  },
  {
   "cell_type": "code",
   "execution_count": 153,
   "metadata": {},
   "outputs": [],
   "source": [
    "enhanced_model_ipw = base_model = CatBoostXT_BAG(\n",
    "    num_bag_folds=1,\n",
    "    num_bag_repeats=1,\n",
    "    random_state=1,\n",
    "    cat_features=list_cat_features\n",
    ")"
   ]
  },
  {
   "cell_type": "code",
   "execution_count": 164,
   "metadata": {},
   "outputs": [],
   "source": [
    "enhanced_model_ipw.params = {\n",
    "    'iterations': 3000,\n",
    "    'learning_rate': 0.01,\n",
    "    'depth': 3,\n",
    "    'l2_leaf_reg': 2,\n",
    "    'border_count': 128,\n",
    "    'auto_class_weights': 'SqrtBalanced',\n",
    "    'early_stopping_rounds': None,\n",
    "    'od_type': 'IncToDec',\n",
    "    'od_wait': 50,\n",
    "    'od_pval': 0.01,\n",
    "    'boosting_type': 'Ordered',\n",
    "    'bootstrap_type': 'Bernoulli',\n",
    "    'loss_function': 'Logloss', \n",
    "    'eval_metric': 'Logloss',\n",
    "    'task_type':'GPU',\n",
    "    'devices':'0',\n",
    "}"
   ]
  },
  {
   "cell_type": "code",
   "execution_count": 165,
   "metadata": {},
   "outputs": [
    {
     "data": {
      "text/plain": [
       "<model_class_cb.CatBoostXT_BAG at 0x23243b4a0d0>"
      ]
     },
     "execution_count": 165,
     "metadata": {},
     "output_type": "execute_result"
    }
   ],
   "source": [
    "enhanced_model_ipw.fit(X_train, y_train, weights=w_train, eval_set=(X_val, y_val), eval_set_weights=w_val)"
   ]
  },
  {
   "cell_type": "code",
   "execution_count": 169,
   "metadata": {},
   "outputs": [],
   "source": [
    "with open(rf'{data_dir}\\models\\enhanced_ipw_model_cb.pkl', 'wb') as f:\n",
    "    pickle.dump(enhanced_model_ipw, f)"
   ]
  },
  {
   "cell_type": "code",
   "execution_count": 166,
   "metadata": {},
   "outputs": [
    {
     "data": {
      "text/plain": [
       "{'ROC_AUC': 0.7448983818694368, 'PR_AUC': 0.19199828463006413}"
      ]
     },
     "execution_count": 166,
     "metadata": {},
     "output_type": "execute_result"
    }
   ],
   "source": [
    "enhanced_model_ipw.evaluate(X_train, y_train)"
   ]
  },
  {
   "cell_type": "code",
   "execution_count": 167,
   "metadata": {},
   "outputs": [
    {
     "data": {
      "text/plain": [
       "{'ROC_AUC': 0.7053002553002552, 'PR_AUC': 0.12066059285611316}"
      ]
     },
     "execution_count": 167,
     "metadata": {},
     "output_type": "execute_result"
    }
   ],
   "source": [
    "enhanced_model_ipw.evaluate(X_val, y_val)"
   ]
  },
  {
   "cell_type": "code",
   "execution_count": 168,
   "metadata": {},
   "outputs": [
    {
     "data": {
      "text/plain": [
       "{'ROC_AUC': 0.6859216573151327, 'PR_AUC': 0.16752651009377675}"
      ]
     },
     "execution_count": 168,
     "metadata": {},
     "output_type": "execute_result"
    }
   ],
   "source": [
    "enhanced_model_ipw.evaluate(df.loc[df['flag_train_val']=='valid',list_features],df.loc[df['flag_train_val']=='valid',label_col])"
   ]
  },
  {
   "cell_type": "markdown",
   "metadata": {},
   "source": [
    "## Self-learning"
   ]
  },
  {
   "cell_type": "markdown",
   "metadata": {},
   "source": [
    "### Train weak learner for assigning proxy label to reject dataa"
   ]
  },
  {
   "cell_type": "markdown",
   "metadata": {},
   "source": []
  },
  {
   "cell_type": "code",
   "execution_count": null,
   "metadata": {},
   "outputs": [],
   "source": []
  },
  {
   "cell_type": "code",
   "execution_count": null,
   "metadata": {},
   "outputs": [],
   "source": []
  }
 ],
 "metadata": {
  "kernelspec": {
   "display_name": "base",
   "language": "python",
   "name": "python3"
  },
  "language_info": {
   "codemirror_mode": {
    "name": "ipython",
    "version": 3
   },
   "file_extension": ".py",
   "mimetype": "text/x-python",
   "name": "python",
   "nbconvert_exporter": "python",
   "pygments_lexer": "ipython3",
   "version": "3.8.20"
  }
 },
 "nbformat": 4,
 "nbformat_minor": 2
}
