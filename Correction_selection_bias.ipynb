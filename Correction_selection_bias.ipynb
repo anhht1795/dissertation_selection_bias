{
 "cells": [
  {
   "cell_type": "markdown",
   "metadata": {},
   "source": [
    "# CORRECTION OF SELECTION BIAS"
   ]
  },
  {
   "cell_type": "code",
   "execution_count": 1,
   "metadata": {},
   "outputs": [],
   "source": [
    "%load_ext autoreload\n",
    "%autoreload 2"
   ]
  },
  {
   "cell_type": "code",
   "execution_count": 2,
   "metadata": {},
   "outputs": [],
   "source": [
    "from model_class_cb import CatBoostXT_BAG\n",
    "from model_class_lgbm import LightGBMXT_BAG"
   ]
  },
  {
   "cell_type": "code",
   "execution_count": 333,
   "metadata": {},
   "outputs": [],
   "source": [
    "from model_utils import *"
   ]
  },
  {
   "cell_type": "code",
   "execution_count": 4,
   "metadata": {},
   "outputs": [],
   "source": [
    "from other_utils import compare_distributions"
   ]
  },
  {
   "cell_type": "code",
   "execution_count": 5,
   "metadata": {},
   "outputs": [],
   "source": [
    "from ipw import compute_ipw_weights, effective_sample_size"
   ]
  },
  {
   "cell_type": "code",
   "execution_count": 6,
   "metadata": {},
   "outputs": [],
   "source": [
    "from self_learning_orchestrator import SelfLearningConfig, SelfLearningOrchestrator"
   ]
  },
  {
   "cell_type": "code",
   "execution_count": 692,
   "metadata": {},
   "outputs": [],
   "source": [
    "import pandas as pd\n",
    "import numpy as np\n",
    "import shap\n",
    "import matplotlib.pyplot as plt\n",
    "import pickle\n",
    "from scipy.special import expit, logit\n",
    "import optuna\n",
    "import json\n",
    "from sklearn.model_selection import train_test_split"
   ]
  },
  {
   "cell_type": "code",
   "execution_count": 8,
   "metadata": {},
   "outputs": [],
   "source": [
    "data_dir = r'E:\\Project\\Dissertation'"
   ]
  },
  {
   "cell_type": "code",
   "execution_count": 9,
   "metadata": {},
   "outputs": [],
   "source": [
    "with open(rf'{data_dir}\\models\\dict_cols.json') as json_file:\n",
    "    dict_cols = json.load(json_file)"
   ]
  },
  {
   "cell_type": "code",
   "execution_count": 10,
   "metadata": {},
   "outputs": [],
   "source": [
    "# separate features, target\n",
    "list_features = dict_cols['list_features']\n",
    "# features that starts with EXT_\n",
    "list_ext_features = dict_cols['list_ext_features']\n",
    "# list ethical features\n",
    "list_ethical_features = dict_cols['list_ethical_features']\n",
    "# list categorical features\n",
    "list_cat_features = dict_cols['list_cat_features']"
   ]
  },
  {
   "cell_type": "code",
   "execution_count": 11,
   "metadata": {},
   "outputs": [],
   "source": [
    "list_key = dict_cols['list_key']\n",
    "label_col = dict_cols['label_col']"
   ]
  },
  {
   "cell_type": "markdown",
   "metadata": {},
   "source": [
    "## Inverted prospensity weighting (IPW)"
   ]
  },
  {
   "cell_type": "markdown",
   "metadata": {},
   "source": [
    "### Build Acceptance propensity model"
   ]
  },
  {
   "cell_type": "code",
   "execution_count": 12,
   "metadata": {},
   "outputs": [],
   "source": [
    "df = pd.read_parquet(rf'{data_dir}\\data\\processed\\master_data_simulated_approval_and_reject.parquet')"
   ]
  },
  {
   "cell_type": "code",
   "execution_count": 13,
   "metadata": {},
   "outputs": [],
   "source": [
    "label_accept = 'flag_accepted'"
   ]
  },
  {
   "cell_type": "code",
   "execution_count": 11,
   "metadata": {},
   "outputs": [
    {
     "data": {
      "text/plain": [
       "flag_train_val  flag_accepted\n",
       "train           0                196339\n",
       "                1                 34294\n",
       "valid           0                 65442\n",
       "                1                 11436\n",
       "Name: flag_accepted, dtype: int64"
      ]
     },
     "execution_count": 11,
     "metadata": {},
     "output_type": "execute_result"
    }
   ],
   "source": [
    "df.groupby(['flag_train_val','flag_accepted'])['flag_accepted'].count()"
   ]
  },
  {
   "cell_type": "code",
   "execution_count": 12,
   "metadata": {},
   "outputs": [],
   "source": [
    "X_accept_train = df.loc[df['flag_train_val']=='train', list_features]\n",
    "X_accept_valid = df.loc[df['flag_train_val']=='valid', list_features]\n",
    "\n",
    "y_accept_train = df.loc[df['flag_train_val']=='train', label_accept]\n",
    "y_accept_valid = df.loc[df['flag_train_val']=='valid', label_accept]"
   ]
  },
  {
   "cell_type": "code",
   "execution_count": 13,
   "metadata": {},
   "outputs": [
    {
     "data": {
      "text/plain": [
       "set()"
      ]
     },
     "execution_count": 13,
     "metadata": {},
     "output_type": "execute_result"
    }
   ],
   "source": [
    "# Check MNAR assumption: OK if set is empty\n",
    "set(X_accept_train.columns.to_list()).intersection(set(list_ext_features+['flag_has_bureau']))"
   ]
  },
  {
   "cell_type": "code",
   "execution_count": 206,
   "metadata": {},
   "outputs": [],
   "source": [
    "accept_model = CatBoostXT_BAG(\n",
    "    num_bag_folds=1,\n",
    "    num_bag_repeats=1,\n",
    "    random_state=1,\n",
    "    cat_features=list_cat_features\n",
    ")"
   ]
  },
  {
   "cell_type": "code",
   "execution_count": 207,
   "metadata": {},
   "outputs": [],
   "source": [
    "accept_model.params = {\n",
    "    'iterations': 1000,\n",
    "    'learning_rate': 0.05,\n",
    "    'depth': 5,\n",
    "    'l2_leaf_reg': 50,\n",
    "    'border_count': 128,\n",
    "    'auto_class_weights': 'SqrtBalanced',\n",
    "    'early_stopping_rounds': None,\n",
    "    'od_type': 'IncToDec',\n",
    "    'od_wait': 200,\n",
    "    'od_pval': 0.01,\n",
    "    'boosting_type': 'Ordered',\n",
    "    'bootstrap_type': 'Bernoulli',\n",
    "    'loss_function': 'Logloss', \n",
    "    'eval_metric': 'Logloss',\n",
    "    'task_type':'GPU',\n",
    "    'devices':'0',\n",
    "}"
   ]
  },
  {
   "cell_type": "code",
   "execution_count": 49,
   "metadata": {},
   "outputs": [
    {
     "data": {
      "text/plain": [
       "<model_class_cb.CatBoostXT_BAG at 0x232391398b0>"
      ]
     },
     "execution_count": 49,
     "metadata": {},
     "output_type": "execute_result"
    }
   ],
   "source": [
    "accept_model.fit(X_accept_train, y_accept_train,eval_set=(X_accept_valid, y_accept_valid))"
   ]
  },
  {
   "cell_type": "code",
   "execution_count": 50,
   "metadata": {},
   "outputs": [
    {
     "data": {
      "text/plain": [
       "{'ROC_AUC': 0.8991110507263343, 'PR_AUC': 0.6917703099050095}"
      ]
     },
     "execution_count": 50,
     "metadata": {},
     "output_type": "execute_result"
    }
   ],
   "source": [
    "accept_model.evaluate(X_accept_train, y_accept_train)"
   ]
  },
  {
   "cell_type": "code",
   "execution_count": 51,
   "metadata": {},
   "outputs": [
    {
     "data": {
      "text/plain": [
       "{'ROC_AUC': 0.8815137499261219, 'PR_AUC': 0.6812481083066579}"
      ]
     },
     "execution_count": 51,
     "metadata": {},
     "output_type": "execute_result"
    }
   ],
   "source": [
    "accept_model.evaluate(X_accept_valid, y_accept_valid)"
   ]
  },
  {
   "cell_type": "code",
   "execution_count": 176,
   "metadata": {},
   "outputs": [],
   "source": [
    "calib_result_summary = accept_model.calibrate(X_accept_valid, y_accept_valid, method='sigmoid')"
   ]
  },
  {
   "cell_type": "code",
   "execution_count": 177,
   "metadata": {},
   "outputs": [
    {
     "name": "stdout",
     "output_type": "stream",
     "text": [
      "Brier score: 0.080759 | ECE: 0.074263\n"
     ]
    },
    {
     "data": {
      "image/png": "[encoded data removed]",
      "text/plain": [
       "<Figure size 600x600 with 1 Axes>"
      ]
     },
     "metadata": {},
     "output_type": "display_data"
    }
   ],
   "source": [
    "_ = accept_model.plot_calibration_curve(X_accept_valid, y_accept_valid, n_bins=10, strategy=\"quantile\", use_calibrated=False)"
   ]
  },
  {
   "cell_type": "code",
   "execution_count": 178,
   "metadata": {},
   "outputs": [
    {
     "name": "stdout",
     "output_type": "stream",
     "text": [
      "Brier score: 0.072033 | ECE: 0.010317\n"
     ]
    },
    {
     "data": {
      "image/png": "[encoded data removed]",
      "text/plain": [
       "<Figure size 600x600 with 1 Axes>"
      ]
     },
     "metadata": {},
     "output_type": "display_data"
    }
   ],
   "source": [
    "tbl = accept_model.plot_calibration_curve(X_accept_valid, y_accept_valid, n_bins=10, strategy=\"uniform\",\n",
    "                                   use_calibrated=True, return_table=True)"
   ]
  },
  {
   "cell_type": "code",
   "execution_count": 179,
   "metadata": {},
   "outputs": [],
   "source": [
    "with open(rf'{data_dir}\\models\\accept_propensity_model_cb.pkl', 'wb') as f:\n",
    "    pickle.dump(accept_model, f)"
   ]
  },
  {
   "cell_type": "code",
   "execution_count": 208,
   "metadata": {},
   "outputs": [],
   "source": [
    "# load model\n",
    "with open(rf'{data_dir}\\models\\accept_propensity_model_cb.pkl', 'rb') as f:\n",
    "    accept_model = pickle.load(f)"
   ]
  },
  {
   "cell_type": "markdown",
   "metadata": {},
   "source": [
    "### Improve base model with IPW"
   ]
  },
  {
   "cell_type": "code",
   "execution_count": 181,
   "metadata": {},
   "outputs": [],
   "source": [
    "acc_mask = (df[\"flag_accepted\"].values == 1)"
   ]
  },
  {
   "cell_type": "code",
   "execution_count": 182,
   "metadata": {},
   "outputs": [
    {
     "data": {
      "text/plain": [
       "flag_accepted\n",
       "0    261781\n",
       "1     45730\n",
       "Name: count, dtype: int64"
      ]
     },
     "execution_count": 182,
     "metadata": {},
     "output_type": "execute_result"
    }
   ],
   "source": [
    "df[\"flag_accepted\"].value_counts()"
   ]
  },
  {
   "cell_type": "code",
   "execution_count": 183,
   "metadata": {},
   "outputs": [],
   "source": [
    "p_accept=accept_model.predict_proba_calib(df[list_features])[:,1]"
   ]
  },
  {
   "cell_type": "code",
   "execution_count": 184,
   "metadata": {},
   "outputs": [
    {
     "data": {
      "text/plain": [
       "array([0.04004417, 0.78150897, 0.72601455, ..., 0.04189581, 0.39557786,\n",
       "       0.68154189])"
      ]
     },
     "execution_count": 184,
     "metadata": {},
     "output_type": "execute_result"
    }
   ],
   "source": [
    "p_accept[acc_mask]"
   ]
  },
  {
   "cell_type": "code",
   "execution_count": 185,
   "metadata": {},
   "outputs": [
    {
     "name": "stdout",
     "output_type": "stream",
     "text": [
      "Train ESS (accepted only): 37296.99845468228\n"
     ]
    }
   ],
   "source": [
    "w_all = np.sqrt(compute_ipw_weights(\n",
    "    accept=df[\"flag_accepted\"].values,\n",
    "    p_accept=p_accept,\n",
    "    stabilize=False, trim_quantiles=(0.05, 0.95), cap_max=10\n",
    "))\n",
    "print(\"Train ESS (accepted only):\", effective_sample_size(w_all[acc_mask]))"
   ]
  },
  {
   "cell_type": "code",
   "execution_count": 186,
   "metadata": {},
   "outputs": [
    {
     "data": {
      "text/plain": [
       "array([3.16227766, 1.13118338, 1.17361955, ..., 3.16227766, 1.589952  ,\n",
       "       1.21130559])"
      ]
     },
     "execution_count": 186,
     "metadata": {},
     "output_type": "execute_result"
    }
   ],
   "source": [
    "w_all[acc_mask]"
   ]
  },
  {
   "cell_type": "code",
   "execution_count": 187,
   "metadata": {},
   "outputs": [],
   "source": [
    "train_mask = (df['flag_train_val']=='train')"
   ]
  },
  {
   "cell_type": "code",
   "execution_count": 188,
   "metadata": {},
   "outputs": [],
   "source": [
    "X_train = df.loc[acc_mask & train_mask, list_features]\n",
    "y_train = df.loc[acc_mask & train_mask, label_col].values\n",
    "w_train = w_all[acc_mask & train_mask]"
   ]
  },
  {
   "cell_type": "code",
   "execution_count": 189,
   "metadata": {},
   "outputs": [],
   "source": [
    "X_val = df.loc[acc_mask & ~train_mask, list_features]\n",
    "y_val = df.loc[acc_mask & ~train_mask, label_col].values\n",
    "w_val = w_all[acc_mask & ~train_mask]"
   ]
  },
  {
   "cell_type": "code",
   "execution_count": 190,
   "metadata": {},
   "outputs": [
    {
     "data": {
      "text/plain": [
       "(34294, 11436)"
      ]
     },
     "execution_count": 190,
     "metadata": {},
     "output_type": "execute_result"
    }
   ],
   "source": [
    "len(y_train), len(y_val)"
   ]
  },
  {
   "cell_type": "markdown",
   "metadata": {},
   "source": [
    "#### Tunning"
   ]
  },
  {
   "cell_type": "code",
   "execution_count": 113,
   "metadata": {},
   "outputs": [
    {
     "name": "stderr",
     "output_type": "stream",
     "text": [
      "[I 2025-09-21 23:53:01,162] A new study created in memory with name: no-name-da8d3968-f98e-41ca-a034-ce5ba405d883\n"
     ]
    }
   ],
   "source": [
    "study_enhanced_ipw = optuna.create_study(direction='maximize')\n",
    "optuna.logging.set_verbosity(optuna.logging.INFO)"
   ]
  },
  {
   "cell_type": "code",
   "execution_count": 117,
   "metadata": {},
   "outputs": [],
   "source": [
    "def objective(trial):\n",
    "    param = {\n",
    "        'iterations': 3000,\n",
    "        'learning_rate': trial.suggest_float('learning_rate', 0.01, 0.1, log=True),\n",
    "        'depth': trial.suggest_int('depth', 3, 5),\n",
    "        'l2_leaf_reg': trial.suggest_int('l2_leaf_reg', 1, 100),\n",
    "        'border_count': 128,\n",
    "        'auto_class_weights': 'SqrtBalanced',\n",
    "        'early_stopping_rounds': None,\n",
    "        'od_type': 'IncToDec',\n",
    "        'od_wait': 200,\n",
    "        'od_pval': 0.01,\n",
    "        'boosting_type': 'Ordered',\n",
    "        'bootstrap_type': 'Bernoulli',\n",
    "        'loss_function': 'Logloss', \n",
    "        'eval_metric': 'Logloss',\n",
    "        'task_type':'GPU',\n",
    "        'devices':'0',\n",
    "    }\n",
    "    \n",
    "    model = CatBoostXT_BAG(\n",
    "        num_bag_folds=1,\n",
    "        num_bag_repeats=1,\n",
    "        random_state=1,\n",
    "        cat_features=list_cat_features\n",
    "        )\n",
    "    model.params = param\n",
    "    model.fit(X_train, y_train, weights=w_train, eval_set=(X_val, y_val), eval_set_weights=w_val)\n",
    "    \n",
    "    #train_pred = model.predict_proba(X_train)[:,1]\n",
    "    val_pred = model.predict_proba(X_val)[:,1]\n",
    "    #train_metric = f_roc_auc(y_train, train_pred)\n",
    "    val_metric = f_roc_auc(y_val, val_pred)\n",
    "    \n",
    "    return val_metric #- 1*abs(val_metric - train_metric)"
   ]
  },
  {
   "cell_type": "code",
   "execution_count": 118,
   "metadata": {},
   "outputs": [
    {
     "name": "stderr",
     "output_type": "stream",
     "text": [
      "[I 2025-09-21 23:58:13,459] Trial 1 finished with value: 0.6986124986124986 and parameters: {'learning_rate': 0.014263071185663497, 'depth': 3, 'l2_leaf_reg': 26}. Best is trial 1 with value: 0.6986124986124986.\n",
      "[I 2025-09-21 23:58:58,853] Trial 2 finished with value: 0.6931977113795296 and parameters: {'learning_rate': 0.0814537586347737, 'depth': 4, 'l2_leaf_reg': 91}. Best is trial 1 with value: 0.6986124986124986.\n",
      "[I 2025-09-22 00:01:29,484] Trial 3 finished with value: 0.7013757286484559 and parameters: {'learning_rate': 0.012355003629410742, 'depth': 3, 'l2_leaf_reg': 10}. Best is trial 3 with value: 0.7013757286484559.\n",
      "[I 2025-09-22 00:02:29,085] Trial 4 finished with value: 0.6980955071864162 and parameters: {'learning_rate': 0.03960723228000903, 'depth': 5, 'l2_leaf_reg': 93}. Best is trial 3 with value: 0.7013757286484559.\n",
      "[I 2025-09-22 00:04:14,344] Trial 5 finished with value: 0.6988514852151215 and parameters: {'learning_rate': 0.015876978104643964, 'depth': 3, 'l2_leaf_reg': 34}. Best is trial 3 with value: 0.7013757286484559.\n",
      "[I 2025-09-22 00:05:25,625] Trial 6 finished with value: 0.6984182484182485 and parameters: {'learning_rate': 0.02563539137572135, 'depth': 5, 'l2_leaf_reg': 92}. Best is trial 3 with value: 0.7013757286484559.\n",
      "[I 2025-09-22 00:07:02,650] Trial 7 finished with value: 0.7010250692068873 and parameters: {'learning_rate': 0.010917529979443421, 'depth': 3, 'l2_leaf_reg': 5}. Best is trial 3 with value: 0.7013757286484559.\n",
      "[I 2025-09-22 00:07:50,294] Trial 8 finished with value: 0.696276282639919 and parameters: {'learning_rate': 0.0883120017903888, 'depth': 5, 'l2_leaf_reg': 8}. Best is trial 3 with value: 0.7013757286484559.\n",
      "[I 2025-09-22 00:09:00,891] Trial 9 finished with value: 0.6982313982313982 and parameters: {'learning_rate': 0.02398141311838528, 'depth': 5, 'l2_leaf_reg': 39}. Best is trial 3 with value: 0.7013757286484559.\n",
      "[I 2025-09-22 00:10:03,876] Trial 10 finished with value: 0.696206487115578 and parameters: {'learning_rate': 0.030870355530636426, 'depth': 5, 'l2_leaf_reg': 69}. Best is trial 3 with value: 0.7013757286484559.\n",
      "[I 2025-09-22 00:11:01,868] Trial 11 finished with value: 0.7019618428709338 and parameters: {'learning_rate': 0.04944953188259521, 'depth': 4, 'l2_leaf_reg': 66}. Best is trial 11 with value: 0.7019618428709338.\n",
      "[I 2025-09-22 00:11:51,052] Trial 12 finished with value: 0.6962907462907463 and parameters: {'learning_rate': 0.05199312741664142, 'depth': 4, 'l2_leaf_reg': 63}. Best is trial 11 with value: 0.7019618428709338.\n",
      "[I 2025-09-22 00:12:43,074] Trial 13 finished with value: 0.6998165134528771 and parameters: {'learning_rate': 0.053740767609210996, 'depth': 4, 'l2_leaf_reg': 64}. Best is trial 11 with value: 0.7019618428709338.\n",
      "[I 2025-09-22 00:14:02,253] Trial 14 finished with value: 0.6977900886991797 and parameters: {'learning_rate': 0.01940882511511264, 'depth': 3, 'l2_leaf_reg': 52}. Best is trial 11 with value: 0.7019618428709338.\n",
      "[I 2025-09-22 00:14:56,478] Trial 15 finished with value: 0.6978191841828205 and parameters: {'learning_rate': 0.0443024285812209, 'depth': 4, 'l2_leaf_reg': 19}. Best is trial 11 with value: 0.7019618428709338.\n",
      "[I 2025-09-22 00:17:09,961] Trial 16 finished with value: 0.698807757898667 and parameters: {'learning_rate': 0.01012108921685369, 'depth': 3, 'l2_leaf_reg': 77}. Best is trial 11 with value: 0.7019618428709338.\n",
      "[I 2025-09-22 00:18:05,623] Trial 17 finished with value: 0.693885743885744 and parameters: {'learning_rate': 0.06769978518574485, 'depth': 4, 'l2_leaf_reg': 49}. Best is trial 11 with value: 0.7019618428709338.\n",
      "[I 2025-09-22 00:18:57,496] Trial 18 finished with value: 0.7001683501683502 and parameters: {'learning_rate': 0.03411074309097688, 'depth': 3, 'l2_leaf_reg': 78}. Best is trial 11 with value: 0.7019618428709338.\n",
      "[I 2025-09-22 00:19:49,508] Trial 19 finished with value: 0.6977894159712341 and parameters: {'learning_rate': 0.06437052036738149, 'depth': 4, 'l2_leaf_reg': 48}. Best is trial 11 with value: 0.7019618428709338.\n",
      "[I 2025-09-22 00:21:19,484] Trial 20 finished with value: 0.6979165615529253 and parameters: {'learning_rate': 0.0206892068958176, 'depth': 4, 'l2_leaf_reg': 14}. Best is trial 11 with value: 0.7019618428709338.\n",
      "[I 2025-09-22 00:22:33,712] Trial 21 finished with value: 0.701311483129665 and parameters: {'learning_rate': 0.029150894771477084, 'depth': 3, 'l2_leaf_reg': 32}. Best is trial 11 with value: 0.7019618428709338.\n",
      "[I 2025-09-22 00:24:49,508] Trial 22 finished with value: 0.6992953174771357 and parameters: {'learning_rate': 0.013835520694976634, 'depth': 3, 'l2_leaf_reg': 26}. Best is trial 11 with value: 0.7019618428709338.\n",
      "[I 2025-09-22 00:25:34,271] Trial 23 finished with value: 0.7042765315492588 and parameters: {'learning_rate': 0.02999050557916954, 'depth': 3, 'l2_leaf_reg': 2}. Best is trial 23 with value: 0.7042765315492588.\n",
      "[I 2025-09-22 00:26:18,902] Trial 24 finished with value: 0.7003893412984322 and parameters: {'learning_rate': 0.03930283352268906, 'depth': 3, 'l2_leaf_reg': 2}. Best is trial 23 with value: 0.7042765315492588.\n",
      "[I 2025-09-22 00:27:12,051] Trial 25 finished with value: 0.6983491256218529 and parameters: {'learning_rate': 0.050055841287760486, 'depth': 3, 'l2_leaf_reg': 10}. Best is trial 23 with value: 0.7042765315492588.\n",
      "[I 2025-09-22 00:27:57,194] Trial 26 finished with value: 0.6989606353242718 and parameters: {'learning_rate': 0.06831549775991966, 'depth': 3, 'l2_leaf_reg': 19}. Best is trial 23 with value: 0.7042765315492588.\n",
      "[I 2025-09-22 00:29:07,587] Trial 27 finished with value: 0.6983102755830028 and parameters: {'learning_rate': 0.017179817264952102, 'depth': 4, 'l2_leaf_reg': 56}. Best is trial 23 with value: 0.7042765315492588.\n",
      "[I 2025-09-22 00:30:32,684] Trial 28 finished with value: 0.6997648815830634 and parameters: {'learning_rate': 0.011599921875317666, 'depth': 3, 'l2_leaf_reg': 1}. Best is trial 23 with value: 0.7042765315492588.\n",
      "[I 2025-09-22 00:31:42,713] Trial 29 finished with value: 0.6970384834021198 and parameters: {'learning_rate': 0.026376570887355864, 'depth': 4, 'l2_leaf_reg': 80}. Best is trial 23 with value: 0.7042765315492588.\n",
      "[I 2025-09-22 00:33:37,343] Trial 30 finished with value: 0.7002495820677639 and parameters: {'learning_rate': 0.01397896504173394, 'depth': 3, 'l2_leaf_reg': 40}. Best is trial 23 with value: 0.7042765315492588.\n",
      "[I 2025-09-22 00:35:00,710] Trial 31 finished with value: 0.6994735903826813 and parameters: {'learning_rate': 0.021994858583948916, 'depth': 3, 'l2_leaf_reg': 23}. Best is trial 23 with value: 0.7042765315492588.\n",
      "[I 2025-09-22 00:35:54,289] Trial 32 finished with value: 0.7021005930096839 and parameters: {'learning_rate': 0.03179797982475498, 'depth': 3, 'l2_leaf_reg': 14}. Best is trial 23 with value: 0.7042765315492588.\n",
      "[I 2025-09-22 00:37:29,323] Trial 33 finished with value: 0.6991515218787947 and parameters: {'learning_rate': 0.03627634788459757, 'depth': 3, 'l2_leaf_reg': 15}. Best is trial 23 with value: 0.7042765315492588.\n",
      "[I 2025-09-22 00:38:13,651] Trial 34 finished with value: 0.7039919676283313 and parameters: {'learning_rate': 0.04437111701567026, 'depth': 3, 'l2_leaf_reg': 10}. Best is trial 23 with value: 0.7042765315492588.\n",
      "[I 2025-09-22 00:39:03,280] Trial 35 finished with value: 0.6979814797996616 and parameters: {'learning_rate': 0.04421159865170333, 'depth': 3, 'l2_leaf_reg': 29}. Best is trial 23 with value: 0.7042765315492588.\n",
      "[I 2025-09-22 00:39:55,344] Trial 36 finished with value: 0.7001231092140182 and parameters: {'learning_rate': 0.029908792712023267, 'depth': 3, 'l2_leaf_reg': 10}. Best is trial 23 with value: 0.7042765315492588.\n",
      "[I 2025-09-22 00:40:46,122] Trial 37 finished with value: 0.6980899571808663 and parameters: {'learning_rate': 0.04421496308646743, 'depth': 4, 'l2_leaf_reg': 84}. Best is trial 23 with value: 0.7042765315492588.\n",
      "[I 2025-09-22 00:41:34,411] Trial 38 finished with value: 0.6985529621893258 and parameters: {'learning_rate': 0.05783704237257831, 'depth': 3, 'l2_leaf_reg': 18}. Best is trial 23 with value: 0.7042765315492588.\n",
      "[I 2025-09-22 00:42:32,107] Trial 39 finished with value: 0.6908197862743316 and parameters: {'learning_rate': 0.035001397972173956, 'depth': 5, 'l2_leaf_reg': 6}. Best is trial 23 with value: 0.7042765315492588.\n",
      "[I 2025-09-22 00:43:28,933] Trial 40 finished with value: 0.7005383505383505 and parameters: {'learning_rate': 0.03985974540535881, 'depth': 3, 'l2_leaf_reg': 72}. Best is trial 23 with value: 0.7042765315492588.\n",
      "[I 2025-09-22 00:44:40,340] Trial 41 finished with value: 0.7017046926137834 and parameters: {'learning_rate': 0.026940853236279327, 'depth': 3, 'l2_leaf_reg': 37}. Best is trial 23 with value: 0.7042765315492588.\n",
      "[I 2025-09-22 00:46:03,595] Trial 42 finished with value: 0.69730673367037 and parameters: {'learning_rate': 0.024316909439450838, 'depth': 3, 'l2_leaf_reg': 40}. Best is trial 23 with value: 0.7042765315492588.\n",
      "[I 2025-09-22 00:46:58,353] Trial 43 finished with value: 0.7018508427599337 and parameters: {'learning_rate': 0.027935701243429093, 'depth': 3, 'l2_leaf_reg': 13}. Best is trial 23 with value: 0.7042765315492588.\n",
      "[I 2025-09-22 00:48:02,447] Trial 44 finished with value: 0.7003996003996005 and parameters: {'learning_rate': 0.03285970966768773, 'depth': 3, 'l2_leaf_reg': 98}. Best is trial 23 with value: 0.7042765315492588.\n",
      "[I 2025-09-22 00:49:10,332] Trial 45 finished with value: 0.7041947951038859 and parameters: {'learning_rate': 0.03774390422841155, 'depth': 3, 'l2_leaf_reg': 14}. Best is trial 23 with value: 0.7042765315492588.\n",
      "[I 2025-09-22 00:49:57,092] Trial 46 finished with value: 0.6966446011900558 and parameters: {'learning_rate': 0.081242688402757, 'depth': 4, 'l2_leaf_reg': 23}. Best is trial 23 with value: 0.7042765315492588.\n",
      "[I 2025-09-22 00:51:01,952] Trial 47 finished with value: 0.6950515814152177 and parameters: {'learning_rate': 0.040511963625554225, 'depth': 5, 'l2_leaf_reg': 4}. Best is trial 23 with value: 0.7042765315492588.\n",
      "[I 2025-09-22 00:51:56,233] Trial 48 finished with value: 0.6930389475844022 and parameters: {'learning_rate': 0.04736851567253776, 'depth': 4, 'l2_leaf_reg': 63}. Best is trial 23 with value: 0.7042765315492588.\n",
      "[I 2025-09-22 00:53:06,866] Trial 49 finished with value: 0.6992860674678857 and parameters: {'learning_rate': 0.061003345357858556, 'depth': 3, 'l2_leaf_reg': 9}. Best is trial 23 with value: 0.7042765315492588.\n",
      "[I 2025-09-22 00:53:50,398] Trial 50 finished with value: 0.6999581226853953 and parameters: {'learning_rate': 0.0772692276322755, 'depth': 3, 'l2_leaf_reg': 6}. Best is trial 23 with value: 0.7042765315492588.\n",
      "[I 2025-09-22 00:54:35,529] Trial 51 finished with value: 0.7014103741376468 and parameters: {'learning_rate': 0.09718645458720696, 'depth': 5, 'l2_leaf_reg': 55}. Best is trial 23 with value: 0.7042765315492588.\n",
      "[I 2025-09-22 00:55:52,410] Trial 52 finished with value: 0.7001315183133365 and parameters: {'learning_rate': 0.02844393742988622, 'depth': 3, 'l2_leaf_reg': 14}. Best is trial 23 with value: 0.7042765315492588.\n",
      "[I 2025-09-22 00:57:11,134] Trial 53 finished with value: 0.7000751773479047 and parameters: {'learning_rate': 0.037320625775130484, 'depth': 3, 'l2_leaf_reg': 14}. Best is trial 23 with value: 0.7042765315492588.\n",
      "[I 2025-09-22 00:58:04,524] Trial 54 finished with value: 0.7024815252087979 and parameters: {'learning_rate': 0.03059991775356542, 'depth': 3, 'l2_leaf_reg': 11}. Best is trial 23 with value: 0.7042765315492588.\n",
      "[I 2025-09-22 00:59:18,111] Trial 55 finished with value: 0.7031776304503579 and parameters: {'learning_rate': 0.03346882866383112, 'depth': 3, 'l2_leaf_reg': 23}. Best is trial 23 with value: 0.7042765315492588.\n",
      "[I 2025-09-22 01:00:18,976] Trial 56 finished with value: 0.7026599662963299 and parameters: {'learning_rate': 0.033069021751168014, 'depth': 3, 'l2_leaf_reg': 20}. Best is trial 23 with value: 0.7042765315492588.\n",
      "[I 2025-09-22 01:02:00,734] Trial 57 finished with value: 0.7007606871243235 and parameters: {'learning_rate': 0.02317044043975161, 'depth': 3, 'l2_leaf_reg': 22}. Best is trial 23 with value: 0.7042765315492588.\n",
      "[I 2025-09-22 01:02:54,792] Trial 58 finished with value: 0.7021522248794976 and parameters: {'learning_rate': 0.032179767117440736, 'depth': 3, 'l2_leaf_reg': 28}. Best is trial 23 with value: 0.7042765315492588.\n",
      "[I 2025-09-22 01:04:00,729] Trial 59 finished with value: 0.6998940453485908 and parameters: {'learning_rate': 0.037766140694313596, 'depth': 3, 'l2_leaf_reg': 32}. Best is trial 23 with value: 0.7042765315492588.\n",
      "[I 2025-09-22 01:05:36,372] Trial 60 finished with value: 0.700371177643905 and parameters: {'learning_rate': 0.018129688812554536, 'depth': 3, 'l2_leaf_reg': 19}. Best is trial 23 with value: 0.7042765315492588.\n",
      "[I 2025-09-22 01:06:28,871] Trial 61 finished with value: 0.7003577230849958 and parameters: {'learning_rate': 0.02504025112960439, 'depth': 3, 'l2_leaf_reg': 5}. Best is trial 23 with value: 0.7042765315492588.\n",
      "[I 2025-09-22 01:07:29,558] Trial 62 finished with value: 0.70177146086237 and parameters: {'learning_rate': 0.03435179701130482, 'depth': 3, 'l2_leaf_reg': 27}. Best is trial 23 with value: 0.7042765315492588.\n",
      "[I 2025-09-22 01:08:20,677] Trial 63 finished with value: 0.7029024847206665 and parameters: {'learning_rate': 0.030808755111763852, 'depth': 3, 'l2_leaf_reg': 11}. Best is trial 23 with value: 0.7042765315492588.\n",
      "[I 2025-09-22 01:09:05,644] Trial 64 finished with value: 0.6980914708187436 and parameters: {'learning_rate': 0.042540862915859366, 'depth': 3, 'l2_leaf_reg': 9}. Best is trial 23 with value: 0.7042765315492588.\n",
      "[I 2025-09-22 01:09:52,723] Trial 65 finished with value: 0.7023151932242843 and parameters: {'learning_rate': 0.04750843552199797, 'depth': 3, 'l2_leaf_reg': 2}. Best is trial 23 with value: 0.7042765315492588.\n",
      "[I 2025-09-22 01:11:20,943] Trial 66 finished with value: 0.7010703101612192 and parameters: {'learning_rate': 0.030492736132413094, 'depth': 3, 'l2_leaf_reg': 18}. Best is trial 23 with value: 0.7042765315492588.\n",
      "[I 2025-09-22 01:12:09,613] Trial 67 finished with value: 0.7007314234586962 and parameters: {'learning_rate': 0.03539992508099598, 'depth': 3, 'l2_leaf_reg': 11}. Best is trial 23 with value: 0.7042765315492588.\n",
      "[I 2025-09-22 01:13:01,204] Trial 68 finished with value: 0.7008945599854691 and parameters: {'learning_rate': 0.03069543958697631, 'depth': 3, 'l2_leaf_reg': 45}. Best is trial 23 with value: 0.7042765315492588.\n",
      "[I 2025-09-22 01:13:47,114] Trial 69 finished with value: 0.6996311769039042 and parameters: {'learning_rate': 0.054726486773524305, 'depth': 3, 'l2_leaf_reg': 21}. Best is trial 23 with value: 0.7042765315492588.\n",
      "[I 2025-09-22 01:15:34,781] Trial 70 finished with value: 0.6997825406916316 and parameters: {'learning_rate': 0.02161804953947183, 'depth': 3, 'l2_leaf_reg': 16}. Best is trial 23 with value: 0.7042765315492588.\n",
      "[I 2025-09-22 01:16:25,363] Trial 71 finished with value: 0.6995300995300995 and parameters: {'learning_rate': 0.026385094670639844, 'depth': 3, 'l2_leaf_reg': 7}. Best is trial 23 with value: 0.7042765315492588.\n",
      "[I 2025-09-22 01:17:10,858] Trial 72 finished with value: 0.6995729859366223 and parameters: {'learning_rate': 0.04867726594412292, 'depth': 3, 'l2_leaf_reg': 2}. Best is trial 23 with value: 0.7042765315492588.\n",
      "[I 2025-09-22 01:17:52,397] Trial 73 finished with value: 0.7022844159207796 and parameters: {'learning_rate': 0.04117036119005833, 'depth': 3, 'l2_leaf_reg': 2}. Best is trial 23 with value: 0.7042765315492588.\n",
      "[I 2025-09-22 01:18:36,713] Trial 74 finished with value: 0.7008997736270464 and parameters: {'learning_rate': 0.04646931793816121, 'depth': 3, 'l2_leaf_reg': 11}. Best is trial 23 with value: 0.7042765315492588.\n",
      "[I 2025-09-22 01:19:19,975] Trial 75 finished with value: 0.7039865858047677 and parameters: {'learning_rate': 0.03288880105385729, 'depth': 3, 'l2_leaf_reg': 4}. Best is trial 23 with value: 0.7042765315492588.\n",
      "[I 2025-09-22 01:20:04,352] Trial 76 finished with value: 0.698802712439076 and parameters: {'learning_rate': 0.037951583629495855, 'depth': 3, 'l2_leaf_reg': 8}. Best is trial 23 with value: 0.7042765315492588.\n",
      "[I 2025-09-22 01:20:52,373] Trial 77 finished with value: 0.7029388120297211 and parameters: {'learning_rate': 0.03287629423982216, 'depth': 3, 'l2_leaf_reg': 12}. Best is trial 23 with value: 0.7042765315492588.\n",
      "[I 2025-09-22 01:22:36,149] Trial 78 finished with value: 0.7014911014911014 and parameters: {'learning_rate': 0.03338978784926244, 'depth': 3, 'l2_leaf_reg': 25}. Best is trial 23 with value: 0.7042765315492588.\n",
      "[I 2025-09-22 01:24:06,610] Trial 79 finished with value: 0.7019416610325702 and parameters: {'learning_rate': 0.028323007207760976, 'depth': 3, 'l2_leaf_reg': 17}. Best is trial 23 with value: 0.7042765315492588.\n",
      "[I 2025-09-22 01:24:48,459] Trial 80 finished with value: 0.7018962518962518 and parameters: {'learning_rate': 0.03509890908861193, 'depth': 3, 'l2_leaf_reg': 4}. Best is trial 23 with value: 0.7042765315492588.\n",
      "[I 2025-09-22 01:26:07,863] Trial 81 finished with value: 0.7006580961126416 and parameters: {'learning_rate': 0.03275797111634908, 'depth': 3, 'l2_leaf_reg': 20}. Best is trial 23 with value: 0.7042765315492588.\n",
      "[I 2025-09-22 01:27:01,948] Trial 82 finished with value: 0.7028695210513394 and parameters: {'learning_rate': 0.02976939588116892, 'depth': 3, 'l2_leaf_reg': 11}. Best is trial 23 with value: 0.7042765315492588.\n",
      "[I 2025-09-22 01:28:08,531] Trial 83 finished with value: 0.703418635236817 and parameters: {'learning_rate': 0.028862513086642654, 'depth': 3, 'l2_leaf_reg': 12}. Best is trial 23 with value: 0.7042765315492588.\n",
      "[I 2025-09-22 01:29:25,609] Trial 84 finished with value: 0.7019379610288702 and parameters: {'learning_rate': 0.023143835060040755, 'depth': 3, 'l2_leaf_reg': 12}. Best is trial 23 with value: 0.7042765315492588.\n",
      "[I 2025-09-22 01:30:26,285] Trial 85 finished with value: 0.7005074050528596 and parameters: {'learning_rate': 0.027859156297470995, 'depth': 3, 'l2_leaf_reg': 7}. Best is trial 23 with value: 0.7042765315492588.\n",
      "[I 2025-09-22 01:31:27,035] Trial 86 finished with value: 0.7009937873574238 and parameters: {'learning_rate': 0.0257294302363677, 'depth': 3, 'l2_leaf_reg': 16}. Best is trial 23 with value: 0.7042765315492588.\n",
      "[I 2025-09-22 01:32:13,505] Trial 87 finished with value: 0.6995511222783949 and parameters: {'learning_rate': 0.029638303102538736, 'depth': 3, 'l2_leaf_reg': 5}. Best is trial 23 with value: 0.7042765315492588.\n",
      "[I 2025-09-22 01:32:57,334] Trial 88 finished with value: 0.6964046054955146 and parameters: {'learning_rate': 0.04345044108783408, 'depth': 3, 'l2_leaf_reg': 13}. Best is trial 23 with value: 0.7042765315492588.\n",
      "[I 2025-09-22 01:33:43,592] Trial 89 finished with value: 0.698826257917167 and parameters: {'learning_rate': 0.03666982701866483, 'depth': 3, 'l2_leaf_reg': 9}. Best is trial 23 with value: 0.7042765315492588.\n",
      "[I 2025-09-22 01:34:26,285] Trial 90 finished with value: 0.6994648449193904 and parameters: {'learning_rate': 0.0398057131534575, 'depth': 3, 'l2_leaf_reg': 1}. Best is trial 23 with value: 0.7042765315492588.\n",
      "[I 2025-09-22 01:35:47,761] Trial 91 finished with value: 0.7021010975556429 and parameters: {'learning_rate': 0.03161773274804408, 'depth': 3, 'l2_leaf_reg': 24}. Best is trial 23 with value: 0.7042765315492588.\n",
      "[I 2025-09-22 01:37:00,622] Trial 92 finished with value: 0.7014438423529332 and parameters: {'learning_rate': 0.03348335806447374, 'depth': 3, 'l2_leaf_reg': 16}. Best is trial 23 with value: 0.7042765315492588.\n",
      "[I 2025-09-22 01:38:28,091] Trial 93 finished with value: 0.7011670148033785 and parameters: {'learning_rate': 0.02935180300451615, 'depth': 3, 'l2_leaf_reg': 13}. Best is trial 23 with value: 0.7042765315492588.\n",
      "[I 2025-09-22 01:39:17,769] Trial 94 finished with value: 0.69909854455309 and parameters: {'learning_rate': 0.027346172900151414, 'depth': 3, 'l2_leaf_reg': 8}. Best is trial 23 with value: 0.7042765315492588.\n",
      "[I 2025-09-22 01:40:37,949] Trial 95 finished with value: 0.700979996434542 and parameters: {'learning_rate': 0.03619245833970451, 'depth': 3, 'l2_leaf_reg': 21}. Best is trial 23 with value: 0.7042765315492588.\n",
      "[I 2025-09-22 01:41:31,919] Trial 96 finished with value: 0.7015030424121332 and parameters: {'learning_rate': 0.03895905040626974, 'depth': 3, 'l2_leaf_reg': 4}. Best is trial 23 with value: 0.7042765315492588.\n",
      "[I 2025-09-22 01:42:22,923] Trial 97 finished with value: 0.7019184519184519 and parameters: {'learning_rate': 0.03163479851569437, 'depth': 3, 'l2_leaf_reg': 30}. Best is trial 23 with value: 0.7042765315492588.\n",
      "[I 2025-09-22 01:43:39,802] Trial 98 finished with value: 0.7011670148033784 and parameters: {'learning_rate': 0.041304816708365936, 'depth': 3, 'l2_leaf_reg': 11}. Best is trial 23 with value: 0.7042765315492588.\n",
      "[I 2025-09-22 01:45:12,550] Trial 99 finished with value: 0.7013750559205105 and parameters: {'learning_rate': 0.024898841772471807, 'depth': 3, 'l2_leaf_reg': 18}. Best is trial 23 with value: 0.7042765315492588.\n",
      "[I 2025-09-22 01:46:09,079] Trial 100 finished with value: 0.7002038365674729 and parameters: {'learning_rate': 0.03330306371004487, 'depth': 3, 'l2_leaf_reg': 15}. Best is trial 23 with value: 0.7042765315492588.\n"
     ]
    }
   ],
   "source": [
    "study_enhanced_ipw.optimize(objective, n_trials=100)"
   ]
  },
  {
   "cell_type": "code",
   "execution_count": 119,
   "metadata": {},
   "outputs": [],
   "source": [
    "with open(rf'{data_dir}\\models\\enhanced_ipw_model_optuna_study_cb.pkl', 'wb') as f:\n",
    "    pickle.dump(study_enhanced_ipw, f)"
   ]
  },
  {
   "cell_type": "code",
   "execution_count": 120,
   "metadata": {},
   "outputs": [
    {
     "data": {
      "text/plain": [
       "{'learning_rate': 0.02999050557916954, 'depth': 3, 'l2_leaf_reg': 2}"
      ]
     },
     "execution_count": 120,
     "metadata": {},
     "output_type": "execute_result"
    }
   ],
   "source": [
    "study_enhanced_ipw.best_params"
   ]
  },
  {
   "cell_type": "code",
   "execution_count": 41,
   "metadata": {},
   "outputs": [],
   "source": [
    "enhanced_model_ipw = base_model = CatBoostXT_BAG(\n",
    "    num_bag_folds=5,\n",
    "    num_bag_repeats=1,\n",
    "    random_state=1,\n",
    "    cat_features=list_cat_features\n",
    ")"
   ]
  },
  {
   "cell_type": "code",
   "execution_count": 42,
   "metadata": {},
   "outputs": [],
   "source": [
    "enhanced_model_ipw.params = {\n",
    "    'iterations': 3000,\n",
    "    'learning_rate': 0.01,\n",
    "    'depth': 3,\n",
    "    'l2_leaf_reg': 2,\n",
    "    'border_count': 128,\n",
    "    'auto_class_weights': 'SqrtBalanced',\n",
    "    'early_stopping_rounds': None,\n",
    "    'od_type': 'IncToDec',\n",
    "    'od_wait': 50,\n",
    "    'od_pval': 0.01,\n",
    "    'boosting_type': 'Ordered',\n",
    "    'bootstrap_type': 'Bernoulli',\n",
    "    'loss_function': 'Logloss', \n",
    "    'eval_metric': 'Logloss',\n",
    "    'task_type':'GPU',\n",
    "    'devices':'0',\n",
    "}"
   ]
  },
  {
   "cell_type": "code",
   "execution_count": 195,
   "metadata": {},
   "outputs": [
    {
     "data": {
      "text/plain": [
       "<model_class_cb.CatBoostXT_BAG at 0x232426f71f0>"
      ]
     },
     "execution_count": 195,
     "metadata": {},
     "output_type": "execute_result"
    }
   ],
   "source": [
    "enhanced_model_ipw.fit(X_train, y_train, weights=w_train, eval_set=(X_val, y_val), eval_set_weights=w_val)"
   ]
  },
  {
   "cell_type": "code",
   "execution_count": 199,
   "metadata": {},
   "outputs": [],
   "source": [
    "with open(rf'{data_dir}\\models\\enhanced_ipw_model_cb.pkl', 'wb') as f:\n",
    "    pickle.dump(enhanced_model_ipw, f)"
   ]
  },
  {
   "cell_type": "code",
   "execution_count": 15,
   "metadata": {},
   "outputs": [],
   "source": [
    "with open(rf'{data_dir}\\models\\enhanced_ipw_model_cb.pkl', 'rb') as f:\n",
    "    enhanced_model_ipw = pickle.load(f)"
   ]
  },
  {
   "cell_type": "code",
   "execution_count": 196,
   "metadata": {},
   "outputs": [
    {
     "data": {
      "text/plain": [
       "{'ROC_AUC': 0.7435319714846718, 'PR_AUC': 0.19335753677291087}"
      ]
     },
     "execution_count": 196,
     "metadata": {},
     "output_type": "execute_result"
    }
   ],
   "source": [
    "enhanced_model_ipw.evaluate(X_train, y_train)"
   ]
  },
  {
   "cell_type": "code",
   "execution_count": 197,
   "metadata": {},
   "outputs": [
    {
     "data": {
      "text/plain": [
       "{'ROC_AUC': 0.7091506136960682, 'PR_AUC': 0.12167001785520692}"
      ]
     },
     "execution_count": 197,
     "metadata": {},
     "output_type": "execute_result"
    }
   ],
   "source": [
    "enhanced_model_ipw.evaluate(X_val, y_val)"
   ]
  },
  {
   "cell_type": "code",
   "execution_count": 198,
   "metadata": {},
   "outputs": [
    {
     "data": {
      "text/plain": [
       "{'ROC_AUC': 0.686009577609755, 'PR_AUC': 0.17001479370829212}"
      ]
     },
     "execution_count": 198,
     "metadata": {},
     "output_type": "execute_result"
    }
   ],
   "source": [
    "enhanced_model_ipw.evaluate(df.loc[df['flag_train_val']=='valid',list_features],df.loc[df['flag_train_val']=='valid',label_col])"
   ]
  },
  {
   "cell_type": "markdown",
   "metadata": {},
   "source": [
    "## Self-learning"
   ]
  },
  {
   "cell_type": "markdown",
   "metadata": {},
   "source": [
    "Use enhanced IPW model above as weak learner for assigning proxy label to reject data\n",
    "\n",
    "Base model is used as weak learner --> assign label on confident prediction --> retrain main_learner\n",
    "--> main learner as weak learner and repeat the loop\n",
    "\n",
    "Until no further improvement can be made or user specified iteration --> stop"
   ]
  },
  {
   "cell_type": "markdown",
   "metadata": {},
   "source": [
    "### Prep data"
   ]
  },
  {
   "cell_type": "code",
   "execution_count": 16,
   "metadata": {},
   "outputs": [],
   "source": [
    "acc_mask = (df[\"flag_accepted\"].values == 1)\n",
    "rej_mask = (df[\"flag_accepted\"].values == 0)"
   ]
  },
  {
   "cell_type": "code",
   "execution_count": 17,
   "metadata": {},
   "outputs": [],
   "source": [
    "train_mask = (df['flag_train_val']=='train')\n",
    "valid_mask = (df['flag_train_val']=='valid')"
   ]
  },
  {
   "cell_type": "code",
   "execution_count": 18,
   "metadata": {},
   "outputs": [],
   "source": [
    "p_accept=accept_model.predict_proba_calib(df[list_features])[:,1]"
   ]
  },
  {
   "cell_type": "code",
   "execution_count": 19,
   "metadata": {},
   "outputs": [
    {
     "name": "stdout",
     "output_type": "stream",
     "text": [
      "Train ESS (accepted only): 37296.99845468228\n"
     ]
    }
   ],
   "source": [
    "w_all = np.sqrt(compute_ipw_weights(\n",
    "    accept=df[\"flag_accepted\"].values,\n",
    "    p_accept=p_accept,\n",
    "    stabilize=False, trim_quantiles=(0.05, 0.95), cap_max=10\n",
    "))\n",
    "print(\"Train ESS (accepted only):\", effective_sample_size(w_all[acc_mask]))"
   ]
  },
  {
   "cell_type": "code",
   "execution_count": 20,
   "metadata": {},
   "outputs": [],
   "source": [
    "# Accepted only\n",
    "X_a_train = df.loc[acc_mask & train_mask, list_features]\n",
    "y_a_train = df.loc[acc_mask & train_mask, label_col]\n",
    "w_a_train = w_all[acc_mask & train_mask]\n",
    "\n",
    "X_a_val = df.loc[acc_mask & valid_mask, list_features]\n",
    "y_a_val = df.loc[acc_mask & valid_mask, label_col]\n",
    "w_a_val = w_all[acc_mask & valid_mask]"
   ]
  },
  {
   "cell_type": "code",
   "execution_count": 72,
   "metadata": {},
   "outputs": [],
   "source": [
    "X_all_val = df.loc[valid_mask, list_features]\n",
    "y_all_val = df.loc[valid_mask, label_col]\n",
    "w_all_val = w_all[valid_mask]"
   ]
  },
  {
   "cell_type": "code",
   "execution_count": 21,
   "metadata": {},
   "outputs": [
    {
     "data": {
      "text/plain": [
       "(34294, 576)"
      ]
     },
     "execution_count": 21,
     "metadata": {},
     "output_type": "execute_result"
    }
   ],
   "source": [
    "X_a_train.shape"
   ]
  },
  {
   "cell_type": "code",
   "execution_count": 22,
   "metadata": {},
   "outputs": [
    {
     "data": {
      "text/plain": [
       "(11436, 576)"
      ]
     },
     "execution_count": 22,
     "metadata": {},
     "output_type": "execute_result"
    }
   ],
   "source": [
    "X_a_val.shape"
   ]
  },
  {
   "cell_type": "code",
   "execution_count": 23,
   "metadata": {},
   "outputs": [
    {
     "data": {
      "text/plain": [
       "TARGET\n",
       "0    0.952256\n",
       "1    0.047744\n",
       "Name: proportion, dtype: float64"
      ]
     },
     "execution_count": 23,
     "metadata": {},
     "output_type": "execute_result"
    }
   ],
   "source": [
    "y_a_val.value_counts(normalize=True)"
   ]
  },
  {
   "cell_type": "code",
   "execution_count": 24,
   "metadata": {},
   "outputs": [],
   "source": [
    "# Rejected only\n",
    "X_r = df.loc[rej_mask, list_features]\n",
    "prospensity_r = accept_model.predict_proba_calib(X_r)[:,1]"
   ]
  },
  {
   "cell_type": "code",
   "execution_count": 25,
   "metadata": {},
   "outputs": [
    {
     "data": {
      "text/plain": [
       "(261781, 576)"
      ]
     },
     "execution_count": 25,
     "metadata": {},
     "output_type": "execute_result"
    }
   ],
   "source": [
    "X_r.shape"
   ]
  },
  {
   "cell_type": "markdown",
   "metadata": {},
   "source": [
    "#### Choosing weak learner as teacher"
   ]
  },
  {
   "cell_type": "markdown",
   "metadata": {},
   "source": [
    "The Teacher quality depends on the tail prediction confident tail 4% - 96% for example. Here we evaluate the tail precision confident and determine the tail probability value (3, 4, 5%) of:\n",
    "1. baseline model. no improvement made. 2 models: Catboost and LightGBMXT_BAG\n",
    "2. IPW enhanced model above"
   ]
  },
  {
   "cell_type": "code",
   "execution_count": 209,
   "metadata": {},
   "outputs": [],
   "source": [
    "# load base model catboost\n",
    "with open(rf'{data_dir}\\models\\base_model_simulated_catboostxt_bag.pkl', 'rb') as f:\n",
    "    base_model_cb = pickle.load(f)\n"
   ]
  },
  {
   "cell_type": "code",
   "execution_count": 106,
   "metadata": {},
   "outputs": [],
   "source": [
    "# load base model lgbm\n",
    "with open(rf'{data_dir}\\models\\base_model_simulated_lgbmxt_bag.pkl', 'rb') as f:\n",
    "    base_model_lgbm = pickle.load(f)"
   ]
  },
  {
   "cell_type": "code",
   "execution_count": 27,
   "metadata": {},
   "outputs": [
    {
     "data": {
      "text/plain": [
       "<model_class_cb.CatBoostXT_BAG at 0x1a79bf54a90>"
      ]
     },
     "execution_count": 27,
     "metadata": {},
     "output_type": "execute_result"
    }
   ],
   "source": [
    "base_model_cb"
   ]
  },
  {
   "cell_type": "code",
   "execution_count": 107,
   "metadata": {},
   "outputs": [],
   "source": [
    "p_base_cb_val = base_model_cb.predict_proba(df.loc[valid_mask & acc_mask,list_features])[:,1]\n",
    "p_base_lgbm_val = base_model_lgbm.predict_proba(df.loc[valid_mask & acc_mask,list_features])[:,1]\n",
    "p_base_ipw_val = enhanced_model_ipw.predict_proba(df.loc[valid_mask & acc_mask,list_features])[:,1]"
   ]
  },
  {
   "cell_type": "code",
   "execution_count": 110,
   "metadata": {},
   "outputs": [
    {
     "name": "stdout",
     "output_type": "stream",
     "text": [
      "Base CB model - Positive tail precision: 0.22707423580786026 N in tail: 229 Threshold prob: 0.41202408468804536\n",
      "Base CB model - Negative tail precision: 0.993006993006993 N in tail: 1144 Threshold prob: 0.07134391417074312\n"
     ]
    }
   ],
   "source": [
    "prec_pos, prec_neg, n_pos, n_neg, t_pos_abs, t_neg_abs = tail_precision(p_base_cb_val, y_a_val,mode='percentile', hi=0.98, lo=0.1)\n",
    "print(\"Base CB model - Positive tail precision:\", prec_pos, \"N in tail:\", n_pos, \"Threshold prob:\", t_pos_abs)\n",
    "print(\"Base CB model - Negative tail precision:\", prec_neg, \"N in tail:\", n_neg, \"Threshold prob:\", t_neg_abs)"
   ]
  },
  {
   "cell_type": "code",
   "execution_count": 30,
   "metadata": {},
   "outputs": [
    {
     "name": "stdout",
     "output_type": "stream",
     "text": [
      "Base LGBM model - Positive tail precision: 0.048034934497816595 N in tail: 229 Threshold prob: 0.12443193664898038\n",
      "Base LGBM model - Negative tail precision: 0.9764397905759162 N in tail: 1146 Threshold prob: 0.0377378542406074\n"
     ]
    }
   ],
   "source": [
    "prec_pos, prec_neg, n_pos, n_neg, t_pos_abs, t_neg_abs = tail_precision(p_base_lgbm_val, y_a_val,mode='percentile', hi=0.98, lo=0.1)\n",
    "print(\"Base LGBM model - Positive tail precision:\", prec_pos, \"N in tail:\", n_pos, \"Threshold prob:\", t_pos_abs)\n",
    "print(\"Base LGBM model - Negative tail precision:\", prec_neg, \"N in tail:\", n_neg, \"Threshold prob:\", t_neg_abs)"
   ]
  },
  {
   "cell_type": "code",
   "execution_count": 31,
   "metadata": {},
   "outputs": [
    {
     "name": "stdout",
     "output_type": "stream",
     "text": [
      "Base IPW enhanced model - Positive tail precision: 0.2096069868995633 N in tail: 229 Threshold prob: 0.365317202523359\n",
      "Base IPW enhanced model - Negative tail precision: 0.993006993006993 N in tail: 1144 Threshold prob: 0.08715934347994665\n"
     ]
    }
   ],
   "source": [
    "prec_pos, prec_neg, n_pos, n_neg, t_pos_abs, t_neg_abs = tail_precision(p_base_ipw_val, y_a_val,mode='percentile', hi=0.98, lo=0.1)\n",
    "print(\"Base IPW enhanced model - Positive tail precision:\", prec_pos, \"N in tail:\", n_pos, \"Threshold prob:\", t_pos_abs)\n",
    "print(\"Base IPW enhanced model - Negative tail precision:\", prec_neg, \"N in tail:\", n_neg, \"Threshold prob:\", t_neg_abs)"
   ]
  },
  {
   "cell_type": "markdown",
   "metadata": {},
   "source": [
    "Conclusion 1:\n",
    "- to Use Catboost Base line model.\n",
    "- LGBM base model although has same AUC, but worse tail precision.\n",
    "- IPW model lower tail precision than base model"
   ]
  },
  {
   "cell_type": "markdown",
   "metadata": {},
   "source": [
    "Conclusion 2: for bad label\n",
    "- To use 98% percentile for soft label assignment as the tail precision is around 4.7 times higher than event rate of validation sample (4.77%).\n",
    "- 97% percentile is 3.96x higher than event rate\n",
    "\n",
    "For good label, 10% percentile is good enough with 99.3% precision. --> Need it to be high be cause the event rate for good is high (1-4.77% ~ 93%)"
   ]
  },
  {
   "cell_type": "markdown",
   "metadata": {},
   "source": [
    "#### Training self learning"
   ]
  },
  {
   "cell_type": "markdown",
   "metadata": {},
   "source": [
    "##### No propensity"
   ]
  },
  {
   "cell_type": "code",
   "execution_count": 48,
   "metadata": {},
   "outputs": [],
   "source": [
    "# init main learner\n",
    "main_learner = CatBoostXT_BAG(\n",
    "    num_bag_folds=1,\n",
    "    num_bag_repeats=1,\n",
    "    random_state=1,\n",
    "    cat_features=list_cat_features\n",
    ")"
   ]
  },
  {
   "cell_type": "code",
   "execution_count": 49,
   "metadata": {},
   "outputs": [
    {
     "data": {
      "text/plain": [
       "<model_class_cb.CatBoostXT_BAG at 0x1b8e4d717f0>"
      ]
     },
     "execution_count": 49,
     "metadata": {},
     "output_type": "execute_result"
    }
   ],
   "source": [
    "main_learner"
   ]
  },
  {
   "cell_type": "code",
   "execution_count": 50,
   "metadata": {},
   "outputs": [],
   "source": [
    "main_learner.params = {\n",
    "    'iterations': 1000,\n",
    "    'learning_rate': 0.010353843378600744,\n",
    "    'depth': 4,\n",
    "    'l2_leaf_reg': 89,\n",
    "    'border_count': 128,\n",
    "    'auto_class_weights': 'SqrtBalanced',\n",
    "    'early_stopping_rounds': None,\n",
    "    'od_type': 'IncToDec',\n",
    "    'od_wait': 200,\n",
    "    'od_pval': 0.01,\n",
    "    'boosting_type': 'Ordered',\n",
    "    'bootstrap_type': 'Bernoulli',\n",
    "    'loss_function': 'Logloss', \n",
    "    'eval_metric': 'Logloss',\n",
    "    'task_type':'GPU',\n",
    "    'devices':'0'\n",
    "    }"
   ]
  },
  {
   "cell_type": "code",
   "execution_count": 119,
   "metadata": {},
   "outputs": [],
   "source": [
    "cfg = SelfLearningConfig(\n",
    "    n_rounds=10,\n",
    "    # Use your custom class as the main learner (student)\n",
    "    main_learner_factory=lambda: main_learner,\n",
    "    main_fit_weight_arg=\"weights\",       # CatBoostXT_BAG.fit expects 'weights='\n",
    "    # (optionally still keep a name/kwargs for fallback when no factory is provided)\n",
    "    # main_learner_name=\"logit\", # option if no factory then fallback to this\n",
    "    # main_learner_kwargs=dict(C=0.5, solver=\"liblinear\", max_iter=200, class_weight=\"balanced\"), # option if no factory then fallback to this\n",
    "    # harvesting & safety\n",
    "    teacher_thresholds=[(0.99, 0.1)],\n",
    "    threshold_mode = 'percentile',\n",
    "    max_add_per_round=5000,\n",
    "    min_new_per_round=100,\n",
    "    # weights & calibration\n",
    "    use_propensity_weight=False,\n",
    "    cap_ipw=10.0,\n",
    "    calibrate=None,                # will call CatBoostXT_BAG.calibrate(...) if present\n",
    "    early_stop_metric=\"auc\",\n",
    "    early_stop_patience=2,\n",
    "    random_state=42,\n",
    ")\n"
   ]
  },
  {
   "cell_type": "code",
   "execution_count": 120,
   "metadata": {},
   "outputs": [],
   "source": [
    "orch = SelfLearningOrchestrator(cfg)"
   ]
  },
  {
   "cell_type": "code",
   "execution_count": 121,
   "metadata": {},
   "outputs": [
    {
     "name": "stderr",
     "output_type": "stream",
     "text": [
      "You should provide test set for use best model. use_best_model parameter has been switched to false value.\n"
     ]
    },
    {
     "data": {
      "text/html": [
       "<style>#sk-container-id-11 {color: black;}#sk-container-id-11 pre{padding: 0;}#sk-container-id-11 div.sk-toggleable {background-color: white;}#sk-container-id-11 label.sk-toggleable__label {cursor: pointer;display: block;width: 100%;margin-bottom: 0;padding: 0.3em;box-sizing: border-box;text-align: center;}#sk-container-id-11 label.sk-toggleable__label-arrow:before {content: \"▸\";float: left;margin-right: 0.25em;color: #696969;}#sk-container-id-11 label.sk-toggleable__label-arrow:hover:before {color: black;}#sk-container-id-11 div.sk-estimator:hover label.sk-toggleable__label-arrow:before {color: black;}#sk-container-id-11 div.sk-toggleable__content {max-height: 0;max-width: 0;overflow: hidden;text-align: left;background-color: #f0f8ff;}#sk-container-id-11 div.sk-toggleable__content pre {margin: 0.2em;color: black;border-radius: 0.25em;background-color: #f0f8ff;}#sk-container-id-11 input.sk-toggleable__control:checked~div.sk-toggleable__content {max-height: 200px;max-width: 100%;overflow: auto;}#sk-container-id-11 input.sk-toggleable__control:checked~label.sk-toggleable__label-arrow:before {content: \"▾\";}#sk-container-id-11 div.sk-estimator input.sk-toggleable__control:checked~label.sk-toggleable__label {background-color: #d4ebff;}#sk-container-id-11 div.sk-label input.sk-toggleable__control:checked~label.sk-toggleable__label {background-color: #d4ebff;}#sk-container-id-11 input.sk-hidden--visually {border: 0;clip: rect(1px 1px 1px 1px);clip: rect(1px, 1px, 1px, 1px);height: 1px;margin: -1px;overflow: hidden;padding: 0;position: absolute;width: 1px;}#sk-container-id-11 div.sk-estimator {font-family: monospace;background-color: #f0f8ff;border: 1px dotted black;border-radius: 0.25em;box-sizing: border-box;margin-bottom: 0.5em;}#sk-container-id-11 div.sk-estimator:hover {background-color: #d4ebff;}#sk-container-id-11 div.sk-parallel-item::after {content: \"\";width: 100%;border-bottom: 1px solid gray;flex-grow: 1;}#sk-container-id-11 div.sk-label:hover label.sk-toggleable__label {background-color: #d4ebff;}#sk-container-id-11 div.sk-serial::before {content: \"\";position: absolute;border-left: 1px solid gray;box-sizing: border-box;top: 0;bottom: 0;left: 50%;z-index: 0;}#sk-container-id-11 div.sk-serial {display: flex;flex-direction: column;align-items: center;background-color: white;padding-right: 0.2em;padding-left: 0.2em;position: relative;}#sk-container-id-11 div.sk-item {position: relative;z-index: 1;}#sk-container-id-11 div.sk-parallel {display: flex;align-items: stretch;justify-content: center;background-color: white;position: relative;}#sk-container-id-11 div.sk-item::before, #sk-container-id-11 div.sk-parallel-item::before {content: \"\";position: absolute;border-left: 1px solid gray;box-sizing: border-box;top: 0;bottom: 0;left: 50%;z-index: -1;}#sk-container-id-11 div.sk-parallel-item {display: flex;flex-direction: column;z-index: 1;position: relative;background-color: white;}#sk-container-id-11 div.sk-parallel-item:first-child::after {align-self: flex-end;width: 50%;}#sk-container-id-11 div.sk-parallel-item:last-child::after {align-self: flex-start;width: 50%;}#sk-container-id-11 div.sk-parallel-item:only-child::after {width: 0;}#sk-container-id-11 div.sk-dashed-wrapped {border: 1px dashed gray;margin: 0 0.4em 0.5em 0.4em;box-sizing: border-box;padding-bottom: 0.4em;background-color: white;}#sk-container-id-11 div.sk-label label {font-family: monospace;font-weight: bold;display: inline-block;line-height: 1.2em;}#sk-container-id-11 div.sk-label-container {text-align: center;}#sk-container-id-11 div.sk-container {/* jupyter's `normalize.less` sets `[hidden] { display: none; }` but bootstrap.min.css set `[hidden] { display: none !important; }` so we also need the `!important` here to be able to override the default hidden behavior on the sphinx rendered scikit-learn.org. See: https://github.com/scikit-learn/scikit-learn/issues/21755 */display: inline-block !important;position: relative;}#sk-container-id-11 div.sk-text-repr-fallback {display: none;}</style><div id=\"sk-container-id-11\" class=\"sk-top-container\"><div class=\"sk-text-repr-fallback\"><pre>SelfLearningOrchestrator(config=SelfLearningConfig(n_rounds=10, main_learner_name=&#x27;logit&#x27;, main_learner_kwargs=None, main_learner_factory=&lt;function &lt;lambda&gt; at 0x000001B8E8EB8820&gt;, main_fit_weight_arg=&#x27;weights&#x27;, teacher_thresholds=[(0.99, 0.1)], threshold_mode=&#x27;percentile&#x27;, percentile_pairs=None, target_precision_pos=0.92, target_precision_neg=0.92, min_val_support=150, abs_floor_hi=0.9, abs_floor_lo=0.1, max_add_per_round=5000, min_new_per_round=100, use_propensity_weight=False, cap_ipw=10.0, require_agreement_rounds=1, agreement_tol=0.15, confidence_floor=0.1, calibrate=None, early_stop_metric=&#x27;auc&#x27;, early_stop_patience=2, random_state=42))</pre><b>In a Jupyter environment, please rerun this cell to show the HTML representation or trust the notebook. <br />On GitHub, the HTML representation is unable to render, please try loading this page with nbviewer.org.</b></div><div class=\"sk-container\" hidden><div class=\"sk-item\"><div class=\"sk-estimator sk-toggleable\"><input class=\"sk-toggleable__control sk-hidden--visually\" id=\"sk-estimator-id-11\" type=\"checkbox\" checked><label for=\"sk-estimator-id-11\" class=\"sk-toggleable__label sk-toggleable__label-arrow\">SelfLearningOrchestrator</label><div class=\"sk-toggleable__content\"><pre>SelfLearningOrchestrator(config=SelfLearningConfig(n_rounds=10, main_learner_name=&#x27;logit&#x27;, main_learner_kwargs=None, main_learner_factory=&lt;function &lt;lambda&gt; at 0x000001B8E8EB8820&gt;, main_fit_weight_arg=&#x27;weights&#x27;, teacher_thresholds=[(0.99, 0.1)], threshold_mode=&#x27;percentile&#x27;, percentile_pairs=None, target_precision_pos=0.92, target_precision_neg=0.92, min_val_support=150, abs_floor_hi=0.9, abs_floor_lo=0.1, max_add_per_round=5000, min_new_per_round=100, use_propensity_weight=False, cap_ipw=10.0, require_agreement_rounds=1, agreement_tol=0.15, confidence_floor=0.1, calibrate=None, early_stop_metric=&#x27;auc&#x27;, early_stop_patience=2, random_state=42))</pre></div></div></div></div></div>"
      ],
      "text/plain": [
       "SelfLearningOrchestrator(config=SelfLearningConfig(n_rounds=10, main_learner_name='logit', main_learner_kwargs=None, main_learner_factory=<function <lambda> at 0x000001B8E8EB8820>, main_fit_weight_arg='weights', teacher_thresholds=[(0.99, 0.1)], threshold_mode='percentile', percentile_pairs=None, target_precision_pos=0.92, target_precision_neg=0.92, min_val_support=150, abs_floor_hi=0.9, abs_floor_lo=0.1, max_add_per_round=5000, min_new_per_round=100, use_propensity_weight=False, cap_ipw=10.0, require_agreement_rounds=1, agreement_tol=0.15, confidence_floor=0.1, calibrate=None, early_stop_metric='auc', early_stop_patience=2, random_state=42))"
      ]
     },
     "execution_count": 121,
     "metadata": {},
     "output_type": "execute_result"
    }
   ],
   "source": [
    "orch.fit(\n",
    "    baseline_teacher=base_model_cb,   # e.g., your existing CatBoost baseline\n",
    "    X_l=X_a_train, y_l=y_a_train, # Labeled data (accepted only)\n",
    "    X_u=X_r, propensity_u=prospensity_r, # Unlabeled data (rejected only)\n",
    "    X_val=X_a_val, y_val=y_a_val, # To build eval set\n",
    ")"
   ]
  },
  {
   "cell_type": "code",
   "execution_count": 122,
   "metadata": {},
   "outputs": [
    {
     "data": {
      "text/plain": [
       "[{'round': 0,\n",
       "  'added': 5000,\n",
       "  'cum_added': 5000,\n",
       "  't_pos': 0.431402371534599,\n",
       "  't_neg': 0.08055103290642648,\n",
       "  't_pos_abs': 0.431402371534599,\n",
       "  't_neg_abs': 0.08055103290642648,\n",
       "  'auc': 0.7063917563917563,\n",
       "  'pr_auc': 0.06936965926104388,\n",
       "  'prec_pos': nan,\n",
       "  'prec_neg': nan,\n",
       "  'brier': 0.06483742895734768},\n",
       " {'round': 1,\n",
       "  'added': 5000,\n",
       "  'cum_added': 5000,\n",
       "  't_pos': 0.6713294269568263,\n",
       "  't_neg': 0.058624822721052516,\n",
       "  't_pos_abs': 0.6713294269568263,\n",
       "  't_neg_abs': 0.058624822721052516,\n",
       "  'auc': 0.7017102426193336,\n",
       "  'pr_auc': 0.06678413399338584,\n",
       "  'prec_pos': nan,\n",
       "  'prec_neg': nan,\n",
       "  'brier': 0.06343230884508114},\n",
       " {'round': 2,\n",
       "  'added': 5000,\n",
       "  'cum_added': 5000,\n",
       "  't_pos': 0.8400294449245385,\n",
       "  't_neg': 0.058538658266549075,\n",
       "  't_pos_abs': 0.8400294449245385,\n",
       "  't_neg_abs': 0.058538658266549075,\n",
       "  'auc': 0.7033560715378897,\n",
       "  'pr_auc': 0.06837562272759061,\n",
       "  'prec_pos': nan,\n",
       "  'prec_neg': nan,\n",
       "  'brier': 0.056796683417526944}]"
      ]
     },
     "execution_count": 122,
     "metadata": {},
     "output_type": "execute_result"
    }
   ],
   "source": [
    "orch.history_"
   ]
  },
  {
   "cell_type": "code",
   "execution_count": 123,
   "metadata": {},
   "outputs": [],
   "source": [
    "df_self_hist = orch.get_history()"
   ]
  },
  {
   "cell_type": "code",
   "execution_count": 124,
   "metadata": {},
   "outputs": [
    {
     "data": {
      "text/html": [
       "<div>\n",
       "<style scoped>\n",
       "    .dataframe tbody tr th:only-of-type {\n",
       "        vertical-align: middle;\n",
       "    }\n",
       "\n",
       "    .dataframe tbody tr th {\n",
       "        vertical-align: top;\n",
       "    }\n",
       "\n",
       "    .dataframe thead th {\n",
       "        text-align: right;\n",
       "    }\n",
       "</style>\n",
       "<table border=\"1\" class=\"dataframe\">\n",
       "  <thead>\n",
       "    <tr style=\"text-align: right;\">\n",
       "      <th></th>\n",
       "      <th>round</th>\n",
       "      <th>added</th>\n",
       "      <th>cum_added</th>\n",
       "      <th>t_pos</th>\n",
       "      <th>t_neg</th>\n",
       "      <th>t_pos_abs</th>\n",
       "      <th>t_neg_abs</th>\n",
       "      <th>auc</th>\n",
       "      <th>pr_auc</th>\n",
       "      <th>prec_pos</th>\n",
       "      <th>prec_neg</th>\n",
       "      <th>brier</th>\n",
       "    </tr>\n",
       "  </thead>\n",
       "  <tbody>\n",
       "    <tr>\n",
       "      <th>0</th>\n",
       "      <td>0</td>\n",
       "      <td>5000</td>\n",
       "      <td>5000</td>\n",
       "      <td>0.431402</td>\n",
       "      <td>0.080551</td>\n",
       "      <td>0.431402</td>\n",
       "      <td>0.080551</td>\n",
       "      <td>0.706392</td>\n",
       "      <td>0.069370</td>\n",
       "      <td>NaN</td>\n",
       "      <td>NaN</td>\n",
       "      <td>0.064837</td>\n",
       "    </tr>\n",
       "    <tr>\n",
       "      <th>1</th>\n",
       "      <td>1</td>\n",
       "      <td>5000</td>\n",
       "      <td>5000</td>\n",
       "      <td>0.671329</td>\n",
       "      <td>0.058625</td>\n",
       "      <td>0.671329</td>\n",
       "      <td>0.058625</td>\n",
       "      <td>0.701710</td>\n",
       "      <td>0.066784</td>\n",
       "      <td>NaN</td>\n",
       "      <td>NaN</td>\n",
       "      <td>0.063432</td>\n",
       "    </tr>\n",
       "    <tr>\n",
       "      <th>2</th>\n",
       "      <td>2</td>\n",
       "      <td>5000</td>\n",
       "      <td>5000</td>\n",
       "      <td>0.840029</td>\n",
       "      <td>0.058539</td>\n",
       "      <td>0.840029</td>\n",
       "      <td>0.058539</td>\n",
       "      <td>0.703356</td>\n",
       "      <td>0.068376</td>\n",
       "      <td>NaN</td>\n",
       "      <td>NaN</td>\n",
       "      <td>0.056797</td>\n",
       "    </tr>\n",
       "  </tbody>\n",
       "</table>\n",
       "</div>"
      ],
      "text/plain": [
       "   round  added  cum_added     t_pos     t_neg  t_pos_abs  t_neg_abs  \\\n",
       "0      0   5000       5000  0.431402  0.080551   0.431402   0.080551   \n",
       "1      1   5000       5000  0.671329  0.058625   0.671329   0.058625   \n",
       "2      2   5000       5000  0.840029  0.058539   0.840029   0.058539   \n",
       "\n",
       "        auc    pr_auc  prec_pos  prec_neg     brier  \n",
       "0  0.706392  0.069370       NaN       NaN  0.064837  \n",
       "1  0.701710  0.066784       NaN       NaN  0.063432  \n",
       "2  0.703356  0.068376       NaN       NaN  0.056797  "
      ]
     },
     "execution_count": 124,
     "metadata": {},
     "output_type": "execute_result"
    }
   ],
   "source": [
    "df_self_hist"
   ]
  },
  {
   "cell_type": "code",
   "execution_count": 125,
   "metadata": {},
   "outputs": [
    {
     "data": {
      "text/plain": [
       "{'ROC_AUC': 0.7033560715378897, 'PR_AUC': 0.11611958914941642}"
      ]
     },
     "execution_count": 125,
     "metadata": {},
     "output_type": "execute_result"
    }
   ],
   "source": [
    "orch.model_.evaluate(X_a_val,y_a_val)"
   ]
  },
  {
   "cell_type": "code",
   "execution_count": 126,
   "metadata": {},
   "outputs": [
    {
     "data": {
      "text/plain": [
       "{'ROC_AUC': 0.6553916091812965, 'PR_AUC': 0.1257141564650738}"
      ]
     },
     "execution_count": 126,
     "metadata": {},
     "output_type": "execute_result"
    }
   ],
   "source": [
    "orch.model_.evaluate(X_all_val,y_all_val)"
   ]
  },
  {
   "cell_type": "code",
   "execution_count": 127,
   "metadata": {},
   "outputs": [
    {
     "data": {
      "text/plain": [
       "{'ROC_AUC': 0.7136296363569091, 'PR_AUC': 0.1251414665267777}"
      ]
     },
     "execution_count": 127,
     "metadata": {},
     "output_type": "execute_result"
    }
   ],
   "source": [
    "base_model_cb.evaluate(X_a_val,y_a_val)"
   ]
  },
  {
   "cell_type": "code",
   "execution_count": 128,
   "metadata": {},
   "outputs": [
    {
     "data": {
      "text/plain": [
       "{'ROC_AUC': 0.6931296713741353, 'PR_AUC': 0.17903990758155733}"
      ]
     },
     "execution_count": 128,
     "metadata": {},
     "output_type": "execute_result"
    }
   ],
   "source": [
    "base_model_cb.evaluate(X_all_val,y_all_val)"
   ]
  },
  {
   "cell_type": "markdown",
   "metadata": {},
   "source": [
    "##### Use propensity"
   ]
  },
  {
   "cell_type": "code",
   "execution_count": 131,
   "metadata": {},
   "outputs": [],
   "source": [
    "cfg2 = SelfLearningConfig(\n",
    "    n_rounds=10,\n",
    "    # Use your custom class as the main learner (student)\n",
    "    main_learner_factory=lambda: main_learner,\n",
    "    main_fit_weight_arg=\"weights\",       # CatBoostXT_BAG.fit expects 'weights='\n",
    "    # (optionally still keep a name/kwargs for fallback when no factory is provided)\n",
    "    # main_learner_name=\"logit\", # option if no factory then fallback to this\n",
    "    # main_learner_kwargs=dict(C=0.5, solver=\"liblinear\", max_iter=200, class_weight=\"balanced\"), # option if no factory then fallback to this\n",
    "    # harvesting & safety\n",
    "    teacher_thresholds=[(0.99, 0.1)],\n",
    "    threshold_mode = 'percentile',\n",
    "    max_add_per_round=5000,\n",
    "    min_new_per_round=100,\n",
    "    # weights & calibration\n",
    "    use_propensity_weight=True,\n",
    "    cap_ipw=10.0,\n",
    "    calibrate=None,                # will call CatBoostXT_BAG.calibrate(...) if present\n",
    "    early_stop_metric=\"auc\",\n",
    "    early_stop_patience=10,\n",
    "    random_state=42,\n",
    ")\n"
   ]
  },
  {
   "cell_type": "code",
   "execution_count": 132,
   "metadata": {},
   "outputs": [],
   "source": [
    "orch2 = SelfLearningOrchestrator(cfg2)"
   ]
  },
  {
   "cell_type": "code",
   "execution_count": 133,
   "metadata": {},
   "outputs": [
    {
     "name": "stderr",
     "output_type": "stream",
     "text": [
      "You should provide test set for use best model. use_best_model parameter has been switched to false value.\n"
     ]
    },
    {
     "data": {
      "text/html": [
       "<style>#sk-container-id-12 {color: black;}#sk-container-id-12 pre{padding: 0;}#sk-container-id-12 div.sk-toggleable {background-color: white;}#sk-container-id-12 label.sk-toggleable__label {cursor: pointer;display: block;width: 100%;margin-bottom: 0;padding: 0.3em;box-sizing: border-box;text-align: center;}#sk-container-id-12 label.sk-toggleable__label-arrow:before {content: \"▸\";float: left;margin-right: 0.25em;color: #696969;}#sk-container-id-12 label.sk-toggleable__label-arrow:hover:before {color: black;}#sk-container-id-12 div.sk-estimator:hover label.sk-toggleable__label-arrow:before {color: black;}#sk-container-id-12 div.sk-toggleable__content {max-height: 0;max-width: 0;overflow: hidden;text-align: left;background-color: #f0f8ff;}#sk-container-id-12 div.sk-toggleable__content pre {margin: 0.2em;color: black;border-radius: 0.25em;background-color: #f0f8ff;}#sk-container-id-12 input.sk-toggleable__control:checked~div.sk-toggleable__content {max-height: 200px;max-width: 100%;overflow: auto;}#sk-container-id-12 input.sk-toggleable__control:checked~label.sk-toggleable__label-arrow:before {content: \"▾\";}#sk-container-id-12 div.sk-estimator input.sk-toggleable__control:checked~label.sk-toggleable__label {background-color: #d4ebff;}#sk-container-id-12 div.sk-label input.sk-toggleable__control:checked~label.sk-toggleable__label {background-color: #d4ebff;}#sk-container-id-12 input.sk-hidden--visually {border: 0;clip: rect(1px 1px 1px 1px);clip: rect(1px, 1px, 1px, 1px);height: 1px;margin: -1px;overflow: hidden;padding: 0;position: absolute;width: 1px;}#sk-container-id-12 div.sk-estimator {font-family: monospace;background-color: #f0f8ff;border: 1px dotted black;border-radius: 0.25em;box-sizing: border-box;margin-bottom: 0.5em;}#sk-container-id-12 div.sk-estimator:hover {background-color: #d4ebff;}#sk-container-id-12 div.sk-parallel-item::after {content: \"\";width: 100%;border-bottom: 1px solid gray;flex-grow: 1;}#sk-container-id-12 div.sk-label:hover label.sk-toggleable__label {background-color: #d4ebff;}#sk-container-id-12 div.sk-serial::before {content: \"\";position: absolute;border-left: 1px solid gray;box-sizing: border-box;top: 0;bottom: 0;left: 50%;z-index: 0;}#sk-container-id-12 div.sk-serial {display: flex;flex-direction: column;align-items: center;background-color: white;padding-right: 0.2em;padding-left: 0.2em;position: relative;}#sk-container-id-12 div.sk-item {position: relative;z-index: 1;}#sk-container-id-12 div.sk-parallel {display: flex;align-items: stretch;justify-content: center;background-color: white;position: relative;}#sk-container-id-12 div.sk-item::before, #sk-container-id-12 div.sk-parallel-item::before {content: \"\";position: absolute;border-left: 1px solid gray;box-sizing: border-box;top: 0;bottom: 0;left: 50%;z-index: -1;}#sk-container-id-12 div.sk-parallel-item {display: flex;flex-direction: column;z-index: 1;position: relative;background-color: white;}#sk-container-id-12 div.sk-parallel-item:first-child::after {align-self: flex-end;width: 50%;}#sk-container-id-12 div.sk-parallel-item:last-child::after {align-self: flex-start;width: 50%;}#sk-container-id-12 div.sk-parallel-item:only-child::after {width: 0;}#sk-container-id-12 div.sk-dashed-wrapped {border: 1px dashed gray;margin: 0 0.4em 0.5em 0.4em;box-sizing: border-box;padding-bottom: 0.4em;background-color: white;}#sk-container-id-12 div.sk-label label {font-family: monospace;font-weight: bold;display: inline-block;line-height: 1.2em;}#sk-container-id-12 div.sk-label-container {text-align: center;}#sk-container-id-12 div.sk-container {/* jupyter's `normalize.less` sets `[hidden] { display: none; }` but bootstrap.min.css set `[hidden] { display: none !important; }` so we also need the `!important` here to be able to override the default hidden behavior on the sphinx rendered scikit-learn.org. See: https://github.com/scikit-learn/scikit-learn/issues/21755 */display: inline-block !important;position: relative;}#sk-container-id-12 div.sk-text-repr-fallback {display: none;}</style><div id=\"sk-container-id-12\" class=\"sk-top-container\"><div class=\"sk-text-repr-fallback\"><pre>SelfLearningOrchestrator(config=SelfLearningConfig(n_rounds=10, main_learner_name=&#x27;logit&#x27;, main_learner_kwargs=None, main_learner_factory=&lt;function &lt;lambda&gt; at 0x000001BA0A53A1F0&gt;, main_fit_weight_arg=&#x27;weights&#x27;, teacher_thresholds=[(0.99, 0.1)], threshold_mode=&#x27;percentile&#x27;, percentile_pairs=None, target_precision_pos=0.92, target_precision_neg=0.92, min_val_support=150, abs_floor_hi=0.9, abs_floor_lo=0.1, max_add_per_round=5000, min_new_per_round=100, use_propensity_weight=True, cap_ipw=10.0, require_agreement_rounds=1, agreement_tol=0.15, confidence_floor=0.1, calibrate=None, early_stop_metric=&#x27;auc&#x27;, early_stop_patience=10, random_state=42))</pre><b>In a Jupyter environment, please rerun this cell to show the HTML representation or trust the notebook. <br />On GitHub, the HTML representation is unable to render, please try loading this page with nbviewer.org.</b></div><div class=\"sk-container\" hidden><div class=\"sk-item\"><div class=\"sk-estimator sk-toggleable\"><input class=\"sk-toggleable__control sk-hidden--visually\" id=\"sk-estimator-id-12\" type=\"checkbox\" checked><label for=\"sk-estimator-id-12\" class=\"sk-toggleable__label sk-toggleable__label-arrow\">SelfLearningOrchestrator</label><div class=\"sk-toggleable__content\"><pre>SelfLearningOrchestrator(config=SelfLearningConfig(n_rounds=10, main_learner_name=&#x27;logit&#x27;, main_learner_kwargs=None, main_learner_factory=&lt;function &lt;lambda&gt; at 0x000001BA0A53A1F0&gt;, main_fit_weight_arg=&#x27;weights&#x27;, teacher_thresholds=[(0.99, 0.1)], threshold_mode=&#x27;percentile&#x27;, percentile_pairs=None, target_precision_pos=0.92, target_precision_neg=0.92, min_val_support=150, abs_floor_hi=0.9, abs_floor_lo=0.1, max_add_per_round=5000, min_new_per_round=100, use_propensity_weight=True, cap_ipw=10.0, require_agreement_rounds=1, agreement_tol=0.15, confidence_floor=0.1, calibrate=None, early_stop_metric=&#x27;auc&#x27;, early_stop_patience=10, random_state=42))</pre></div></div></div></div></div>"
      ],
      "text/plain": [
       "SelfLearningOrchestrator(config=SelfLearningConfig(n_rounds=10, main_learner_name='logit', main_learner_kwargs=None, main_learner_factory=<function <lambda> at 0x000001BA0A53A1F0>, main_fit_weight_arg='weights', teacher_thresholds=[(0.99, 0.1)], threshold_mode='percentile', percentile_pairs=None, target_precision_pos=0.92, target_precision_neg=0.92, min_val_support=150, abs_floor_hi=0.9, abs_floor_lo=0.1, max_add_per_round=5000, min_new_per_round=100, use_propensity_weight=True, cap_ipw=10.0, require_agreement_rounds=1, agreement_tol=0.15, confidence_floor=0.1, calibrate=None, early_stop_metric='auc', early_stop_patience=10, random_state=42))"
      ]
     },
     "execution_count": 133,
     "metadata": {},
     "output_type": "execute_result"
    }
   ],
   "source": [
    "orch2.fit(\n",
    "    baseline_teacher=base_model_cb,   # e.g., your existing CatBoost baseline\n",
    "    X_l=X_a_train, y_l=y_a_train, sample_weight_l=np.ones(len(w_a_train)), # Labeled data (accepted only)\n",
    "    X_u=X_r, propensity_u=prospensity_r, # Unlabeled data (rejected only)\n",
    "    X_val=X_a_val, y_val=y_a_val, sample_weight_val=np.ones(len(w_a_val)), # To build eval set\n",
    ")"
   ]
  },
  {
   "cell_type": "code",
   "execution_count": 134,
   "metadata": {},
   "outputs": [],
   "source": [
    "df_self_ipw_hist = orch2.get_history()"
   ]
  },
  {
   "cell_type": "code",
   "execution_count": 137,
   "metadata": {},
   "outputs": [
    {
     "data": {
      "text/html": [
       "<div>\n",
       "<style scoped>\n",
       "    .dataframe tbody tr th:only-of-type {\n",
       "        vertical-align: middle;\n",
       "    }\n",
       "\n",
       "    .dataframe tbody tr th {\n",
       "        vertical-align: top;\n",
       "    }\n",
       "\n",
       "    .dataframe thead th {\n",
       "        text-align: right;\n",
       "    }\n",
       "</style>\n",
       "<table border=\"1\" class=\"dataframe\">\n",
       "  <thead>\n",
       "    <tr style=\"text-align: right;\">\n",
       "      <th></th>\n",
       "      <th>round</th>\n",
       "      <th>added</th>\n",
       "      <th>cum_added</th>\n",
       "      <th>t_pos</th>\n",
       "      <th>t_neg</th>\n",
       "      <th>t_pos_abs</th>\n",
       "      <th>t_neg_abs</th>\n",
       "      <th>auc</th>\n",
       "      <th>pr_auc</th>\n",
       "      <th>prec_pos</th>\n",
       "      <th>prec_neg</th>\n",
       "      <th>brier</th>\n",
       "    </tr>\n",
       "  </thead>\n",
       "  <tbody>\n",
       "    <tr>\n",
       "      <th>0</th>\n",
       "      <td>0</td>\n",
       "      <td>5000</td>\n",
       "      <td>5000</td>\n",
       "      <td>0.431402</td>\n",
       "      <td>0.080551</td>\n",
       "      <td>0.431402</td>\n",
       "      <td>0.080551</td>\n",
       "      <td>0.697154</td>\n",
       "      <td>0.064696</td>\n",
       "      <td>NaN</td>\n",
       "      <td>NaN</td>\n",
       "      <td>0.071244</td>\n",
       "    </tr>\n",
       "    <tr>\n",
       "      <th>1</th>\n",
       "      <td>1</td>\n",
       "      <td>5000</td>\n",
       "      <td>5000</td>\n",
       "      <td>0.841393</td>\n",
       "      <td>0.019130</td>\n",
       "      <td>0.841393</td>\n",
       "      <td>0.019130</td>\n",
       "      <td>0.686511</td>\n",
       "      <td>0.057761</td>\n",
       "      <td>NaN</td>\n",
       "      <td>NaN</td>\n",
       "      <td>0.067514</td>\n",
       "    </tr>\n",
       "    <tr>\n",
       "      <th>2</th>\n",
       "      <td>2</td>\n",
       "      <td>5000</td>\n",
       "      <td>5000</td>\n",
       "      <td>0.881818</td>\n",
       "      <td>0.019261</td>\n",
       "      <td>0.881818</td>\n",
       "      <td>0.019261</td>\n",
       "      <td>0.693333</td>\n",
       "      <td>0.058192</td>\n",
       "      <td>NaN</td>\n",
       "      <td>NaN</td>\n",
       "      <td>0.061553</td>\n",
       "    </tr>\n",
       "    <tr>\n",
       "      <th>3</th>\n",
       "      <td>3</td>\n",
       "      <td>5000</td>\n",
       "      <td>5000</td>\n",
       "      <td>0.954818</td>\n",
       "      <td>0.016327</td>\n",
       "      <td>0.954818</td>\n",
       "      <td>0.016327</td>\n",
       "      <td>0.691702</td>\n",
       "      <td>0.059261</td>\n",
       "      <td>NaN</td>\n",
       "      <td>NaN</td>\n",
       "      <td>0.052731</td>\n",
       "    </tr>\n",
       "    <tr>\n",
       "      <th>4</th>\n",
       "      <td>4</td>\n",
       "      <td>5000</td>\n",
       "      <td>5000</td>\n",
       "      <td>0.997049</td>\n",
       "      <td>0.018413</td>\n",
       "      <td>0.997049</td>\n",
       "      <td>0.018413</td>\n",
       "      <td>0.698279</td>\n",
       "      <td>0.072186</td>\n",
       "      <td>NaN</td>\n",
       "      <td>NaN</td>\n",
       "      <td>0.046054</td>\n",
       "    </tr>\n",
       "    <tr>\n",
       "      <th>5</th>\n",
       "      <td>5</td>\n",
       "      <td>5000</td>\n",
       "      <td>5000</td>\n",
       "      <td>0.999091</td>\n",
       "      <td>0.017150</td>\n",
       "      <td>0.999091</td>\n",
       "      <td>0.017150</td>\n",
       "      <td>0.699251</td>\n",
       "      <td>0.075474</td>\n",
       "      <td>NaN</td>\n",
       "      <td>NaN</td>\n",
       "      <td>0.045912</td>\n",
       "    </tr>\n",
       "    <tr>\n",
       "      <th>6</th>\n",
       "      <td>6</td>\n",
       "      <td>5000</td>\n",
       "      <td>5000</td>\n",
       "      <td>0.999392</td>\n",
       "      <td>0.024213</td>\n",
       "      <td>0.999392</td>\n",
       "      <td>0.024213</td>\n",
       "      <td>0.701201</td>\n",
       "      <td>0.075492</td>\n",
       "      <td>NaN</td>\n",
       "      <td>NaN</td>\n",
       "      <td>0.045833</td>\n",
       "    </tr>\n",
       "    <tr>\n",
       "      <th>7</th>\n",
       "      <td>7</td>\n",
       "      <td>5000</td>\n",
       "      <td>5000</td>\n",
       "      <td>0.999500</td>\n",
       "      <td>0.009576</td>\n",
       "      <td>0.999500</td>\n",
       "      <td>0.009576</td>\n",
       "      <td>0.701802</td>\n",
       "      <td>0.075309</td>\n",
       "      <td>NaN</td>\n",
       "      <td>NaN</td>\n",
       "      <td>0.045850</td>\n",
       "    </tr>\n",
       "    <tr>\n",
       "      <th>8</th>\n",
       "      <td>8</td>\n",
       "      <td>5000</td>\n",
       "      <td>5000</td>\n",
       "      <td>0.999460</td>\n",
       "      <td>0.010132</td>\n",
       "      <td>0.999460</td>\n",
       "      <td>0.010132</td>\n",
       "      <td>0.702399</td>\n",
       "      <td>0.075336</td>\n",
       "      <td>NaN</td>\n",
       "      <td>NaN</td>\n",
       "      <td>0.045824</td>\n",
       "    </tr>\n",
       "    <tr>\n",
       "      <th>9</th>\n",
       "      <td>9</td>\n",
       "      <td>5000</td>\n",
       "      <td>5000</td>\n",
       "      <td>0.999384</td>\n",
       "      <td>0.008844</td>\n",
       "      <td>0.999384</td>\n",
       "      <td>0.008844</td>\n",
       "      <td>0.701815</td>\n",
       "      <td>0.074810</td>\n",
       "      <td>NaN</td>\n",
       "      <td>NaN</td>\n",
       "      <td>0.045834</td>\n",
       "    </tr>\n",
       "  </tbody>\n",
       "</table>\n",
       "</div>"
      ],
      "text/plain": [
       "   round  added  cum_added     t_pos     t_neg  t_pos_abs  t_neg_abs  \\\n",
       "0      0   5000       5000  0.431402  0.080551   0.431402   0.080551   \n",
       "1      1   5000       5000  0.841393  0.019130   0.841393   0.019130   \n",
       "2      2   5000       5000  0.881818  0.019261   0.881818   0.019261   \n",
       "3      3   5000       5000  0.954818  0.016327   0.954818   0.016327   \n",
       "4      4   5000       5000  0.997049  0.018413   0.997049   0.018413   \n",
       "5      5   5000       5000  0.999091  0.017150   0.999091   0.017150   \n",
       "6      6   5000       5000  0.999392  0.024213   0.999392   0.024213   \n",
       "7      7   5000       5000  0.999500  0.009576   0.999500   0.009576   \n",
       "8      8   5000       5000  0.999460  0.010132   0.999460   0.010132   \n",
       "9      9   5000       5000  0.999384  0.008844   0.999384   0.008844   \n",
       "\n",
       "        auc    pr_auc  prec_pos  prec_neg     brier  \n",
       "0  0.697154  0.064696       NaN       NaN  0.071244  \n",
       "1  0.686511  0.057761       NaN       NaN  0.067514  \n",
       "2  0.693333  0.058192       NaN       NaN  0.061553  \n",
       "3  0.691702  0.059261       NaN       NaN  0.052731  \n",
       "4  0.698279  0.072186       NaN       NaN  0.046054  \n",
       "5  0.699251  0.075474       NaN       NaN  0.045912  \n",
       "6  0.701201  0.075492       NaN       NaN  0.045833  \n",
       "7  0.701802  0.075309       NaN       NaN  0.045850  \n",
       "8  0.702399  0.075336       NaN       NaN  0.045824  \n",
       "9  0.701815  0.074810       NaN       NaN  0.045834  "
      ]
     },
     "execution_count": 137,
     "metadata": {},
     "output_type": "execute_result"
    }
   ],
   "source": [
    "df_self_ipw_hist"
   ]
  },
  {
   "cell_type": "code",
   "execution_count": 135,
   "metadata": {},
   "outputs": [
    {
     "data": {
      "text/plain": [
       "{'ROC_AUC': 0.7018148518148518, 'PR_AUC': 0.12255438548348375}"
      ]
     },
     "execution_count": 135,
     "metadata": {},
     "output_type": "execute_result"
    }
   ],
   "source": [
    "orch2.model_.evaluate(X_a_val,y_a_val)"
   ]
  },
  {
   "cell_type": "code",
   "execution_count": 136,
   "metadata": {},
   "outputs": [
    {
     "data": {
      "text/plain": [
       "{'ROC_AUC': 0.660674198200475, 'PR_AUC': 0.12736983287177633}"
      ]
     },
     "execution_count": 136,
     "metadata": {},
     "output_type": "execute_result"
    }
   ],
   "source": [
    "orch2.model_.evaluate(X_all_val,y_all_val)"
   ]
  },
  {
   "cell_type": "code",
   "execution_count": 55,
   "metadata": {},
   "outputs": [
    {
     "data": {
      "text/plain": [
       "[{'round': 0,\n",
       "  'added': 5000,\n",
       "  't_pos': 0.98,\n",
       "  't_neg': 0.1,\n",
       "  'auc': 0.7040378437240897,\n",
       "  'brier': 0.07762236036896161},\n",
       " {'round': 1,\n",
       "  'added': 5000,\n",
       "  't_pos': 0.98,\n",
       "  't_neg': 0.1,\n",
       "  'auc': 0.6990558359448451,\n",
       "  'brier': 0.07825916249365791}]"
      ]
     },
     "execution_count": 55,
     "metadata": {},
     "output_type": "execute_result"
    }
   ],
   "source": [
    "[{'round': 0,\n",
    "  'added': 5000,\n",
    "  't_pos': 0.98,\n",
    "  't_neg': 0.1,\n",
    "  'auc': 0.7040378437240897,\n",
    "  'brier': 0.07762236036896161},\n",
    " {'round': 1,\n",
    "  'added': 5000,\n",
    "  't_pos': 0.98,\n",
    "  't_neg': 0.1,\n",
    "  'auc': 0.6990558359448451,\n",
    "  'brier': 0.07825916249365791}]"
   ]
  },
  {
   "cell_type": "markdown",
   "metadata": {},
   "source": [
    "### Guided reject inference"
   ]
  },
  {
   "cell_type": "markdown",
   "metadata": {},
   "source": [
    "Buying data for true label can be costly, the solution is to select sample that might yield high improvement to the model when perform reject inference"
   ]
  },
  {
   "cell_type": "code",
   "execution_count": 148,
   "metadata": {},
   "outputs": [],
   "source": [
    "from guided_reject_inference import guided_select, random_select"
   ]
  },
  {
   "cell_type": "code",
   "execution_count": 145,
   "metadata": {},
   "outputs": [
    {
     "data": {
      "text/plain": [
       "261781"
      ]
     },
     "execution_count": 145,
     "metadata": {},
     "output_type": "execute_result"
    }
   ],
   "source": [
    "len(X_r)"
   ]
  },
  {
   "cell_type": "code",
   "execution_count": 173,
   "metadata": {},
   "outputs": [],
   "source": [
    "X_r = df.loc[rej_mask, list_features].reset_index(drop=True)\n",
    "y_r = df.loc[rej_mask, label_col].reset_index(drop=True)"
   ]
  },
  {
   "cell_type": "code",
   "execution_count": 327,
   "metadata": {},
   "outputs": [],
   "source": [
    "pd_reject = base_model_cb.predict_proba(X_r)[:,1]\n",
    "pi_accept = accept_model.predict_proba_calib(X_r)[:,1]"
   ]
  },
  {
   "cell_type": "code",
   "execution_count": 328,
   "metadata": {},
   "outputs": [
    {
     "data": {
      "text/plain": [
       "(<Figure size 1000x600 with 1 Axes>,\n",
       " <Axes: title={'center': 'Average Probability by Decile'}, xlabel='Decile', ylabel='Probability'>,\n",
       "    decile  avg_pred_prob  min_pred_prob  max_pred_prob  count\n",
       " 0       1         0.0227         0.0226         0.0227  26179\n",
       " 1       2         0.0248         0.0227         0.0339  26178\n",
       " 2       3         0.0367         0.0339         0.0383  26178\n",
       " 3       4         0.0391         0.0383         0.0398  26178\n",
       " 4       5         0.0404         0.0398         0.0410  26178\n",
       " 5       6         0.0415         0.0410         0.0421  26178\n",
       " 6       7         0.0427         0.0421         0.0434  26178\n",
       " 7       8         0.0444         0.0434         0.0457  26178\n",
       " 8       9         0.0522         0.0457         0.1220  26178\n",
       " 9      10         0.4931         0.1220         0.8367  26178)"
      ]
     },
     "execution_count": 328,
     "metadata": {},
     "output_type": "execute_result"
    },
    {
     "data": {
      "image/png": "[encoded data removed]",
      "text/plain": [
       "<Figure size 1000x600 with 1 Axes>"
      ]
     },
     "metadata": {},
     "output_type": "display_data"
    }
   ],
   "source": [
    "plot_probability_by_decile(y_prob=pi_accept)"
   ]
  },
  {
   "cell_type": "code",
   "execution_count": 339,
   "metadata": {},
   "outputs": [
    {
     "data": {
      "text/plain": [
       "145297"
      ]
     },
     "execution_count": 339,
     "metadata": {},
     "output_type": "execute_result"
    }
   ],
   "source": [
    "mask_p_accept_region.sum()"
   ]
  },
  {
   "cell_type": "code",
   "execution_count": 329,
   "metadata": {},
   "outputs": [
    {
     "data": {
      "text/plain": [
       "(<Figure size 1000x600 with 1 Axes>,\n",
       " <Axes: title={'center': 'Average Probability by Decile'}, xlabel='Decile', ylabel='Probability'>,\n",
       "    decile  avg_pred_prob  min_pred_prob  max_pred_prob  count\n",
       " 0       1         0.0824         0.0221         0.1048  26179\n",
       " 1       2         0.1195         0.1048         0.1329  26178\n",
       " 2       3         0.1447         0.1329         0.1559  26178\n",
       " 3       4         0.1668         0.1559         0.1775  26178\n",
       " 4       5         0.1885         0.1775         0.1997  26178\n",
       " 5       6         0.2117         0.1997         0.2242  26178\n",
       " 6       7         0.2381         0.2242         0.2532  26178\n",
       " 7       8         0.2709         0.2532         0.2911  26178\n",
       " 8       9         0.3187         0.2911         0.3533  26178\n",
       " 9      10         0.4347         0.3533         0.8696  26178)"
      ]
     },
     "execution_count": 329,
     "metadata": {},
     "output_type": "execute_result"
    },
    {
     "data": {
      "image/png": "[encoded data removed]",
      "text/plain": [
       "<Figure size 1000x600 with 1 Axes>"
      ]
     },
     "metadata": {},
     "output_type": "display_data"
    }
   ],
   "source": [
    "plot_probability_by_decile(y_prob=pd_reject)"
   ]
  },
  {
   "cell_type": "code",
   "execution_count": 343,
   "metadata": {},
   "outputs": [
    {
     "data": {
      "text/html": [
       "<div>\n",
       "<style scoped>\n",
       "    .dataframe tbody tr th:only-of-type {\n",
       "        vertical-align: middle;\n",
       "    }\n",
       "\n",
       "    .dataframe tbody tr th {\n",
       "        vertical-align: top;\n",
       "    }\n",
       "\n",
       "    .dataframe thead th {\n",
       "        text-align: right;\n",
       "    }\n",
       "</style>\n",
       "<table border=\"1\" class=\"dataframe\">\n",
       "  <thead>\n",
       "    <tr style=\"text-align: right;\">\n",
       "      <th></th>\n",
       "      <th>decile</th>\n",
       "      <th>thr</th>\n",
       "      <th>n</th>\n",
       "      <th>w</th>\n",
       "      <th>bad</th>\n",
       "      <th>good</th>\n",
       "      <th>cum_bad</th>\n",
       "      <th>cum_good</th>\n",
       "      <th>TPR</th>\n",
       "      <th>FPR</th>\n",
       "      <th>GAP</th>\n",
       "      <th>bin_bad_rate</th>\n",
       "    </tr>\n",
       "  </thead>\n",
       "  <tbody>\n",
       "    <tr>\n",
       "      <th>0</th>\n",
       "      <td>1</td>\n",
       "      <td>0.019059</td>\n",
       "      <td>3430</td>\n",
       "      <td>3430.0</td>\n",
       "      <td>9.0</td>\n",
       "      <td>3421.0</td>\n",
       "      <td>1597.0</td>\n",
       "      <td>32697.0</td>\n",
       "      <td>1.000000</td>\n",
       "      <td>1.000000</td>\n",
       "      <td>0.000000</td>\n",
       "      <td>0.002624</td>\n",
       "    </tr>\n",
       "    <tr>\n",
       "      <th>1</th>\n",
       "      <td>2</td>\n",
       "      <td>0.071643</td>\n",
       "      <td>3429</td>\n",
       "      <td>3429.0</td>\n",
       "      <td>26.0</td>\n",
       "      <td>3403.0</td>\n",
       "      <td>1588.0</td>\n",
       "      <td>29276.0</td>\n",
       "      <td>0.994364</td>\n",
       "      <td>0.895373</td>\n",
       "      <td>0.098992</td>\n",
       "      <td>0.007582</td>\n",
       "    </tr>\n",
       "    <tr>\n",
       "      <th>2</th>\n",
       "      <td>3</td>\n",
       "      <td>0.092451</td>\n",
       "      <td>3429</td>\n",
       "      <td>3429.0</td>\n",
       "      <td>54.0</td>\n",
       "      <td>3375.0</td>\n",
       "      <td>1562.0</td>\n",
       "      <td>25873.0</td>\n",
       "      <td>0.978084</td>\n",
       "      <td>0.791296</td>\n",
       "      <td>0.186788</td>\n",
       "      <td>0.015748</td>\n",
       "    </tr>\n",
       "    <tr>\n",
       "      <th>3</th>\n",
       "      <td>4</td>\n",
       "      <td>0.110447</td>\n",
       "      <td>3430</td>\n",
       "      <td>3430.0</td>\n",
       "      <td>76.0</td>\n",
       "      <td>3354.0</td>\n",
       "      <td>1508.0</td>\n",
       "      <td>22498.0</td>\n",
       "      <td>0.944271</td>\n",
       "      <td>0.688075</td>\n",
       "      <td>0.256195</td>\n",
       "      <td>0.022157</td>\n",
       "    </tr>\n",
       "    <tr>\n",
       "      <th>4</th>\n",
       "      <td>5</td>\n",
       "      <td>0.128705</td>\n",
       "      <td>3429</td>\n",
       "      <td>3429.0</td>\n",
       "      <td>91.0</td>\n",
       "      <td>3338.0</td>\n",
       "      <td>1432.0</td>\n",
       "      <td>19144.0</td>\n",
       "      <td>0.896681</td>\n",
       "      <td>0.585497</td>\n",
       "      <td>0.311184</td>\n",
       "      <td>0.026538</td>\n",
       "    </tr>\n",
       "    <tr>\n",
       "      <th>5</th>\n",
       "      <td>6</td>\n",
       "      <td>0.147320</td>\n",
       "      <td>3429</td>\n",
       "      <td>3429.0</td>\n",
       "      <td>120.0</td>\n",
       "      <td>3309.0</td>\n",
       "      <td>1341.0</td>\n",
       "      <td>15806.0</td>\n",
       "      <td>0.839699</td>\n",
       "      <td>0.483408</td>\n",
       "      <td>0.356291</td>\n",
       "      <td>0.034996</td>\n",
       "    </tr>\n",
       "    <tr>\n",
       "      <th>6</th>\n",
       "      <td>7</td>\n",
       "      <td>0.168790</td>\n",
       "      <td>3430</td>\n",
       "      <td>3430.0</td>\n",
       "      <td>146.0</td>\n",
       "      <td>3284.0</td>\n",
       "      <td>1221.0</td>\n",
       "      <td>12497.0</td>\n",
       "      <td>0.764559</td>\n",
       "      <td>0.382206</td>\n",
       "      <td>0.382352</td>\n",
       "      <td>0.042566</td>\n",
       "    </tr>\n",
       "    <tr>\n",
       "      <th>7</th>\n",
       "      <td>8</td>\n",
       "      <td>0.194405</td>\n",
       "      <td>3429</td>\n",
       "      <td>3429.0</td>\n",
       "      <td>165.0</td>\n",
       "      <td>3264.0</td>\n",
       "      <td>1075.0</td>\n",
       "      <td>9213.0</td>\n",
       "      <td>0.673137</td>\n",
       "      <td>0.281769</td>\n",
       "      <td>0.391368</td>\n",
       "      <td>0.048119</td>\n",
       "    </tr>\n",
       "    <tr>\n",
       "      <th>8</th>\n",
       "      <td>9</td>\n",
       "      <td>0.227777</td>\n",
       "      <td>3429</td>\n",
       "      <td>3429.0</td>\n",
       "      <td>294.0</td>\n",
       "      <td>3135.0</td>\n",
       "      <td>910.0</td>\n",
       "      <td>5949.0</td>\n",
       "      <td>0.569818</td>\n",
       "      <td>0.181943</td>\n",
       "      <td>0.387875</td>\n",
       "      <td>0.085739</td>\n",
       "    </tr>\n",
       "    <tr>\n",
       "      <th>9</th>\n",
       "      <td>10</td>\n",
       "      <td>0.281866</td>\n",
       "      <td>3430</td>\n",
       "      <td>3430.0</td>\n",
       "      <td>616.0</td>\n",
       "      <td>2814.0</td>\n",
       "      <td>616.0</td>\n",
       "      <td>2814.0</td>\n",
       "      <td>0.385723</td>\n",
       "      <td>0.086063</td>\n",
       "      <td>0.299660</td>\n",
       "      <td>0.179592</td>\n",
       "    </tr>\n",
       "  </tbody>\n",
       "</table>\n",
       "</div>"
      ],
      "text/plain": [
       "   decile       thr     n       w    bad    good  cum_bad  cum_good       TPR  \\\n",
       "0       1  0.019059  3430  3430.0    9.0  3421.0   1597.0   32697.0  1.000000   \n",
       "1       2  0.071643  3429  3429.0   26.0  3403.0   1588.0   29276.0  0.994364   \n",
       "2       3  0.092451  3429  3429.0   54.0  3375.0   1562.0   25873.0  0.978084   \n",
       "3       4  0.110447  3430  3430.0   76.0  3354.0   1508.0   22498.0  0.944271   \n",
       "4       5  0.128705  3429  3429.0   91.0  3338.0   1432.0   19144.0  0.896681   \n",
       "5       6  0.147320  3429  3429.0  120.0  3309.0   1341.0   15806.0  0.839699   \n",
       "6       7  0.168790  3430  3430.0  146.0  3284.0   1221.0   12497.0  0.764559   \n",
       "7       8  0.194405  3429  3429.0  165.0  3264.0   1075.0    9213.0  0.673137   \n",
       "8       9  0.227777  3429  3429.0  294.0  3135.0    910.0    5949.0  0.569818   \n",
       "9      10  0.281866  3430  3430.0  616.0  2814.0    616.0    2814.0  0.385723   \n",
       "\n",
       "        FPR       GAP  bin_bad_rate  \n",
       "0  1.000000  0.000000      0.002624  \n",
       "1  0.895373  0.098992      0.007582  \n",
       "2  0.791296  0.186788      0.015748  \n",
       "3  0.688075  0.256195      0.022157  \n",
       "4  0.585497  0.311184      0.026538  \n",
       "5  0.483408  0.356291      0.034996  \n",
       "6  0.382206  0.382352      0.042566  \n",
       "7  0.281769  0.391368      0.048119  \n",
       "8  0.181943  0.387875      0.085739  \n",
       "9  0.086063  0.299660      0.179592  "
      ]
     },
     "execution_count": 343,
     "metadata": {},
     "output_type": "execute_result"
    }
   ],
   "source": [
    "roc_gap_by_decile(y_a_train,base_model_cb.predict_proba(X_a_train)[:,1],n_bins=10)"
   ]
  },
  {
   "cell_type": "code",
   "execution_count": 364,
   "metadata": {},
   "outputs": [],
   "source": [
    "def avg_accept_by_pd_decile(pd_scores, accept_probs, n_bins=10):\n",
    "    \"\"\"\n",
    "    Calculate average acceptance probability by PD decile.\n",
    "\n",
    "    Parameters\n",
    "    ----------\n",
    "    pd_scores : array-like\n",
    "        Predicted PDs (probabilities of default).\n",
    "    accept_probs : array-like\n",
    "        Predicted acceptance probabilities (from propensity model).\n",
    "    n_bins : int, optional\n",
    "        Number of deciles/bins (default=10).\n",
    "\n",
    "    Returns\n",
    "    -------\n",
    "    pd.DataFrame\n",
    "        DataFrame with decile, PD range, count, and average acceptance probability.\n",
    "    \"\"\"\n",
    "    df = pd.DataFrame({\n",
    "        \"pd_score\": pd_scores,\n",
    "        \"accept_prob\": accept_probs\n",
    "    })\n",
    "\n",
    "    # Create deciles based on PD score\n",
    "    df[\"pd_decile\"] = pd.qcut(df[\"pd_score\"], q=n_bins, labels=False, duplicates=\"drop\") + 1\n",
    "\n",
    "    # Aggregate\n",
    "    result = df.groupby(\"pd_decile\").agg(\n",
    "        avg_accept_prob=(\"accept_prob\", \"mean\"),\n",
    "        avg_pd=(\"pd_score\", \"mean\"),\n",
    "        min_pd=(\"pd_score\", \"min\"),\n",
    "        max_pd=(\"pd_score\", \"max\"),\n",
    "        count=(\"pd_score\", \"size\")\n",
    "    ).reset_index()\n",
    "\n",
    "    return result.sort_values(\"pd_decile\")"
   ]
  },
  {
   "cell_type": "code",
   "execution_count": 365,
   "metadata": {},
   "outputs": [
    {
     "data": {
      "text/html": [
       "<div>\n",
       "<style scoped>\n",
       "    .dataframe tbody tr th:only-of-type {\n",
       "        vertical-align: middle;\n",
       "    }\n",
       "\n",
       "    .dataframe tbody tr th {\n",
       "        vertical-align: top;\n",
       "    }\n",
       "\n",
       "    .dataframe thead th {\n",
       "        text-align: right;\n",
       "    }\n",
       "</style>\n",
       "<table border=\"1\" class=\"dataframe\">\n",
       "  <thead>\n",
       "    <tr style=\"text-align: right;\">\n",
       "      <th></th>\n",
       "      <th>pd_decile</th>\n",
       "      <th>avg_accept_prob</th>\n",
       "      <th>avg_pd</th>\n",
       "      <th>min_pd</th>\n",
       "      <th>max_pd</th>\n",
       "      <th>count</th>\n",
       "    </tr>\n",
       "  </thead>\n",
       "  <tbody>\n",
       "    <tr>\n",
       "      <th>0</th>\n",
       "      <td>1</td>\n",
       "      <td>0.125237</td>\n",
       "      <td>0.082358</td>\n",
       "      <td>0.022085</td>\n",
       "      <td>0.104766</td>\n",
       "      <td>26179</td>\n",
       "    </tr>\n",
       "    <tr>\n",
       "      <th>1</th>\n",
       "      <td>2</td>\n",
       "      <td>0.105409</td>\n",
       "      <td>0.119503</td>\n",
       "      <td>0.104768</td>\n",
       "      <td>0.132904</td>\n",
       "      <td>26178</td>\n",
       "    </tr>\n",
       "    <tr>\n",
       "      <th>2</th>\n",
       "      <td>3</td>\n",
       "      <td>0.094118</td>\n",
       "      <td>0.144674</td>\n",
       "      <td>0.132905</td>\n",
       "      <td>0.155928</td>\n",
       "      <td>26178</td>\n",
       "    </tr>\n",
       "    <tr>\n",
       "      <th>3</th>\n",
       "      <td>4</td>\n",
       "      <td>0.088267</td>\n",
       "      <td>0.166818</td>\n",
       "      <td>0.155928</td>\n",
       "      <td>0.177524</td>\n",
       "      <td>26178</td>\n",
       "    </tr>\n",
       "    <tr>\n",
       "      <th>4</th>\n",
       "      <td>5</td>\n",
       "      <td>0.081990</td>\n",
       "      <td>0.188486</td>\n",
       "      <td>0.177526</td>\n",
       "      <td>0.199693</td>\n",
       "      <td>26178</td>\n",
       "    </tr>\n",
       "    <tr>\n",
       "      <th>5</th>\n",
       "      <td>6</td>\n",
       "      <td>0.078273</td>\n",
       "      <td>0.211702</td>\n",
       "      <td>0.199694</td>\n",
       "      <td>0.224196</td>\n",
       "      <td>26178</td>\n",
       "    </tr>\n",
       "    <tr>\n",
       "      <th>6</th>\n",
       "      <td>7</td>\n",
       "      <td>0.076167</td>\n",
       "      <td>0.238064</td>\n",
       "      <td>0.224197</td>\n",
       "      <td>0.253164</td>\n",
       "      <td>26178</td>\n",
       "    </tr>\n",
       "    <tr>\n",
       "      <th>7</th>\n",
       "      <td>8</td>\n",
       "      <td>0.069961</td>\n",
       "      <td>0.270917</td>\n",
       "      <td>0.253165</td>\n",
       "      <td>0.291094</td>\n",
       "      <td>26178</td>\n",
       "    </tr>\n",
       "    <tr>\n",
       "      <th>8</th>\n",
       "      <td>9</td>\n",
       "      <td>0.064368</td>\n",
       "      <td>0.318698</td>\n",
       "      <td>0.291095</td>\n",
       "      <td>0.353326</td>\n",
       "      <td>26178</td>\n",
       "    </tr>\n",
       "    <tr>\n",
       "      <th>9</th>\n",
       "      <td>10</td>\n",
       "      <td>0.053840</td>\n",
       "      <td>0.434661</td>\n",
       "      <td>0.353328</td>\n",
       "      <td>0.869632</td>\n",
       "      <td>26178</td>\n",
       "    </tr>\n",
       "  </tbody>\n",
       "</table>\n",
       "</div>"
      ],
      "text/plain": [
       "   pd_decile  avg_accept_prob    avg_pd    min_pd    max_pd  count\n",
       "0          1         0.125237  0.082358  0.022085  0.104766  26179\n",
       "1          2         0.105409  0.119503  0.104768  0.132904  26178\n",
       "2          3         0.094118  0.144674  0.132905  0.155928  26178\n",
       "3          4         0.088267  0.166818  0.155928  0.177524  26178\n",
       "4          5         0.081990  0.188486  0.177526  0.199693  26178\n",
       "5          6         0.078273  0.211702  0.199694  0.224196  26178\n",
       "6          7         0.076167  0.238064  0.224197  0.253164  26178\n",
       "7          8         0.069961  0.270917  0.253165  0.291094  26178\n",
       "8          9         0.064368  0.318698  0.291095  0.353326  26178\n",
       "9         10         0.053840  0.434661  0.353328  0.869632  26178"
      ]
     },
     "execution_count": 365,
     "metadata": {},
     "output_type": "execute_result"
    }
   ],
   "source": [
    "avg_accept_by_pd_decile(pd_reject,pi_accept)"
   ]
  },
  {
   "cell_type": "code",
   "execution_count": 368,
   "metadata": {},
   "outputs": [],
   "source": [
    "mask_p_accept_region = (pi_accept >= 0.0227) & (pi_accept <= 0.1220)"
   ]
  },
  {
   "cell_type": "code",
   "execution_count": 667,
   "metadata": {},
   "outputs": [],
   "source": [
    "mask_pd_region = (pd_reject >= 0.353326) & (pd_reject < 1)"
   ]
  },
  {
   "cell_type": "code",
   "execution_count": 668,
   "metadata": {},
   "outputs": [
    {
     "data": {
      "text/plain": [
       "21742"
      ]
     },
     "execution_count": 668,
     "metadata": {},
     "output_type": "execute_result"
    }
   ],
   "source": [
    "len(X_r[mask_pd_region & mask_p_accept_region])"
   ]
  },
  {
   "cell_type": "code",
   "execution_count": 669,
   "metadata": {},
   "outputs": [],
   "source": [
    "# budget = 13000 # ~5% reject"
   ]
  },
  {
   "cell_type": "code",
   "execution_count": 670,
   "metadata": {},
   "outputs": [],
   "source": [
    "# _, X_ri, _, y_ri = train_test_split(X_r.loc[mask_pd_region & mask_p_accept_region], y_r[mask_pd_region & mask_p_accept_region], test_size=budget/len(X_r[mask_pd_region & mask_p_accept_region]), random_state=1)"
   ]
  },
  {
   "cell_type": "code",
   "execution_count": 671,
   "metadata": {},
   "outputs": [],
   "source": [
    "X_ri = X_r[mask_pd_region & mask_p_accept_region]"
   ]
  },
  {
   "cell_type": "code",
   "execution_count": 672,
   "metadata": {},
   "outputs": [],
   "source": [
    "y_ri = y_r[mask_pd_region & mask_p_accept_region]"
   ]
  },
  {
   "cell_type": "code",
   "execution_count": 673,
   "metadata": {},
   "outputs": [
    {
     "data": {
      "text/plain": [
       "21742"
      ]
     },
     "execution_count": 673,
     "metadata": {},
     "output_type": "execute_result"
    }
   ],
   "source": [
    "len(y_ri)"
   ]
  },
  {
   "cell_type": "code",
   "execution_count": 674,
   "metadata": {},
   "outputs": [],
   "source": [
    "X_train_new = pd.concat([X_a_train,X_ri],axis=0)\n",
    "y_train_new = pd.concat([y_a_train,y_ri])"
   ]
  },
  {
   "cell_type": "code",
   "execution_count": 675,
   "metadata": {},
   "outputs": [],
   "source": [
    "enhanced_model_gri = CatBoostXT_BAG(\n",
    "    num_bag_folds=1,\n",
    "    num_bag_repeats=1,\n",
    "    random_state=1,\n",
    "    cat_features=list_cat_features\n",
    ")"
   ]
  },
  {
   "cell_type": "code",
   "execution_count": 676,
   "metadata": {},
   "outputs": [],
   "source": [
    "enhanced_model_gri.params = {\n",
    "    'iterations': 1000,\n",
    "    'learning_rate': 0.010353843378600744,\n",
    "    'depth': 4,\n",
    "    'l2_leaf_reg': 89,\n",
    "    'border_count': 128,\n",
    "    'auto_class_weights': 'SqrtBalanced',\n",
    "    'early_stopping_rounds': None,\n",
    "    'od_type': 'IncToDec',\n",
    "    'od_wait': 200,\n",
    "    'od_pval': 0.01,\n",
    "    'boosting_type': 'Ordered',\n",
    "    'bootstrap_type': 'Bernoulli',\n",
    "    'loss_function': 'Logloss', \n",
    "    'eval_metric': 'Logloss',\n",
    "    'task_type':'GPU',\n",
    "    'devices':'0',\n",
    "}"
   ]
  },
  {
   "cell_type": "code",
   "execution_count": 677,
   "metadata": {},
   "outputs": [
    {
     "data": {
      "text/plain": [
       "<model_class_cb.CatBoostXT_BAG at 0x1ba19754f40>"
      ]
     },
     "execution_count": 677,
     "metadata": {},
     "output_type": "execute_result"
    }
   ],
   "source": [
    "enhanced_model_gri.fit(X_train_new, y_train_new, eval_set=(X_a_val, y_a_val))"
   ]
  },
  {
   "cell_type": "code",
   "execution_count": 678,
   "metadata": {},
   "outputs": [
    {
     "data": {
      "text/plain": [
       "{'ROC_AUC': 0.788117878023926, 'PR_AUC': 0.3314235161573915}"
      ]
     },
     "execution_count": 678,
     "metadata": {},
     "output_type": "execute_result"
    }
   ],
   "source": [
    "enhanced_model_gri.evaluate(X_train_new, y_train_new)"
   ]
  },
  {
   "cell_type": "code",
   "execution_count": 679,
   "metadata": {},
   "outputs": [
    {
     "data": {
      "text/plain": [
       "{'ROC_AUC': 0.7162944799308436, 'PR_AUC': 0.13899822429047232}"
      ]
     },
     "execution_count": 679,
     "metadata": {},
     "output_type": "execute_result"
    }
   ],
   "source": [
    "enhanced_model_gri.evaluate(X_a_val, y_a_val)"
   ]
  },
  {
   "cell_type": "code",
   "execution_count": 680,
   "metadata": {},
   "outputs": [
    {
     "data": {
      "text/plain": [
       "{'ROC_AUC': 0.6987367955167795, 'PR_AUC': 0.20155322450126828}"
      ]
     },
     "execution_count": 680,
     "metadata": {},
     "output_type": "execute_result"
    }
   ],
   "source": [
    "enhanced_model_gri.evaluate(X_all_val, y_all_val)"
   ]
  },
  {
   "cell_type": "code",
   "execution_count": 681,
   "metadata": {},
   "outputs": [
    {
     "data": {
      "text/plain": [
       "(0.17605359001040582,\n",
       " 0.9719693028095734,\n",
       " 15376,\n",
       " 15376,\n",
       " 0.2505109207363053,\n",
       " 0.0940903909980587)"
      ]
     },
     "execution_count": 681,
     "metadata": {},
     "output_type": "execute_result"
    }
   ],
   "source": [
    "tail_precision(enhanced_model_gri.predict_proba(X_all_val)[:,1],y_all_val,mode='percentile',hi=0.8,lo=0.2)"
   ]
  },
  {
   "cell_type": "markdown",
   "metadata": {},
   "source": [
    "#### Baseline model performance"
   ]
  },
  {
   "cell_type": "code",
   "execution_count": 413,
   "metadata": {},
   "outputs": [
    {
     "data": {
      "text/plain": [
       "{'ROC_AUC': 0.7136296363569091, 'PR_AUC': 0.1251414665267777}"
      ]
     },
     "execution_count": 413,
     "metadata": {},
     "output_type": "execute_result"
    }
   ],
   "source": [
    "base_model_cb.evaluate(X_a_val, y_a_val)"
   ]
  },
  {
   "cell_type": "code",
   "execution_count": 259,
   "metadata": {},
   "outputs": [
    {
     "data": {
      "text/plain": [
       "{'ROC_AUC': 0.6931296713741353, 'PR_AUC': 0.17903990758155733}"
      ]
     },
     "execution_count": 259,
     "metadata": {},
     "output_type": "execute_result"
    }
   ],
   "source": [
    "base_model_cb.evaluate(X_all_val, y_all_val)"
   ]
  },
  {
   "cell_type": "code",
   "execution_count": 497,
   "metadata": {},
   "outputs": [
    {
     "data": {
      "text/plain": [
       "(0.11145104895104894,\n",
       " 0.9903846153846154,\n",
       " 2288,\n",
       " 2288,\n",
       " 0.22652274781818119,\n",
       " 0.09203151485681844)"
      ]
     },
     "execution_count": 497,
     "metadata": {},
     "output_type": "execute_result"
    }
   ],
   "source": [
    "tail_precision(base_model_cb.predict_proba(X_a_val)[:,1],y_a_val,mode='percentile',hi=0.8,lo=0.2)"
   ]
  },
  {
   "cell_type": "code",
   "execution_count": 498,
   "metadata": {},
   "outputs": [
    {
     "data": {
      "text/plain": [
       "(0.1702653485952133,\n",
       " 0.9723595213319459,\n",
       " 15376,\n",
       " 15376,\n",
       " 0.2825922336641325,\n",
       " 0.12476446800685552)"
      ]
     },
     "execution_count": 498,
     "metadata": {},
     "output_type": "execute_result"
    }
   ],
   "source": [
    "tail_precision(base_model_cb.predict_proba(X_all_val)[:,1],y_all_val,mode='percentile',hi=0.8,lo=0.2)"
   ]
  },
  {
   "cell_type": "markdown",
   "metadata": {},
   "source": [
    "#### Oracle model"
   ]
  },
  {
   "cell_type": "code",
   "execution_count": 496,
   "metadata": {},
   "outputs": [],
   "source": [
    "# load pickle\n",
    "with open(rf'{data_dir}\\models\\oracle_model_catboostxt_bag.pkl', 'rb') as f:\n",
    "    oracle_model = pickle.load(f)"
   ]
  },
  {
   "cell_type": "code",
   "execution_count": 499,
   "metadata": {},
   "outputs": [
    {
     "data": {
      "text/plain": [
       "{'ROC_AUC': 0.7456136456136456, 'PR_AUC': 0.16302549376195397}"
      ]
     },
     "execution_count": 499,
     "metadata": {},
     "output_type": "execute_result"
    }
   ],
   "source": [
    "oracle_model.evaluate(X_a_val, y_a_val)"
   ]
  },
  {
   "cell_type": "code",
   "execution_count": 500,
   "metadata": {},
   "outputs": [
    {
     "data": {
      "text/plain": [
       "{'ROC_AUC': 0.7445511647641232, 'PR_AUC': 0.22695016304073454}"
      ]
     },
     "execution_count": 500,
     "metadata": {},
     "output_type": "execute_result"
    }
   ],
   "source": [
    "oracle_model.evaluate(X_all_val, y_all_val)"
   ]
  },
  {
   "cell_type": "code",
   "execution_count": 501,
   "metadata": {},
   "outputs": [
    {
     "data": {
      "text/plain": [
       "(0.12194055944055944,\n",
       " 0.9916958041958042,\n",
       " 2288,\n",
       " 2288,\n",
       " 0.2446898378615201,\n",
       " 0.08228949907477823)"
      ]
     },
     "execution_count": 501,
     "metadata": {},
     "output_type": "execute_result"
    }
   ],
   "source": [
    "tail_precision(oracle_model.predict_proba(X_a_val)[:,1],y_a_val,mode='percentile',hi=0.8,lo=0.2)"
   ]
  },
  {
   "cell_type": "code",
   "execution_count": 502,
   "metadata": {},
   "outputs": [
    {
     "data": {
      "text/plain": [
       "(0.2005723204994797,\n",
       " 0.9819198751300728,\n",
       " 15376,\n",
       " 15376,\n",
       " 0.2996924301329079,\n",
       " 0.09999442488670045)"
      ]
     },
     "execution_count": 502,
     "metadata": {},
     "output_type": "execute_result"
    }
   ],
   "source": [
    "tail_precision(oracle_model.predict_proba(X_all_val)[:,1],y_all_val,mode='percentile',hi=0.8,lo=0.2)"
   ]
  },
  {
   "cell_type": "code",
   "execution_count": null,
   "metadata": {},
   "outputs": [],
   "source": [
    "0.7192928283837375"
   ]
  },
  {
   "cell_type": "code",
   "execution_count": null,
   "metadata": {},
   "outputs": [],
   "source": [
    "uncertain 0.5\n",
    "0.7171362307725945\n",
    "0.7088962237096864"
   ]
  },
  {
   "cell_type": "code",
   "execution_count": null,
   "metadata": {},
   "outputs": [],
   "source": [
    "uncertain: 0.6\n",
    "0.7189187916460644\n",
    "0.7019713941228887"
   ]
  },
  {
   "cell_type": "code",
   "execution_count": 281,
   "metadata": {},
   "outputs": [
    {
     "data": {
      "text/plain": [
       "0.701965475161118"
      ]
     },
     "execution_count": 281,
     "metadata": {},
     "output_type": "execute_result"
    }
   ],
   "source": [
    "uncertain: 0.3\n",
    "0.7158228976410794\n",
    "0.701965475161118"
   ]
  },
  {
   "cell_type": "code",
   "execution_count": 682,
   "metadata": {},
   "outputs": [],
   "source": [
    "# ---- Random selection ----\n",
    "random_indices = random_select(\n",
    "    pi_reject=pi_accept,\n",
    "    budget=20000,\n",
    "    range=(0.01,0.99),\n",
    "    random_state=42\n",
    ")"
   ]
  },
  {
   "cell_type": "code",
   "execution_count": 683,
   "metadata": {},
   "outputs": [],
   "source": [
    "# Random reject inference data\n",
    "X_inference_rnd = X_r.iloc[random_indices]\n",
    "y_inference_rnd = y_r[random_indices]"
   ]
  },
  {
   "cell_type": "code",
   "execution_count": 684,
   "metadata": {},
   "outputs": [],
   "source": [
    "X_train_new_rnd = pd.concat([X_a_train,X_inference_rnd],axis=0)\n",
    "y_train_new_rnd = pd.concat([y_a_train,y_inference_rnd])"
   ]
  },
  {
   "cell_type": "code",
   "execution_count": 685,
   "metadata": {},
   "outputs": [],
   "source": [
    "enhanced_model_gri_rnd = CatBoostXT_BAG(\n",
    "    num_bag_folds=1,\n",
    "    num_bag_repeats=1,\n",
    "    random_state=1,\n",
    "    cat_features=list_cat_features\n",
    ")"
   ]
  },
  {
   "cell_type": "code",
   "execution_count": 686,
   "metadata": {},
   "outputs": [],
   "source": [
    "enhanced_model_gri_rnd.params = {\n",
    "    'iterations': 1000,\n",
    "    'learning_rate': 0.010353843378600744,\n",
    "    'depth': 4,\n",
    "    'l2_leaf_reg': 89,\n",
    "    'border_count': 128,\n",
    "    'auto_class_weights': 'SqrtBalanced',\n",
    "    'early_stopping_rounds': None,\n",
    "    'od_type': 'IncToDec',\n",
    "    'od_wait': 200,\n",
    "    'od_pval': 0.01,\n",
    "    'boosting_type': 'Ordered',\n",
    "    'bootstrap_type': 'Bernoulli',\n",
    "    'loss_function': 'Logloss', \n",
    "    'eval_metric': 'Logloss',\n",
    "    'task_type':'GPU',\n",
    "    'devices':'0',\n",
    "}"
   ]
  },
  {
   "cell_type": "code",
   "execution_count": 687,
   "metadata": {},
   "outputs": [
    {
     "data": {
      "text/plain": [
       "<model_class_cb.CatBoostXT_BAG at 0x1ba552c4670>"
      ]
     },
     "execution_count": 687,
     "metadata": {},
     "output_type": "execute_result"
    }
   ],
   "source": [
    "enhanced_model_gri_rnd.fit(X_train_new_rnd, y_train_new_rnd, eval_set=(X_a_val, y_a_val))"
   ]
  },
  {
   "cell_type": "code",
   "execution_count": 688,
   "metadata": {},
   "outputs": [
    {
     "data": {
      "text/plain": [
       "{'ROC_AUC': 0.7735347623323996, 'PR_AUC': 0.19456133111830093}"
      ]
     },
     "execution_count": 688,
     "metadata": {},
     "output_type": "execute_result"
    }
   ],
   "source": [
    "enhanced_model_gri_rnd.evaluate(X_train_new_rnd, y_train_new_rnd)"
   ]
  },
  {
   "cell_type": "code",
   "execution_count": 689,
   "metadata": {},
   "outputs": [
    {
     "data": {
      "text/plain": [
       "{'ROC_AUC': 0.7107787835060563, 'PR_AUC': 0.12605093109626242}"
      ]
     },
     "execution_count": 689,
     "metadata": {},
     "output_type": "execute_result"
    }
   ],
   "source": [
    "enhanced_model_gri_rnd.evaluate(X_a_val, y_a_val)"
   ]
  },
  {
   "cell_type": "code",
   "execution_count": 690,
   "metadata": {},
   "outputs": [
    {
     "data": {
      "text/plain": [
       "{'ROC_AUC': 0.693549842418815, 'PR_AUC': 0.17918621045773228}"
      ]
     },
     "execution_count": 690,
     "metadata": {},
     "output_type": "execute_result"
    }
   ],
   "source": [
    "enhanced_model_gri_rnd.evaluate(X_all_val, y_all_val)"
   ]
  },
  {
   "cell_type": "code",
   "execution_count": 691,
   "metadata": {},
   "outputs": [
    {
     "data": {
      "text/plain": [
       "(0.17117585848074923,\n",
       " 0.9720993756503642,\n",
       " 15376,\n",
       " 15376,\n",
       " 0.2831559993611583,\n",
       " 0.12383641452564766)"
      ]
     },
     "execution_count": 691,
     "metadata": {},
     "output_type": "execute_result"
    }
   ],
   "source": [
    "tail_precision(enhanced_model_gri_rnd.predict_proba(X_all_val)[:,1],y_all_val,mode='percentile',hi=0.8,lo=0.2)"
   ]
  },
  {
   "cell_type": "code",
   "execution_count": null,
   "metadata": {},
   "outputs": [],
   "source": []
  }
 ],
 "metadata": {
  "kernelspec": {
   "display_name": "base",
   "language": "python",
   "name": "python3"
  },
  "language_info": {
   "codemirror_mode": {
    "name": "ipython",
    "version": 3
   },
   "file_extension": ".py",
   "mimetype": "text/x-python",
   "name": "python",
   "nbconvert_exporter": "python",
   "pygments_lexer": "ipython3",
   "version": "3.8.20"
  }
 },
 "nbformat": 4,
 "nbformat_minor": 2
}
